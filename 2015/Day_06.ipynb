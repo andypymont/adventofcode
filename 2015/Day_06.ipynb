{
 "cells": [
  {
   "cell_type": "markdown",
   "metadata": {},
   "source": [
    "# Day 6\n",
    "https://adventofcode.com/2015/day/6"
   ]
  },
  {
   "cell_type": "code",
   "execution_count": 1,
   "metadata": {},
   "outputs": [],
   "source": [
    "import aocd\n",
    "data = aocd.get_data(year=2015, day=6)"
   ]
  },
  {
   "cell_type": "code",
   "execution_count": 2,
   "metadata": {},
   "outputs": [],
   "source": [
    "import numpy as np"
   ]
  },
  {
   "cell_type": "markdown",
   "metadata": {},
   "source": [
    "##### Part 1: Toggle, turn off, and turn on lights per instructions"
   ]
  },
  {
   "cell_type": "code",
   "execution_count": 3,
   "metadata": {},
   "outputs": [],
   "source": [
    "def empty_grid():\n",
    "    return np.zeros((1000, 1000), dtype=int, order='C')"
   ]
  },
  {
   "cell_type": "code",
   "execution_count": 4,
   "metadata": {},
   "outputs": [],
   "source": [
    "def read_coords(coords):\n",
    "    return tuple(int(i) for i in coords.split(','))"
   ]
  },
  {
   "cell_type": "code",
   "execution_count": 20,
   "metadata": {},
   "outputs": [],
   "source": [
    "@np.vectorize\n",
    "def turned_on(value):\n",
    "    return 1\n",
    "\n",
    "@np.vectorize\n",
    "def turned_off(value):\n",
    "    return 0\n",
    "\n",
    "@np.vectorize\n",
    "def toggled(value):\n",
    "    return 0 if value == 1 else 1\n",
    "\n",
    "def act(grid, func, top_left, bottom_right):\n",
    "    min_x, min_y = top_left\n",
    "    max_x, max_y = bottom_right\n",
    "    grid[min_y:(max_y+1), min_x:(max_x+1)] = func(grid[min_y:(max_y+1), min_x:(max_x+1)])"
   ]
  },
  {
   "cell_type": "code",
   "execution_count": 9,
   "metadata": {},
   "outputs": [
    {
     "data": {
      "text/plain": [
       "0"
      ]
     },
     "execution_count": 9,
     "metadata": {},
     "output_type": "execute_result"
    }
   ],
   "source": [
    "eg = empty_grid()\n",
    "np.sum(eg)"
   ]
  },
  {
   "cell_type": "code",
   "execution_count": 21,
   "metadata": {},
   "outputs": [
    {
     "data": {
      "text/plain": [
       "1000000"
      ]
     },
     "execution_count": 21,
     "metadata": {},
     "output_type": "execute_result"
    }
   ],
   "source": [
    "act(eg, turned_on, (0, 0), (999, 999))\n",
    "np.sum(eg)"
   ]
  },
  {
   "cell_type": "code",
   "execution_count": 23,
   "metadata": {},
   "outputs": [
    {
     "data": {
      "text/plain": [
       "999000"
      ]
     },
     "execution_count": 23,
     "metadata": {},
     "output_type": "execute_result"
    }
   ],
   "source": [
    "act(eg, toggled, (0, 0), (999, 0))\n",
    "np.sum(eg)"
   ]
  },
  {
   "cell_type": "code",
   "execution_count": 25,
   "metadata": {},
   "outputs": [
    {
     "data": {
      "text/plain": [
       "998996"
      ]
     },
     "execution_count": 25,
     "metadata": {},
     "output_type": "execute_result"
    }
   ],
   "source": [
    "act(eg, turned_off, (499, 499), (500, 500))\n",
    "np.sum(eg)"
   ]
  },
  {
   "cell_type": "code",
   "execution_count": 29,
   "metadata": {},
   "outputs": [],
   "source": [
    "def process_instructions(instructions, on, off, togg):\n",
    "    grid = empty_grid()\n",
    "    for instruction in instructions:\n",
    "        words = instruction.split()\n",
    "        if words[0] == 'turn' and words[1] == 'on':\n",
    "            act(grid, on, read_coords(words[2]), read_coords(words[4]))\n",
    "        elif words[0] == 'turn' and words[1] == 'off':\n",
    "            act(grid, off, read_coords(words[2]), read_coords(words[4]))\n",
    "        elif words[0] == 'toggle':\n",
    "            act(grid, togg, read_coords(words[1]), read_coords(words[3]))\n",
    "    return grid"
   ]
  },
  {
   "cell_type": "code",
   "execution_count": 30,
   "metadata": {},
   "outputs": [
    {
     "name": "stdout",
     "output_type": "stream",
     "text": [
      "Part 1: 377891\n"
     ]
    }
   ],
   "source": [
    "instructions = data.split('\\n')\n",
    "processed = process_instructions(instructions, turned_on, turned_off, toggled)\n",
    "print('Part 1: {}'.format(np.sum(processed)))"
   ]
  },
  {
   "cell_type": "markdown",
   "metadata": {},
   "source": [
    "##### Part 2: turn on means increase brightness, turn off means reduce brightness, toggle means increase by 2"
   ]
  },
  {
   "cell_type": "code",
   "execution_count": 31,
   "metadata": {},
   "outputs": [],
   "source": [
    "@np.vectorize\n",
    "def turn_up(value):\n",
    "    return value + 1\n",
    "\n",
    "@np.vectorize\n",
    "def turn_down(value):\n",
    "    return 0 if value == 0 else value - 1\n",
    "\n",
    "@np.vectorize\n",
    "def turn_up_twice(value):\n",
    "    return value + 2"
   ]
  },
  {
   "cell_type": "code",
   "execution_count": 32,
   "metadata": {},
   "outputs": [
    {
     "name": "stdout",
     "output_type": "stream",
     "text": [
      "Part 2: 14110788\n"
     ]
    }
   ],
   "source": [
    "processed2 = process_instructions(instructions, turn_up, turn_down, turn_up_twice)\n",
    "print('Part 2: {}'.format(np.sum(processed2)))"
   ]
  }
 ],
 "metadata": {
  "kernelspec": {
   "display_name": "Python 3",
   "language": "python",
   "name": "python3"
  },
  "language_info": {
   "codemirror_mode": {
    "name": "ipython",
    "version": 3
   },
   "file_extension": ".py",
   "mimetype": "text/x-python",
   "name": "python",
   "nbconvert_exporter": "python",
   "pygments_lexer": "ipython3",
   "version": "3.8.5"
  }
 },
 "nbformat": 4,
 "nbformat_minor": 4
}
