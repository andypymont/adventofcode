{
 "cells": [
  {
   "cell_type": "markdown",
   "metadata": {},
   "source": [
    "# Day 7\n",
    "https://adventofcode.com/2015/day/7"
   ]
  },
  {
   "cell_type": "code",
   "execution_count": 1,
   "metadata": {},
   "outputs": [],
   "source": [
    "import aocd\n",
    "data = aocd.get_data(year=2015, day=7)"
   ]
  },
  {
   "cell_type": "code",
   "execution_count": 42,
   "metadata": {},
   "outputs": [],
   "source": [
    "from typing import Dict, List\n",
    "from dataclasses import dataclass"
   ]
  },
  {
   "cell_type": "code",
   "execution_count": 52,
   "metadata": {},
   "outputs": [],
   "source": [
    "def parse_circuit(instructions):\n",
    "    circuit = {}\n",
    "    for line in instructions:\n",
    "        instruction, target = line.split(' -> ')\n",
    "        circuit[target] = instruction\n",
    "    return circuit"
   ]
  },
  {
   "cell_type": "code",
   "execution_count": 96,
   "metadata": {},
   "outputs": [],
   "source": [
    "def resolve(circuit, value):\n",
    "    if isinstance(value, int):\n",
    "        return value\n",
    "    \n",
    "    if value.isdigit():\n",
    "        return int(value)\n",
    "    \n",
    "    if value in circuit:\n",
    "        return resolve(circuit, circuit[value])\n",
    "        \n",
    "    words = value.split()\n",
    "    result = None\n",
    "    \n",
    "    if words[0] == 'NOT':\n",
    "        result = ~resolve(circuit, words[1]) & 0xffff\n",
    "    elif words[1] == 'AND':\n",
    "        result = resolve(circuit, words[0]) & resolve(circuit, words[2])\n",
    "    elif words[1] == 'OR':\n",
    "        result = resolve(circuit, words[0]) | resolve(circuit, words[2])\n",
    "    elif words[1] == 'LSHIFT':\n",
    "        result = resolve(circuit, words[0]) << resolve(circuit, words[2])\n",
    "    elif words[1] == 'RSHIFT':\n",
    "        result = resolve(circuit, words[0]) >> resolve(circuit, words[2])\n",
    "    \n",
    "    circuit[value] = result\n",
    "    return result"
   ]
  },
  {
   "cell_type": "code",
   "execution_count": 97,
   "metadata": {},
   "outputs": [
    {
     "name": "stdout",
     "output_type": "stream",
     "text": [
      "wire \"d\", expected: 72, received: 72\n",
      "wire \"e\", expected: 507, received: 507\n",
      "wire \"f\", expected: 492, received: 492\n",
      "wire \"g\", expected: 114, received: 114\n",
      "wire \"h\", expected: 65412, received: 65412\n",
      "wire \"i\", expected: 65079, received: 65079\n",
      "wire \"x\", expected: 123, received: 123\n",
      "wire \"y\", expected: 456, received: 456\n"
     ]
    }
   ],
   "source": [
    "circuit = parse_circuit([\n",
    "    '123 -> x',\n",
    "    '456 -> y',\n",
    "    'x AND y -> d',\n",
    "    'x OR y -> e',\n",
    "    'x LSHIFT 2 -> f',\n",
    "    'y RSHIFT 2 -> g',\n",
    "    'NOT x -> h',\n",
    "    'NOT y -> i',\n",
    "])\n",
    "for (wire, expected) in (\n",
    "    ('d', 72),\n",
    "    ('e', 507),\n",
    "    ('f', 492),\n",
    "    ('g', 114),\n",
    "    ('h', 65412),\n",
    "    ('i', 65079),\n",
    "    ('x', 123),\n",
    "    ('y', 456),\n",
    "):\n",
    "    print('wire \"{}\", expected: {}, received: {}'.format(wire, expected, resolve(circuit, wire)))"
   ]
  },
  {
   "cell_type": "code",
   "execution_count": 98,
   "metadata": {},
   "outputs": [
    {
     "name": "stdout",
     "output_type": "stream",
     "text": [
      "Part 1: 46065\n"
     ]
    }
   ],
   "source": [
    "p1_circuit = parse_circuit(data.split('\\n'))\n",
    "p1_result = resolve(p1_circuit, 'a')\n",
    "print('Part 1: {}'.format(p1_result))"
   ]
  },
  {
   "cell_type": "code",
   "execution_count": 100,
   "metadata": {},
   "outputs": [
    {
     "name": "stdout",
     "output_type": "stream",
     "text": [
      "Part 2: 14134\n"
     ]
    }
   ],
   "source": [
    "p2_circuit = parse_circuit(data.split('\\n'))\n",
    "p2_circuit['b'] = p1_result\n",
    "p2_result = resolve(p2_circuit, 'a')\n",
    "print('Part 2: {}'.format(p2_result))"
   ]
  }
 ],
 "metadata": {
  "kernelspec": {
   "display_name": "Python 3",
   "language": "python",
   "name": "python3"
  },
  "language_info": {
   "codemirror_mode": {
    "name": "ipython",
    "version": 3
   },
   "file_extension": ".py",
   "mimetype": "text/x-python",
   "name": "python",
   "nbconvert_exporter": "python",
   "pygments_lexer": "ipython3",
   "version": "3.8.5"
  }
 },
 "nbformat": 4,
 "nbformat_minor": 4
}
