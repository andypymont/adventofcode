{
 "cells": [
  {
   "cell_type": "markdown",
   "metadata": {},
   "source": [
    "# Day 9\n",
    "https://adventofcode.com/2015/day/9"
   ]
  },
  {
   "cell_type": "code",
   "execution_count": 13,
   "metadata": {},
   "outputs": [],
   "source": [
    "import aocd\n",
    "data = aocd.get_data(year=2015, day=9)"
   ]
  },
  {
   "cell_type": "code",
   "execution_count": 172,
   "metadata": {},
   "outputs": [],
   "source": [
    "from itertools import permutations"
   ]
  },
  {
   "cell_type": "code",
   "execution_count": 190,
   "metadata": {},
   "outputs": [],
   "source": [
    "def read_routing(source):\n",
    "    routes = {}\n",
    "    for line in source.split('\\n'):\n",
    "        a, b, dist = line.replace(' to ', ' = ').split(' = ')\n",
    "        if a not in routes:\n",
    "            routes[a] = {}\n",
    "        routes[a][b] = int(dist)\n",
    "        if b not in routes:\n",
    "            routes[b] = {}\n",
    "        routes[b][a] = int(dist)\n",
    "    return routes"
   ]
  },
  {
   "cell_type": "code",
   "execution_count": 170,
   "metadata": {},
   "outputs": [],
   "source": [
    "def all_possible_routes(routing):\n",
    "    locations = routing.keys()\n",
    "    return permutations(locations, len(locations))"
   ]
  },
  {
   "cell_type": "code",
   "execution_count": 192,
   "metadata": {},
   "outputs": [],
   "source": [
    "def route_length(routing, route):\n",
    "    steps = [route[x:x+2] for x in range(len(route)-1)]\n",
    "    return sum(\n",
    "        routing.get(a, {}).get(b, 0) for (a, b) in steps\n",
    "    )"
   ]
  },
  {
   "cell_type": "code",
   "execution_count": 199,
   "metadata": {},
   "outputs": [],
   "source": [
    "def all_route_lengths(routing):\n",
    "    for route in all_possible_routes(routing):\n",
    "        yield route_length(routing, route)"
   ]
  },
  {
   "cell_type": "code",
   "execution_count": 163,
   "metadata": {},
   "outputs": [],
   "source": [
    "example = \"\"\"London to Dublin = 464\n",
    "London to Belfast = 518\n",
    "Dublin to Belfast = 141\"\"\""
   ]
  },
  {
   "cell_type": "code",
   "execution_count": 201,
   "metadata": {},
   "outputs": [
    {
     "data": {
      "text/plain": [
       "[605, 659, 982, 659, 982, 605]"
      ]
     },
     "execution_count": 201,
     "metadata": {},
     "output_type": "execute_result"
    }
   ],
   "source": [
    "example_routing = read_routing(example)\n",
    "example_lengths = list(all_route_lengths(example_routing))\n",
    "example_lengths"
   ]
  },
  {
   "cell_type": "code",
   "execution_count": 202,
   "metadata": {},
   "outputs": [
    {
     "name": "stdout",
     "output_type": "stream",
     "text": [
      "Part 1: 117\n",
      "Part 2: 909\n"
     ]
    }
   ],
   "source": [
    "routing = read_routing(data)\n",
    "lengths = list(all_route_lengths(routing))\n",
    "print('Part 1: {}'.format(min(lengths)))\n",
    "print('Part 2: {}'.format(max(lengths)))"
   ]
  }
 ],
 "metadata": {
  "kernelspec": {
   "display_name": "Python 3",
   "language": "python",
   "name": "python3"
  },
  "language_info": {
   "codemirror_mode": {
    "name": "ipython",
    "version": 3
   },
   "file_extension": ".py",
   "mimetype": "text/x-python",
   "name": "python",
   "nbconvert_exporter": "python",
   "pygments_lexer": "ipython3",
   "version": "3.8.5"
  }
 },
 "nbformat": 4,
 "nbformat_minor": 4
}
