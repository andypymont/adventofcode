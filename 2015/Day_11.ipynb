{
 "cells": [
  {
   "cell_type": "markdown",
   "metadata": {},
   "source": [
    "# Day 11\n",
    "https://adventofcode.com/2015/day/11"
   ]
  },
  {
   "cell_type": "code",
   "execution_count": 1,
   "metadata": {},
   "outputs": [],
   "source": [
    "import aocd\n",
    "data = aocd.get_data(year=2015, day=11)"
   ]
  },
  {
   "cell_type": "code",
   "execution_count": 46,
   "metadata": {},
   "outputs": [],
   "source": [
    "import numpy as np"
   ]
  },
  {
   "cell_type": "code",
   "execution_count": 17,
   "metadata": {},
   "outputs": [],
   "source": [
    "def contains_three_consecutive_letters(password):\n",
    "    for (a, b, c) in [password[x:x+3] for x in range(len(password)-3)]:\n",
    "        orda, ordb, ordc = ord(a), ord(b), ord(c)\n",
    "        if (orda + 1 == ordb) and (ordb + 1 == ordc):\n",
    "            return True\n",
    "    return False"
   ]
  },
  {
   "cell_type": "code",
   "execution_count": 26,
   "metadata": {},
   "outputs": [],
   "source": [
    "banned_characters = ('i', 'o', 'l')\n",
    "def contains_banned_characters(password):\n",
    "    return any(banned in password for banned in banned_characters)"
   ]
  },
  {
   "cell_type": "code",
   "execution_count": 32,
   "metadata": {},
   "outputs": [],
   "source": [
    "def contains_two_pairs(password):\n",
    "    prev = ''\n",
    "    count_pairs = 0\n",
    "    for i, letter in enumerate(password):\n",
    "        if letter == prev:\n",
    "            count_pairs += 1\n",
    "            prev = ''\n",
    "        else:\n",
    "            prev = letter\n",
    "    return count_pairs >= 2"
   ]
  },
  {
   "cell_type": "code",
   "execution_count": 40,
   "metadata": {},
   "outputs": [],
   "source": [
    "def valid_password(password):\n",
    "    return (contains_three_consecutive_letters(password)\n",
    "            and contains_two_pairs(password)\n",
    "            and not contains_banned_characters(password))"
   ]
  },
  {
   "cell_type": "code",
   "execution_count": 50,
   "metadata": {},
   "outputs": [],
   "source": [
    "def increment_password(password):\n",
    "    return np.base_repr(int(password, 36) + 1, base=36).lower().replace('0', 'a')"
   ]
  },
  {
   "cell_type": "code",
   "execution_count": 57,
   "metadata": {},
   "outputs": [],
   "source": [
    "def next_valid_password(password):\n",
    "    password = increment_password(password)\n",
    "    while not valid_password(password):\n",
    "        password = increment_password(password)\n",
    "    return password"
   ]
  },
  {
   "cell_type": "code",
   "execution_count": 60,
   "metadata": {},
   "outputs": [
    {
     "name": "stdout",
     "output_type": "stream",
     "text": [
      "Part 1: cqjxxyzz\n"
     ]
    }
   ],
   "source": [
    "p1 = next_valid_password(data)\n",
    "print('Part 1: {}'.format(p1))"
   ]
  },
  {
   "cell_type": "code",
   "execution_count": 61,
   "metadata": {},
   "outputs": [
    {
     "name": "stdout",
     "output_type": "stream",
     "text": [
      "Part 2: cqkaabcc\n"
     ]
    }
   ],
   "source": [
    "p2 = next_valid_password(p1)\n",
    "print('Part 2: {}'.format(p2))"
   ]
  }
 ],
 "metadata": {
  "kernelspec": {
   "display_name": "Python 3",
   "language": "python",
   "name": "python3"
  },
  "language_info": {
   "codemirror_mode": {
    "name": "ipython",
    "version": 3
   },
   "file_extension": ".py",
   "mimetype": "text/x-python",
   "name": "python",
   "nbconvert_exporter": "python",
   "pygments_lexer": "ipython3",
   "version": "3.8.5"
  }
 },
 "nbformat": 4,
 "nbformat_minor": 4
}
