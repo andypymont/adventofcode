{
 "cells": [
  {
   "cell_type": "markdown",
   "metadata": {},
   "source": [
    "# Day 12\n",
    "https://adventofcode.com/2015/day/12"
   ]
  },
  {
   "cell_type": "code",
   "execution_count": 2,
   "metadata": {},
   "outputs": [],
   "source": [
    "import aocd\n",
    "data = aocd.get_data(year=2015, day=12)"
   ]
  },
  {
   "cell_type": "code",
   "execution_count": 3,
   "metadata": {},
   "outputs": [],
   "source": [
    "import json"
   ]
  },
  {
   "cell_type": "code",
   "execution_count": 27,
   "metadata": {},
   "outputs": [],
   "source": [
    "def sum_all_numbers(item, ignore_red=False):\n",
    "    if isinstance(item, int):\n",
    "        return item\n",
    "    \n",
    "    if isinstance(item, list):\n",
    "        return sum(sum_all_numbers(child, ignore_red) for child in item)\n",
    "    \n",
    "    if isinstance(item, dict):\n",
    "        values = tuple(item.values())\n",
    "        if ignore_red and ('red' in values):\n",
    "            return 0\n",
    "        return sum(sum_all_numbers(child, ignore_red) for child in values)\n",
    "    \n",
    "    return 0"
   ]
  },
  {
   "cell_type": "code",
   "execution_count": 15,
   "metadata": {},
   "outputs": [
    {
     "name": "stdout",
     "output_type": "stream",
     "text": [
      "Part 1: 191164\n"
     ]
    }
   ],
   "source": [
    "structure = json.loads(data)\n",
    "p1 = sum_all_numbers(structure)\n",
    "print('Part 1: {}'.format(p1))"
   ]
  },
  {
   "cell_type": "code",
   "execution_count": 28,
   "metadata": {},
   "outputs": [
    {
     "name": "stdout",
     "output_type": "stream",
     "text": [
      "Part 2: 87842\n"
     ]
    }
   ],
   "source": [
    "p2 = sum_all_numbers(structure, ignore_red=True)\n",
    "print('Part 2: {}'.format(p2))"
   ]
  }
 ],
 "metadata": {
  "kernelspec": {
   "display_name": "Python 3",
   "language": "python",
   "name": "python3"
  },
  "language_info": {
   "codemirror_mode": {
    "name": "ipython",
    "version": 3
   },
   "file_extension": ".py",
   "mimetype": "text/x-python",
   "name": "python",
   "nbconvert_exporter": "python",
   "pygments_lexer": "ipython3",
   "version": "3.8.5"
  }
 },
 "nbformat": 4,
 "nbformat_minor": 4
}
