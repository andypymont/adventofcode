{
 "cells": [
  {
   "cell_type": "markdown",
   "metadata": {},
   "source": [
    "# Day 12\n",
    "https://adventofcode.com/2015/day/12"
   ]
  },
  {
   "cell_type": "code",
   "execution_count": 2,
   "metadata": {},
   "outputs": [],
   "source": [
    "import aocd\n",
    "data = aocd.get_data(year=2015, day=12)"
   ]
  },
  {
   "cell_type": "code",
   "execution_count": 3,
   "metadata": {},
   "outputs": [],
   "source": [
    "import json"
   ]
  },
  {
   "cell_type": "code",
   "execution_count": 19,
   "metadata": {},
   "outputs": [],
   "source": [
    "def sum_all_numbers(item, ignore_red=False):\n",
    "    if isinstance(item, int):\n",
    "        return item\n",
    "    \n",
    "    if isinstance(item, list):\n",
    "        return sum(sum_all_numbers(child, ignore_red) for child in item)\n",
    "    \n",
    "    if isinstance(item, dict):\n",
    "        values = tuple(item.values())\n",
    "        if ignore_red and ('red' in values):\n",
    "            return 0\n",
    "        return sum(sum_all_numbers(child, ) for child in values)\n",
    "    \n",
    "    return 0"
   ]
  },
  {
   "cell_type": "code",
   "execution_count": 15,
   "metadata": {},
   "outputs": [
    {
     "name": "stdout",
     "output_type": "stream",
     "text": [
      "Part 1: 191164\n"
     ]
    }
   ],
   "source": [
    "structure = json.loads(data)\n",
    "p1 = sum_all_numbers(structure)\n",
    "print('Part 1: {}'.format(p1))"
   ]
  },
  {
   "cell_type": "code",
   "execution_count": 20,
   "metadata": {},
   "outputs": [
    {
     "name": "stdout",
     "output_type": "stream",
     "text": [
      "Part 2: 191164\n"
     ]
    }
   ],
   "source": [
    "p2 = sum_all_numbers(structure, ignore_red=True)\n",
    "print('Part 2: {}'.format(p2))"
   ]
  },
  {
   "cell_type": "code",
   "execution_count": 24,
   "metadata": {},
   "outputs": [
    {
     "data": {
      "text/plain": [
       "{'e': 'green',\n",
       " 'a': 77,\n",
       " 'd': {'c': 'violet', 'a': 'yellow', 'b': 'violet'},\n",
       " 'c': 'yellow',\n",
       " 'h': 'red',\n",
       " 'b': 144,\n",
       " 'g': {'a': ['yellow',\n",
       "   -48,\n",
       "   72,\n",
       "   87,\n",
       "   {'e': 'violet', 'c': 123, 'a': 101, 'b': 87, 'd': 'red', 'f': 88},\n",
       "   {'e': 'red',\n",
       "    'c': 2,\n",
       "    'a': 1,\n",
       "    'g': 'blue',\n",
       "    'b': 'green',\n",
       "    'd': 'violet',\n",
       "    'f': 170},\n",
       "   'orange',\n",
       "   171,\n",
       "   162]},\n",
       " 'f': 'orange',\n",
       " 'i': 'orange'}"
      ]
     },
     "execution_count": 24,
     "metadata": {},
     "output_type": "execute_result"
    }
   ],
   "source": [
    "structure[0][1][0]"
   ]
  },
  {
   "cell_type": "code",
   "execution_count": 25,
   "metadata": {},
   "outputs": [
    {
     "data": {
      "text/plain": [
       "1237"
      ]
     },
     "execution_count": 25,
     "metadata": {},
     "output_type": "execute_result"
    }
   ],
   "source": [
    "sum_all_numbers(structure[0][1][0])"
   ]
  },
  {
   "cell_type": "code",
   "execution_count": 26,
   "metadata": {},
   "outputs": [
    {
     "data": {
      "text/plain": [
       "0"
      ]
     },
     "execution_count": 26,
     "metadata": {},
     "output_type": "execute_result"
    }
   ],
   "source": [
    "sum_all_numbers(structure[0][1][0], ignore_red=True)"
   ]
  },
  {
   "cell_type": "code",
   "execution_count": null,
   "metadata": {},
   "outputs": [],
   "source": []
  }
 ],
 "metadata": {
  "kernelspec": {
   "display_name": "Python 3",
   "language": "python",
   "name": "python3"
  },
  "language_info": {
   "codemirror_mode": {
    "name": "ipython",
    "version": 3
   },
   "file_extension": ".py",
   "mimetype": "text/x-python",
   "name": "python",
   "nbconvert_exporter": "python",
   "pygments_lexer": "ipython3",
   "version": "3.8.5"
  }
 },
 "nbformat": 4,
 "nbformat_minor": 4
}
