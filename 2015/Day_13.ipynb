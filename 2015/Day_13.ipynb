{
 "cells": [
  {
   "cell_type": "markdown",
   "metadata": {},
   "source": [
    "# Day 13\n",
    "https://adventofcode.com/2015/day/13"
   ]
  },
  {
   "cell_type": "code",
   "execution_count": 2,
   "metadata": {},
   "outputs": [],
   "source": [
    "import aocd\n",
    "data = aocd.get_data(year=2015, day=13)"
   ]
  },
  {
   "cell_type": "code",
   "execution_count": 16,
   "metadata": {},
   "outputs": [],
   "source": [
    "from itertools import permutations"
   ]
  },
  {
   "cell_type": "code",
   "execution_count": 12,
   "metadata": {},
   "outputs": [],
   "source": [
    "def read_preferences(text):\n",
    "    preferences = {}\n",
    "    for line in text.split('\\n'):\n",
    "        words = line[:-1].split()\n",
    "        person, neighbour, happiness = words[0], words[10], int(words[3])\n",
    "        happiness = happiness if words[2] == 'gain' else -happiness\n",
    "        if person not in preferences:\n",
    "            preferences[person] = {}\n",
    "        preferences[person][neighbour] = happiness\n",
    "    return preferences"
   ]
  },
  {
   "cell_type": "code",
   "execution_count": 13,
   "metadata": {},
   "outputs": [
    {
     "data": {
      "text/plain": [
       "{'Alice': {'Bob': 54, 'Carol': -79, 'David': -2},\n",
       " 'Bob': {'Alice': 83, 'Carol': -7, 'David': -63},\n",
       " 'Carol': {'Alice': -62, 'Bob': 60, 'David': 55},\n",
       " 'David': {'Alice': 46, 'Bob': -7, 'Carol': 41}}"
      ]
     },
     "execution_count": 13,
     "metadata": {},
     "output_type": "execute_result"
    }
   ],
   "source": [
    "example = \"\"\"Alice would gain 54 happiness units by sitting next to Bob.\n",
    "Alice would lose 79 happiness units by sitting next to Carol.\n",
    "Alice would lose 2 happiness units by sitting next to David.\n",
    "Bob would gain 83 happiness units by sitting next to Alice.\n",
    "Bob would lose 7 happiness units by sitting next to Carol.\n",
    "Bob would lose 63 happiness units by sitting next to David.\n",
    "Carol would lose 62 happiness units by sitting next to Alice.\n",
    "Carol would gain 60 happiness units by sitting next to Bob.\n",
    "Carol would gain 55 happiness units by sitting next to David.\n",
    "David would gain 46 happiness units by sitting next to Alice.\n",
    "David would lose 7 happiness units by sitting next to Bob.\n",
    "David would gain 41 happiness units by sitting next to Carol.\"\"\"\n",
    "read_preferences(example)"
   ]
  },
  {
   "cell_type": "code",
   "execution_count": 14,
   "metadata": {},
   "outputs": [],
   "source": [
    "def happiness(preferences, person, left_neighbour, right_neighbour):\n",
    "    my_preferences = preferences.get(person, {})\n",
    "    return my_preferences.get(left_neighbour, 0) + my_preferences.get(right_neighbour, 0)\n",
    "\n",
    "def total_happiness(preferences, seating):\n",
    "    total = 0\n",
    "    for i, person in enumerate(seating):\n",
    "        left_neighbour = seating[-1] if i == 0 else seating[i-1]\n",
    "        right_neighbour = seating[(i+1) % len(seating)]\n",
    "        total += happiness(preferences, person, left_neighbour, right_neighbour)\n",
    "    return total"
   ]
  },
  {
   "cell_type": "code",
   "execution_count": 15,
   "metadata": {},
   "outputs": [
    {
     "data": {
      "text/plain": [
       "330"
      ]
     },
     "execution_count": 15,
     "metadata": {},
     "output_type": "execute_result"
    }
   ],
   "source": [
    "total_happiness(read_preferences(example), ('David', 'Alice', 'Bob', 'Carol'))"
   ]
  },
  {
   "cell_type": "code",
   "execution_count": 17,
   "metadata": {},
   "outputs": [],
   "source": [
    "def all_possible_seatings(preferences):\n",
    "    people = tuple(preferences.keys())\n",
    "    return permutations(people, len(people))"
   ]
  },
  {
   "cell_type": "code",
   "execution_count": 20,
   "metadata": {},
   "outputs": [],
   "source": [
    "def best_total_happiness_possible(preferences):\n",
    "    return max(total_happiness(preferences, seating) for seating in all_possible_seatings(preferences))"
   ]
  },
  {
   "cell_type": "code",
   "execution_count": 21,
   "metadata": {},
   "outputs": [
    {
     "name": "stdout",
     "output_type": "stream",
     "text": [
      "Part 1: 618\n"
     ]
    }
   ],
   "source": [
    "preferences = read_preferences(data)\n",
    "p1 = best_total_happiness_possible(preferences)\n",
    "print('Part 1: {}'.format(p1))"
   ]
  },
  {
   "cell_type": "code",
   "execution_count": 26,
   "metadata": {},
   "outputs": [
    {
     "name": "stdout",
     "output_type": "stream",
     "text": [
      "Part 2: 601\n"
     ]
    }
   ],
   "source": [
    "preferences2 = dict(preferences)\n",
    "preferences2.update(me=dict((person, 0) for person in preferences.keys()))\n",
    "p2 = best_total_happiness_possible(preferences2)\n",
    "print('Part 2: {}'.format(p2))"
   ]
  }
 ],
 "metadata": {
  "kernelspec": {
   "display_name": "Python 3",
   "language": "python",
   "name": "python3"
  },
  "language_info": {
   "codemirror_mode": {
    "name": "ipython",
    "version": 3
   },
   "file_extension": ".py",
   "mimetype": "text/x-python",
   "name": "python",
   "nbconvert_exporter": "python",
   "pygments_lexer": "ipython3",
   "version": "3.8.5"
  }
 },
 "nbformat": 4,
 "nbformat_minor": 4
}
