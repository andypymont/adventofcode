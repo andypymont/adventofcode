{
 "cells": [
  {
   "cell_type": "markdown",
   "metadata": {},
   "source": [
    "# Day 14\n",
    "https://adventofcode.com/2015/day/14"
   ]
  },
  {
   "cell_type": "code",
   "execution_count": 1,
   "metadata": {},
   "outputs": [],
   "source": [
    "import aocd\n",
    "data = aocd.get_data(year=2015, day=14)"
   ]
  },
  {
   "cell_type": "code",
   "execution_count": 2,
   "metadata": {},
   "outputs": [],
   "source": [
    "from dataclasses import dataclass"
   ]
  },
  {
   "cell_type": "code",
   "execution_count": 3,
   "metadata": {},
   "outputs": [],
   "source": [
    "@dataclass\n",
    "class Reindeer:\n",
    "    name: str\n",
    "    speed: int\n",
    "    flytime: int\n",
    "    rest_needed: int\n",
    "    status: str\n",
    "    status_timeleft: int\n",
    "    distance_travelled: int\n",
    "    score: int\n",
    "    \n",
    "    def __init__(self, description):\n",
    "        words = description.split()\n",
    "        self.name = words[0]\n",
    "        self.speed = int(words[3])\n",
    "        self.flytime = int(words[6])\n",
    "        self.rest_needed = int(words[13])\n",
    "        self.distance_travelled = 0\n",
    "        self.score = 0\n",
    "        self.fly()\n",
    "    \n",
    "    def fly(self):\n",
    "        self.status = 'flying'\n",
    "        self.status_timeleft = self.flytime\n",
    "    \n",
    "    def rest(self):\n",
    "        self.status = 'resting'\n",
    "        self.status_timeleft = self.rest_needed\n",
    "    \n",
    "    def progress(self):\n",
    "        self.status_timeleft -= 1\n",
    "        if self.status == 'flying':\n",
    "            self.distance_travelled += self.speed\n",
    "        if self.status_timeleft == 0:\n",
    "            if self.status == 'resting':\n",
    "                self.fly()\n",
    "            else:\n",
    "                self.rest()\n",
    "    \n",
    "    def add_score(self, distance_to_score):\n",
    "        if self.distance_travelled >= distance_to_score:\n",
    "            self.score += 1"
   ]
  },
  {
   "cell_type": "code",
   "execution_count": 4,
   "metadata": {},
   "outputs": [],
   "source": [
    "def parse_racers(text):\n",
    "    return [Reindeer(line) for line in text.split('\\n')]"
   ]
  },
  {
   "cell_type": "code",
   "execution_count": 5,
   "metadata": {},
   "outputs": [],
   "source": [
    "def race(racers, seconds=2503):\n",
    "    for second in range(seconds):\n",
    "        for racer in racers:\n",
    "            racer.progress()\n",
    "        furthest_travelled = max(racer.distance_travelled for racer in racers)\n",
    "        for racer in racers:\n",
    "            racer.add_score(furthest_travelled)\n",
    "    return dict(\n",
    "        p1=max(racer.distance_travelled for racer in racers),\n",
    "        p2=max(racer.score for racer in racers)\n",
    "    )"
   ]
  },
  {
   "cell_type": "code",
   "execution_count": 6,
   "metadata": {},
   "outputs": [
    {
     "data": {
      "text/plain": [
       "[Reindeer(name='Comet', speed=14, flytime=10, rest_needed=127, status='flying', status_timeleft=10, distance_travelled=0, score=0),\n",
       " Reindeer(name='Dancer', speed=16, flytime=11, rest_needed=162, status='flying', status_timeleft=11, distance_travelled=0, score=0)]"
      ]
     },
     "execution_count": 6,
     "metadata": {},
     "output_type": "execute_result"
    }
   ],
   "source": [
    "example = \"\"\"Comet can fly 14 km/s for 10 seconds, but then must rest for 127 seconds.\n",
    "Dancer can fly 16 km/s for 11 seconds, but then must rest for 162 seconds.\"\"\"\n",
    "example_racers = parse_racers(example)\n",
    "example_racers"
   ]
  },
  {
   "cell_type": "code",
   "execution_count": 7,
   "metadata": {},
   "outputs": [
    {
     "data": {
      "text/plain": [
       "{'p1': 1120, 'p2': 689}"
      ]
     },
     "execution_count": 7,
     "metadata": {},
     "output_type": "execute_result"
    }
   ],
   "source": [
    "race(example_racers, 1000)"
   ]
  },
  {
   "cell_type": "code",
   "execution_count": 8,
   "metadata": {},
   "outputs": [
    {
     "name": "stdout",
     "output_type": "stream",
     "text": [
      "Part 1: 2655\n",
      "Part 2: 1059\n"
     ]
    }
   ],
   "source": [
    "racers = parse_racers(data)\n",
    "results = race(racers)\n",
    "print('Part 1: {}'.format(results['p1']))\n",
    "print('Part 2: {}'.format(results['p2']))"
   ]
  }
 ],
 "metadata": {
  "kernelspec": {
   "display_name": "Python 3",
   "language": "python",
   "name": "python3"
  },
  "language_info": {
   "codemirror_mode": {
    "name": "ipython",
    "version": 3
   },
   "file_extension": ".py",
   "mimetype": "text/x-python",
   "name": "python",
   "nbconvert_exporter": "python",
   "pygments_lexer": "ipython3",
   "version": "3.8.5"
  }
 },
 "nbformat": 4,
 "nbformat_minor": 4
}
