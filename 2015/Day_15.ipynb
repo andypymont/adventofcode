{
 "cells": [
  {
   "cell_type": "markdown",
   "metadata": {},
   "source": [
    "# Day 15\n",
    "https://adventofcode.com/2015/day/15"
   ]
  },
  {
   "cell_type": "code",
   "execution_count": 1,
   "metadata": {},
   "outputs": [],
   "source": [
    "import aocd\n",
    "data = aocd.get_data(year=2015, day=15)"
   ]
  },
  {
   "cell_type": "code",
   "execution_count": 2,
   "metadata": {},
   "outputs": [],
   "source": [
    "from itertools import combinations_with_replacement"
   ]
  },
  {
   "cell_type": "code",
   "execution_count": 3,
   "metadata": {},
   "outputs": [],
   "source": [
    "def read_ingredients(text):\n",
    "    ingredients = []\n",
    "    for line in text.split('\\n'):\n",
    "        name, properties = line.split(': ')\n",
    "        ingredient = dict(name=name)\n",
    "        for prop in properties.split(', '):\n",
    "            words = prop.split(' ')\n",
    "            ingredient[words[0]] = int(words[1])\n",
    "        ingredients.append(ingredient)\n",
    "    return ingredients"
   ]
  },
  {
   "cell_type": "code",
   "execution_count": 4,
   "metadata": {},
   "outputs": [
    {
     "data": {
      "text/plain": [
       "[{'name': 'Butterscotch',\n",
       "  'capacity': -1,\n",
       "  'durability': -2,\n",
       "  'flavor': 6,\n",
       "  'texture': 3,\n",
       "  'calories': 8},\n",
       " {'name': 'Cinnamon',\n",
       "  'capacity': 2,\n",
       "  'durability': 3,\n",
       "  'flavor': -2,\n",
       "  'texture': -1,\n",
       "  'calories': 3}]"
      ]
     },
     "execution_count": 4,
     "metadata": {},
     "output_type": "execute_result"
    }
   ],
   "source": [
    "example = \"\"\"Butterscotch: capacity -1, durability -2, flavor 6, texture 3, calories 8\n",
    "Cinnamon: capacity 2, durability 3, flavor -2, texture -1, calories 3\"\"\"\n",
    "example_ingredients = read_ingredients(example)\n",
    "example_ingredients"
   ]
  },
  {
   "cell_type": "code",
   "execution_count": 5,
   "metadata": {},
   "outputs": [],
   "source": [
    "def all_possible_cookies(ingredients):\n",
    "    return combinations_with_replacement(ingredients, 100)"
   ]
  },
  {
   "cell_type": "code",
   "execution_count": 6,
   "metadata": {},
   "outputs": [],
   "source": [
    "def score_cookie(cookie, exact_calories=None):\n",
    "    totals = {}\n",
    "    for prop in ('calories', 'capacity', 'durability', 'flavor', 'texture'):\n",
    "        total = sum(teaspoon.get(prop, 0) for teaspoon in cookie)\n",
    "        totals[prop] = total if total > 0 else 0\n",
    "    if exact_calories and totals['calories'] != 500:\n",
    "        return 0\n",
    "    return totals['capacity'] * totals['durability'] * totals['flavor'] * totals['texture']"
   ]
  },
  {
   "cell_type": "code",
   "execution_count": 7,
   "metadata": {},
   "outputs": [],
   "source": [
    "example_cookie = ([example_ingredients[0]]*44) + ([example_ingredients[1]]*56)"
   ]
  },
  {
   "cell_type": "code",
   "execution_count": 8,
   "metadata": {},
   "outputs": [
    {
     "data": {
      "text/plain": [
       "62842880"
      ]
     },
     "execution_count": 8,
     "metadata": {},
     "output_type": "execute_result"
    }
   ],
   "source": [
    "score_cookie(example_cookie)"
   ]
  },
  {
   "cell_type": "code",
   "execution_count": 9,
   "metadata": {},
   "outputs": [],
   "source": [
    "def best_cookie(ingredients, exact_calories=None):\n",
    "    return max(score_cookie(cookie, exact_calories) for cookie in all_possible_cookies(ingredients))"
   ]
  },
  {
   "cell_type": "code",
   "execution_count": 10,
   "metadata": {},
   "outputs": [
    {
     "data": {
      "text/plain": [
       "62842880"
      ]
     },
     "execution_count": 10,
     "metadata": {},
     "output_type": "execute_result"
    }
   ],
   "source": [
    "best_cookie(example_ingredients)"
   ]
  },
  {
   "cell_type": "code",
   "execution_count": 11,
   "metadata": {},
   "outputs": [
    {
     "name": "stdout",
     "output_type": "stream",
     "text": [
      "Part 1: 21367368\n"
     ]
    }
   ],
   "source": [
    "ingredients = read_ingredients(data)\n",
    "p1 = best_cookie(ingredients)\n",
    "print('Part 1: {}'.format(p1))"
   ]
  },
  {
   "cell_type": "code",
   "execution_count": 12,
   "metadata": {},
   "outputs": [
    {
     "name": "stdout",
     "output_type": "stream",
     "text": [
      "Part 2: 1766400\n"
     ]
    }
   ],
   "source": [
    "p2 = best_cookie(ingredients, exact_calories=500)\n",
    "print('Part 2: {}'.format(p2))"
   ]
  }
 ],
 "metadata": {
  "kernelspec": {
   "display_name": "Python 3",
   "language": "python",
   "name": "python3"
  },
  "language_info": {
   "codemirror_mode": {
    "name": "ipython",
    "version": 3
   },
   "file_extension": ".py",
   "mimetype": "text/x-python",
   "name": "python",
   "nbconvert_exporter": "python",
   "pygments_lexer": "ipython3",
   "version": "3.8.5"
  }
 },
 "nbformat": 4,
 "nbformat_minor": 4
}
