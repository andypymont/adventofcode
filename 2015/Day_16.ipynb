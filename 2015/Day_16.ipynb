{
 "cells": [
  {
   "cell_type": "markdown",
   "metadata": {},
   "source": [
    "# Day 16\n",
    "https://adventofcode.com/2015/day/16"
   ]
  },
  {
   "cell_type": "code",
   "execution_count": 1,
   "metadata": {},
   "outputs": [],
   "source": [
    "import aocd\n",
    "data = aocd.get_data(year=2015, day=16)"
   ]
  },
  {
   "cell_type": "code",
   "execution_count": 4,
   "metadata": {},
   "outputs": [],
   "source": [
    "import re"
   ]
  },
  {
   "cell_type": "markdown",
   "metadata": {},
   "source": [
    "##### Part 1: Find an aunt with the exact attributes"
   ]
  },
  {
   "cell_type": "code",
   "execution_count": 32,
   "metadata": {},
   "outputs": [],
   "source": [
    "def read_aunts(text):\n",
    "    aunts = []\n",
    "    for line in text.split('\\n'):\n",
    "        aunt = {'number': re.match(r'Sue (\\d+)', line).group(1)}\n",
    "        for (attribute, value) in re.findall(r'(\\w+): (\\d)', line):\n",
    "            aunt[attribute] = int(value)\n",
    "        aunts.append(aunt)\n",
    "    return aunts"
   ]
  },
  {
   "cell_type": "code",
   "execution_count": 34,
   "metadata": {},
   "outputs": [],
   "source": [
    "def aunt_matches_profile(aunt, profile):\n",
    "    return all((key not in aunt) or aunt.get(key) == expected for key, expected in profile.items())"
   ]
  },
  {
   "cell_type": "code",
   "execution_count": 37,
   "metadata": {},
   "outputs": [
    {
     "name": "stdout",
     "output_type": "stream",
     "text": [
      "Part 1: 103\n"
     ]
    }
   ],
   "source": [
    "profile = {\n",
    "    'children': 3,\n",
    "    'cats': 7,\n",
    "    'samoyeds': 2,\n",
    "    'pomeranians': 3,\n",
    "    'akitas': 0,\n",
    "    'vizslas': 0,\n",
    "    'goldfish': 5,\n",
    "    'trees': 3,\n",
    "    'cars': 2,\n",
    "    'perfumes': 1\n",
    "}\n",
    "aunts = read_aunts(data)\n",
    "aunts_matching_profile = (aunt for aunt in aunts if aunt_matches_profile(aunt, profile))\n",
    "p1 = next(aunts_matching_profile)['number']\n",
    "print('Part 1: {}'.format(p1))"
   ]
  },
  {
   "cell_type": "markdown",
   "metadata": {},
   "source": [
    "##### Part 2: Find an aunt when the cat & tree tests are greater-than and the pomerians & goldfish tests are less-than"
   ]
  },
  {
   "cell_type": "code",
   "execution_count": 42,
   "metadata": {},
   "outputs": [],
   "source": [
    "def check_aunt(aunt, attribute, value):\n",
    "    if attribute not in aunt:\n",
    "        return True\n",
    "    if attribute in ('cats', 'trees'):\n",
    "        return aunt.get(attribute, 0) > value\n",
    "    if attribute in ('pomeranians', 'goldfish'):\n",
    "        return aunt.get(attribute, 0) < value\n",
    "    return aunt.get(attribute, 0) == value\n",
    "\n",
    "def aunt_matches_profile2(aunt, profile):\n",
    "    return all(check_aunt(aunt, attribute, expected) for attribute, expected in profile.items())"
   ]
  },
  {
   "cell_type": "code",
   "execution_count": 43,
   "metadata": {},
   "outputs": [
    {
     "name": "stdout",
     "output_type": "stream",
     "text": [
      "Part 2: 405\n"
     ]
    }
   ],
   "source": [
    "aunts_matching_profile2 = (aunt for aunt in aunts if aunt_matches_profile2(aunt, profile))\n",
    "p2 = next(aunts_matching_profile2)['number']\n",
    "print('Part 2: {}'.format(p2))"
   ]
  }
 ],
 "metadata": {
  "kernelspec": {
   "display_name": "Python 3",
   "language": "python",
   "name": "python3"
  },
  "language_info": {
   "codemirror_mode": {
    "name": "ipython",
    "version": 3
   },
   "file_extension": ".py",
   "mimetype": "text/x-python",
   "name": "python",
   "nbconvert_exporter": "python",
   "pygments_lexer": "ipython3",
   "version": "3.8.5"
  }
 },
 "nbformat": 4,
 "nbformat_minor": 4
}
