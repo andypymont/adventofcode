{
 "cells": [
  {
   "cell_type": "markdown",
   "metadata": {},
   "source": [
    "# Day 17\n",
    "https://adventofcode.com/2015/day/17"
   ]
  },
  {
   "cell_type": "code",
   "execution_count": 1,
   "metadata": {},
   "outputs": [],
   "source": [
    "import aocd\n",
    "data = aocd.get_data(year=2015, day=17)"
   ]
  },
  {
   "cell_type": "code",
   "execution_count": 8,
   "metadata": {},
   "outputs": [],
   "source": [
    "import numpy as np"
   ]
  },
  {
   "cell_type": "markdown",
   "metadata": {},
   "source": [
    "##### Part 1: How many ways can we make 150l with these containers?"
   ]
  },
  {
   "cell_type": "code",
   "execution_count": 3,
   "metadata": {},
   "outputs": [],
   "source": [
    "def read_containers(text):\n",
    "    return [int(line) for line in text.split('\\n')]"
   ]
  },
  {
   "cell_type": "code",
   "execution_count": 47,
   "metadata": {},
   "outputs": [],
   "source": [
    "def valid_container_combos(containers, target=150):\n",
    "    format_str = '{:0>' + str(len(containers)) + '}'\n",
    "    def binary(no):\n",
    "        return format_str.format(np.base_repr(i, 2))\n",
    "    \n",
    "    for i in range(1, 2**len(containers)):\n",
    "        bits = binary(i)\n",
    "        selected = [container for c, container in enumerate(containers) if bits[c] == '1']\n",
    "        if sum(selected) == target:\n",
    "            yield selected"
   ]
  },
  {
   "cell_type": "code",
   "execution_count": 50,
   "metadata": {},
   "outputs": [
    {
     "name": "stdout",
     "output_type": "stream",
     "text": [
      "Part 1: 654\n"
     ]
    }
   ],
   "source": [
    "containers = read_containers(data)\n",
    "combos = list(valid_container_combos(containers))\n",
    "print('Part 1: {}'.format(len(combos)))"
   ]
  },
  {
   "cell_type": "markdown",
   "metadata": {},
   "source": [
    "##### Part 2: How many different ways can we make the minimum set of 150l-total containers?"
   ]
  },
  {
   "cell_type": "code",
   "execution_count": 54,
   "metadata": {},
   "outputs": [
    {
     "name": "stdout",
     "output_type": "stream",
     "text": [
      "Part 2: 57\n"
     ]
    }
   ],
   "source": [
    "min_containers = min(len(c) for c in combos)\n",
    "p2 = len([x for x in combos if len(x) == min_containers])\n",
    "print('Part 2: {}'.format(p2))"
   ]
  }
 ],
 "metadata": {
  "kernelspec": {
   "display_name": "Python 3",
   "language": "python",
   "name": "python3"
  },
  "language_info": {
   "codemirror_mode": {
    "name": "ipython",
    "version": 3
   },
   "file_extension": ".py",
   "mimetype": "text/x-python",
   "name": "python",
   "nbconvert_exporter": "python",
   "pygments_lexer": "ipython3",
   "version": "3.8.5"
  }
 },
 "nbformat": 4,
 "nbformat_minor": 4
}
