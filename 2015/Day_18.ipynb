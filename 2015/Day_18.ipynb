{
 "cells": [
  {
   "cell_type": "markdown",
   "metadata": {},
   "source": [
    "# Day 18\n",
    "https://adventofcode.com/2015/day/18"
   ]
  },
  {
   "cell_type": "code",
   "execution_count": 1,
   "metadata": {},
   "outputs": [],
   "source": [
    "import aocd\n",
    "data = aocd.get_data(year=2015, day=18)"
   ]
  },
  {
   "cell_type": "code",
   "execution_count": 2,
   "metadata": {},
   "outputs": [],
   "source": [
    "import numpy as np"
   ]
  },
  {
   "cell_type": "markdown",
   "metadata": {},
   "source": [
    "##### Part 1: how many lights are on after 100 iterations?"
   ]
  },
  {
   "cell_type": "code",
   "execution_count": 40,
   "metadata": {},
   "outputs": [],
   "source": [
    "def load_initial_grid(source, fix_corners=False):\n",
    "    lines = source.split('\\n')\n",
    "    if fix_corners:\n",
    "        lines[0] = '#' + lines[0][1:-1] + '#'\n",
    "        lines[-1] = '#' + lines[-1][1:-1] + '#'\n",
    "    return np.array([[1 if char == '#' else 0 for char in line] for line in lines])"
   ]
  },
  {
   "cell_type": "code",
   "execution_count": 4,
   "metadata": {},
   "outputs": [],
   "source": [
    "def neighbours_on(grid, y, x):\n",
    "    max_y, max_x = grid.shape\n",
    "    return grid[max(y-1,0):min(y+2,max_y), max(x-1,0):min(x+2,max_x)].sum()\n",
    "\n",
    "def new_value(grid, y, x):\n",
    "    neighbours = neighbours_on(grid, y, x)\n",
    "    if grid[y][x] == 1:\n",
    "        return 1 if neighbours in (3, 4) else 0\n",
    "    return 1 if neighbours == 3 else 0\n",
    "\n",
    "def next_state(prev, new_val_func=new_value):\n",
    "    rows, cols = prev.shape\n",
    "    return np.array([[new_val_func(prev, y, x) for x in range(cols)] for y in range(rows)])\n",
    "\n",
    "def run_steps(initial, steps, new_val_func=new_value):\n",
    "    grid = initial\n",
    "    for step in range(steps):\n",
    "        grid = next_state(grid, new_val_func)\n",
    "    return grid"
   ]
  },
  {
   "cell_type": "code",
   "execution_count": 5,
   "metadata": {},
   "outputs": [
    {
     "name": "stdout",
     "output_type": "stream",
     "text": [
      "Part 1: 814\n"
     ]
    }
   ],
   "source": [
    "grid = load_initial_grid(data)\n",
    "p1 = run_steps(grid, 100)\n",
    "print('Part 1: {}'.format(p1.sum()))"
   ]
  },
  {
   "cell_type": "markdown",
   "metadata": {},
   "source": [
    "##### Part 2: what if the corner lights are constantly stuck on?"
   ]
  },
  {
   "cell_type": "code",
   "execution_count": 6,
   "metadata": {},
   "outputs": [],
   "source": [
    "def new_value_broken_light(grid, y, x):\n",
    "    rows, cols = grid.shape\n",
    "    if y in (0, rows - 1) and x in (0, cols - 1):\n",
    "        return 1\n",
    "    return new_value(grid, y, x)"
   ]
  },
  {
   "cell_type": "code",
   "execution_count": 41,
   "metadata": {},
   "outputs": [
    {
     "name": "stdout",
     "output_type": "stream",
     "text": [
      "Part 2: 924\n"
     ]
    }
   ],
   "source": [
    "grid = load_initial_grid(data, fix_corners=True)\n",
    "p2 = run_steps(grid, 100, new_value_broken_light)\n",
    "print('Part 2: {}'.format(p2.sum()))"
   ]
  }
 ],
 "metadata": {
  "kernelspec": {
   "display_name": "Python 3",
   "language": "python",
   "name": "python3"
  },
  "language_info": {
   "codemirror_mode": {
    "name": "ipython",
    "version": 3
   },
   "file_extension": ".py",
   "mimetype": "text/x-python",
   "name": "python",
   "nbconvert_exporter": "python",
   "pygments_lexer": "ipython3",
   "version": "3.8.5"
  }
 },
 "nbformat": 4,
 "nbformat_minor": 4
}
