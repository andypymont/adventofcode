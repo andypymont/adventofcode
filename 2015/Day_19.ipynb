{
 "cells": [
  {
   "cell_type": "markdown",
   "metadata": {},
   "source": [
    "# Day 19\n",
    "https://adventofcode.com/2015/day/19"
   ]
  },
  {
   "cell_type": "code",
   "execution_count": 1,
   "metadata": {},
   "outputs": [],
   "source": [
    "import aocd\n",
    "data = aocd.get_data(year=2015, day=19)"
   ]
  },
  {
   "cell_type": "code",
   "execution_count": 7,
   "metadata": {},
   "outputs": [],
   "source": [
    "def read_data(source):\n",
    "    medicine = ''\n",
    "    replacements = []\n",
    "    for line in source.split('\\n'):\n",
    "        if ' => ' in line:\n",
    "            replacements.append(tuple(line.split(' => ')))\n",
    "        else:\n",
    "            medicine = line\n",
    "    return (medicine, tuple(replacements))"
   ]
  },
  {
   "cell_type": "markdown",
   "metadata": {},
   "source": [
    "##### Part 1: Calibrate replacements"
   ]
  },
  {
   "cell_type": "code",
   "execution_count": 13,
   "metadata": {},
   "outputs": [],
   "source": [
    "def possible_replacements(molecule, replacements):\n",
    "    possible = set()\n",
    "    for (replace, replacement) in replacements:\n",
    "        for start in range(len(molecule)):\n",
    "            end = start + len(replace)\n",
    "            if molecule[start:end] == replace:\n",
    "                possible.add(molecule[:start] + replacement + molecule[end:])\n",
    "    return possible"
   ]
  },
  {
   "cell_type": "code",
   "execution_count": 14,
   "metadata": {},
   "outputs": [
    {
     "name": "stdout",
     "output_type": "stream",
     "text": [
      "Part 1: 535\n"
     ]
    }
   ],
   "source": [
    "medicine, replacements = read_data(data)\n",
    "p1 = len(possible_replacements(medicine, replacements))\n",
    "print('Part 1: {}'.format(p1))"
   ]
  },
  {
   "cell_type": "markdown",
   "metadata": {},
   "source": [
    "##### Part 2: Goal-seek to find the desired molecule"
   ]
  },
  {
   "cell_type": "code",
   "execution_count": 17,
   "metadata": {},
   "outputs": [],
   "source": [
    "def fewest_steps(replacements, target):\n",
    "    words = {}\n",
    "    attempts = [target]\n",
    "    words[target] = 0\n",
    "    \n",
    "    replacements = tuple((left, right) for (right, left) in replacements)\n",
    "    \n",
    "    while attempts:\n",
    "        candidate = attempts.pop(0)\n",
    "        steps = words[candidate]\n",
    "        if candidate == 'e':\n",
    "            return steps\n",
    "        for next_step in possible_replacements(candidate, replacements):\n",
    "            if next_step not in words:\n",
    "                words[next_step] = (steps + 1)\n",
    "                attempts.append(next_step)\n",
    "            elif words[next_step] > (steps + 1):\n",
    "                words[next_step] = (steps + 1)\n",
    "        attempts.sort(key=lambda x: len(x))"
   ]
  },
  {
   "cell_type": "code",
   "execution_count": 19,
   "metadata": {},
   "outputs": [
    {
     "name": "stdout",
     "output_type": "stream",
     "text": [
      "Part 2: 212\n"
     ]
    }
   ],
   "source": [
    "p2 = fewest_steps(replacements, medicine)\n",
    "print('Part 2: {}'.format(p2))"
   ]
  }
 ],
 "metadata": {
  "kernelspec": {
   "display_name": "Python 3",
   "language": "python",
   "name": "python3"
  },
  "language_info": {
   "codemirror_mode": {
    "name": "ipython",
    "version": 3
   },
   "file_extension": ".py",
   "mimetype": "text/x-python",
   "name": "python",
   "nbconvert_exporter": "python",
   "pygments_lexer": "ipython3",
   "version": "3.8.5"
  }
 },
 "nbformat": 4,
 "nbformat_minor": 4
}
