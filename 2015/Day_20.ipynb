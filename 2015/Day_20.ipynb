{
 "cells": [
  {
   "cell_type": "markdown",
   "metadata": {},
   "source": [
    "# Day 20\n",
    "https://adventofcode.com/2015/day/20"
   ]
  },
  {
   "cell_type": "code",
   "execution_count": 1,
   "metadata": {},
   "outputs": [],
   "source": [
    "import aocd\n",
    "data = aocd.get_data(year=2015, day=20)"
   ]
  },
  {
   "cell_type": "code",
   "execution_count": 39,
   "metadata": {},
   "outputs": [],
   "source": [
    "def deliver(target, limit=None, perdrop=10):\n",
    "    houses = dict()\n",
    "    for elf in range(1, target//20):\n",
    "        for house in range(elf, elf*limit if limit else target//20, elf):\n",
    "            total = houses.get(house, 0) + (perdrop * elf)\n",
    "            houses[house] = total\n",
    "            if total > target:\n",
    "                break\n",
    "    return houses"
   ]
  },
  {
   "cell_type": "code",
   "execution_count": 36,
   "metadata": {},
   "outputs": [],
   "source": [
    "def first_with(delivered, target):\n",
    "    for (house, presents) in delivered.items():\n",
    "        if presents >= target:\n",
    "            return house"
   ]
  },
  {
   "cell_type": "code",
   "execution_count": 38,
   "metadata": {},
   "outputs": [
    {
     "name": "stdout",
     "output_type": "stream",
     "text": [
      "Part 1: 776160\n"
     ]
    }
   ],
   "source": [
    "target = int(data)\n",
    "p1 = first_with(deliver(target), target)\n",
    "print('Part 1: {}'.format(p1))"
   ]
  },
  {
   "cell_type": "code",
   "execution_count": 41,
   "metadata": {},
   "outputs": [
    {
     "name": "stdout",
     "output_type": "stream",
     "text": [
      "Part 2: 786240\n"
     ]
    }
   ],
   "source": [
    "p2 = first_with(deliver(target, limit=50, perdrop=11), target)\n",
    "print('Part 2: {}'.format(p2))"
   ]
  }
 ],
 "metadata": {
  "kernelspec": {
   "display_name": "Python 3",
   "language": "python",
   "name": "python3"
  },
  "language_info": {
   "codemirror_mode": {
    "name": "ipython",
    "version": 3
   },
   "file_extension": ".py",
   "mimetype": "text/x-python",
   "name": "python",
   "nbconvert_exporter": "python",
   "pygments_lexer": "ipython3",
   "version": "3.8.5"
  }
 },
 "nbformat": 4,
 "nbformat_minor": 4
}
