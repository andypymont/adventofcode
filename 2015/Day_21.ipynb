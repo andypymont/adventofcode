{
 "cells": [
  {
   "cell_type": "markdown",
   "metadata": {},
   "source": [
    "# Day 21\n",
    "https://adventofcode.com/2015/day/21"
   ]
  },
  {
   "cell_type": "code",
   "execution_count": 1,
   "metadata": {},
   "outputs": [],
   "source": [
    "import aocd\n",
    "data = aocd.get_data(year=2015, day=21)"
   ]
  },
  {
   "cell_type": "code",
   "execution_count": 2,
   "metadata": {},
   "outputs": [],
   "source": [
    "from dataclasses import dataclass\n",
    "from itertools import chain, combinations, product\n",
    "from typing import Set"
   ]
  },
  {
   "cell_type": "markdown",
   "metadata": {},
   "source": [
    "##### Part 1: Win the game as the Player"
   ]
  },
  {
   "cell_type": "code",
   "execution_count": 59,
   "metadata": {},
   "outputs": [],
   "source": [
    "@dataclass\n",
    "class Boss():\n",
    "    hitpoints: int\n",
    "    damage: int\n",
    "    armor: int\n",
    "        \n",
    "    def __init__(self, desc):\n",
    "        for line in desc.split('\\n'):\n",
    "            attribute, value = line.split(': ')\n",
    "            if attribute == 'Hit Points':\n",
    "                self.hitpoints = int(value)\n",
    "            elif attribute == 'Damage':\n",
    "                self.damage = int(value)\n",
    "            elif attribute == 'Armor':\n",
    "                self.armor = int(value)\n",
    "    \n",
    "    def hit(self, damage: int) -> bool:\n",
    "        self.hitpoints -= max(1, damage - self.armor)\n",
    "        return self.hitpoints <= 0"
   ]
  },
  {
   "cell_type": "code",
   "execution_count": 19,
   "metadata": {},
   "outputs": [],
   "source": [
    "def boss_factory(data):\n",
    "    def factory():\n",
    "        return Boss(data)\n",
    "    return factory"
   ]
  },
  {
   "cell_type": "code",
   "execution_count": 4,
   "metadata": {},
   "outputs": [],
   "source": [
    "@dataclass\n",
    "class Equipment():\n",
    "    name: int\n",
    "    cost: int\n",
    "    damage: int\n",
    "    armor: int\n",
    "        \n",
    "    def __hash__(self):\n",
    "        return hash(self.name)\n",
    "\n",
    "weapons = {\n",
    "    Equipment(name='Dagger', cost=8, damage=4, armor=0),\n",
    "    Equipment(name='Shortsword', cost=10, damage=5, armor=0),\n",
    "    Equipment(name='Warhammer', cost=25, damage=6, armor=0),\n",
    "    Equipment(name='Longsword', cost=40, damage=7, armor=0),\n",
    "    Equipment(name='Greataxe', cost=74, damage=8, armor=0),\n",
    "}\n",
    "armor = {\n",
    "    Equipment(name='Leather', cost=13, damage=0, armor=1),\n",
    "    Equipment(name='Chainmail', cost=31, damage=0, armor=2),\n",
    "    Equipment(name='Splintmail', cost=53, damage=0, armor=3),\n",
    "    Equipment(name='Bandedmail', cost=75, damage=0, armor=4),\n",
    "    Equipment(name='Platemail', cost=102, damage=0, armor=5),\n",
    "}\n",
    "rings = {\n",
    "    Equipment(name='Damage +1', cost=25, damage=1, armor=0),\n",
    "    Equipment(name='Damage +2', cost=50, damage=2, armor=0),\n",
    "    Equipment(name='Damage +3', cost=100, damage=3, armor=0),\n",
    "    Equipment(name='Defense +1', cost=20, damage=0, armor=1),\n",
    "    Equipment(name='Defense +2', cost=40, damage=0, armor=2),\n",
    "    Equipment(name='Defense +3', cost=80, damage=0, armor=3),\n",
    "}"
   ]
  },
  {
   "cell_type": "code",
   "execution_count": 5,
   "metadata": {},
   "outputs": [],
   "source": [
    "@dataclass\n",
    "class Player():\n",
    "    inventory: Set[Equipment]\n",
    "    hitpoints: int\n",
    "    \n",
    "    @property\n",
    "    def armor(self) -> int:\n",
    "        return sum(item.armor for item in self.inventory)\n",
    "    \n",
    "    @property\n",
    "    def damage(self) -> int:\n",
    "        return sum(item.damage for item in self.inventory)\n",
    "    \n",
    "    @property\n",
    "    def spent(self) -> int:\n",
    "        return sum(item.cost for item in self.inventory)\n",
    "    \n",
    "    def hit(self, damage: int) -> bool:\n",
    "        self.hitpoints -= max(1, damage - self.armor)\n",
    "        return self.hitpoints <= 0"
   ]
  },
  {
   "cell_type": "code",
   "execution_count": 6,
   "metadata": {},
   "outputs": [],
   "source": [
    "def fight_won(boss: Boss, player: Player) -> bool:\n",
    "    while True:\n",
    "        if boss.hit(player.damage):\n",
    "            return True\n",
    "        if player.hit(boss.damage):\n",
    "            return False"
   ]
  },
  {
   "cell_type": "code",
   "execution_count": 12,
   "metadata": {},
   "outputs": [],
   "source": [
    "def all_loadouts():\n",
    "    weapon_options = tuple(combinations(weapons, 1))\n",
    "    armor_options = tuple(chain([tuple()], combinations(armor, 1)))\n",
    "    ring_options = tuple(chain([tuple()], combinations(rings, 1), combinations(rings, 2)))\n",
    "    return tuple(Player(hitpoints=100, inventory=set(w + a + r))\n",
    "                 for w, a, r in product(weapon_options, armor_options, ring_options))"
   ]
  },
  {
   "cell_type": "code",
   "execution_count": 69,
   "metadata": {},
   "outputs": [],
   "source": [
    "def best_win(boss_factory):\n",
    "    for player in sorted(all_loadouts(), key=lambda p: p.spent):\n",
    "        if fight_won(boss_factory(), player):\n",
    "            return player"
   ]
  },
  {
   "cell_type": "code",
   "execution_count": 71,
   "metadata": {},
   "outputs": [
    {
     "name": "stdout",
     "output_type": "stream",
     "text": [
      "Part 1: 78\n"
     ]
    }
   ],
   "source": [
    "bf = boss_factory(data)\n",
    "p1 = best_win(bf)\n",
    "print('Part 1: {}'.format(p1.spent))"
   ]
  },
  {
   "cell_type": "markdown",
   "metadata": {},
   "source": [
    "##### Part 2: Win the game as the shopkeeper"
   ]
  },
  {
   "cell_type": "code",
   "execution_count": 79,
   "metadata": {},
   "outputs": [],
   "source": [
    "def worst_loss(boss_factory):\n",
    "    for player in sorted(all_loadouts(), key=lambda p: p.spent, reverse=True):\n",
    "        if not fight_won(boss_factory(), player):\n",
    "            return player"
   ]
  },
  {
   "cell_type": "code",
   "execution_count": 80,
   "metadata": {},
   "outputs": [
    {
     "name": "stdout",
     "output_type": "stream",
     "text": [
      "Part 2: 148\n"
     ]
    }
   ],
   "source": [
    "p2 = worst_loss(bf)\n",
    "print('Part 2: {}'.format(p2.spent))"
   ]
  }
 ],
 "metadata": {
  "kernelspec": {
   "display_name": "Python 3",
   "language": "python",
   "name": "python3"
  },
  "language_info": {
   "codemirror_mode": {
    "name": "ipython",
    "version": 3
   },
   "file_extension": ".py",
   "mimetype": "text/x-python",
   "name": "python",
   "nbconvert_exporter": "python",
   "pygments_lexer": "ipython3",
   "version": "3.8.5"
  }
 },
 "nbformat": 4,
 "nbformat_minor": 4
}
