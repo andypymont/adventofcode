{
 "cells": [
  {
   "cell_type": "markdown",
   "metadata": {},
   "source": [
    "# Day 22\n",
    "https://adventofcode.com/2015/day/22"
   ]
  },
  {
   "cell_type": "code",
   "execution_count": 1,
   "metadata": {},
   "outputs": [],
   "source": [
    "import aocd\n",
    "data = aocd.get_data(year=2015, day=22)"
   ]
  },
  {
   "cell_type": "code",
   "execution_count": 2,
   "metadata": {},
   "outputs": [],
   "source": [
    "from dataclasses import dataclass"
   ]
  },
  {
   "cell_type": "markdown",
   "metadata": {},
   "source": [
    "##### Part 1: A wizard fights the boss"
   ]
  },
  {
   "cell_type": "code",
   "execution_count": 3,
   "metadata": {},
   "outputs": [],
   "source": [
    "@dataclass(frozen=True)\n",
    "class Spell():\n",
    "    cost: int\n",
    "    damage: int\n",
    "    heal: int\n",
    "    shield: int\n",
    "    poison: int\n",
    "    recharge: int\n",
    "\n",
    "@dataclass(frozen=True)\n",
    "class Situation():\n",
    "    player_hp: int\n",
    "    boss_hp: int\n",
    "    boss_damage: int\n",
    "    mana: int\n",
    "    mana_spent: int\n",
    "    effect_shield: int\n",
    "    effect_poison: int\n",
    "    effect_recharge: int\n",
    "    \n",
    "    @property\n",
    "    def game_over(self):\n",
    "        return self.boss_hp <= 0 or self.player_hp <= 0\n",
    "    \n",
    "    @property\n",
    "    def has_won(self):\n",
    "        return self.boss_hp <= 0 and self.player_hp > 0\n",
    "    \n",
    "    @property\n",
    "    def has_lost(self):\n",
    "        return self.player_hp <= 0\n",
    "    \n",
    "    @property\n",
    "    def armor(self):\n",
    "        return 7 if self.effect_shield > 0 else 0\n",
    "    \n",
    "    @property\n",
    "    def poison(self):\n",
    "        return 3 if self.effect_poison > 0 else 0\n",
    "    \n",
    "    @property\n",
    "    def recharge(self):\n",
    "        return 101 if self.effect_recharge > 0 else 0\n",
    "    \n",
    "    @property\n",
    "    def available_mana(self):\n",
    "        return self.mana + self.recharge\n",
    "\n",
    "def castable(situation, spell):\n",
    "    return (\n",
    "        situation.available_mana >= spell.cost\n",
    "        and not (situation.effect_shield > 1 and spell.shield > 0)\n",
    "        and not (situation.effect_poison > 1 and spell.poison > 0)\n",
    "        and not (situation.effect_recharge > 1 and spell.recharge > 0)\n",
    "    )\n",
    "\n",
    "def turn(situation, damage_player=0, damage_boss=0, spend_mana=0, add_shield=0, add_poison=0, add_recharge=0):\n",
    "    # start of turn effects resolve:\n",
    "    boss_hp = situation.boss_hp - situation.poison\n",
    "    damage_player = 0 if boss_hp <= 0 else damage_player\n",
    "    \n",
    "    # then resolve the boss attack or spell:\n",
    "    return Situation(\n",
    "        situation.player_hp - damage_player,\n",
    "        boss_hp - damage_boss,\n",
    "        situation.boss_damage,\n",
    "        situation.mana + situation.recharge - spend_mana,\n",
    "        situation.mana_spent + spend_mana,\n",
    "        max(0, situation.effect_shield - 1) + add_shield,\n",
    "        max(0, situation.effect_poison - 1) + add_poison,\n",
    "        max(0, situation.effect_recharge - 1) + add_recharge\n",
    "    )\n",
    "\n",
    "def boss_turn(situation):\n",
    "    damage_dealt = max(1, situation.boss_damage - situation.armor)\n",
    "    return turn(situation, damage_player=damage_dealt)\n",
    "\n",
    "def player_turn(situation, spell, difficulty):\n",
    "    return turn(\n",
    "        situation,\n",
    "        damage_player=difficulty-spell.heal,\n",
    "        damage_boss=spell.damage,\n",
    "        spend_mana=spell.cost,\n",
    "        add_shield=spell.shield,\n",
    "        add_poison=spell.poison,\n",
    "        add_recharge=spell.recharge\n",
    "    )\n",
    "\n",
    "spellbook = {\n",
    "    'missile': Spell(cost=53, damage=4, heal=0, shield=0, poison=0, recharge=0),\n",
    "    'drain': Spell(cost=73, damage=2, heal=2, shield=0, poison=0, recharge=0),\n",
    "    'shield': Spell(cost=113, damage=0, heal=0, shield=6, poison=0, recharge=0),\n",
    "    'poison': Spell(cost=173, damage=0, heal=0, shield=0, poison=6, recharge=0),\n",
    "    'recharge': Spell(cost=229, damage=0, heal=0, shield=0, poison=0, recharge=5),\n",
    "}\n",
    "\n",
    "def available_moves(situation, difficulty):\n",
    "    return set(player_turn(situation, spell, difficulty)\n",
    "               for spell in spellbook.values() if castable(situation, spell))"
   ]
  },
  {
   "cell_type": "code",
   "execution_count": 4,
   "metadata": {},
   "outputs": [],
   "source": [
    "def load_initial_situation(text):\n",
    "    from_text = dict((a.lower(), int(b)) for a, b in (line.split(': ') for line in text.split('\\n')))\n",
    "    return Situation(\n",
    "        player_hp=50,\n",
    "        boss_hp=from_text.get('hit points', 0),\n",
    "        boss_damage=from_text.get('damage', 0),\n",
    "        mana=500,\n",
    "        mana_spent=0,\n",
    "        effect_shield=0,\n",
    "        effect_poison=0,\n",
    "        effect_recharge=0\n",
    "    )"
   ]
  },
  {
   "cell_type": "code",
   "execution_count": 5,
   "metadata": {},
   "outputs": [],
   "source": [
    "def find_cheapest_win(initial, difficulty=0):\n",
    "    candidates = list(available_moves(initial, difficulty))\n",
    "    visited = set(candidates)\n",
    "    while candidates:\n",
    "        candidates.sort(key=lambda sit: sit.mana_spent, reverse=True)\n",
    "        candidate = candidates.pop()\n",
    "        \n",
    "        if candidate.has_won:\n",
    "            return candidate.mana_spent\n",
    "        \n",
    "        if not candidate.has_lost:\n",
    "            after_boss = boss_turn(candidate)\n",
    "            \n",
    "            if after_boss.has_won: # eg. due to poison damage\n",
    "                return after_boss.mana_spent\n",
    "            \n",
    "            if not after_boss.has_lost:\n",
    "                for move in available_moves(after_boss, difficulty):\n",
    "                    if move not in visited:\n",
    "                        visited.add(move)\n",
    "                        candidates.append(move)"
   ]
  },
  {
   "cell_type": "code",
   "execution_count": 6,
   "metadata": {},
   "outputs": [
    {
     "name": "stdout",
     "output_type": "stream",
     "text": [
      "Part 1: 1824\n"
     ]
    }
   ],
   "source": [
    "initial = load_initial_situation(data)\n",
    "p1 = find_cheapest_win(initial)\n",
    "print('Part 1: {}'.format(p1))"
   ]
  },
  {
   "cell_type": "markdown",
   "metadata": {},
   "source": [
    "##### Part 2: Hard mode, where the player takes damage each turn!"
   ]
  },
  {
   "cell_type": "code",
   "execution_count": 7,
   "metadata": {
    "scrolled": false
   },
   "outputs": [
    {
     "name": "stdout",
     "output_type": "stream",
     "text": [
      "Part 2: 1937\n"
     ]
    }
   ],
   "source": [
    "p2 = find_cheapest_win(initial, difficulty=1)\n",
    "print('Part 2: {}'.format(p2))"
   ]
  }
 ],
 "metadata": {
  "kernelspec": {
   "display_name": "Python 3",
   "language": "python",
   "name": "python3"
  },
  "language_info": {
   "codemirror_mode": {
    "name": "ipython",
    "version": 3
   },
   "file_extension": ".py",
   "mimetype": "text/x-python",
   "name": "python",
   "nbconvert_exporter": "python",
   "pygments_lexer": "ipython3",
   "version": "3.8.5"
  }
 },
 "nbformat": 4,
 "nbformat_minor": 4
}
