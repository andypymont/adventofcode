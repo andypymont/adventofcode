{
 "cells": [
  {
   "cell_type": "markdown",
   "metadata": {},
   "source": [
    "# Day 23\n",
    "https://adventofcode.com/2015/day/23"
   ]
  },
  {
   "cell_type": "code",
   "execution_count": 1,
   "metadata": {},
   "outputs": [],
   "source": [
    "import aocd\n",
    "data = aocd.get_data(year=2015, day=23)"
   ]
  },
  {
   "cell_type": "code",
   "execution_count": 2,
   "metadata": {},
   "outputs": [],
   "source": [
    "import re"
   ]
  },
  {
   "cell_type": "code",
   "execution_count": 3,
   "metadata": {},
   "outputs": [],
   "source": [
    "def hlf(ip, registers, register):\n",
    "    registers[register] = registers.get(register, 0) // 2\n",
    "    return ip + 1\n",
    "\n",
    "def tpl(ip, registers, register):\n",
    "    registers[register] = registers.get(register, 0) * 3\n",
    "    return ip + 1\n",
    "\n",
    "def inc(ip, registers, register):\n",
    "    registers[register] = registers.get(register, 0) + 1\n",
    "    return ip + 1\n",
    "\n",
    "def jmp(ip, registers, offset):\n",
    "    return ip + int(offset)\n",
    "\n",
    "def jie(ip, registers, register, offset):\n",
    "    if registers.get(register, 0) % 2 == 0:\n",
    "        return ip + int(offset)\n",
    "    return ip + 1\n",
    "\n",
    "def jio(ip, registers, register, offset):\n",
    "    if registers.get(register, 0) == 1:\n",
    "        return ip + int(offset)\n",
    "    return ip + 1\n",
    "\n",
    "commands = {\n",
    "    r'hlf ([ab])': hlf,\n",
    "    r'tpl ([ab])': tpl,\n",
    "    r'inc ([ab])': inc,\n",
    "    r'jmp ([+-]\\d+)': jmp,\n",
    "    r'jie ([ab]), ([+-]\\d+)': jie,\n",
    "    r'jio ([ab]), ([+-]\\d+)': jio,\n",
    "}"
   ]
  },
  {
   "cell_type": "code",
   "execution_count": 4,
   "metadata": {},
   "outputs": [],
   "source": [
    "def run_program(instructions, overrides=None):\n",
    "    registers = dict(a=0, b=0)\n",
    "    registers.update(overrides or {})\n",
    "    \n",
    "    ip = 0\n",
    "    while ip < len(instructions):\n",
    "        instruction = instructions[ip]\n",
    "        for commandregex, command in commands.items():\n",
    "            match = re.match(commandregex, instruction)\n",
    "            if match:\n",
    "                ip = command(ip, registers, *match.groups())\n",
    "    \n",
    "    return registers.get('b', 0)"
   ]
  },
  {
   "cell_type": "code",
   "execution_count": 5,
   "metadata": {},
   "outputs": [
    {
     "name": "stdout",
     "output_type": "stream",
     "text": [
      "Part 1: 255\n"
     ]
    }
   ],
   "source": [
    "instructions = data.split('\\n')\n",
    "p1 = run_program(instructions)\n",
    "print('Part 1: {}'.format(p1))"
   ]
  },
  {
   "cell_type": "code",
   "execution_count": 6,
   "metadata": {},
   "outputs": [
    {
     "name": "stdout",
     "output_type": "stream",
     "text": [
      "Part 2: 334\n"
     ]
    }
   ],
   "source": [
    "p2 = run_program(instructions, {'a': 1})\n",
    "print('Part 2: {}'.format(p2))"
   ]
  }
 ],
 "metadata": {
  "kernelspec": {
   "display_name": "Python 3",
   "language": "python",
   "name": "python3"
  },
  "language_info": {
   "codemirror_mode": {
    "name": "ipython",
    "version": 3
   },
   "file_extension": ".py",
   "mimetype": "text/x-python",
   "name": "python",
   "nbconvert_exporter": "python",
   "pygments_lexer": "ipython3",
   "version": "3.8.5"
  }
 },
 "nbformat": 4,
 "nbformat_minor": 4
}
