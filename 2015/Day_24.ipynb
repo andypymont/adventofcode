{
 "cells": [
  {
   "cell_type": "markdown",
   "metadata": {},
   "source": [
    "# Day 24\n",
    "https://adventofcode.com/2015/day/24"
   ]
  },
  {
   "cell_type": "code",
   "execution_count": 1,
   "metadata": {},
   "outputs": [],
   "source": [
    "import aocd\n",
    "data = aocd.get_data(year=2015, day=24)"
   ]
  },
  {
   "cell_type": "code",
   "execution_count": 2,
   "metadata": {},
   "outputs": [],
   "source": [
    "from itertools import combinations\n",
    "from math import prod as qe"
   ]
  },
  {
   "cell_type": "code",
   "execution_count": 3,
   "metadata": {},
   "outputs": [],
   "source": [
    "def smallest_first_groups(parcels, groups=3):\n",
    "    group_weight = sum(parcel for parcel in parcels) / groups\n",
    "    for group_size in range(1, len(parcels)):\n",
    "        matches = [combo for combo in combinations(parcels, group_size) if sum(combo) == group_weight]\n",
    "        if matches:\n",
    "            return matches\n",
    "    return []"
   ]
  },
  {
   "cell_type": "code",
   "execution_count": 4,
   "metadata": {},
   "outputs": [],
   "source": [
    "def optimum_loading_entanglement(parcels, groups=3):\n",
    "    return min(qe(group) for group in smallest_first_groups(parcels, groups))"
   ]
  },
  {
   "cell_type": "code",
   "execution_count": 5,
   "metadata": {},
   "outputs": [
    {
     "name": "stdout",
     "output_type": "stream",
     "text": [
      "Part 1: 10439961859\n",
      "Part 2: 72050269\n"
     ]
    }
   ],
   "source": [
    "parcels = [int(parcel) for parcel in data.split('\\n')]\n",
    "p1 = optimum_loading_entanglement(parcels)\n",
    "print('Part 1: {}'.format(p1))\n",
    "p2 = optimum_loading_entanglement(parcels, groups=4)\n",
    "print('Part 2: {}'.format(p2))"
   ]
  }
 ],
 "metadata": {
  "kernelspec": {
   "display_name": "Python 3",
   "language": "python",
   "name": "python3"
  },
  "language_info": {
   "codemirror_mode": {
    "name": "ipython",
    "version": 3
   },
   "file_extension": ".py",
   "mimetype": "text/x-python",
   "name": "python",
   "nbconvert_exporter": "python",
   "pygments_lexer": "ipython3",
   "version": "3.8.5"
  }
 },
 "nbformat": 4,
 "nbformat_minor": 4
}
