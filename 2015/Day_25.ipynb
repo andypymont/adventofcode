{
 "cells": [
  {
   "cell_type": "markdown",
   "metadata": {},
   "source": [
    "# Day 25\n",
    "https://adventofcode.com/2015/day/25"
   ]
  },
  {
   "cell_type": "code",
   "execution_count": 1,
   "metadata": {},
   "outputs": [],
   "source": [
    "import aocd\n",
    "data = aocd.get_data(year=2015, day=25)"
   ]
  },
  {
   "cell_type": "code",
   "execution_count": 2,
   "metadata": {},
   "outputs": [],
   "source": [
    "from dataclasses import dataclass\n",
    "import re"
   ]
  },
  {
   "cell_type": "code",
   "execution_count": 3,
   "metadata": {},
   "outputs": [],
   "source": [
    "@dataclass(frozen=True)\n",
    "class Point:\n",
    "    x: int\n",
    "    y: int\n",
    "    \n",
    "    def before(self):\n",
    "        if self.x > 1:\n",
    "            return Point(self.x-1, self.y+1)\n",
    "        if self.y > 1:\n",
    "            return Point(self.y-1, 1)\n",
    "    \n",
    "    def after(self):\n",
    "        if self.y > 1:\n",
    "            return Point(self.x+1, self.y-1)\n",
    "        return Point(1, self.x+1)"
   ]
  },
  {
   "cell_type": "code",
   "execution_count": 4,
   "metadata": {},
   "outputs": [],
   "source": [
    "def code_number_at_position(target):\n",
    "    pt = Point(0, 0)\n",
    "    ix = 1\n",
    "    while pt != target:\n",
    "        pt = pt.after()\n",
    "        ix += 1\n",
    "    return ix"
   ]
  },
  {
   "cell_type": "code",
   "execution_count": 5,
   "metadata": {},
   "outputs": [],
   "source": [
    "def next_value(prev_value):\n",
    "    return (prev_value * 252533) % 33554393"
   ]
  },
  {
   "cell_type": "code",
   "execution_count": 6,
   "metadata": {},
   "outputs": [],
   "source": [
    "def value_at_position(row, col):\n",
    "    value = 27995004\n",
    "    iterations = code_number_at_position(Point(col, row)) - 62\n",
    "    for i in range(iterations):\n",
    "        value = next_value(value)\n",
    "    return value"
   ]
  },
  {
   "cell_type": "code",
   "execution_count": 7,
   "metadata": {},
   "outputs": [
    {
     "name": "stdout",
     "output_type": "stream",
     "text": [
      "Solution: 8997277\n"
     ]
    }
   ],
   "source": [
    "row, col = [int(x) for x in re.findall(r'(\\d+)', data)]\n",
    "p1 = value_at_position(row, col)\n",
    "print('Solution: {}'.format(p1))"
   ]
  }
 ],
 "metadata": {
  "kernelspec": {
   "display_name": "Python 3",
   "language": "python",
   "name": "python3"
  },
  "language_info": {
   "codemirror_mode": {
    "name": "ipython",
    "version": 3
   },
   "file_extension": ".py",
   "mimetype": "text/x-python",
   "name": "python",
   "nbconvert_exporter": "python",
   "pygments_lexer": "ipython3",
   "version": "3.8.5"
  }
 },
 "nbformat": 4,
 "nbformat_minor": 4
}
