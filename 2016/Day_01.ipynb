{
 "cells": [
  {
   "cell_type": "markdown",
   "metadata": {},
   "source": [
    "# Day 1\n",
    "https://adventofcode.com/2016/day/1"
   ]
  },
  {
   "cell_type": "code",
   "execution_count": 1,
   "metadata": {},
   "outputs": [],
   "source": [
    "import aocd\n",
    "data = aocd.get_data(year=2016, day=1)"
   ]
  },
  {
   "cell_type": "code",
   "execution_count": 2,
   "metadata": {},
   "outputs": [],
   "source": [
    "from dataclasses import dataclass\n",
    "import re"
   ]
  },
  {
   "cell_type": "code",
   "execution_count": 3,
   "metadata": {},
   "outputs": [],
   "source": [
    "@dataclass(frozen=True)\n",
    "class Vector():\n",
    "    x: int\n",
    "    y: int\n",
    "        \n",
    "    def __add__(self, other):\n",
    "        return Vector(self.x + other.x, self.y + other.y)\n",
    "    \n",
    "    @property\n",
    "    def taxicab_distance(self):\n",
    "        return abs(self.x) + abs(self.y)"
   ]
  },
  {
   "cell_type": "code",
   "execution_count": 4,
   "metadata": {},
   "outputs": [],
   "source": [
    "west = Vector(-1, 0)\n",
    "east = Vector(1, 0)\n",
    "north = Vector(0, 1)\n",
    "south = Vector(0, -1)\n",
    "turn_left = {\n",
    "    west: south,\n",
    "    south: east,\n",
    "    east: north,\n",
    "    north: west,\n",
    "}\n",
    "turn_right = {\n",
    "    west: north,\n",
    "    north: east,\n",
    "    east: south,\n",
    "    south: west,\n",
    "}"
   ]
  },
  {
   "cell_type": "code",
   "execution_count": 5,
   "metadata": {},
   "outputs": [],
   "source": [
    "def journey(instructions):\n",
    "    locations = [Vector(0, 0)]\n",
    "    facing = north\n",
    "    for (turn, dist) in re.findall(r'([RL])(\\d+)', instructions):\n",
    "        facing = turn_left[facing] if turn == 'L' else turn_right[facing]\n",
    "        for step in range(int(dist)):\n",
    "            locations.append(locations[-1] + facing)\n",
    "    return locations"
   ]
  },
  {
   "cell_type": "code",
   "execution_count": 6,
   "metadata": {},
   "outputs": [],
   "source": [
    "def first_repeat(seq):\n",
    "    visited = set()\n",
    "    for item in seq:\n",
    "        if item in visited:\n",
    "            return item\n",
    "        else:\n",
    "            visited.add(item)"
   ]
  },
  {
   "cell_type": "code",
   "execution_count": 7,
   "metadata": {},
   "outputs": [
    {
     "name": "stdout",
     "output_type": "stream",
     "text": [
      "Part 1: 146\n",
      "Part 2: 131\n"
     ]
    }
   ],
   "source": [
    "locations = journey(data)\n",
    "p1 = locations[-1].taxicab_distance\n",
    "print('Part 1: {}'.format(p1))\n",
    "p2 = first_repeat(locations).taxicab_distance\n",
    "print('Part 2: {}'.format(p2))"
   ]
  }
 ],
 "metadata": {
  "kernelspec": {
   "display_name": "Python 3",
   "language": "python",
   "name": "python3"
  },
  "language_info": {
   "codemirror_mode": {
    "name": "ipython",
    "version": 3
   },
   "file_extension": ".py",
   "mimetype": "text/x-python",
   "name": "python",
   "nbconvert_exporter": "python",
   "pygments_lexer": "ipython3",
   "version": "3.8.5"
  }
 },
 "nbformat": 4,
 "nbformat_minor": 4
}
