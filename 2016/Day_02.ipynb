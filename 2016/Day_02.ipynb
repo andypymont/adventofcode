{
 "cells": [
  {
   "cell_type": "markdown",
   "metadata": {},
   "source": [
    "# Day 2\n",
    "https://adventofcode.com/2016/day/2"
   ]
  },
  {
   "cell_type": "code",
   "execution_count": 1,
   "metadata": {},
   "outputs": [],
   "source": [
    "import aocd\n",
    "data = aocd.get_data(year=2016, day=2)"
   ]
  },
  {
   "cell_type": "code",
   "execution_count": 3,
   "metadata": {},
   "outputs": [],
   "source": [
    "grids = (\n",
    "    (\n",
    "        ('1', '2', '3'),\n",
    "        ('4', '5', '6'),\n",
    "        ('7', '8', '9')\n",
    "    ),\n",
    "    (\n",
    "        (False, False, '1', False, False),\n",
    "        (False, '2', '3', '4', False),\n",
    "        ('5', '6', '7', '8', '9'),\n",
    "        (False, 'A', 'B', 'C', False),\n",
    "        (False, False, 'D', False, False),\n",
    "    )\n",
    ")"
   ]
  },
  {
   "cell_type": "code",
   "execution_count": 4,
   "metadata": {},
   "outputs": [],
   "source": [
    "def key_in_direction(start, direction, grid=0):\n",
    "    grid = grids[grid]\n",
    "    row = [r for r in grid if start in r][0]\n",
    "    x = row.index(start)\n",
    "    col = [c[x] for c in grid]\n",
    "    y = col.index(start)\n",
    "    \n",
    "    directions = {\n",
    "        'U': col[max(0, y-1)],\n",
    "        'D': col[min(y+1, len(col)-1)],\n",
    "        'L': row[max(0, x-1)],\n",
    "        'R': row[min(x+1, len(row)-1)],\n",
    "    }\n",
    "    \n",
    "    return directions[direction] or start"
   ]
  },
  {
   "cell_type": "code",
   "execution_count": 5,
   "metadata": {},
   "outputs": [],
   "source": [
    "def passcode_from_directions(directions, grid=0):\n",
    "    position = '5'\n",
    "    passcode = ''\n",
    "    for line in directions.split('\\n'):\n",
    "        if line:\n",
    "            for direction in line:\n",
    "                position = key_in_direction(position, direction, grid)\n",
    "            passcode += position\n",
    "    return passcode"
   ]
  },
  {
   "cell_type": "code",
   "execution_count": 7,
   "metadata": {},
   "outputs": [
    {
     "name": "stdout",
     "output_type": "stream",
     "text": [
      "Part 1: 53255\n",
      "Part 2: 7423A\n"
     ]
    }
   ],
   "source": [
    "p1 = passcode_from_directions(data)\n",
    "print('Part 1: {}'.format(p1))\n",
    "p2 = passcode_from_directions(data, grid=1)\n",
    "print('Part 2: {}'.format(p2))"
   ]
  }
 ],
 "metadata": {
  "kernelspec": {
   "display_name": "Python 3",
   "language": "python",
   "name": "python3"
  },
  "language_info": {
   "codemirror_mode": {
    "name": "ipython",
    "version": 3
   },
   "file_extension": ".py",
   "mimetype": "text/x-python",
   "name": "python",
   "nbconvert_exporter": "python",
   "pygments_lexer": "ipython3",
   "version": "3.8.5"
  }
 },
 "nbformat": 4,
 "nbformat_minor": 4
}
