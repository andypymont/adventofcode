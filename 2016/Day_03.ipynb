{
 "cells": [
  {
   "cell_type": "markdown",
   "metadata": {},
   "source": [
    "# Day 3\n",
    "https://adventofcode.com/2016/day/3"
   ]
  },
  {
   "cell_type": "code",
   "execution_count": 1,
   "metadata": {},
   "outputs": [],
   "source": [
    "import aocd\n",
    "data = aocd.get_data(year=2016, day=3)"
   ]
  },
  {
   "cell_type": "code",
   "execution_count": 2,
   "metadata": {},
   "outputs": [],
   "source": [
    "import numpy as np"
   ]
  },
  {
   "cell_type": "code",
   "execution_count": 3,
   "metadata": {},
   "outputs": [],
   "source": [
    "def read_data(text):\n",
    "    return np.array([[int(value) for value in line.split()] for line in text.split('\\n')], int)"
   ]
  },
  {
   "cell_type": "code",
   "execution_count": 4,
   "metadata": {},
   "outputs": [],
   "source": [
    "def valid_triangle(a, b, c):\n",
    "    return (a + b) > c and (a + c) > b and (b + c) > a"
   ]
  },
  {
   "cell_type": "code",
   "execution_count": 5,
   "metadata": {},
   "outputs": [],
   "source": [
    "def triangles_vertically(triangles):\n",
    "    rotated = np.rot90(triangles)\n",
    "    for row in rotated:\n",
    "        for tri in range(len(row)//3):\n",
    "            yield row[(tri*3):(tri*3)+3]"
   ]
  },
  {
   "cell_type": "code",
   "execution_count": 6,
   "metadata": {},
   "outputs": [
    {
     "name": "stdout",
     "output_type": "stream",
     "text": [
      "Part 1: 1032\n",
      "Part 2: 1838\n"
     ]
    }
   ],
   "source": [
    "triangles = read_data(data)\n",
    "p1 = sum(1 for (a, b, c) in triangles if valid_triangle(a, b, c))\n",
    "print('Part 1: {}'.format(p1))\n",
    "p2 = sum(1 for (a, b, c) in triangles_vertically(triangles) if valid_triangle(a, b, c))\n",
    "print('Part 2: {}'.format(p2))"
   ]
  }
 ],
 "metadata": {
  "kernelspec": {
   "display_name": "Python 3",
   "language": "python",
   "name": "python3"
  },
  "language_info": {
   "codemirror_mode": {
    "name": "ipython",
    "version": 3
   },
   "file_extension": ".py",
   "mimetype": "text/x-python",
   "name": "python",
   "nbconvert_exporter": "python",
   "pygments_lexer": "ipython3",
   "version": "3.8.5"
  }
 },
 "nbformat": 4,
 "nbformat_minor": 4
}
