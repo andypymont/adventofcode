{
 "cells": [
  {
   "cell_type": "markdown",
   "metadata": {},
   "source": [
    "# Day 4\n",
    "https://adventofcode.com/2016/day/4"
   ]
  },
  {
   "cell_type": "code",
   "execution_count": 1,
   "metadata": {},
   "outputs": [],
   "source": [
    "import aocd\n",
    "data = aocd.get_data(year=2016, day=4)"
   ]
  },
  {
   "cell_type": "code",
   "execution_count": 2,
   "metadata": {},
   "outputs": [],
   "source": [
    "from dataclasses import dataclass\n",
    "import string"
   ]
  },
  {
   "cell_type": "code",
   "execution_count": 3,
   "metadata": {},
   "outputs": [],
   "source": [
    "@dataclass(frozen=True)\n",
    "class Room():\n",
    "    name: str\n",
    "    sector_id: int\n",
    "    checksum: str\n",
    "    \n",
    "    @property\n",
    "    def name_histogram(self):\n",
    "        return dict((letter, sum(1 for let in self.name.lower() if let == letter))\n",
    "                    for letter in self.name if letter in string.ascii_lowercase)\n",
    "    \n",
    "    @property\n",
    "    def actual_checksum(self):\n",
    "        return ''.join([letter for (letter, count) in sorted(self.name_histogram.items(),\n",
    "                                                             key=lambda x: (-x[1], x[0]))][:5])\n",
    "    \n",
    "    @property\n",
    "    def is_real(self):\n",
    "        return self.checksum == self.actual_checksum\n",
    "    \n",
    "    @property\n",
    "    def decrypted_name(self):\n",
    "        def decrypt_letter(letter):\n",
    "            if letter == '-':\n",
    "                return ' '\n",
    "            if letter in string.ascii_lowercase:\n",
    "                return string.ascii_lowercase[(string.ascii_lowercase.index(letter) + self.sector_id) % 26]\n",
    "            return ''\n",
    "        return ''.join(decrypt_letter(letter) for letter in self.name)"
   ]
  },
  {
   "cell_type": "code",
   "execution_count": 4,
   "metadata": {},
   "outputs": [],
   "source": [
    "def room_from_input_line(line):\n",
    "    parts = line.split('-')\n",
    "    words, data = parts[:-1], parts[-1].split('[')\n",
    "    return Room(\n",
    "        name='-'.join(words),\n",
    "        sector_id=int(data[0]),\n",
    "        checksum=data[1][:-1]\n",
    "    )"
   ]
  },
  {
   "cell_type": "code",
   "execution_count": 5,
   "metadata": {},
   "outputs": [],
   "source": [
    "def total_sectorids_of_real_rooms(rooms):\n",
    "    return sum(room.sector_id for room in rooms if room.is_real)"
   ]
  },
  {
   "cell_type": "code",
   "execution_count": 6,
   "metadata": {},
   "outputs": [],
   "source": [
    "def find_room(rooms, search):\n",
    "    found = [room for room in rooms if search in room.decrypted_name]\n",
    "    if found:\n",
    "        return found[0]"
   ]
  },
  {
   "cell_type": "code",
   "execution_count": 7,
   "metadata": {},
   "outputs": [],
   "source": [
    "rooms = [room_from_input_line(line) for line in data.split('\\n')]"
   ]
  },
  {
   "cell_type": "code",
   "execution_count": 8,
   "metadata": {},
   "outputs": [
    {
     "name": "stdout",
     "output_type": "stream",
     "text": [
      "Part 1: 173787\n",
      "Part 2: 548\n"
     ]
    }
   ],
   "source": [
    "p1 = total_sectorids_of_real_rooms(rooms)\n",
    "print('Part 1: {}'.format(p1))\n",
    "p2 = find_room(rooms, 'northpole').sector_id\n",
    "print('Part 2: {}'.format(p2))"
   ]
  }
 ],
 "metadata": {
  "kernelspec": {
   "display_name": "Python 3",
   "language": "python",
   "name": "python3"
  },
  "language_info": {
   "codemirror_mode": {
    "name": "ipython",
    "version": 3
   },
   "file_extension": ".py",
   "mimetype": "text/x-python",
   "name": "python",
   "nbconvert_exporter": "python",
   "pygments_lexer": "ipython3",
   "version": "3.8.5"
  }
 },
 "nbformat": 4,
 "nbformat_minor": 4
}
