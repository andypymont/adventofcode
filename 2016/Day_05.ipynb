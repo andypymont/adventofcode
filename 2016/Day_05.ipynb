{
 "cells": [
  {
   "cell_type": "markdown",
   "metadata": {},
   "source": [
    "# Day 5\n",
    "https://adventofcode.com/2016/day/5"
   ]
  },
  {
   "cell_type": "code",
   "execution_count": 1,
   "metadata": {},
   "outputs": [],
   "source": [
    "import aocd\n",
    "data = aocd.get_data(year=2016, day=5)"
   ]
  },
  {
   "cell_type": "code",
   "execution_count": 2,
   "metadata": {},
   "outputs": [],
   "source": [
    "from hashlib import md5\n",
    "from functools import lru_cache"
   ]
  },
  {
   "cell_type": "code",
   "execution_count": 3,
   "metadata": {},
   "outputs": [],
   "source": [
    "@lru_cache\n",
    "def md5hash(door, ix):\n",
    "    return md5((door + str(ix)).encode('utf-8')).hexdigest()"
   ]
  },
  {
   "cell_type": "code",
   "execution_count": 4,
   "metadata": {},
   "outputs": [],
   "source": [
    "def create_password(door):\n",
    "    password = ''\n",
    "    ix = 0\n",
    "    while len(password) < 8:\n",
    "        hsh = md5hash(door, ix)\n",
    "        if hsh[:5] == '00000':\n",
    "            password += hsh[5]\n",
    "        ix += 1\n",
    "    return password"
   ]
  },
  {
   "cell_type": "code",
   "execution_count": 5,
   "metadata": {},
   "outputs": [],
   "source": [
    "def create_password2(door):\n",
    "    password = ['z', 'z', 'z', 'z', 'z', 'z', 'z', 'z']\n",
    "    ix = 0\n",
    "    while sum(1 for digit in password if digit == 'z') > 0:\n",
    "        hsh = md5hash(door, ix)\n",
    "        if hsh[:5] == '00000':\n",
    "            try:\n",
    "                digit = int(hsh[5])\n",
    "            except ValueError:\n",
    "                digit = 8\n",
    "            if digit <= 7 and password[digit] == 'z':\n",
    "                password[digit] = hsh[6]\n",
    "        ix += 1\n",
    "    return ''.join(password)"
   ]
  },
  {
   "cell_type": "code",
   "execution_count": 6,
   "metadata": {},
   "outputs": [
    {
     "name": "stdout",
     "output_type": "stream",
     "text": [
      "Part 1: 1a3099aa\n",
      "Part 2: 694190cd\n"
     ]
    }
   ],
   "source": [
    "p1 = create_password(data)\n",
    "print('Part 1: {}'.format(p1))\n",
    "p2 = create_password2(data)\n",
    "print('Part 2: {}'.format(p2))"
   ]
  }
 ],
 "metadata": {
  "kernelspec": {
   "display_name": "Python 3",
   "language": "python",
   "name": "python3"
  },
  "language_info": {
   "codemirror_mode": {
    "name": "ipython",
    "version": 3
   },
   "file_extension": ".py",
   "mimetype": "text/x-python",
   "name": "python",
   "nbconvert_exporter": "python",
   "pygments_lexer": "ipython3",
   "version": "3.8.5"
  }
 },
 "nbformat": 4,
 "nbformat_minor": 4
}
