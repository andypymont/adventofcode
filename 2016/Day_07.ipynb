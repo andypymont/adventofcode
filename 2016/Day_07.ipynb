{
 "cells": [
  {
   "cell_type": "markdown",
   "metadata": {},
   "source": [
    "# Day 7\n",
    "https://adventofcode.com/2016/day/7"
   ]
  },
  {
   "cell_type": "code",
   "execution_count": 1,
   "metadata": {},
   "outputs": [],
   "source": [
    "import aocd\n",
    "data = aocd.get_data(year=2016, day=7)"
   ]
  },
  {
   "cell_type": "code",
   "execution_count": 2,
   "metadata": {},
   "outputs": [],
   "source": [
    "from dataclasses import dataclass\n",
    "import re"
   ]
  },
  {
   "cell_type": "code",
   "execution_count": 3,
   "metadata": {},
   "outputs": [],
   "source": [
    "re_hypernet = re.compile(r'(\\[\\w+\\])')\n",
    "re_abba = re.compile(r'(\\w)((?!\\1)\\w)(\\2)(\\1)')\n",
    "re_aba = re.compile(r'(\\w)((?!\\1)\\w)(\\1)')"
   ]
  },
  {
   "cell_type": "code",
   "execution_count": 4,
   "metadata": {},
   "outputs": [],
   "source": [
    "def findall(regex, text):\n",
    "    \"\"\"Emulate regex.findall(text), but with support for overlapping groups.\"\"\"\n",
    "    reported = set()\n",
    "    pos = 0\n",
    "    while pos < len(text):\n",
    "        match = regex.search(text, pos)\n",
    "        if match:\n",
    "            if match.start() not in reported:\n",
    "                yield match.groups()\n",
    "                reported.add(match.start())\n",
    "        pos += 1"
   ]
  },
  {
   "cell_type": "code",
   "execution_count": 5,
   "metadata": {},
   "outputs": [],
   "source": [
    "def reverse_aba(aba):\n",
    "    return aba[1] + aba[0] + aba[1]"
   ]
  },
  {
   "cell_type": "code",
   "execution_count": 6,
   "metadata": {},
   "outputs": [],
   "source": [
    "@dataclass(frozen=True)\n",
    "class Hostname():\n",
    "    text: str\n",
    "    \n",
    "    @property\n",
    "    def hypernet(self):\n",
    "        return [substr for substr in re_hypernet.split(self.text) if substr[0] == '[']\n",
    "    \n",
    "    @property\n",
    "    def supernet(self):\n",
    "        return [substr for substr in re_hypernet.split(self.text) if substr[0] != '[']\n",
    "    \n",
    "    @property\n",
    "    def supports_tls(self):\n",
    "        hypernet_abbas = sum(1 for phrase in self.hypernet if re_abba.search(phrase) is not None)\n",
    "        supernet_abbas = sum(1 for phrase in self.supernet if re_abba.search(phrase) is not None)\n",
    "        return hypernet_abbas == 0 and supernet_abbas > 0\n",
    "    \n",
    "    @property\n",
    "    def supports_ssl(self):\n",
    "        hypernet_abas = [''.join(aba) for aba in findall(re_aba, '|'.join(self.hypernet))]\n",
    "        supernet_abas = [''.join(aba) for aba in findall(re_aba, '|'.join(self.supernet))]\n",
    "        return sum(1 for aba in supernet_abas if reverse_aba(aba) in hypernet_abas) > 0"
   ]
  },
  {
   "cell_type": "code",
   "execution_count": 7,
   "metadata": {},
   "outputs": [
    {
     "name": "stdout",
     "output_type": "stream",
     "text": [
      "Part 1: 105\n",
      "Part 2: 258\n"
     ]
    }
   ],
   "source": [
    "hostnames = [Hostname(line) for line in data.split('\\n')]\n",
    "p1 = sum(1 for host in hostnames if host.supports_tls)\n",
    "print('Part 1: {}'.format(p1))\n",
    "p2 = sum(1 for host in hostnames if host.supports_ssl)\n",
    "print('Part 2: {}'.format(p2))"
   ]
  }
 ],
 "metadata": {
  "kernelspec": {
   "display_name": "Python 3",
   "language": "python",
   "name": "python3"
  },
  "language_info": {
   "codemirror_mode": {
    "name": "ipython",
    "version": 3
   },
   "file_extension": ".py",
   "mimetype": "text/x-python",
   "name": "python",
   "nbconvert_exporter": "python",
   "pygments_lexer": "ipython3",
   "version": "3.8.5"
  }
 },
 "nbformat": 4,
 "nbformat_minor": 4
}
