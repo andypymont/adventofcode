{
 "cells": [
  {
   "cell_type": "markdown",
   "metadata": {},
   "source": [
    "# Day 8\n",
    "https://adventofcode.com/2016/day/8"
   ]
  },
  {
   "cell_type": "code",
   "execution_count": 1,
   "metadata": {},
   "outputs": [],
   "source": [
    "import aocd\n",
    "data = aocd.get_data(year=2016, day=8)"
   ]
  },
  {
   "cell_type": "code",
   "execution_count": 2,
   "metadata": {},
   "outputs": [],
   "source": [
    "import numpy as np\n",
    "import re"
   ]
  },
  {
   "cell_type": "code",
   "execution_count": 3,
   "metadata": {},
   "outputs": [],
   "source": [
    "def blank_screen():\n",
    "    return np.array([[0 for col in range(50)] for row in range(6)], int)"
   ]
  },
  {
   "cell_type": "code",
   "execution_count": 4,
   "metadata": {},
   "outputs": [],
   "source": [
    "def rotate_row(screen, rotate_row, by):\n",
    "    return np.array([np.roll(row, by) if r == rotate_row else row for r, row in enumerate(screen)])"
   ]
  },
  {
   "cell_type": "code",
   "execution_count": 5,
   "metadata": {},
   "outputs": [],
   "source": [
    "def rotate_col(screen, rotate_col, by):\n",
    "    rotated = np.rot90(screen, axes=(1, 0))\n",
    "    rolled = rotate_row(rotated, rotate_col, -by)\n",
    "    return np.rot90(rolled, axes=(0, 1))"
   ]
  },
  {
   "cell_type": "code",
   "execution_count": 6,
   "metadata": {},
   "outputs": [],
   "source": [
    "def rect(screen, width, height):\n",
    "    return np.array([[1 if c < width and r < height else val for (c, val) in enumerate(row)]\n",
    "                     for (r, row) in enumerate(screen)])"
   ]
  },
  {
   "cell_type": "code",
   "execution_count": 7,
   "metadata": {},
   "outputs": [],
   "source": [
    "commands = [(re.compile(regex), func) for (regex, func) in (\n",
    "    (r'rect (\\d+)x(\\d+)', rect),\n",
    "    (r'rotate row y=(\\d+) by (\\d+)', rotate_row),\n",
    "    (r'rotate column x=(\\d+) by (\\d+)', rotate_col),\n",
    ")]"
   ]
  },
  {
   "cell_type": "code",
   "execution_count": 8,
   "metadata": {},
   "outputs": [],
   "source": [
    "def run(text):\n",
    "    screen = blank_screen()\n",
    "    for instruction in text.split('\\n'):\n",
    "        for (regex, func) in commands:\n",
    "            search = regex.search(instruction)\n",
    "            if search:\n",
    "                screen = func(screen, *[int(arg) for arg in search.groups()])\n",
    "    return screen"
   ]
  },
  {
   "cell_type": "code",
   "execution_count": 9,
   "metadata": {},
   "outputs": [],
   "source": [
    "def display(screen):\n",
    "    return '\\n'.join(''.join('■' if char == 1 else ' ' for char in line) for line in screen)"
   ]
  },
  {
   "cell_type": "code",
   "execution_count": 10,
   "metadata": {},
   "outputs": [
    {
     "name": "stdout",
     "output_type": "stream",
     "text": [
      "Part 1: 115\n",
      "Part 2:\n",
      "■■■■ ■■■■ ■■■■ ■   ■■  ■ ■■■■ ■■■  ■■■■  ■■■   ■■ \n",
      "■    ■    ■    ■   ■■ ■  ■    ■  ■ ■      ■     ■ \n",
      "■■■  ■■■  ■■■   ■ ■ ■■   ■■■  ■  ■ ■■■    ■     ■ \n",
      "■    ■    ■      ■  ■ ■  ■    ■■■  ■      ■     ■ \n",
      "■    ■    ■      ■  ■ ■  ■    ■ ■  ■      ■  ■  ■ \n",
      "■■■■ ■    ■■■■   ■  ■  ■ ■    ■  ■ ■     ■■■  ■■  \n"
     ]
    }
   ],
   "source": [
    "screen = run(data)\n",
    "p1 = screen.sum()\n",
    "print('Part 1: {}'.format(p1))\n",
    "print('Part 2:')\n",
    "print(display(screen))"
   ]
  }
 ],
 "metadata": {
  "kernelspec": {
   "display_name": "Python 3",
   "language": "python",
   "name": "python3"
  },
  "language_info": {
   "codemirror_mode": {
    "name": "ipython",
    "version": 3
   },
   "file_extension": ".py",
   "mimetype": "text/x-python",
   "name": "python",
   "nbconvert_exporter": "python",
   "pygments_lexer": "ipython3",
   "version": "3.8.5"
  }
 },
 "nbformat": 4,
 "nbformat_minor": 4
}
