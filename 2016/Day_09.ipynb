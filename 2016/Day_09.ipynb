{
 "cells": [
  {
   "cell_type": "markdown",
   "metadata": {},
   "source": [
    "# Day 9\n",
    "https://adventofcode.com/2016/day/9"
   ]
  },
  {
   "cell_type": "code",
   "execution_count": 1,
   "metadata": {},
   "outputs": [],
   "source": [
    "import aocd\n",
    "data = aocd.get_data(year=2016, day=9)"
   ]
  },
  {
   "cell_type": "code",
   "execution_count": 3,
   "metadata": {},
   "outputs": [],
   "source": [
    "def decompressed_len(text, nested_tags=False):\n",
    "    pos = in_tag = capture = 0\n",
    "    lengths = [1]*len(text)\n",
    "    \n",
    "    while pos < len(text):\n",
    "        if capture > 0 and not nested_tags:\n",
    "            capture -= 1\n",
    "        elif text[pos] == '(':\n",
    "            in_tag, tag = True, ''\n",
    "        \n",
    "        if in_tag:\n",
    "            lengths[pos] = 0\n",
    "            tag += text[pos]\n",
    "            if text[pos] == ')':\n",
    "                in_tag = False\n",
    "                capture, repeat = [int(x) for x in tag[1:-1].lower().split('x')]\n",
    "                for offset in range(capture):\n",
    "                    lengths[pos + 1 + offset] *= repeat\n",
    "        \n",
    "        pos += 1\n",
    "    \n",
    "    return sum(lengths)"
   ]
  },
  {
   "cell_type": "code",
   "execution_count": 4,
   "metadata": {},
   "outputs": [
    {
     "name": "stdout",
     "output_type": "stream",
     "text": [
      "Part 1: 107035\n",
      "Part 2: 11451628995\n"
     ]
    }
   ],
   "source": [
    "p1 = decompressed_len(data)\n",
    "print('Part 1: {}'.format(p1))\n",
    "p2 = decompressed_len(data, nested_tags=True)\n",
    "print('Part 2: {}'.format(p2))"
   ]
  }
 ],
 "metadata": {
  "kernelspec": {
   "display_name": "Python 3",
   "language": "python",
   "name": "python3"
  },
  "language_info": {
   "codemirror_mode": {
    "name": "ipython",
    "version": 3
   },
   "file_extension": ".py",
   "mimetype": "text/x-python",
   "name": "python",
   "nbconvert_exporter": "python",
   "pygments_lexer": "ipython3",
   "version": "3.8.5"
  }
 },
 "nbformat": 4,
 "nbformat_minor": 4
}
