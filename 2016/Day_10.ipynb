{
 "cells": [
  {
   "cell_type": "markdown",
   "metadata": {},
   "source": [
    "# Day 10\n",
    "https://adventofcode.com/2016/day/10"
   ]
  },
  {
   "cell_type": "code",
   "execution_count": 1,
   "metadata": {},
   "outputs": [],
   "source": [
    "import aocd\n",
    "data = aocd.get_data(year=2016, day=10)"
   ]
  },
  {
   "cell_type": "code",
   "execution_count": 2,
   "metadata": {},
   "outputs": [],
   "source": [
    "from dataclasses import dataclass\n",
    "from typing import Dict, List\n",
    "import re"
   ]
  },
  {
   "cell_type": "code",
   "execution_count": 3,
   "metadata": {},
   "outputs": [],
   "source": [
    "re_value = re.compile(r'value (\\d+) goes to (\\w+) (\\d+)')\n",
    "re_robot = re.compile(r'bot (\\d+) gives low to (\\w+) (\\d+) and high to (\\w+) (\\d+)')"
   ]
  },
  {
   "cell_type": "code",
   "execution_count": 4,
   "metadata": {},
   "outputs": [],
   "source": [
    "@dataclass(frozen=True)\n",
    "class Target():\n",
    "    genre: str\n",
    "    number: int"
   ]
  },
  {
   "cell_type": "code",
   "execution_count": 5,
   "metadata": {},
   "outputs": [],
   "source": [
    "@dataclass\n",
    "class Robot():\n",
    "    holding: List[int]\n",
    "    give_low: Target\n",
    "    give_high: Target\n",
    "    \n",
    "    def __init__(self, low_genre, low_number, high_genre, high_number):\n",
    "        self.holding = []\n",
    "        self.give_low = Target(low_genre, int(low_number))\n",
    "        self.give_high = Target(high_genre, int(high_number))\n",
    "\n",
    "    def add(self, value, callback):\n",
    "        self.holding.append(value)\n",
    "        if len(self.holding) == 2:\n",
    "            callback(self.give_low, min(self.holding))\n",
    "            callback(self.give_high, max(self.holding))"
   ]
  },
  {
   "cell_type": "code",
   "execution_count": 6,
   "metadata": {},
   "outputs": [],
   "source": [
    "@dataclass\n",
    "class Environment:\n",
    "    robots: Dict[int, Robot]\n",
    "    outputs: Dict[int, int]\n",
    "    \n",
    "    def __init__(self, instructions):\n",
    "        self.robots = {}\n",
    "        self.outputs = {}\n",
    "        \n",
    "        for robot_definition in re_robot.findall(instructions):\n",
    "            bot, args = robot_definition[0], robot_definition[1:]\n",
    "            self.robots[int(bot)] = Robot(*args)\n",
    "        \n",
    "        for (initial_value, to_genre, to_number) in re_value.findall(instructions):\n",
    "            target = Target(to_genre, int(to_number))\n",
    "            self.deliver(target, int(initial_value))\n",
    "    \n",
    "    def deliver(self, target, value):\n",
    "        if target.genre == 'bot':\n",
    "            self.robots[target.number].add(value, self.deliver)\n",
    "        elif target.genre == 'output':\n",
    "            self.outputs[target.number] = value\n",
    "    \n",
    "    def find_robot_holding(self, search):\n",
    "        inventory = set(search)\n",
    "        for number, bot in self.robots.items():\n",
    "            if set(bot.holding) == inventory:\n",
    "                return number"
   ]
  },
  {
   "cell_type": "code",
   "execution_count": 7,
   "metadata": {},
   "outputs": [
    {
     "name": "stdout",
     "output_type": "stream",
     "text": [
      "Part 1: 93\n",
      "Part 2: 47101\n"
     ]
    }
   ],
   "source": [
    "env = Environment(data)\n",
    "p1 = env.find_robot_holding((61, 17))\n",
    "print('Part 1: {}'.format(p1))\n",
    "p2 = env.outputs[0] * env.outputs[1] * env.outputs[2]\n",
    "print('Part 2: {}'.format(p2))"
   ]
  }
 ],
 "metadata": {
  "kernelspec": {
   "display_name": "Python 3",
   "language": "python",
   "name": "python3"
  },
  "language_info": {
   "codemirror_mode": {
    "name": "ipython",
    "version": 3
   },
   "file_extension": ".py",
   "mimetype": "text/x-python",
   "name": "python",
   "nbconvert_exporter": "python",
   "pygments_lexer": "ipython3",
   "version": "3.8.5"
  }
 },
 "nbformat": 4,
 "nbformat_minor": 4
}
