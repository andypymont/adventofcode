{
 "cells": [
  {
   "cell_type": "markdown",
   "metadata": {},
   "source": [
    "# Day 11\n",
    "https://adventofcode.com/2016/day/11"
   ]
  },
  {
   "cell_type": "code",
   "execution_count": 3,
   "metadata": {},
   "outputs": [],
   "source": [
    "import aocd\n",
    "data = aocd.get_data(year=2016, day=11)"
   ]
  },
  {
   "cell_type": "code",
   "execution_count": 14,
   "metadata": {},
   "outputs": [],
   "source": [
    "from collections import defaultdict, deque\n",
    "from itertools import chain, combinations\n",
    "import re"
   ]
  },
  {
   "cell_type": "code",
   "execution_count": 6,
   "metadata": {},
   "outputs": [],
   "source": [
    "chip_descriptions = re.compile(r'(?:a|an) (\\w+)-compatible microchip')\n",
    "gen_descriptions = re.compile(r'(?:a|an) (\\w+) generator')"
   ]
  },
  {
   "cell_type": "code",
   "execution_count": 16,
   "metadata": {},
   "outputs": [],
   "source": [
    "class GameState():\n",
    "    \n",
    "    def __init__(self, elevator, items):\n",
    "        self.elevator = elevator\n",
    "        items = list(items)\n",
    "        item_pairs = (items[i:i+2] for i in range(0, len(items), 2))\n",
    "        self.items = tuple(item for pair in sorted(item_pairs) for item in pair)\n",
    "    \n",
    "    def __eq__(self, other):\n",
    "        return self.elevator == other.elevator and self.items == other.items\n",
    "    \n",
    "    def __hash__(self):\n",
    "        return hash((self.elevator, self.items))\n",
    "    \n",
    "    def __repr__(self):\n",
    "        return 'GameState(elevator={}, items={})'.format(self.elevator, repr(self.items))\n",
    "    \n",
    "    def is_legal(self):\n",
    "        generators = tuple(item for n, item in enumerate(self.items) if n % 2 == 0)\n",
    "        microchips = tuple(item for n, item in enumerate(self.items) if n % 2 == 1)\n",
    "        \n",
    "        for n, microchip in enumerate(microchips):\n",
    "            if generators[n] != microchip and sum(1 for generator in generators if generator == microchip) > 0:\n",
    "                return False\n",
    "        \n",
    "        return True\n",
    "    \n",
    "    def apply_move(self, direction, itemindices):\n",
    "        return GameState(self.elevator + direction,\n",
    "                         (item + (direction*int(index in itemindices)) for index, item in enumerate(self.items)))\n",
    "    \n",
    "    def all_possible_moves(self):\n",
    "        items_at_elevator = [itemno for itemno, floor in enumerate(self.items) if floor == self.elevator]\n",
    "        carry_combos = [(item,) for item in items_at_elevator] + [combo for combo in combinations(items_at_elevator, 2)]\n",
    "        \n",
    "        up = down = tuple()\n",
    "        if self.elevator < 3:\n",
    "            up = (self.apply_move(+1, combo) for combo in carry_combos)\n",
    "        if self.elevator > 0:\n",
    "            down = (self.apply_move(-1, combo) for combo in carry_combos)\n",
    "        \n",
    "        return chain(up, down)\n",
    "    \n",
    "    @classmethod\n",
    "    def from_input(cls, input):\n",
    "        elements = defaultdict(dict)\n",
    "\n",
    "        for floor, line in enumerate(input.split('\\n')):\n",
    "            for chipdesc in chip_descriptions.finditer(line):\n",
    "                elements[chipdesc.group(1)]['chip'] = floor\n",
    "            for gendesc in gen_descriptions.finditer(line):\n",
    "                elements[gendesc.group(1)]['generator'] = floor\n",
    "\n",
    "        return cls(0, chain.from_iterable((element['generator'], element['chip'])\n",
    "                                          for name, element in elements.items()))\n"
   ]
  },
  {
   "cell_type": "code",
   "execution_count": 12,
   "metadata": {},
   "outputs": [],
   "source": [
    "def find_shortest_solution(start):\n",
    "    finish = GameState(3, [3 for item in start.items])\n",
    "    visited = set()\n",
    "    search = deque([(0, start)])\n",
    "    \n",
    "    while search:\n",
    "        moves, state = search.popleft()\n",
    "        \n",
    "        if state == finish:\n",
    "            return moves\n",
    "        elif state not in visited:\n",
    "            search.extend((moves+1, newstate) for newstate in state.all_possible_moves() if newstate.is_legal())\n",
    "            visited.add(state)"
   ]
  },
  {
   "cell_type": "code",
   "execution_count": 18,
   "metadata": {},
   "outputs": [
    {
     "name": "stdout",
     "output_type": "stream",
     "text": [
      "Part 1: 37\n",
      "Part 2: 61\n"
     ]
    }
   ],
   "source": [
    "p1 = find_shortest_solution(GameState.from_input(data))\n",
    "print('Part 1: {}'.format(p1))\n",
    "p2 = find_shortest_solution(GameState(0, chain(start.items, (0, 0, 0, 0))))\n",
    "print('Part 2: {}'.format(p2))"
   ]
  }
 ],
 "metadata": {
  "kernelspec": {
   "display_name": "Python 3",
   "language": "python",
   "name": "python3"
  },
  "language_info": {
   "codemirror_mode": {
    "name": "ipython",
    "version": 3
   },
   "file_extension": ".py",
   "mimetype": "text/x-python",
   "name": "python",
   "nbconvert_exporter": "python",
   "pygments_lexer": "ipython3",
   "version": "3.8.5"
  }
 },
 "nbformat": 4,
 "nbformat_minor": 4
}
