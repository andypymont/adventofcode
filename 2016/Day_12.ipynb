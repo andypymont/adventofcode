{
 "cells": [
  {
   "cell_type": "markdown",
   "metadata": {},
   "source": [
    "# Day 12\n",
    "https://adventofcode.com/2016/day/12"
   ]
  },
  {
   "cell_type": "code",
   "execution_count": 1,
   "metadata": {},
   "outputs": [],
   "source": [
    "import aocd\n",
    "data = aocd.get_data(year=2016, day=12)"
   ]
  },
  {
   "cell_type": "code",
   "execution_count": 2,
   "metadata": {},
   "outputs": [],
   "source": [
    "from collections import deque"
   ]
  },
  {
   "cell_type": "code",
   "execution_count": 3,
   "metadata": {},
   "outputs": [],
   "source": [
    "def get(registers, source):\n",
    "    if source in registers:\n",
    "        return registers[source]\n",
    "    return int(source)"
   ]
  },
  {
   "cell_type": "code",
   "execution_count": 4,
   "metadata": {},
   "outputs": [],
   "source": [
    "def cpy(registers, source, dest):\n",
    "    registers[dest] = get(registers, source)"
   ]
  },
  {
   "cell_type": "code",
   "execution_count": 5,
   "metadata": {},
   "outputs": [],
   "source": [
    "def inc(registers, register):\n",
    "    registers[register] += 1"
   ]
  },
  {
   "cell_type": "code",
   "execution_count": 6,
   "metadata": {},
   "outputs": [],
   "source": [
    "def dec(registers, register):\n",
    "    registers[register] -= 1"
   ]
  },
  {
   "cell_type": "code",
   "execution_count": 7,
   "metadata": {},
   "outputs": [],
   "source": [
    "def add(registers, source, dest):\n",
    "    registers[dest] = get(registers, dest) + get(registers, source)"
   ]
  },
  {
   "cell_type": "code",
   "execution_count": 8,
   "metadata": {},
   "outputs": [],
   "source": [
    "def patched_instructions(instructions):\n",
    "    if len(instructions) == 3:\n",
    "        if (instructions[0][0] == 'inc' and\n",
    "            instructions[1][0] == 'dec' and\n",
    "            instructions[0][1] != instructions[1][1] and\n",
    "            instructions[2][0] == 'jnz' and\n",
    "            instructions[2][1] == instructions[1][1] and\n",
    "            instructions[2][2] == '-2'):\n",
    "            return [\n",
    "                ['add', instructions[1][1], instructions[0][1]],\n",
    "                ['cpy', '0', instructions[1][1]],\n",
    "                ['jnz', '0', '0']\n",
    "            ]\n",
    "    return []"
   ]
  },
  {
   "cell_type": "code",
   "execution_count": 9,
   "metadata": {},
   "outputs": [],
   "source": [
    "def parse_input(text, **kwargs):\n",
    "    registers = dict(a=0, b=0, c=0)\n",
    "    registers.update(**kwargs)\n",
    "    instructions = [instruction.split() for instruction in text.split('\\n')]\n",
    "    current = 0\n",
    "    do = dict(cpy=cpy, inc=inc, dec=dec, add=add)\n",
    "    replaced_instructions = deque()\n",
    "    \n",
    "    while current < len(instructions):\n",
    "        replaced_instructions.extend(patched_instructions(instructions[current:current+3]))\n",
    "        if replaced_instructions:\n",
    "            cmd, *args = replaced_instructions.popleft()\n",
    "        else:\n",
    "            cmd, *args = instructions[current]\n",
    "        \n",
    "        if cmd in do:\n",
    "            do[cmd](registers, *args)\n",
    "        elif cmd == 'jnz':\n",
    "            if get(registers, args[0]) != 0:\n",
    "                current += get(registers, args[1]) - 1\n",
    "        \n",
    "        current += 1\n",
    "    \n",
    "    return registers"
   ]
  },
  {
   "cell_type": "code",
   "execution_count": 10,
   "metadata": {},
   "outputs": [
    {
     "name": "stdout",
     "output_type": "stream",
     "text": [
      "Part 1: 318020\n",
      "Part 2: 9227674\n"
     ]
    }
   ],
   "source": [
    "p1 = parse_input(data).get('a')\n",
    "print('Part 1: {}'.format(p1))\n",
    "p2 = parse_input(data, c=1).get('a')\n",
    "print('Part 2: {}'.format(p2))"
   ]
  }
 ],
 "metadata": {
  "kernelspec": {
   "display_name": "Python 3",
   "language": "python",
   "name": "python3"
  },
  "language_info": {
   "codemirror_mode": {
    "name": "ipython",
    "version": 3
   },
   "file_extension": ".py",
   "mimetype": "text/x-python",
   "name": "python",
   "nbconvert_exporter": "python",
   "pygments_lexer": "ipython3",
   "version": "3.8.5"
  }
 },
 "nbformat": 4,
 "nbformat_minor": 4
}
