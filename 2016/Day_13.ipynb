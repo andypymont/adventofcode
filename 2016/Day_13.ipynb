{
 "cells": [
  {
   "cell_type": "markdown",
   "metadata": {},
   "source": [
    "# Day 13\n",
    "https://adventofcode.com/2016/day/13"
   ]
  },
  {
   "cell_type": "code",
   "execution_count": 1,
   "metadata": {},
   "outputs": [],
   "source": [
    "import aocd\n",
    "data = aocd.get_data(year=2016, day=13)"
   ]
  },
  {
   "cell_type": "code",
   "execution_count": 2,
   "metadata": {},
   "outputs": [],
   "source": [
    "from collections import deque"
   ]
  },
  {
   "cell_type": "code",
   "execution_count": 3,
   "metadata": {},
   "outputs": [],
   "source": [
    "def is_wall(maze, x, y):\n",
    "    return x < 0 or y < 0 or format((x*x) + (3*x) + (2*x*y) + y + (y*y) + maze, 'b').count('1') % 2 == 1"
   ]
  },
  {
   "cell_type": "code",
   "execution_count": 4,
   "metadata": {},
   "outputs": [],
   "source": [
    "class Maze():\n",
    "    compass = ((0, 1), (1, 0), (0, -1), (-1, 0))\n",
    "    \n",
    "    def __init__(self, number):\n",
    "        self.number = number\n",
    "        self.layout = dict()\n",
    "    \n",
    "    def is_wall(self, x, y):\n",
    "        if (x, y) not in self.layout:\n",
    "            self.layout[(x, y)] = is_wall(self.number, x, y)\n",
    "        return self.layout[(x, y)]\n",
    "    \n",
    "    def accessible_neighbours(self, x, y):\n",
    "        for dx, dy in self.compass:\n",
    "            newx, newy = x+dx, y+dy\n",
    "            if not self.is_wall(newx, newy):\n",
    "                yield (newx, newy)\n",
    "    \n",
    "    def search(self, start, finishtype, finish):\n",
    "        search = deque([(0, start)])\n",
    "        visited = set()\n",
    "        \n",
    "        while search:\n",
    "            dist, (x, y) = search.popleft()\n",
    "            if finishtype == 'location' and (x, y) == finish:\n",
    "                return dist\n",
    "            if finishtype == 'visitable' and dist == finish + 1:\n",
    "                return len(visited)\n",
    "            \n",
    "            if (x, y) not in visited:\n",
    "                visited.add((x, y))\n",
    "                search.extend((dist+1, (newx, newy)) for newx, newy in self.accessible_neighbours(x, y))\n",
    "    \n",
    "    def shortest_path_between(self, start, finish):\n",
    "        return self.search(start, 'location', finish)\n",
    "    \n",
    "    def cells_visitable_in_steps(self, start, steps):\n",
    "        return self.search(start, 'visitable', steps)"
   ]
  },
  {
   "cell_type": "code",
   "execution_count": 5,
   "metadata": {},
   "outputs": [
    {
     "name": "stdout",
     "output_type": "stream",
     "text": [
      "Part 1: 86\n",
      "Part 2: 127\n"
     ]
    }
   ],
   "source": [
    "maze = Maze(int(data))\n",
    "p1 = maze.shortest_path_between((1, 1), (31, 39))\n",
    "print('Part 1: {}'.format(p1))\n",
    "p2 = maze.cells_visitable_in_steps((1, 1), 50)\n",
    "print('Part 2: {}'.format(p2))"
   ]
  }
 ],
 "metadata": {
  "kernelspec": {
   "display_name": "Python 3",
   "language": "python",
   "name": "python3"
  },
  "language_info": {
   "codemirror_mode": {
    "name": "ipython",
    "version": 3
   },
   "file_extension": ".py",
   "mimetype": "text/x-python",
   "name": "python",
   "nbconvert_exporter": "python",
   "pygments_lexer": "ipython3",
   "version": "3.8.5"
  }
 },
 "nbformat": 4,
 "nbformat_minor": 4
}
