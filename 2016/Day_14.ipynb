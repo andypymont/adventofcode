{
 "cells": [
  {
   "cell_type": "markdown",
   "metadata": {},
   "source": [
    "# Day 14\n",
    "https://adventofcode.com/2016/day/14"
   ]
  },
  {
   "cell_type": "code",
   "execution_count": 1,
   "metadata": {},
   "outputs": [],
   "source": [
    "import aocd\n",
    "data = aocd.get_data(year=2016, day=14)"
   ]
  },
  {
   "cell_type": "code",
   "execution_count": 4,
   "metadata": {},
   "outputs": [],
   "source": [
    "from hashlib import md5\n",
    "import re"
   ]
  },
  {
   "cell_type": "code",
   "execution_count": 5,
   "metadata": {},
   "outputs": [],
   "source": [
    "re_threepeats = re.compile(r'(\\w)\\1{2,2}')\n",
    "def first_threepeat(text):\n",
    "    search = re_threepeats.search(text)\n",
    "    if search:\n",
    "        return search.group()[0]"
   ]
  },
  {
   "cell_type": "code",
   "execution_count": 6,
   "metadata": {},
   "outputs": [],
   "source": [
    "def md5hex(text):\n",
    "    return md5(text.encode('utf-8')).hexdigest()"
   ]
  },
  {
   "cell_type": "code",
   "execution_count": 7,
   "metadata": {},
   "outputs": [],
   "source": [
    "def stretched_hash(text):\n",
    "    for i in range(2017):\n",
    "        text = md5hex(text)\n",
    "    return text"
   ]
  },
  {
   "cell_type": "code",
   "execution_count": 11,
   "metadata": {},
   "outputs": [],
   "source": [
    "def find_keys(salt, quantity, stretched=False):\n",
    "    returned = 0\n",
    "    ix = 0\n",
    "    candidates = []\n",
    "    create_hash = stretched_hash if stretched else md5hex\n",
    "    \n",
    "    while returned < quantity:\n",
    "        hsh = create_hash(salt + str(ix))\n",
    "        candidates = [candidate for candidate in candidates if candidate.get('ix', 0) >= (ix - 1000)]\n",
    "        paired = [candidate for candidate in candidates if (candidate.get('char', 'z') * 5) in hsh]\n",
    "        \n",
    "        if paired:\n",
    "            for candidate in paired:\n",
    "                candidate['matched'] = ix\n",
    "        \n",
    "        char = first_threepeat(hsh)\n",
    "        if char:\n",
    "            candidates.append(dict(hash=hsh, char=char, ix=ix, matched=-1))\n",
    "        \n",
    "        if len(candidates) > 0 and candidates[0].get('matched', -1) > -1:\n",
    "            candidate, *candidates = candidates\n",
    "            yield candidate\n",
    "            returned += 1\n",
    "        \n",
    "        ix += 1"
   ]
  },
  {
   "cell_type": "code",
   "execution_count": 12,
   "metadata": {},
   "outputs": [
    {
     "name": "stdout",
     "output_type": "stream",
     "text": [
      "Part 1: 15168\n",
      "Part 2: 20864\n"
     ]
    }
   ],
   "source": [
    "for p1 in find_keys(data, 64):\n",
    "    pass\n",
    "print('Part 1: {}'.format(p1['ix']))\n",
    "\n",
    "for p2 in find_keys(data, 64, True):\n",
    "    pass\n",
    "print('Part 2: {}'.format(p2['ix']))"
   ]
  }
 ],
 "metadata": {
  "kernelspec": {
   "display_name": "Python 3",
   "language": "python",
   "name": "python3"
  },
  "language_info": {
   "codemirror_mode": {
    "name": "ipython",
    "version": 3
   },
   "file_extension": ".py",
   "mimetype": "text/x-python",
   "name": "python",
   "nbconvert_exporter": "python",
   "pygments_lexer": "ipython3",
   "version": "3.8.5"
  }
 },
 "nbformat": 4,
 "nbformat_minor": 4
}
