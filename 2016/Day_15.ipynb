{
 "cells": [
  {
   "cell_type": "markdown",
   "metadata": {},
   "source": [
    "# Day 15\n",
    "https://adventofcode.com/2016/day/15"
   ]
  },
  {
   "cell_type": "code",
   "execution_count": 1,
   "metadata": {},
   "outputs": [],
   "source": [
    "import aocd\n",
    "data = aocd.get_data(year=2016, day=15)"
   ]
  },
  {
   "cell_type": "code",
   "execution_count": 2,
   "metadata": {},
   "outputs": [],
   "source": [
    "from dataclasses import dataclass\n",
    "import re"
   ]
  },
  {
   "cell_type": "code",
   "execution_count": 3,
   "metadata": {},
   "outputs": [],
   "source": [
    "@dataclass(frozen=True)\n",
    "class Disc():\n",
    "    number: int\n",
    "    positions: int\n",
    "    initial: int\n",
    "    \n",
    "    def position(self, drop_time):\n",
    "        return (self.initial + drop_time + self.number) % self.positions"
   ]
  },
  {
   "cell_type": "code",
   "execution_count": 4,
   "metadata": {},
   "outputs": [],
   "source": [
    "re_disc = re.compile(r'Disc #(\\d+) has (\\d+) positions; at time=0, it is at position (\\d+).')\n",
    "def read_discs(text):\n",
    "    return [Disc(int(n), int(p), int(i)) for (n, p, i) in re_disc.findall(text)]"
   ]
  },
  {
   "cell_type": "code",
   "execution_count": 5,
   "metadata": {},
   "outputs": [],
   "source": [
    "def first_successful_time(discs, begin=0):\n",
    "    time = begin\n",
    "    while not all(disc.position(time) == 0 for disc in discs):\n",
    "        time += 1\n",
    "    return time"
   ]
  },
  {
   "cell_type": "code",
   "execution_count": 6,
   "metadata": {},
   "outputs": [
    {
     "name": "stdout",
     "output_type": "stream",
     "text": [
      "Part 1: 122318\n",
      "Part 2: 3208583\n"
     ]
    }
   ],
   "source": [
    "all_discs = read_discs(data)\n",
    "p1 = first_successful_time(all_discs)\n",
    "print('Part 1: {}'.format(p1))\n",
    "\n",
    "all_discs.append(Disc(number=max(d.number for d in all_discs)+1, positions=11, initial=0))\n",
    "p2 = first_successful_time(all_discs, p1)\n",
    "print('Part 2: {}'.format(p2))"
   ]
  }
 ],
 "metadata": {
  "kernelspec": {
   "display_name": "Python 3",
   "language": "python",
   "name": "python3"
  },
  "language_info": {
   "codemirror_mode": {
    "name": "ipython",
    "version": 3
   },
   "file_extension": ".py",
   "mimetype": "text/x-python",
   "name": "python",
   "nbconvert_exporter": "python",
   "pygments_lexer": "ipython3",
   "version": "3.8.5"
  }
 },
 "nbformat": 4,
 "nbformat_minor": 4
}
