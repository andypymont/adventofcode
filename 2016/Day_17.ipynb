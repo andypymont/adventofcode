{
 "cells": [
  {
   "cell_type": "markdown",
   "metadata": {},
   "source": [
    "# Day 17\n",
    "https://adventofcode.com/2016/day/17"
   ]
  },
  {
   "cell_type": "code",
   "execution_count": 1,
   "metadata": {},
   "outputs": [],
   "source": [
    "import aocd\n",
    "data = aocd.get_data(year=2016, day=17)"
   ]
  },
  {
   "cell_type": "code",
   "execution_count": 2,
   "metadata": {},
   "outputs": [],
   "source": [
    "from dataclasses import dataclass\n",
    "from collections import deque\n",
    "from hashlib import md5"
   ]
  },
  {
   "cell_type": "code",
   "execution_count": 3,
   "metadata": {},
   "outputs": [],
   "source": [
    "@dataclass(frozen=True)\n",
    "class Point():\n",
    "    x: int\n",
    "    y: int\n",
    "    \n",
    "    def __add__(self, other):\n",
    "        return Point(self.x+other.x, self.y+other.y)\n",
    "    \n",
    "    @property\n",
    "    def within_maze(self):\n",
    "        return 0 < self.x <= 4 and 0 < self.y <= 4"
   ]
  },
  {
   "cell_type": "code",
   "execution_count": 4,
   "metadata": {},
   "outputs": [],
   "source": [
    "@dataclass(frozen=True)\n",
    "class Journey():\n",
    "    passcode: str\n",
    "    path: str\n",
    "    location: Point\n",
    "    \n",
    "    def __len__(self):\n",
    "        return len(self.path)\n",
    "        \n",
    "    @property\n",
    "    def md5(self):\n",
    "        return md5((self.passcode+self.path).encode('utf-8')).hexdigest()\n",
    "    \n",
    "    def all_possible_moves(self):\n",
    "        for char, (direction, vector) in zip(self.md5, [\n",
    "            ('U', Point(x=0, y=-1)),\n",
    "            ('D', Point(x=0, y=1)),\n",
    "            ('L', Point(x=-1, y=0)),\n",
    "            ('R', Point(x=1, y=0)),\n",
    "        ]):\n",
    "            neighbour = self.location + vector\n",
    "            if neighbour.within_maze and (char in 'bcdef'):\n",
    "                yield Journey(self.passcode, self.path + direction, neighbour)"
   ]
  },
  {
   "cell_type": "code",
   "execution_count": 5,
   "metadata": {},
   "outputs": [],
   "source": [
    "def find_paths(passcode):\n",
    "    destination = Point(4, 4)\n",
    "    initial = Journey(passcode, '', Point(1, 1))\n",
    "    search = deque([initial])\n",
    "    \n",
    "    while search:\n",
    "        candidate = search.popleft()\n",
    "        if candidate.location == destination:\n",
    "            yield candidate.path\n",
    "        else:\n",
    "            search.extend(candidate.all_possible_moves())"
   ]
  },
  {
   "cell_type": "code",
   "execution_count": 6,
   "metadata": {},
   "outputs": [
    {
     "name": "stdout",
     "output_type": "stream",
     "text": [
      "Part 1: DDURRLRRDD\n",
      "Part 2: 436\n"
     ]
    }
   ],
   "source": [
    "paths = find_paths(data)\n",
    "print('Part 1: {}'.format(next(paths)))\n",
    "for path in paths:\n",
    "    pass\n",
    "print('Part 2: {}'.format(len(path)))"
   ]
  }
 ],
 "metadata": {
  "kernelspec": {
   "display_name": "Python 3",
   "language": "python",
   "name": "python3"
  },
  "language_info": {
   "codemirror_mode": {
    "name": "ipython",
    "version": 3
   },
   "file_extension": ".py",
   "mimetype": "text/x-python",
   "name": "python",
   "nbconvert_exporter": "python",
   "pygments_lexer": "ipython3",
   "version": "3.8.5"
  }
 },
 "nbformat": 4,
 "nbformat_minor": 4
}
