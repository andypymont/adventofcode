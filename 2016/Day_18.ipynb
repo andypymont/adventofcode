{
 "cells": [
  {
   "cell_type": "markdown",
   "metadata": {},
   "source": [
    "# Day 18\n",
    "https://adventofcode.com/2016/day/18"
   ]
  },
  {
   "cell_type": "code",
   "execution_count": 1,
   "metadata": {},
   "outputs": [],
   "source": [
    "import aocd\n",
    "data = aocd.get_data(year=2016, day=18)"
   ]
  },
  {
   "cell_type": "code",
   "execution_count": 2,
   "metadata": {},
   "outputs": [],
   "source": [
    "trap_combo = {\n",
    "    (False, False, True),\n",
    "    (True, False, False),\n",
    "    (False, True, True),\n",
    "    (True, True, False),\n",
    "}\n",
    "def is_safe(ix, line):\n",
    "    left = True if ix == 0 else line[ix-1]\n",
    "    right = True if ix+1 == len(line) else line[ix+1]\n",
    "    return (left, line[ix], right) not in trap_combo"
   ]
  },
  {
   "cell_type": "code",
   "execution_count": 3,
   "metadata": {},
   "outputs": [],
   "source": [
    "def next_line(line):\n",
    "    return [is_safe(x, line) for x in range(len(line))]"
   ]
  },
  {
   "cell_type": "code",
   "execution_count": 4,
   "metadata": {},
   "outputs": [],
   "source": [
    "def count_safe_spaces(line, lines):\n",
    "    safe = 0\n",
    "    for y in range(lines):\n",
    "        safe += sum(1 for x in line if x)\n",
    "        line = next_line(line)\n",
    "    return safe"
   ]
  },
  {
   "cell_type": "code",
   "execution_count": 5,
   "metadata": {},
   "outputs": [
    {
     "name": "stdout",
     "output_type": "stream",
     "text": [
      "Part 1: 1951\n"
     ]
    }
   ],
   "source": [
    "first = [char == '.' for char in data]\n",
    "p1 = count_safe_spaces(first, 40)\n",
    "print('Part 1: {}'.format(p1))"
   ]
  },
  {
   "cell_type": "code",
   "execution_count": 6,
   "metadata": {},
   "outputs": [
    {
     "name": "stdout",
     "output_type": "stream",
     "text": [
      "Part 2: 20002936\n"
     ]
    }
   ],
   "source": [
    "p2 = count_safe_spaces(first, 400_000)\n",
    "print('Part 2: {}'.format(p2))"
   ]
  }
 ],
 "metadata": {
  "kernelspec": {
   "display_name": "Python 3",
   "language": "python",
   "name": "python3"
  },
  "language_info": {
   "codemirror_mode": {
    "name": "ipython",
    "version": 3
   },
   "file_extension": ".py",
   "mimetype": "text/x-python",
   "name": "python",
   "nbconvert_exporter": "python",
   "pygments_lexer": "ipython3",
   "version": "3.8.5"
  }
 },
 "nbformat": 4,
 "nbformat_minor": 4
}
