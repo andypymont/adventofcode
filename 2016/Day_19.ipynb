{
 "cells": [
  {
   "cell_type": "markdown",
   "metadata": {},
   "source": [
    "# Day 19\n",
    "https://adventofcode.com/2016/day/19"
   ]
  },
  {
   "cell_type": "code",
   "execution_count": 1,
   "metadata": {},
   "outputs": [],
   "source": [
    "import aocd\n",
    "data = aocd.get_data(year=2016, day=19)"
   ]
  },
  {
   "cell_type": "code",
   "execution_count": 2,
   "metadata": {},
   "outputs": [],
   "source": [
    "import numpy as np"
   ]
  },
  {
   "cell_type": "markdown",
   "metadata": {},
   "source": [
    "##### Part 1: Who wins in the standard contest?\n",
    "aka The Josephesus Problem: https://www.youtube.com/watch?v=uCsD3ZGzMgE"
   ]
  },
  {
   "cell_type": "code",
   "execution_count": 3,
   "metadata": {},
   "outputs": [],
   "source": [
    "def who_wins(elfcount):\n",
    "    binary = np.binary_repr(elfcount)\n",
    "    return int(binary[1:] + binary[0], 2)"
   ]
  },
  {
   "cell_type": "code",
   "execution_count": 4,
   "metadata": {},
   "outputs": [
    {
     "name": "stdout",
     "output_type": "stream",
     "text": [
      "Part 1: 1834471\n"
     ]
    }
   ],
   "source": [
    "elfcount = int(data)\n",
    "p1 = who_wins(elfcount)\n",
    "print('Part 1: {}'.format(p1))"
   ]
  },
  {
   "cell_type": "markdown",
   "metadata": {},
   "source": [
    "##### Part 2: Who wins when the present is taken from the elf across?"
   ]
  },
  {
   "cell_type": "code",
   "execution_count": 5,
   "metadata": {},
   "outputs": [],
   "source": [
    "class Elf():\n",
    "    def __init__(self, number):\n",
    "        self.number = number\n",
    "        self.prev = None\n",
    "        self.next = None\n",
    "    \n",
    "    def delete(self):\n",
    "        self.next.prev = self.prev\n",
    "        self.prev.next = self.next\n",
    "    \n",
    "    @classmethod\n",
    "    def circle(cls, length):\n",
    "        circle = [cls(x) for x in range(1, length+1)]\n",
    "        for x in range(length):\n",
    "            circle[x].prev = circle[(x-1) % length]\n",
    "            circle[x].next = circle[(x+1) % length]\n",
    "        return circle"
   ]
  },
  {
   "cell_type": "code",
   "execution_count": 6,
   "metadata": {},
   "outputs": [],
   "source": [
    "def who_wins_opposite(elfcount):\n",
    "    circle = Elf.circle(elfcount)\n",
    "    \n",
    "    elf = circle[0]\n",
    "    mid = circle[int(elfcount/2)]\n",
    "    \n",
    "    for theft in range(elfcount-1):\n",
    "        mid.delete()\n",
    "        mid = mid.next\n",
    "        if (elfcount - theft) % 2 == 1:\n",
    "            mid = mid.next\n",
    "        elf = elf.next\n",
    "    \n",
    "    return elf.number"
   ]
  },
  {
   "cell_type": "code",
   "execution_count": 7,
   "metadata": {},
   "outputs": [
    {
     "name": "stdout",
     "output_type": "stream",
     "text": [
      "Part 2: 1420064\n"
     ]
    }
   ],
   "source": [
    "p2 = who_wins_opposite(elfcount)\n",
    "print('Part 2: {}'.format(p2))"
   ]
  }
 ],
 "metadata": {
  "kernelspec": {
   "display_name": "Python 3",
   "language": "python",
   "name": "python3"
  },
  "language_info": {
   "codemirror_mode": {
    "name": "ipython",
    "version": 3
   },
   "file_extension": ".py",
   "mimetype": "text/x-python",
   "name": "python",
   "nbconvert_exporter": "python",
   "pygments_lexer": "ipython3",
   "version": "3.8.5"
  }
 },
 "nbformat": 4,
 "nbformat_minor": 4
}
