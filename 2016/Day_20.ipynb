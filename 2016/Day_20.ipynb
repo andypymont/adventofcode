{
 "cells": [
  {
   "cell_type": "markdown",
   "metadata": {},
   "source": [
    "# Day 20\n",
    "https://adventofcode.com/2016/day/20"
   ]
  },
  {
   "cell_type": "code",
   "execution_count": 2,
   "metadata": {},
   "outputs": [],
   "source": [
    "import aocd\n",
    "data = aocd.get_data(year=2016, day=20)"
   ]
  },
  {
   "cell_type": "code",
   "execution_count": 3,
   "metadata": {},
   "outputs": [],
   "source": [
    "def read_rules(text):\n",
    "    return tuple(sorted((tuple(map(int, rule.split('-'))) for rule in text.split('\\n'))))"
   ]
  },
  {
   "cell_type": "code",
   "execution_count": 4,
   "metadata": {},
   "outputs": [],
   "source": [
    "def valid_ips(rules, maxint):\n",
    "    ip = 0\n",
    "    rule = 0\n",
    "    while ip < maxint:\n",
    "        try:\n",
    "            lower, upper = rules[rule]\n",
    "        except IndexError:\n",
    "            lower, upper = ip+1, ip+1\n",
    "        \n",
    "        if ip >= lower:\n",
    "            if ip <= upper:\n",
    "                ip = upper + 1\n",
    "                continue\n",
    "            rule += 1\n",
    "        else:\n",
    "            yield ip\n",
    "            ip += 1"
   ]
  },
  {
   "cell_type": "code",
   "execution_count": 8,
   "metadata": {},
   "outputs": [
    {
     "name": "stdout",
     "output_type": "stream",
     "text": [
      "Part 1: 17348574\n",
      "Part 2: 104\n"
     ]
    }
   ],
   "source": [
    "valid = valid_ips(read_rules(data), 2**32)\n",
    "p1 = next(valid)\n",
    "p2 = 1 + sum(1 for ip in valid)\n",
    "print('Part 1: {}'.format(p1))\n",
    "print('Part 2: {}'.format(p2))"
   ]
  }
 ],
 "metadata": {
  "kernelspec": {
   "display_name": "Python 3",
   "language": "python",
   "name": "python3"
  },
  "language_info": {
   "codemirror_mode": {
    "name": "ipython",
    "version": 3
   },
   "file_extension": ".py",
   "mimetype": "text/x-python",
   "name": "python",
   "nbconvert_exporter": "python",
   "pygments_lexer": "ipython3",
   "version": "3.8.5"
  }
 },
 "nbformat": 4,
 "nbformat_minor": 4
}
