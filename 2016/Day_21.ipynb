{
 "cells": [
  {
   "cell_type": "markdown",
   "metadata": {},
   "source": [
    "# Day 21\n",
    "https://adventofcode.com/2016/day/21"
   ]
  },
  {
   "cell_type": "code",
   "execution_count": 1,
   "metadata": {},
   "outputs": [],
   "source": [
    "import aocd\n",
    "data = aocd.get_data(year=2016, day=21)"
   ]
  },
  {
   "cell_type": "code",
   "execution_count": 2,
   "metadata": {},
   "outputs": [],
   "source": [
    "import re\n",
    "from itertools import chain, permutations"
   ]
  },
  {
   "cell_type": "code",
   "execution_count": 3,
   "metadata": {},
   "outputs": [],
   "source": [
    "def swap_position(password, a, b):\n",
    "    a, b = int(a), int(b)\n",
    "    if a > b:\n",
    "        a, b = b, a\n",
    "    return ''.join(chain(\n",
    "        password[:a],\n",
    "        password[b:b+1],\n",
    "        password[a+1:b],\n",
    "        password[a:a+1],\n",
    "        password[b+1:]\n",
    "    ))"
   ]
  },
  {
   "cell_type": "code",
   "execution_count": 4,
   "metadata": {},
   "outputs": [],
   "source": [
    "def swap_letter(password, a, b):\n",
    "    letters = {a: b, b: a}\n",
    "    return ''.join(letters.get(x, x) for x in password)"
   ]
  },
  {
   "cell_type": "code",
   "execution_count": 5,
   "metadata": {},
   "outputs": [],
   "source": [
    "def reverse_positions(password, a, b):\n",
    "    a, b = int(a), int(b)\n",
    "    if a > b:\n",
    "        a, b = b, a\n",
    "    return ''.join(chain(password[:a],\n",
    "                         reversed(password[a:b+1]),\n",
    "                         password[b+1:]))"
   ]
  },
  {
   "cell_type": "code",
   "execution_count": 6,
   "metadata": {},
   "outputs": [],
   "source": [
    "def rotate(password, direction, steps):\n",
    "    steps = int(steps)\n",
    "    return rotate_left(password, steps) if direction == 'left' else rotate_right(password, steps)"
   ]
  },
  {
   "cell_type": "code",
   "execution_count": 7,
   "metadata": {},
   "outputs": [],
   "source": [
    "def rotate_left(password, steps):\n",
    "    for x in range(steps):\n",
    "        password = password[1:] + password[0]\n",
    "    return password"
   ]
  },
  {
   "cell_type": "code",
   "execution_count": 8,
   "metadata": {},
   "outputs": [],
   "source": [
    "def rotate_right(password, steps):\n",
    "    for x in range(steps):\n",
    "        password = password[-1] + password[:-1]\n",
    "    return password"
   ]
  },
  {
   "cell_type": "code",
   "execution_count": 9,
   "metadata": {},
   "outputs": [],
   "source": [
    "def rotate_on_letter(password, a):\n",
    "    pos = password.find(a)\n",
    "    pos += (1 if pos >= 4 else 0)\n",
    "    return rotate_right(password, 1 + pos)"
   ]
  },
  {
   "cell_type": "code",
   "execution_count": 10,
   "metadata": {},
   "outputs": [],
   "source": [
    "def move_position(password, a, b):\n",
    "    a, b = int(a), int(b)\n",
    "    removed = password[a]\n",
    "    without = password[:a] + password[a+1:]\n",
    "    return without[:b] + removed + without[b:]"
   ]
  },
  {
   "cell_type": "code",
   "execution_count": 11,
   "metadata": {},
   "outputs": [],
   "source": [
    "re_swap_position = re.compile(r'swap position (\\d+) with position (\\d+)')\n",
    "re_swap_letter = re.compile(r'swap letter (\\w) with letter (\\w)')\n",
    "re_reverse_positions = re.compile(r'reverse positions (\\d+) through (\\d+)')\n",
    "re_rotate = re.compile(r'rotate (left|right) (\\d+) step(?:s*)')\n",
    "re_rotate_on_letter = re.compile('rotate based on position of letter (\\w)')\n",
    "re_move_position = re.compile(r'move position (\\d+) to position (\\d+)')\n",
    "actions = (\n",
    "    (re_swap_position, swap_position),\n",
    "    (re_swap_letter, swap_letter),\n",
    "    (re_reverse_positions, reverse_positions),\n",
    "    (re_rotate, rotate),\n",
    "    (re_rotate_on_letter, rotate_on_letter),\n",
    "    (re_move_position, move_position),\n",
    ")"
   ]
  },
  {
   "cell_type": "code",
   "execution_count": 12,
   "metadata": {},
   "outputs": [],
   "source": [
    "def scramble_password(password, instructions):\n",
    "    for line in instructions.split('\\n'):\n",
    "        for (regex, action) in actions:\n",
    "            check = regex.search(line)\n",
    "            if check:\n",
    "                password = action(password, *check.groups())\n",
    "    return password"
   ]
  },
  {
   "cell_type": "code",
   "execution_count": 13,
   "metadata": {},
   "outputs": [],
   "source": [
    "def find_password(scrambled, instructions):\n",
    "    for possibility in (''.join(poss) for poss in permutations(scrambled)):\n",
    "        if scramble_password(possibility, instructions) == scrambled:\n",
    "            return possibility"
   ]
  },
  {
   "cell_type": "code",
   "execution_count": 14,
   "metadata": {},
   "outputs": [
    {
     "name": "stdout",
     "output_type": "stream",
     "text": [
      "Part 1: baecdfgh\n",
      "Part 2: cegdahbf\n"
     ]
    }
   ],
   "source": [
    "p1 = scramble_password('abcdefgh', data)\n",
    "print('Part 1: {}'.format(p1))\n",
    "p2 = find_password('fbgdceah', data)\n",
    "print('Part 2: {}'.format(p2))"
   ]
  }
 ],
 "metadata": {
  "kernelspec": {
   "display_name": "Python 3",
   "language": "python",
   "name": "python3"
  },
  "language_info": {
   "codemirror_mode": {
    "name": "ipython",
    "version": 3
   },
   "file_extension": ".py",
   "mimetype": "text/x-python",
   "name": "python",
   "nbconvert_exporter": "python",
   "pygments_lexer": "ipython3",
   "version": "3.8.5"
  }
 },
 "nbformat": 4,
 "nbformat_minor": 4
}
