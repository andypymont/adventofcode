{
 "cells": [
  {
   "cell_type": "markdown",
   "metadata": {},
   "source": [
    "# Day 22\n",
    "https://adventofcode.com/2016/day/22"
   ]
  },
  {
   "cell_type": "code",
   "execution_count": 1,
   "metadata": {},
   "outputs": [],
   "source": [
    "import aocd\n",
    "data = aocd.get_data(year=2016, day=22)"
   ]
  },
  {
   "cell_type": "code",
   "execution_count": 2,
   "metadata": {},
   "outputs": [],
   "source": [
    "from collections import Counter, deque\n",
    "from dataclasses import dataclass\n",
    "from itertools import permutations\n",
    "from typing import Set\n",
    "import re"
   ]
  },
  {
   "cell_type": "markdown",
   "metadata": {},
   "source": [
    "##### Part 1: Find viable pairs of nodes"
   ]
  },
  {
   "cell_type": "code",
   "execution_count": 3,
   "metadata": {},
   "outputs": [],
   "source": [
    "re_node = re.compile(r'node-x(\\d+)-y(\\d+)\\s+(\\d+)T\\s+(\\d+)T\\s+(\\d+)T\\s+(\\d+)%')"
   ]
  },
  {
   "cell_type": "code",
   "execution_count": 4,
   "metadata": {},
   "outputs": [],
   "source": [
    "@dataclass(frozen=True)\n",
    "class Point():\n",
    "    x: int\n",
    "    y: int\n",
    "        \n",
    "    def taxicab_distance_to(self, other):\n",
    "        return abs(self.x - other.x) + abs(self.y - other.y)\n",
    "    \n",
    "    def __add__(self, other):\n",
    "        return Point(self.x+other.x, self.y+other.y)"
   ]
  },
  {
   "cell_type": "code",
   "execution_count": 5,
   "metadata": {},
   "outputs": [],
   "source": [
    "@dataclass(frozen=True)\n",
    "class Node():\n",
    "    location: Point\n",
    "    size: int\n",
    "    used: int\n",
    "    avail: int\n",
    "    \n",
    "    def forms_viable_pair_with(self, other):\n",
    "        return self.used > 0 and self.used <= other.avail\n",
    "    \n",
    "    @classmethod\n",
    "    def from_match_groups(cls, groups):\n",
    "        x, y, size, used, avail, percent = map(int, groups)\n",
    "        return cls(Point(x, y), size, used, avail)\n",
    "    \n",
    "    @classmethod\n",
    "    def all_from_df_text(cls, text):\n",
    "        return [cls.from_match_groups(groups) for groups in re_node.findall(text)]"
   ]
  },
  {
   "cell_type": "code",
   "execution_count": 6,
   "metadata": {},
   "outputs": [],
   "source": [
    "def all_viable_pairs(nodes):\n",
    "    return [(a, b) for (a, b) in permutations(nodes, 2) if a.forms_viable_pair_with(b)]"
   ]
  },
  {
   "cell_type": "code",
   "execution_count": 7,
   "metadata": {},
   "outputs": [
    {
     "name": "stdout",
     "output_type": "stream",
     "text": [
      "Part 1: 892\n"
     ]
    }
   ],
   "source": [
    "nodes = Node.all_from_df_text(data)\n",
    "p1 = len(all_viable_pairs(nodes))\n",
    "print('Part 1: {}'.format(p1))"
   ]
  },
  {
   "cell_type": "code",
   "execution_count": 8,
   "metadata": {},
   "outputs": [
    {
     "data": {
      "text/plain": [
       "[(Point(x=7, y=17), 892)]"
      ]
     },
     "execution_count": 8,
     "metadata": {},
     "output_type": "execute_result"
    }
   ],
   "source": [
    "pairs = all_viable_pairs(nodes)\n",
    "counted = Counter([a.location for a, b in pairs] + [b.location for a, b in pairs])\n",
    "[(p, c) for (p, c) in counted.items() if c > 1]"
   ]
  },
  {
   "cell_type": "markdown",
   "metadata": {},
   "source": [
    "##### Part 2: Solve the movement of the data"
   ]
  },
  {
   "cell_type": "code",
   "execution_count": 9,
   "metadata": {},
   "outputs": [],
   "source": [
    "@dataclass(frozen=True)\n",
    "class Situation():\n",
    "    reachable: Set[Point]\n",
    "    empty: Point\n",
    "    target: Point\n",
    "    moves: int\n",
    "    \n",
    "    @classmethod\n",
    "    def from_node_list(cls, nodelist):\n",
    "        pairs = all_viable_pairs(nodes)\n",
    "        count = Counter([a.location for a, b in pairs] + [b.location for a, b in pairs])\n",
    "        reachable = set(count.keys())\n",
    "        empty = next(location for location, c in count.items() if c > 1)\n",
    "        target = Point(max(loc.x for loc in reachable), 0)\n",
    "        return cls(reachable, empty, target, 0)\n",
    "    \n",
    "    @property\n",
    "    def is_valid_state(self):\n",
    "        return self.empty in self.reachable and self.target in self.reachable\n",
    "    \n",
    "    @property\n",
    "    def description(self):\n",
    "        return 'empty:({},{}),target:({},{})'.format(self.empty.x, self.empty.y, self.target.x, self.target.y)\n",
    "    \n",
    "    def move_empty_cell(self, direction):\n",
    "        new_empty = self.empty + direction\n",
    "        return Situation(\n",
    "            self.reachable,\n",
    "            new_empty,\n",
    "            self.empty if new_empty == self.target else self.target,\n",
    "            self.moves+1\n",
    "        )\n",
    "    \n",
    "    def all_possible_moves(self):\n",
    "        return [move for move in [self.move_empty_cell(direction)\n",
    "                                  for direction in (Point(0, -1), Point(0, 1), Point(-1, 0), Point(1, 0))]\n",
    "                if move.is_valid_state]"
   ]
  },
  {
   "cell_type": "code",
   "execution_count": 10,
   "metadata": {},
   "outputs": [],
   "source": [
    "def find_shortest_solution(nodes):\n",
    "    initial = Situation.from_node_list(nodes)\n",
    "    visited = set([initial.description])\n",
    "    search = deque([initial])\n",
    "    \n",
    "    while search:\n",
    "        candidate = search.popleft()\n",
    "        if candidate.target == Point(0, 0):\n",
    "            return candidate.moves\n",
    "        for potential_next_move in candidate.all_possible_moves():\n",
    "            if potential_next_move.description not in visited:\n",
    "                visited.add(potential_next_move.description)\n",
    "                search.append(potential_next_move)"
   ]
  },
  {
   "cell_type": "code",
   "execution_count": 11,
   "metadata": {},
   "outputs": [
    {
     "name": "stdout",
     "output_type": "stream",
     "text": [
      "Part 2: 227\n"
     ]
    }
   ],
   "source": [
    "p2 = find_shortest_solution(nodes)\n",
    "print('Part 2: {}'.format(p2))"
   ]
  }
 ],
 "metadata": {
  "kernelspec": {
   "display_name": "Python 3",
   "language": "python",
   "name": "python3"
  },
  "language_info": {
   "codemirror_mode": {
    "name": "ipython",
    "version": 3
   },
   "file_extension": ".py",
   "mimetype": "text/x-python",
   "name": "python",
   "nbconvert_exporter": "python",
   "pygments_lexer": "ipython3",
   "version": "3.8.5"
  }
 },
 "nbformat": 4,
 "nbformat_minor": 4
}
