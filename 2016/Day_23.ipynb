{
 "cells": [
  {
   "cell_type": "markdown",
   "metadata": {},
   "source": [
    "# Day 23\n",
    "https://adventofcode.com/2016/day/23"
   ]
  },
  {
   "cell_type": "code",
   "execution_count": 1,
   "metadata": {},
   "outputs": [],
   "source": [
    "import aocd\n",
    "data = aocd.get_data(year=2016, day=23)"
   ]
  },
  {
   "cell_type": "code",
   "execution_count": 7,
   "metadata": {},
   "outputs": [],
   "source": [
    "from collections import deque"
   ]
  },
  {
   "cell_type": "code",
   "execution_count": 3,
   "metadata": {},
   "outputs": [],
   "source": [
    "def get(registers, source):\n",
    "    if source in registers:\n",
    "        return registers.get(source)\n",
    "    else:\n",
    "        return int(source)"
   ]
  },
  {
   "cell_type": "code",
   "execution_count": 4,
   "metadata": {},
   "outputs": [],
   "source": [
    "def cpy(registers, source, dest):\n",
    "    if dest in registers:\n",
    "        registers[dest] = get(registers, source)\n",
    "\n",
    "def inc(registers, register):\n",
    "    if register in registers:\n",
    "        registers[register] += 1\n",
    "\n",
    "def add(registers, source, dest):\n",
    "    if dest in registers:\n",
    "        registers[dest] = get(registers, dest) + get(registers, source)\n",
    "\n",
    "def dec(registers, register):\n",
    "    if register in registers:\n",
    "        registers[register] -= 1\n",
    "\n",
    "def mul(registers, source, dest):\n",
    "    if dest in registers:\n",
    "        registers[dest] = get(registers, dest) * get(registers, source)"
   ]
  },
  {
   "cell_type": "code",
   "execution_count": 5,
   "metadata": {},
   "outputs": [],
   "source": [
    "def tgl(instruction):\n",
    "    cmd, *args = instruction\n",
    "    if len(args) == 1:\n",
    "        if cmd == 'inc':\n",
    "            return ['dec', *args]\n",
    "        return ['inc', *args]\n",
    "    elif len(args) == 2:\n",
    "        if cmd == 'jnz':\n",
    "            return ['cpy', *args]\n",
    "        return ['jnz', *args]"
   ]
  },
  {
   "cell_type": "code",
   "execution_count": 6,
   "metadata": {},
   "outputs": [],
   "source": [
    "def patched_instructions(instructions, current):\n",
    "    consider = instructions[current:current+3]\n",
    "    if (len(consider) == 3\n",
    "        and consider[0][0] == 'dec'\n",
    "        and consider[1][0] == 'inc'\n",
    "        and consider[0][1] != consider[1][1]\n",
    "        and consider[2][0] == 'jnz'\n",
    "        and consider[2][1] == consider[0][1]\n",
    "        and consider[2][2] == '-2'):\n",
    "        return [\n",
    "            ['add', consider[0][1], consider[1][1]],\n",
    "            ['cpy', '0', consider[0][1]],\n",
    "            ['jnz', '0', '0']\n",
    "        ]\n",
    "    \n",
    "    consider = instructions[current:current+6]\n",
    "    if (len(consider) == 6\n",
    "        and consider[0][0] == 'cpy'\n",
    "        and consider[1][0] == 'inc'\n",
    "        and consider[2][0] == 'dec'\n",
    "        and consider[3][0] == 'jnz'\n",
    "        and consider[3][2] == '-2'\n",
    "        and consider[4][0] == 'dec'\n",
    "        and consider[5][0] == 'jnz'\n",
    "        and consider[5][2] == '-5'):\n",
    "        return [\n",
    "            ['mul', consider[0][1], consider[4][1]],\n",
    "            ['add', consider[4][1], consider[1][1]],\n",
    "            ['cpy', '0', consider[0][2]],\n",
    "            ['cpy', '0', consider[4][1]],\n",
    "            ['jnz', '0', '0'],\n",
    "            ['jnz', '0', '0']\n",
    "        ]\n",
    "    \n",
    "    return []"
   ]
  },
  {
   "cell_type": "code",
   "execution_count": 8,
   "metadata": {},
   "outputs": [],
   "source": [
    "def run_program(text, **kwargs):\n",
    "    registers = dict(a=0, b=0, c=0, d=0)\n",
    "    registers.update(**kwargs)\n",
    "    instructions = [instruct.split() for instruct in text.split('\\n')]\n",
    "    current = 0\n",
    "    do = dict(cpy=cpy, inc=inc, dec=dec, mul=mul, add=add)\n",
    "    replaced_instructions = deque()\n",
    "    \n",
    "    while current < len(instructions):\n",
    "        replaced_instructions.extend(patched_instructions(instructions, current))\n",
    "        cmd, *args = (replaced_instructions.popleft() if replaced_instructions else instructions[current])\n",
    "        \n",
    "        if cmd in do:\n",
    "            do[cmd](registers, *args)\n",
    "        elif cmd == 'jnz':\n",
    "            if get(registers, args[0]) != 0:\n",
    "                current += get(registers, args[1]) - 1\n",
    "        elif cmd == 'tgl':\n",
    "            target = current + get(registers, args[0])\n",
    "            if target >= 0 and target < len(instructions):\n",
    "                instructions[target] = tgl(instructions[target])\n",
    "        \n",
    "        current += 1\n",
    "    \n",
    "    return registers"
   ]
  },
  {
   "cell_type": "code",
   "execution_count": 10,
   "metadata": {},
   "outputs": [
    {
     "name": "stdout",
     "output_type": "stream",
     "text": [
      "Part 1: 12703\n",
      "Part 2: 479009263\n"
     ]
    }
   ],
   "source": [
    "p1 = run_program(data, a=7).get('a')\n",
    "print('Part 1: {}'.format(p1))\n",
    "p2 = run_program(data, a=12).get('a')\n",
    "print('Part 2: {}'.format(p2))"
   ]
  }
 ],
 "metadata": {
  "kernelspec": {
   "display_name": "Python 3",
   "language": "python",
   "name": "python3"
  },
  "language_info": {
   "codemirror_mode": {
    "name": "ipython",
    "version": 3
   },
   "file_extension": ".py",
   "mimetype": "text/x-python",
   "name": "python",
   "nbconvert_exporter": "python",
   "pygments_lexer": "ipython3",
   "version": "3.8.5"
  }
 },
 "nbformat": 4,
 "nbformat_minor": 4
}
