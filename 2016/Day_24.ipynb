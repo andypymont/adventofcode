{
 "cells": [
  {
   "cell_type": "markdown",
   "metadata": {},
   "source": [
    "# Day 24\n",
    "https://adventofcode.com/2016/day/24"
   ]
  },
  {
   "cell_type": "code",
   "execution_count": 1,
   "metadata": {},
   "outputs": [],
   "source": [
    "import aocd\n",
    "data = aocd.get_data(year=2016, day=24)"
   ]
  },
  {
   "cell_type": "code",
   "execution_count": 2,
   "metadata": {},
   "outputs": [],
   "source": [
    "from collections import deque\n",
    "from dataclasses import dataclass\n",
    "from itertools import combinations, permutations"
   ]
  },
  {
   "cell_type": "code",
   "execution_count": 3,
   "metadata": {},
   "outputs": [],
   "source": [
    "@dataclass(frozen=True)\n",
    "class Point():\n",
    "    x: int\n",
    "    y: int\n",
    "    \n",
    "    def __add__(self, other):\n",
    "        return Point(self.x+other.x, self.y+other.y)"
   ]
  },
  {
   "cell_type": "code",
   "execution_count": 4,
   "metadata": {},
   "outputs": [],
   "source": [
    "class Map():\n",
    "    def __init__(self, text):\n",
    "        rows = text.split('\\n')\n",
    "        self.y_size = len(rows)\n",
    "        self.x_size = len(rows[0])\n",
    "        self.walls = set()\n",
    "        self.poi = dict()\n",
    "        for y, row in enumerate(rows):\n",
    "            for x, char in enumerate(row):\n",
    "                if char == '#':\n",
    "                    self.walls.add(Point(x, y))\n",
    "                elif char != '.':\n",
    "                    self.poi[int(char)] = Point(x, y)\n",
    "    \n",
    "    def all_possible_moves(self, location):\n",
    "        for direction in (Point(1, 0), Point(-1, 0), Point(0, 1), Point(0, -1)):\n",
    "            new_location = location + direction\n",
    "            if (0 <= new_location.x <= self.x_size\n",
    "                and 0 <= new_location.y <= self.y_size\n",
    "                and new_location not in self.walls):\n",
    "                yield new_location\n",
    "    \n",
    "    def shortest_path(self, start, finish):\n",
    "        visited = set()\n",
    "        search = deque([[start]])\n",
    "        \n",
    "        while search:\n",
    "            route = search.popleft()\n",
    "            location = route[-1]\n",
    "            if location == finish:\n",
    "                return len(route) - 1\n",
    "            if location not in visited:\n",
    "                visited.add(location)\n",
    "                search.extend(route + [newloc] for newloc in self.all_possible_moves(location))\n",
    "    \n",
    "    def poi_routes(self):\n",
    "        routes = dict()\n",
    "        for (first, second) in combinations(self.poi.keys(), 2):\n",
    "            dist = self.shortest_path(self.poi[first], self.poi[second])\n",
    "            routes[(first, second)] = dist\n",
    "            routes[(second, first)] = dist\n",
    "        return routes"
   ]
  },
  {
   "cell_type": "code",
   "execution_count": 5,
   "metadata": {},
   "outputs": [],
   "source": [
    "def journey_length(poi_routes, journey):\n",
    "    return sum(poi_routes[(journey[x], journey[x+1])] for x in range(len(journey)-1))"
   ]
  },
  {
   "cell_type": "code",
   "execution_count": 6,
   "metadata": {},
   "outputs": [],
   "source": [
    "def shortest_journey(maze, comeback=False):\n",
    "    poi_routes = maze.poi_routes()\n",
    "    journeys = [\n",
    "        [0] + list(perm) + ([0] if comeback else [])\n",
    "        for perm in permutations(poi for poi in maze.poi.keys() if poi != 0)\n",
    "    ]\n",
    "    return min(journey_length(poi_routes, journey) for journey in journeys)"
   ]
  },
  {
   "cell_type": "code",
   "execution_count": 7,
   "metadata": {
    "scrolled": true
   },
   "outputs": [
    {
     "name": "stdout",
     "output_type": "stream",
     "text": [
      "Part 1: 428\n",
      "Part 2: 680\n"
     ]
    }
   ],
   "source": [
    "maze = Map(data)\n",
    "p1 = shortest_journey(maze)\n",
    "print('Part 1: {}'.format(p1))\n",
    "p2 = shortest_journey(maze, comeback=True)\n",
    "print('Part 2: {}'.format(p2))"
   ]
  }
 ],
 "metadata": {
  "kernelspec": {
   "display_name": "Python 3",
   "language": "python",
   "name": "python3"
  },
  "language_info": {
   "codemirror_mode": {
    "name": "ipython",
    "version": 3
   },
   "file_extension": ".py",
   "mimetype": "text/x-python",
   "name": "python",
   "nbconvert_exporter": "python",
   "pygments_lexer": "ipython3",
   "version": "3.8.5"
  }
 },
 "nbformat": 4,
 "nbformat_minor": 4
}
