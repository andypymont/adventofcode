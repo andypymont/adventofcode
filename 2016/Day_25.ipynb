{
 "cells": [
  {
   "cell_type": "markdown",
   "metadata": {},
   "source": [
    "# Day 25\n",
    "https://adventofcode.com/2016/day/25"
   ]
  },
  {
   "cell_type": "code",
   "execution_count": 1,
   "metadata": {},
   "outputs": [],
   "source": [
    "import aocd\n",
    "data = aocd.get_data(year=2016, day=25)"
   ]
  },
  {
   "cell_type": "code",
   "execution_count": 2,
   "metadata": {},
   "outputs": [],
   "source": [
    "from collections import deque"
   ]
  },
  {
   "cell_type": "code",
   "execution_count": 4,
   "metadata": {},
   "outputs": [],
   "source": [
    "def get(registers, source):\n",
    "    try:\n",
    "        return int(source)\n",
    "    except:\n",
    "        return registers.get(source)"
   ]
  },
  {
   "cell_type": "code",
   "execution_count": 5,
   "metadata": {},
   "outputs": [],
   "source": [
    "def cpy(registers, source, dest):\n",
    "    if dest in registers:\n",
    "        registers[dest] = get(registers, source)\n",
    "\n",
    "def inc(registers, register):\n",
    "    if register in registers:\n",
    "        registers[register] += 1\n",
    "\n",
    "def dec(registers, register):\n",
    "    if register in registers:\n",
    "        registers[register] -= 1\n",
    "\n",
    "def add(registers, source, dest):\n",
    "    if dest in registers:\n",
    "        registers[dest] = get(registers, dest) + get(registers, source)\n",
    "\n",
    "def mul(registers, source, dest):\n",
    "    if dest in registers:\n",
    "        registers[dest] = get(registers, dest) * get(registers, source)\n",
    "\n",
    "def tgl(instruction):\n",
    "    cmd, *args = instruction\n",
    "\n",
    "    if len(args) == 1:\n",
    "        if cmd == 'inc':\n",
    "            return ['dec', *args]\n",
    "        else:\n",
    "            return ['inc', *args]\n",
    "    elif len(args) == 2:\n",
    "        if cmd == 'jnz':\n",
    "            return ['cpy', *args]\n",
    "        else:\n",
    "            return ['jnz', *args]"
   ]
  },
  {
   "cell_type": "code",
   "execution_count": 6,
   "metadata": {},
   "outputs": [],
   "source": [
    "def patched_instructions(instructions, current):\n",
    "    consider = instructions[current:current+3]\n",
    "    if (len(consider) == 3 and\n",
    "        consider[0][0] == 'dec' and\n",
    "        consider[1][0] == 'inc' and\n",
    "        consider[0][1] != consider[1][1] and\n",
    "        consider[2][0] == 'jnz' and\n",
    "        consider[2][1] == consider[0][1] and\n",
    "        consider[2][2] == '-2'):\n",
    "        return [\n",
    "            ['add', consider[0][1], consider[1][1]],\n",
    "            ['cpy', '0', consider[0][1]],\n",
    "            ['jnz', '0', '0']\n",
    "        ]\n",
    "\n",
    "    consider = instructions[current:current+6]\n",
    "    if (len(consider) == 6 and\n",
    "        consider[0][0] == 'cpy' and\n",
    "        consider[1][0] == 'inc' and\n",
    "        consider[2][0] == 'dec' and\n",
    "        consider[3][0] == 'jnz' and\n",
    "        consider[3][2] == '-2' and\n",
    "        consider[4][0] == 'dec' and\n",
    "        consider[5][0] == 'jnz' and\n",
    "        consider[5][2] == '-5'):\n",
    "        return [\n",
    "            ['mul', consider[0][1], consider[4][1]],\n",
    "            ['add', consider[4][1], consider[1][1]],\n",
    "            ['cpy', '0', consider[0][2]],\n",
    "            ['cpy', '0', consider[4][1]],\n",
    "            ['jnz', '0', '0'],\n",
    "            ['jnz', '0', '0']\n",
    "        ]\n",
    "\n",
    "    return []"
   ]
  },
  {
   "cell_type": "code",
   "execution_count": 7,
   "metadata": {},
   "outputs": [],
   "source": [
    "def run_program(text, **kwargs):\n",
    "    registers = dict(a=0, b=0, c=0, d=0)\n",
    "    registers.update(kwargs)\n",
    "    instructions = [instruct.split() for instruct in text.split('\\n')]\n",
    "    current = 0\n",
    "    do = dict(cpy=cpy, inc=inc, dec=dec, add=add, mul=mul)\n",
    "    replaced_instructions = deque()\n",
    "\n",
    "    while current < len(instructions):\n",
    "        replaced_instructions.extend(patched_instructions(instructions, current))\n",
    "        if replaced_instructions:\n",
    "            cmd, *args = replaced_instructions.popleft()\n",
    "        else:\n",
    "            cmd, *args = instructions[current]\n",
    "\n",
    "        if cmd in do:\n",
    "            do[cmd](registers, *args)\n",
    "        elif cmd == 'jnz':\n",
    "            if get(registers, args[0]) != 0:\n",
    "                current += get(registers, args[1]) - 1\n",
    "        elif cmd == 'tgl':\n",
    "            target = current + get(registers, args[0])\n",
    "            if target >=0 and target < len(instructions):\n",
    "                instructions[target] = tgl(instructions[target])\n",
    "        elif cmd == 'out':\n",
    "            yield get(registers, args[0])\n",
    "\n",
    "        current += 1"
   ]
  },
  {
   "cell_type": "code",
   "execution_count": 10,
   "metadata": {},
   "outputs": [],
   "source": [
    "def find_starting_a_for_clock_output(text):\n",
    "    test = 0\n",
    "\n",
    "    while True:\n",
    "        test += 1\n",
    "        output = run_program(text, a=test)\n",
    "\n",
    "        for i in range(10):\n",
    "            nxt = next(output)\n",
    "            if nxt != (i % 2):\n",
    "                break\n",
    "            if i == 9:\n",
    "                return test"
   ]
  },
  {
   "cell_type": "code",
   "execution_count": 11,
   "metadata": {},
   "outputs": [
    {
     "name": "stdout",
     "output_type": "stream",
     "text": [
      "Part 1: 196\n"
     ]
    }
   ],
   "source": [
    "p1 = find_starting_a_for_clock_output(data)\n",
    "print('Part 1: {}'.format(p1))"
   ]
  }
 ],
 "metadata": {
  "kernelspec": {
   "display_name": "Python 3",
   "language": "python",
   "name": "python3"
  },
  "language_info": {
   "codemirror_mode": {
    "name": "ipython",
    "version": 3
   },
   "file_extension": ".py",
   "mimetype": "text/x-python",
   "name": "python",
   "nbconvert_exporter": "python",
   "pygments_lexer": "ipython3",
   "version": "3.8.5"
  }
 },
 "nbformat": 4,
 "nbformat_minor": 4
}
