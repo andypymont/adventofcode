{
 "cells": [
  {
   "cell_type": "markdown",
   "id": "9526462b",
   "metadata": {},
   "source": [
    "# Day 1\n",
    "https://adventofcode.com/2018/day/1"
   ]
  },
  {
   "cell_type": "code",
   "execution_count": 1,
   "id": "3280e3f7",
   "metadata": {},
   "outputs": [],
   "source": [
    "import aocd\n",
    "data = aocd.get_data(year=2017, day=1)"
   ]
  },
  {
   "cell_type": "code",
   "execution_count": 2,
   "id": "7b4fafde",
   "metadata": {},
   "outputs": [],
   "source": [
    "def read_digits(text):\n",
    "    return [int(char) for char in text]"
   ]
  },
  {
   "cell_type": "code",
   "execution_count": 3,
   "id": "90e98569",
   "metadata": {},
   "outputs": [],
   "source": [
    "def check_sum(digits, leap=1):\n",
    "    return sum(digit for ix, digit in enumerate(digits) if digit == digits[ix-leap])"
   ]
  },
  {
   "cell_type": "code",
   "execution_count": 4,
   "id": "8a414236",
   "metadata": {},
   "outputs": [
    {
     "name": "stdout",
     "output_type": "stream",
     "text": [
      "Part 1: 1341\n",
      "Part 2: 1348\n"
     ]
    }
   ],
   "source": [
    "digits = read_digits(data)\n",
    "print('Part 1: {}'.format(check_sum(digits)))\n",
    "leap = len(digits) // 2\n",
    "print('Part 2: {}'.format(check_sum(digits, leap)))"
   ]
  }
 ],
 "metadata": {
  "kernelspec": {
   "display_name": "Python 3 (ipykernel)",
   "language": "python",
   "name": "python3"
  },
  "language_info": {
   "codemirror_mode": {
    "name": "ipython",
    "version": 3
   },
   "file_extension": ".py",
   "mimetype": "text/x-python",
   "name": "python",
   "nbconvert_exporter": "python",
   "pygments_lexer": "ipython3",
   "version": "3.9.5"
  }
 },
 "nbformat": 4,
 "nbformat_minor": 5
}
