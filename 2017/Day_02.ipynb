{
 "cells": [
  {
   "cell_type": "markdown",
   "id": "b0ed78d0",
   "metadata": {},
   "source": [
    "# Day 2\n",
    "https://adventofcode.com/2017/day/2"
   ]
  },
  {
   "cell_type": "code",
   "execution_count": 1,
   "id": "315c59e3",
   "metadata": {},
   "outputs": [],
   "source": [
    "import aocd\n",
    "data = aocd.get_data(year=2017, day=2)"
   ]
  },
  {
   "cell_type": "code",
   "execution_count": 15,
   "id": "d1deb74e",
   "metadata": {},
   "outputs": [],
   "source": [
    "from itertools import combinations"
   ]
  },
  {
   "cell_type": "code",
   "execution_count": 9,
   "id": "404f7daa",
   "metadata": {},
   "outputs": [],
   "source": [
    "def read_sheet(text):\n",
    "    return [[int(val) for val in line.split('\\t')] for line in text.split('\\n')]"
   ]
  },
  {
   "cell_type": "code",
   "execution_count": 11,
   "id": "313f8511",
   "metadata": {},
   "outputs": [],
   "source": [
    "def check_sum(sheet):\n",
    "    return sum(max(row) - min(row) for row in sheet)"
   ]
  },
  {
   "cell_type": "code",
   "execution_count": 16,
   "id": "67a41c97",
   "metadata": {},
   "outputs": [],
   "source": [
    "def check_row(row):\n",
    "    for (a, b) in combinations(row, 2):\n",
    "        a, b = (b, a) if (a > b) else (a, b)\n",
    "        if b % a == 0:\n",
    "            return b // a\n",
    "    return 0"
   ]
  },
  {
   "cell_type": "code",
   "execution_count": 17,
   "id": "661ebf6f",
   "metadata": {},
   "outputs": [],
   "source": [
    "def check_sum2(sheet):\n",
    "    return sum(check_row(row) for row in sheet)"
   ]
  },
  {
   "cell_type": "code",
   "execution_count": 19,
   "id": "33a64463",
   "metadata": {},
   "outputs": [
    {
     "name": "stdout",
     "output_type": "stream",
     "text": [
      "Part 1: 47623\n",
      "Part 2: 312\n"
     ]
    }
   ],
   "source": [
    "sheet = read_sheet(data)\n",
    "print('Part 1: {}'.format(check_sum(sheet)))\n",
    "print('Part 2: {}'.format(check_sum2(sheet)))"
   ]
  },
  {
   "cell_type": "code",
   "execution_count": null,
   "id": "291b50fe",
   "metadata": {},
   "outputs": [],
   "source": []
  }
 ],
 "metadata": {
  "kernelspec": {
   "display_name": "Python 3 (ipykernel)",
   "language": "python",
   "name": "python3"
  },
  "language_info": {
   "codemirror_mode": {
    "name": "ipython",
    "version": 3
   },
   "file_extension": ".py",
   "mimetype": "text/x-python",
   "name": "python",
   "nbconvert_exporter": "python",
   "pygments_lexer": "ipython3",
   "version": "3.9.5"
  }
 },
 "nbformat": 4,
 "nbformat_minor": 5
}
