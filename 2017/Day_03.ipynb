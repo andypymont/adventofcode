{
 "cells": [
  {
   "cell_type": "markdown",
   "id": "ea9d7028",
   "metadata": {},
   "source": [
    "# Day 3\n",
    "https://adventofcode.com/2017/day/3"
   ]
  },
  {
   "cell_type": "code",
   "execution_count": 1,
   "id": "a983a6e0",
   "metadata": {},
   "outputs": [],
   "source": [
    "import aocd\n",
    "data = aocd.get_data(year=2017, day=3)"
   ]
  },
  {
   "cell_type": "code",
   "execution_count": 2,
   "id": "bd6fc629",
   "metadata": {},
   "outputs": [],
   "source": [
    "from collections import OrderedDict\n",
    "from dataclasses import dataclass"
   ]
  },
  {
   "cell_type": "code",
   "execution_count": 3,
   "id": "6f437f80",
   "metadata": {},
   "outputs": [],
   "source": [
    "@dataclass(frozen=True)\n",
    "class Point():\n",
    "    y: int\n",
    "    x: int\n",
    "    \n",
    "    def __add__(self, other):\n",
    "        return Point(self.y + other.y, self.x + other.x)\n",
    "    \n",
    "    @property\n",
    "    def taxicab(self):\n",
    "        return abs(self.y) + abs(self.x)\n",
    "    \n",
    "    @property\n",
    "    def neighbours(self):\n",
    "        for dx, dy in (\n",
    "            (-1, -1), (-1, 0), (-1, 1),\n",
    "            (0, -1), (0, 1),\n",
    "            (1, -1), (1, 0), (1, 1),\n",
    "        ):\n",
    "            yield Point(self.y + dy, self.x + dx)"
   ]
  },
  {
   "cell_type": "code",
   "execution_count": 4,
   "id": "1154484b",
   "metadata": {},
   "outputs": [],
   "source": [
    "UP = Point(-1, 0)\n",
    "DOWN = Point(1, 0)\n",
    "LEFT = Point(0, -1)\n",
    "RIGHT = Point(0, 1)\n",
    "TURN_LEFT = {\n",
    "    UP: LEFT,\n",
    "    LEFT: DOWN,\n",
    "    DOWN: RIGHT,\n",
    "    RIGHT: UP,\n",
    "}"
   ]
  },
  {
   "cell_type": "code",
   "execution_count": 5,
   "id": "fc9b2849",
   "metadata": {},
   "outputs": [],
   "source": [
    "class Memory():\n",
    "    \n",
    "    def __init__(self):\n",
    "        self.memory = OrderedDict()\n",
    "        self.memory[Point(0, 0)] = 1\n",
    "        self.pos = Point(0, 1)\n",
    "        self.dir = RIGHT\n",
    "    \n",
    "    def populate_next(self):\n",
    "        self.memory[self.pos] = sum(self.memory.get(neighbour, 0) for neighbour in self.pos.neighbours)\n",
    "        if self.pos + TURN_LEFT[self.dir] not in self.memory:\n",
    "            self.dir = TURN_LEFT[self.dir]\n",
    "        self.pos += self.dir\n",
    "    \n",
    "    def coords_from_index(self, ix):\n",
    "        while len(self.memory) < ix:\n",
    "            self.populate_next()\n",
    "        return list(self.memory.keys())[ix-1]\n",
    "    \n",
    "    def first_larger_value(self, target):\n",
    "        for value in self.memory.values():\n",
    "            if value > target:\n",
    "                return value"
   ]
  },
  {
   "cell_type": "code",
   "execution_count": 6,
   "id": "c65393fd",
   "metadata": {},
   "outputs": [
    {
     "name": "stdout",
     "output_type": "stream",
     "text": [
      "Part 1: 552\n",
      "Part 2: 330785\n"
     ]
    }
   ],
   "source": [
    "target = int(data)\n",
    "mem = Memory()\n",
    "p1 = mem.coords_from_index(target).taxicab\n",
    "print('Part 1: {}'.format(p1))\n",
    "p2 = mem.first_larger_value(target)\n",
    "print('Part 2: {}'.format(p2))"
   ]
  }
 ],
 "metadata": {
  "kernelspec": {
   "display_name": "Python 3 (ipykernel)",
   "language": "python",
   "name": "python3"
  },
  "language_info": {
   "codemirror_mode": {
    "name": "ipython",
    "version": 3
   },
   "file_extension": ".py",
   "mimetype": "text/x-python",
   "name": "python",
   "nbconvert_exporter": "python",
   "pygments_lexer": "ipython3",
   "version": "3.9.5"
  }
 },
 "nbformat": 4,
 "nbformat_minor": 5
}
