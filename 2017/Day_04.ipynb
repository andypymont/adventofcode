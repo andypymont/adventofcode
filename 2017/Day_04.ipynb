{
 "cells": [
  {
   "cell_type": "markdown",
   "id": "c28f387d",
   "metadata": {},
   "source": [
    "# Day 4\n",
    "https://adventofcode.com/2017/day/4"
   ]
  },
  {
   "cell_type": "code",
   "execution_count": 1,
   "id": "599c7d0e",
   "metadata": {},
   "outputs": [],
   "source": [
    "import aocd\n",
    "data = aocd.get_data(year=2017, day=4)"
   ]
  },
  {
   "cell_type": "code",
   "execution_count": 2,
   "id": "78d1bac8",
   "metadata": {},
   "outputs": [],
   "source": [
    "def sort_word(word):\n",
    "    return ''.join(char for char in sorted(word))"
   ]
  },
  {
   "cell_type": "code",
   "execution_count": 3,
   "id": "182459ac",
   "metadata": {},
   "outputs": [],
   "source": [
    "def valid_passphrase(words, check_anagrams=False):\n",
    "    seen = set()\n",
    "    for word in words:\n",
    "        word = sort_word(word) if check_anagrams else word\n",
    "        if word in seen:\n",
    "            return False\n",
    "        seen.add(word)\n",
    "    return True"
   ]
  },
  {
   "cell_type": "code",
   "execution_count": 4,
   "id": "cbee103f",
   "metadata": {},
   "outputs": [],
   "source": [
    "def valid_passphrases(phrases, check_anagrams=False):\n",
    "    return sum(1 for phrase in phrases if valid_passphrase(phrase.split(' '), check_anagrams))"
   ]
  },
  {
   "cell_type": "code",
   "execution_count": 5,
   "id": "d72fb62a",
   "metadata": {},
   "outputs": [
    {
     "name": "stdout",
     "output_type": "stream",
     "text": [
      "Part 1: 466\n",
      "Part 2: 251\n"
     ]
    }
   ],
   "source": [
    "phrases = data.split('\\n')\n",
    "p1 = valid_passphrases(phrases)\n",
    "print('Part 1: {}'.format(p1))\n",
    "p2 = valid_passphrases(phrases, True)\n",
    "print('Part 2: {}'.format(p2))"
   ]
  }
 ],
 "metadata": {
  "kernelspec": {
   "display_name": "Python 3 (ipykernel)",
   "language": "python",
   "name": "python3"
  },
  "language_info": {
   "codemirror_mode": {
    "name": "ipython",
    "version": 3
   },
   "file_extension": ".py",
   "mimetype": "text/x-python",
   "name": "python",
   "nbconvert_exporter": "python",
   "pygments_lexer": "ipython3",
   "version": "3.9.5"
  }
 },
 "nbformat": 4,
 "nbformat_minor": 5
}
