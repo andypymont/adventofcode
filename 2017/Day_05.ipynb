{
 "cells": [
  {
   "cell_type": "markdown",
   "id": "bdcf74b9",
   "metadata": {},
   "source": [
    "# Day 5\n",
    "https://adventofcode.com/2017/day/5"
   ]
  },
  {
   "cell_type": "code",
   "execution_count": 1,
   "id": "248af3d4",
   "metadata": {},
   "outputs": [],
   "source": [
    "import aocd\n",
    "data = aocd.get_data(year=2017, day=5)"
   ]
  },
  {
   "cell_type": "code",
   "execution_count": 2,
   "id": "4db2ef31",
   "metadata": {},
   "outputs": [],
   "source": [
    "def read_jumps(text):\n",
    "    return [int(x) for x in text.split('\\n')]"
   ]
  },
  {
   "cell_type": "code",
   "execution_count": 3,
   "id": "0bd40cc4",
   "metadata": {},
   "outputs": [],
   "source": [
    "def increment_by_one(val):\n",
    "    return val + 1"
   ]
  },
  {
   "cell_type": "code",
   "execution_count": 4,
   "id": "b74d9b8f",
   "metadata": {},
   "outputs": [],
   "source": [
    "def varied_based_on_value(val):\n",
    "    return (val - 1) if (val >= 3) else (val + 1)"
   ]
  },
  {
   "cell_type": "code",
   "execution_count": 5,
   "id": "9708d2e4",
   "metadata": {},
   "outputs": [],
   "source": [
    "def jump(jumps, pos, new_value_policy):\n",
    "    new_pos = pos + jumps[pos]\n",
    "    jumps[pos] = new_value_policy(jumps[pos])\n",
    "    return new_pos"
   ]
  },
  {
   "cell_type": "code",
   "execution_count": 6,
   "id": "9c42a936",
   "metadata": {},
   "outputs": [],
   "source": [
    "def steps_until_exit(jumps, new_value_policy=increment_by_one):\n",
    "    pos = 0\n",
    "    steps = 0\n",
    "    while 0 <= pos < len(jumps):\n",
    "        pos = jump(jumps, pos, new_value_policy)\n",
    "        steps += 1\n",
    "    return steps"
   ]
  },
  {
   "cell_type": "code",
   "execution_count": 7,
   "id": "aa14256b",
   "metadata": {},
   "outputs": [
    {
     "name": "stdout",
     "output_type": "stream",
     "text": [
      "Part 1: 376976\n",
      "Part 2: 29227751\n"
     ]
    }
   ],
   "source": [
    "p1 = steps_until_exit(read_jumps(data))\n",
    "print('Part 1: {}'.format(p1))\n",
    "p2 = steps_until_exit(read_jumps(data), varied_based_on_value)\n",
    "print('Part 2: {}'.format(p2))"
   ]
  }
 ],
 "metadata": {
  "kernelspec": {
   "display_name": "Python 3 (ipykernel)",
   "language": "python",
   "name": "python3"
  },
  "language_info": {
   "codemirror_mode": {
    "name": "ipython",
    "version": 3
   },
   "file_extension": ".py",
   "mimetype": "text/x-python",
   "name": "python",
   "nbconvert_exporter": "python",
   "pygments_lexer": "ipython3",
   "version": "3.9.5"
  }
 },
 "nbformat": 4,
 "nbformat_minor": 5
}
