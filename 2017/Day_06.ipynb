{
 "cells": [
  {
   "cell_type": "markdown",
   "id": "ecd4de5f",
   "metadata": {},
   "source": [
    "# Day 6\n",
    "https://adventofcode.com/2017/day/6"
   ]
  },
  {
   "cell_type": "code",
   "execution_count": 1,
   "id": "980c4bd3",
   "metadata": {},
   "outputs": [],
   "source": [
    "import aocd\n",
    "data = aocd.get_data(year=2017, day=6)"
   ]
  },
  {
   "cell_type": "code",
   "execution_count": 2,
   "id": "a992ca1e",
   "metadata": {},
   "outputs": [],
   "source": [
    "def read_initial_blocks(text):\n",
    "    return tuple(int(val) for val in data.split('\\t'))"
   ]
  },
  {
   "cell_type": "code",
   "execution_count": 3,
   "id": "6a4038e7",
   "metadata": {},
   "outputs": [],
   "source": [
    "def largest_block(blocks):\n",
    "    largest_size = max(blocks)\n",
    "    for block, size in enumerate(blocks):\n",
    "        if size == largest_size:\n",
    "            return block"
   ]
  },
  {
   "cell_type": "code",
   "execution_count": 4,
   "id": "a5dcf45e",
   "metadata": {},
   "outputs": [],
   "source": [
    "def redistribute_from_largest(blocks):\n",
    "    blocks = list(blocks)\n",
    "    source = largest_block(blocks)\n",
    "    redist = blocks[source]\n",
    "    blocks[source] = 0\n",
    "    bank = source + 1\n",
    "    while redist > 0:\n",
    "        blocks[bank % len(blocks)] += 1\n",
    "        redist -= 1\n",
    "        bank += 1\n",
    "    return tuple(blocks)"
   ]
  },
  {
   "cell_type": "code",
   "execution_count": 5,
   "id": "7faed5d7",
   "metadata": {},
   "outputs": [],
   "source": [
    "def redistribution_cycles_until_repeat(blocks):\n",
    "    seen = set()\n",
    "    \n",
    "    cycles1 = 0\n",
    "    while blocks not in seen:\n",
    "        seen.add(blocks)\n",
    "        blocks = redistribute_from_largest(blocks)\n",
    "        cycles1 += 1\n",
    "    \n",
    "    seeking = blocks\n",
    "    cycles2 = 0\n",
    "    while (blocks != seeking) or (cycles2 == 0):\n",
    "        blocks = redistribute_from_largest(blocks)\n",
    "        cycles2 += 1\n",
    "    \n",
    "    return cycles1, cycles2"
   ]
  },
  {
   "cell_type": "code",
   "execution_count": 6,
   "id": "0d5608a2",
   "metadata": {},
   "outputs": [
    {
     "name": "stdout",
     "output_type": "stream",
     "text": [
      "Part 1: 14029\n",
      "Part 2: 2765\n"
     ]
    }
   ],
   "source": [
    "blocks = read_initial_blocks(data)\n",
    "p1, p2 = redistribution_cycles_until_repeat(blocks)\n",
    "print('Part 1: {}'.format(p1))\n",
    "print('Part 2: {}'.format(p2))"
   ]
  }
 ],
 "metadata": {
  "kernelspec": {
   "display_name": "Python 3 (ipykernel)",
   "language": "python",
   "name": "python3"
  },
  "language_info": {
   "codemirror_mode": {
    "name": "ipython",
    "version": 3
   },
   "file_extension": ".py",
   "mimetype": "text/x-python",
   "name": "python",
   "nbconvert_exporter": "python",
   "pygments_lexer": "ipython3",
   "version": "3.9.5"
  }
 },
 "nbformat": 4,
 "nbformat_minor": 5
}
