{
 "cells": [
  {
   "cell_type": "markdown",
   "id": "1005532f",
   "metadata": {},
   "source": [
    "# Day 7\n",
    "https://adventofcode.com/2017/day/7"
   ]
  },
  {
   "cell_type": "code",
   "execution_count": 1,
   "id": "3538690a",
   "metadata": {},
   "outputs": [],
   "source": [
    "import aocd\n",
    "data = aocd.get_data(year=2017, day=7)"
   ]
  },
  {
   "cell_type": "code",
   "execution_count": 2,
   "id": "4b3188d7",
   "metadata": {},
   "outputs": [],
   "source": [
    "from dataclasses import dataclass\n",
    "from typing import Tuple\n",
    "import regex as re"
   ]
  },
  {
   "cell_type": "code",
   "execution_count": 3,
   "id": "6124906c",
   "metadata": {},
   "outputs": [],
   "source": [
    "@dataclass(frozen=True)\n",
    "class Node():\n",
    "    name: str\n",
    "    weight: int\n",
    "    children: Tuple[object]\n",
    "        \n",
    "    @classmethod\n",
    "    def from_node_info(cls, weights, children, name):\n",
    "        directchildren = tuple(\n",
    "            cls.from_node_info(weights, children, childname) for childname in children.get(name, [])\n",
    "        )\n",
    "        return cls(name, weights.get(name, 0), directchildren)\n",
    "    \n",
    "    @property\n",
    "    def child_weights(self):\n",
    "        return [child.total_weight for child in self.children]\n",
    "    \n",
    "    @property\n",
    "    def total_weight(self):\n",
    "        return self.weight + sum(self.child_weights)"
   ]
  },
  {
   "cell_type": "code",
   "execution_count": 4,
   "id": "0cc32f6b",
   "metadata": {},
   "outputs": [],
   "source": [
    "def find_bottom(weights, children):\n",
    "    all_children = set()\n",
    "    for node, directchildren in children.items():\n",
    "        all_children = all_children.union(directchildren)\n",
    "    \n",
    "    all_nodes = set(weights.keys())\n",
    "    \n",
    "    return next(iter(all_nodes.difference(all_children)))"
   ]
  },
  {
   "cell_type": "code",
   "execution_count": 5,
   "id": "7fbac95c",
   "metadata": {},
   "outputs": [],
   "source": [
    "re_weights = re.compile(r'(\\w+) \\((\\d+)\\)')\n",
    "re_children = re.compile(r'(\\w+) \\(\\d+\\) -> ([\\w, ]+)')\n",
    "def read_tower(text):\n",
    "    weights = dict((name, int(weight)) for name, weight in re_weights.findall(text))\n",
    "    children = dict((name, children.split(', ')) for name, children in re_children.findall(text))\n",
    "    bottom = find_bottom(weights, children)\n",
    "    return Node.from_node_info(weights, children, bottom)"
   ]
  },
  {
   "cell_type": "code",
   "execution_count": 6,
   "id": "df3421d2",
   "metadata": {},
   "outputs": [],
   "source": [
    "def correct_weight(node, correction=0):\n",
    "    child_weights = node.child_weights\n",
    "    def is_standard_weight(weight):\n",
    "        return sum(1 for cw in child_weights if cw == weight) > 1\n",
    "    \n",
    "    standard_weights = [cw for cw in child_weights if is_standard_weight(cw)]\n",
    "    non_standard_weights = [cw for cw in child_weights if not is_standard_weight(cw)]\n",
    "    \n",
    "    if len(non_standard_weights) == 0:\n",
    "        return node.weight + correction\n",
    "    \n",
    "    node_to_correct = next(child for ix, child\n",
    "                           in enumerate(node.children)\n",
    "                           if child_weights[ix] == non_standard_weights[0])\n",
    "    \n",
    "    return correct_weight(node_to_correct, standard_weights[0] - non_standard_weights[0])"
   ]
  },
  {
   "cell_type": "code",
   "execution_count": 7,
   "id": "4dc887b2",
   "metadata": {},
   "outputs": [
    {
     "name": "stdout",
     "output_type": "stream",
     "text": [
      "Part 1: ykpsek\n",
      "Part 2: 1060\n"
     ]
    }
   ],
   "source": [
    "base = read_tower(data)\n",
    "print('Part 1: {}'.format(base.name))\n",
    "print('Part 2: {}'.format(correct_weight(base)))"
   ]
  }
 ],
 "metadata": {
  "kernelspec": {
   "display_name": "Python 3 (ipykernel)",
   "language": "python",
   "name": "python3"
  },
  "language_info": {
   "codemirror_mode": {
    "name": "ipython",
    "version": 3
   },
   "file_extension": ".py",
   "mimetype": "text/x-python",
   "name": "python",
   "nbconvert_exporter": "python",
   "pygments_lexer": "ipython3",
   "version": "3.9.5"
  }
 },
 "nbformat": 4,
 "nbformat_minor": 5
}
