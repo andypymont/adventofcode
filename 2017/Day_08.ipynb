{
 "cells": [
  {
   "cell_type": "markdown",
   "id": "5e24a221",
   "metadata": {},
   "source": [
    "# Day 8\n",
    "https://adventofcode.com/2017/day/8"
   ]
  },
  {
   "cell_type": "code",
   "execution_count": 1,
   "id": "3081fa1c",
   "metadata": {},
   "outputs": [],
   "source": [
    "import aocd\n",
    "data = aocd.get_data(year=2017, day=8)"
   ]
  },
  {
   "cell_type": "code",
   "execution_count": 2,
   "id": "6216bb53",
   "metadata": {},
   "outputs": [],
   "source": [
    "from dataclasses import dataclass\n",
    "import regex as re"
   ]
  },
  {
   "cell_type": "code",
   "execution_count": 3,
   "id": "b0a5e01b",
   "metadata": {},
   "outputs": [],
   "source": [
    "from operator import __eq__, __ne__, __gt__, __lt__, __ge__, __le__"
   ]
  },
  {
   "cell_type": "code",
   "execution_count": 4,
   "id": "465bf467",
   "metadata": {},
   "outputs": [],
   "source": [
    "re_instruction = re.compile(r'(\\w+) (inc|dec) ([-\\d]+) if (\\w+) ([!=><]+) ([-\\d]+)')"
   ]
  },
  {
   "cell_type": "code",
   "execution_count": 5,
   "id": "3e6df842",
   "metadata": {},
   "outputs": [],
   "source": [
    "OPS = {\n",
    "    '==': __eq__,\n",
    "    '!=': __ne__,\n",
    "    '>': __gt__,\n",
    "    '>=': __ge__,\n",
    "    '<': __lt__,\n",
    "    '<=': __le__\n",
    "}\n",
    "\n",
    "@dataclass(frozen=True)\n",
    "class Condition():\n",
    "    register: str\n",
    "    operation: str\n",
    "    value: int\n",
    "        \n",
    "    @property\n",
    "    def operator(self):\n",
    "        return OPS.get(self.operation)\n",
    "    \n",
    "    def is_met(self, registers):\n",
    "        actual = registers.get(self.register, 0)\n",
    "        return self.operator(actual, self.value)\n",
    "\n",
    "@dataclass(frozen=True)\n",
    "class Instruction():\n",
    "    target: str\n",
    "    change: int\n",
    "    condition: Condition\n",
    "    \n",
    "    @classmethod\n",
    "    def from_regex_groups(cls, groups):\n",
    "        reg, incdec, amount, condition_reg, condition_op, condition_val = groups\n",
    "        condition = Condition(condition_reg, condition_op, int(condition_val))\n",
    "        change = int(amount) * (1 if incdec == 'inc' else -1)\n",
    "        return cls(reg, change, condition)\n",
    "    \n",
    "    @classmethod\n",
    "    def all_from_input_text(cls, text):\n",
    "        return [cls.from_regex_groups(groups) for groups in re_instruction.findall(text)]\n",
    "    \n",
    "    def execute(self, registers):\n",
    "        if self.condition.is_met(registers):\n",
    "            registers[self.target] = registers.get(self.target, 0) + self.change"
   ]
  },
  {
   "cell_type": "code",
   "execution_count": 11,
   "id": "d0e67d5a",
   "metadata": {},
   "outputs": [],
   "source": [
    "def execute_program(text):\n",
    "    instructions = Instruction.all_from_input_text(text)\n",
    "    registers = dict()\n",
    "    maximums = []\n",
    "    \n",
    "    for instruction in instructions:\n",
    "        instruction.execute(registers)\n",
    "        maximums.append(max(registers.values()))\n",
    "        \n",
    "    return maximums"
   ]
  },
  {
   "cell_type": "code",
   "execution_count": 12,
   "id": "94c826d9",
   "metadata": {},
   "outputs": [
    {
     "name": "stdout",
     "output_type": "stream",
     "text": [
      "Part 1: 8022\n",
      "Part 2: 9819\n"
     ]
    }
   ],
   "source": [
    "results = execute_program(data)\n",
    "p1 = results[-1]\n",
    "print('Part 1: {}'.format(p1))\n",
    "p2 = max(results)\n",
    "print('Part 2: {}'.format(p2))"
   ]
  }
 ],
 "metadata": {
  "kernelspec": {
   "display_name": "Python 3 (ipykernel)",
   "language": "python",
   "name": "python3"
  },
  "language_info": {
   "codemirror_mode": {
    "name": "ipython",
    "version": 3
   },
   "file_extension": ".py",
   "mimetype": "text/x-python",
   "name": "python",
   "nbconvert_exporter": "python",
   "pygments_lexer": "ipython3",
   "version": "3.9.5"
  }
 },
 "nbformat": 4,
 "nbformat_minor": 5
}
