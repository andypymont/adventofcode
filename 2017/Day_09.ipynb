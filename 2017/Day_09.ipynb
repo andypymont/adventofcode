{
 "cells": [
  {
   "cell_type": "markdown",
   "id": "da82bcde",
   "metadata": {},
   "source": [
    "# Day 9\n",
    "https://adventofcode.com/2017/day/9"
   ]
  },
  {
   "cell_type": "code",
   "execution_count": 1,
   "id": "4abc183e",
   "metadata": {},
   "outputs": [],
   "source": [
    "import aocd\n",
    "data = aocd.get_data(year=2017, day=9)"
   ]
  },
  {
   "cell_type": "code",
   "execution_count": 2,
   "id": "3e2450a9",
   "metadata": {},
   "outputs": [],
   "source": [
    "def parse_stream(stream):\n",
    "    groups = []\n",
    "    garbage = 0\n",
    "    \n",
    "    in_garbage = False\n",
    "    cancel = False\n",
    "    depth = 0\n",
    "    \n",
    "    for (ix, char) in enumerate(stream):\n",
    "        if in_garbage and cancel:\n",
    "            cancel = False\n",
    "        elif in_garbage:\n",
    "            if char == '!':\n",
    "                cancel = True\n",
    "            elif char == '>':\n",
    "                in_garbage = False\n",
    "            else:\n",
    "                garbage += 1\n",
    "        else:\n",
    "            if char == '<':\n",
    "                in_garbage = True\n",
    "            elif char == '{':\n",
    "                depth += 1\n",
    "            elif char == '}':\n",
    "                groups.append(depth)\n",
    "                depth -= 1\n",
    "    \n",
    "    return sum(groups), garbage"
   ]
  },
  {
   "cell_type": "code",
   "execution_count": 3,
   "id": "765b1699",
   "metadata": {},
   "outputs": [
    {
     "name": "stdout",
     "output_type": "stream",
     "text": [
      "Part 1: 12897\n",
      "Part 2: 7031\n"
     ]
    }
   ],
   "source": [
    "p1, p2 = parse_stream(data)\n",
    "print('Part 1: {}'.format(p1))\n",
    "print('Part 2: {}'.format(p2))"
   ]
  }
 ],
 "metadata": {
  "kernelspec": {
   "display_name": "Python 3 (ipykernel)",
   "language": "python",
   "name": "python3"
  },
  "language_info": {
   "codemirror_mode": {
    "name": "ipython",
    "version": 3
   },
   "file_extension": ".py",
   "mimetype": "text/x-python",
   "name": "python",
   "nbconvert_exporter": "python",
   "pygments_lexer": "ipython3",
   "version": "3.9.5"
  }
 },
 "nbformat": 4,
 "nbformat_minor": 5
}
