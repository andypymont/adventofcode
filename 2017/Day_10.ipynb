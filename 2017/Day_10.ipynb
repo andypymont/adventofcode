{
 "cells": [
  {
   "cell_type": "markdown",
   "id": "db1d5cfa",
   "metadata": {},
   "source": [
    "# Day 10\n",
    "https://adventofcode.com/2017/day/10"
   ]
  },
  {
   "cell_type": "code",
   "execution_count": 1,
   "id": "58df6d9b",
   "metadata": {},
   "outputs": [],
   "source": [
    "import aocd\n",
    "data = aocd.get_data(year=2017, day=10)"
   ]
  },
  {
   "cell_type": "code",
   "execution_count": 2,
   "id": "e1947e48",
   "metadata": {},
   "outputs": [],
   "source": [
    "from functools import reduce\n",
    "from math import prod\n",
    "from operator import __xor__"
   ]
  },
  {
   "cell_type": "code",
   "execution_count": 3,
   "id": "907179dc",
   "metadata": {},
   "outputs": [],
   "source": [
    "def read_lengths(text, ascii=False):\n",
    "    if ascii:\n",
    "        return tuple(ord(char) for char in text)\n",
    "    return tuple(int(length) for length in text.split(','))"
   ]
  },
  {
   "cell_type": "code",
   "execution_count": 4,
   "id": "68dba948",
   "metadata": {},
   "outputs": [],
   "source": [
    "def slice_circle(circle, start, length):\n",
    "    return circle[start:start+length] + circle[0:max(start+length-len(circle), 0)]"
   ]
  },
  {
   "cell_type": "code",
   "execution_count": 5,
   "id": "0e2afbef",
   "metadata": {},
   "outputs": [],
   "source": [
    "def reverse_section(circle, pos, length):\n",
    "    section = slice_circle(circle, pos, length)\n",
    "    reversed_section = section[::-1]\n",
    "    replacements = dict(zip(section, reversed_section))\n",
    "    return tuple(replacements.get(item, item) for item in circle)"
   ]
  },
  {
   "cell_type": "code",
   "execution_count": 6,
   "id": "83b852f5",
   "metadata": {},
   "outputs": [],
   "source": [
    "def tie_knots(size, lengths):\n",
    "    circle = tuple(range(size))\n",
    "    pos = 0\n",
    "    skip = 0\n",
    "    for length in lengths:\n",
    "        circle = reverse_section(circle, pos, length)\n",
    "        pos = (pos + length + skip) % size\n",
    "        skip += 1\n",
    "    return circle"
   ]
  },
  {
   "cell_type": "code",
   "execution_count": 7,
   "id": "c596fba8",
   "metadata": {},
   "outputs": [],
   "source": [
    "def knot_hash(lengths, rounds=64):\n",
    "    lengths = (lengths + (17, 31, 73, 47, 23)) * rounds\n",
    "    sparse_hash = tie_knots(256, lengths)\n",
    "    dense_hash = [reduce(__xor__, sparse_hash[grp:grp+16]) for grp in range(0, 256, 16)]\n",
    "    return ''.join(f'{char:0{2}x}' for char in dense_hash)"
   ]
  },
  {
   "cell_type": "code",
   "execution_count": 8,
   "id": "c6cda50e",
   "metadata": {},
   "outputs": [
    {
     "name": "stdout",
     "output_type": "stream",
     "text": [
      "Part 1: 11413\n",
      "Part 2: 7adfd64c2a03a4968cf708d1b7fd418d\n"
     ]
    }
   ],
   "source": [
    "p1 = prod(tie_knots(256, read_lengths(data))[:2])\n",
    "print(f'Part 1: {p1}')\n",
    "p2 = knot_hash(read_lengths(data, True))\n",
    "print(f'Part 2: {p2}')"
   ]
  }
 ],
 "metadata": {
  "kernelspec": {
   "display_name": "Python 3 (ipykernel)",
   "language": "python",
   "name": "python3"
  },
  "language_info": {
   "codemirror_mode": {
    "name": "ipython",
    "version": 3
   },
   "file_extension": ".py",
   "mimetype": "text/x-python",
   "name": "python",
   "nbconvert_exporter": "python",
   "pygments_lexer": "ipython3",
   "version": "3.9.5"
  }
 },
 "nbformat": 4,
 "nbformat_minor": 5
}
