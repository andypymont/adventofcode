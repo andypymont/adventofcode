{
 "cells": [
  {
   "cell_type": "markdown",
   "id": "bf9daeac",
   "metadata": {},
   "source": [
    "# Day 11\n",
    "https://adventofcode.com/2017/day/11"
   ]
  },
  {
   "cell_type": "code",
   "execution_count": 1,
   "id": "701854f9",
   "metadata": {},
   "outputs": [],
   "source": [
    "import aocd\n",
    "data = aocd.get_data(year=2017, day=11)"
   ]
  },
  {
   "cell_type": "code",
   "execution_count": 2,
   "id": "c2ef45bc",
   "metadata": {},
   "outputs": [],
   "source": [
    "from dataclasses import dataclass"
   ]
  },
  {
   "cell_type": "code",
   "execution_count": 3,
   "id": "4dccbad0",
   "metadata": {},
   "outputs": [],
   "source": [
    "@dataclass(frozen=True)\n",
    "class Point():\n",
    "    x: int\n",
    "    y: int\n",
    "    \n",
    "    @property\n",
    "    def z(self):\n",
    "        return 0 - self.y - self.x\n",
    "    \n",
    "    @property\n",
    "    def distance(self):\n",
    "        return (abs(self.x) + abs(self.y) + abs(self.z)) // 2\n",
    "    \n",
    "    def __add__(self, other):\n",
    "        return Point(self.x + other.x, self.y + other.y)"
   ]
  },
  {
   "cell_type": "code",
   "execution_count": 4,
   "id": "ed79535e",
   "metadata": {},
   "outputs": [],
   "source": [
    "directions = {\n",
    "    'n': Point(x=0, y=1),\n",
    "    'ne': Point(x=1, y=0),\n",
    "    'se': Point(x=1, y=-1),\n",
    "    's': Point(x=0, y=-1),\n",
    "    'sw': Point(x=-1, y=0),\n",
    "    'nw': Point(x=-1, y=1),\n",
    "}"
   ]
  },
  {
   "cell_type": "code",
   "execution_count": 5,
   "id": "907633ca",
   "metadata": {},
   "outputs": [],
   "source": [
    "def distances_on_journey(steps):\n",
    "    pos = Point(0, 0)\n",
    "    for step in steps:\n",
    "        pos += directions[step]\n",
    "        yield pos.distance"
   ]
  },
  {
   "cell_type": "code",
   "execution_count": 6,
   "id": "e1cd9c95",
   "metadata": {},
   "outputs": [
    {
     "name": "stdout",
     "output_type": "stream",
     "text": [
      "Part 1: 773\n",
      "Part 2: 1560\n"
     ]
    }
   ],
   "source": [
    "steps = data.split(',')\n",
    "distances = list(distances_on_journey(steps))\n",
    "p1 = distances[-1]\n",
    "print(f'Part 1: {p1}')\n",
    "p2 = max(distances)\n",
    "print(f'Part 2: {p2}')"
   ]
  }
 ],
 "metadata": {
  "kernelspec": {
   "display_name": "Python 3 (ipykernel)",
   "language": "python",
   "name": "python3"
  },
  "language_info": {
   "codemirror_mode": {
    "name": "ipython",
    "version": 3
   },
   "file_extension": ".py",
   "mimetype": "text/x-python",
   "name": "python",
   "nbconvert_exporter": "python",
   "pygments_lexer": "ipython3",
   "version": "3.9.5"
  }
 },
 "nbformat": 4,
 "nbformat_minor": 5
}
