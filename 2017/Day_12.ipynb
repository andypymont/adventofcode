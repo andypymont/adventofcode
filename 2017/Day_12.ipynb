{
 "cells": [
  {
   "cell_type": "markdown",
   "id": "2b00ddce",
   "metadata": {},
   "source": [
    "# Day 12\n",
    "https://adventofcode.com/2017/day/12"
   ]
  },
  {
   "cell_type": "code",
   "execution_count": 1,
   "id": "83e807a4",
   "metadata": {},
   "outputs": [],
   "source": [
    "import aocd\n",
    "data = aocd.get_data(year=2017, day=12)"
   ]
  },
  {
   "cell_type": "code",
   "execution_count": 2,
   "id": "616b362e",
   "metadata": {},
   "outputs": [],
   "source": [
    "import regex as re"
   ]
  },
  {
   "cell_type": "code",
   "execution_count": 3,
   "id": "994e5d34",
   "metadata": {},
   "outputs": [],
   "source": [
    "re_pipes = re.compile(r'(\\d+) <-> ([\\d ,]+)')\n",
    "def read_pipes(text):\n",
    "    pipes = dict()\n",
    "    for pipe, connections in re_pipes.findall(text):\n",
    "        pipes[int(pipe)] = set(int(conn) for conn in connections.split(','))\n",
    "    return pipes"
   ]
  },
  {
   "cell_type": "code",
   "execution_count": 4,
   "id": "b367fe43",
   "metadata": {},
   "outputs": [],
   "source": [
    "def all_connected_programs(pipes, origin=0, visited=None):\n",
    "    visited = visited if visited else set()\n",
    "    visited.add(origin)\n",
    "    for pipe in pipes.get(origin, set()):\n",
    "        if pipe not in visited:\n",
    "            visited = visited.union(all_connected_programs(pipes, pipe, visited))\n",
    "    return visited"
   ]
  },
  {
   "cell_type": "code",
   "execution_count": 5,
   "id": "92d9384a",
   "metadata": {},
   "outputs": [],
   "source": [
    "def find_all_groups(pipes):\n",
    "    mapped = set()\n",
    "    groups = tuple()\n",
    "    while len(mapped) < len(pipes):\n",
    "        candidate = next(pipe for pipe in pipes.keys() if pipe not in mapped)\n",
    "        newly_reached = all_connected_programs(pipes, candidate)\n",
    "        groups += (newly_reached,)\n",
    "        mapped = mapped.union(newly_reached)\n",
    "    return groups"
   ]
  },
  {
   "cell_type": "code",
   "execution_count": 6,
   "id": "1c2bba7d",
   "metadata": {},
   "outputs": [
    {
     "name": "stdout",
     "output_type": "stream",
     "text": [
      "Part 1: 306\n",
      "Part 2: 200\n"
     ]
    }
   ],
   "source": [
    "pipes = read_pipes(data)\n",
    "groups = find_all_groups(pipes)\n",
    "p1 = next(len(group) for group in groups if 0 in group)\n",
    "print(f'Part 1: {p1}')\n",
    "p2 = len(groups)\n",
    "print(f'Part 2: {p2}')"
   ]
  }
 ],
 "metadata": {
  "kernelspec": {
   "display_name": "Python 3 (ipykernel)",
   "language": "python",
   "name": "python3"
  },
  "language_info": {
   "codemirror_mode": {
    "name": "ipython",
    "version": 3
   },
   "file_extension": ".py",
   "mimetype": "text/x-python",
   "name": "python",
   "nbconvert_exporter": "python",
   "pygments_lexer": "ipython3",
   "version": "3.9.5"
  }
 },
 "nbformat": 4,
 "nbformat_minor": 5
}
