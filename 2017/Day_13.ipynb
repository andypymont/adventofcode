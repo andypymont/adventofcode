{
 "cells": [
  {
   "cell_type": "markdown",
   "id": "6f760754",
   "metadata": {},
   "source": [
    "# Day 13\n",
    "https://adventofcode.com/2017/day/13"
   ]
  },
  {
   "cell_type": "code",
   "execution_count": 1,
   "id": "410c0ddb",
   "metadata": {},
   "outputs": [],
   "source": [
    "import aocd\n",
    "data = aocd.get_data(year=2017, day=13)"
   ]
  },
  {
   "cell_type": "code",
   "execution_count": 2,
   "id": "d7102fda",
   "metadata": {},
   "outputs": [],
   "source": [
    "import regex as re"
   ]
  },
  {
   "cell_type": "code",
   "execution_count": 3,
   "id": "36d01f28",
   "metadata": {},
   "outputs": [],
   "source": [
    "class Scanner():\n",
    "    \n",
    "    def __init__(self, depth, height):\n",
    "        self.depth = depth\n",
    "        self.height = height\n",
    "    \n",
    "    def __repr__(self):\n",
    "        return f'Scanner(depth={self.depth}, height={self.height})'\n",
    "    \n",
    "    @property\n",
    "    def cycle_size(self):\n",
    "        return (self.height - 1) * 2\n",
    "    \n",
    "    @property\n",
    "    def severity(self):\n",
    "        return self.depth * self.height\n",
    "    \n",
    "    def collision(self, launch_time):\n",
    "        picosecond = launch_time + self.depth\n",
    "        return (picosecond % self.cycle_size == 0)"
   ]
  },
  {
   "cell_type": "code",
   "execution_count": 4,
   "id": "37765a08",
   "metadata": {},
   "outputs": [],
   "source": [
    "re_scanner = re.compile(r'(\\d+): (\\d+)')\n",
    "def read_scanners(text):\n",
    "    return tuple(Scanner(int(depth), int(height)) for depth, height in re_scanner.findall(text))"
   ]
  },
  {
   "cell_type": "code",
   "execution_count": 5,
   "id": "c581ed27",
   "metadata": {},
   "outputs": [],
   "source": [
    "def collisions(scanners, launch_time=0):\n",
    "    for scanner in scanners:\n",
    "        if scanner.collision(launch_time):\n",
    "            yield scanner.severity"
   ]
  },
  {
   "cell_type": "code",
   "execution_count": 6,
   "id": "91979e46",
   "metadata": {},
   "outputs": [],
   "source": [
    "def safe_journey(scanners, launch_time):\n",
    "    for collision in collisions(scanners, launch_time):\n",
    "        return False\n",
    "    return True"
   ]
  },
  {
   "cell_type": "code",
   "execution_count": 7,
   "id": "006d9056",
   "metadata": {},
   "outputs": [],
   "source": [
    "def find_safe_journey(scanners):\n",
    "    launch_time = 0\n",
    "    while not safe_journey(scanners, launch_time):\n",
    "        launch_time += 1\n",
    "    return launch_time"
   ]
  },
  {
   "cell_type": "code",
   "execution_count": 8,
   "id": "5792ba4f",
   "metadata": {},
   "outputs": [
    {
     "name": "stdout",
     "output_type": "stream",
     "text": [
      "Part 1: 1840\n",
      "Part 1: 3850260\n"
     ]
    }
   ],
   "source": [
    "scanners = read_scanners(data)\n",
    "p1 = sum(collisions(scanners))\n",
    "print(f'Part 1: {p1}')\n",
    "p2 = find_safe_journey(scanners)\n",
    "print(f'Part 1: {p2}')"
   ]
  }
 ],
 "metadata": {
  "kernelspec": {
   "display_name": "Python 3 (ipykernel)",
   "language": "python",
   "name": "python3"
  },
  "language_info": {
   "codemirror_mode": {
    "name": "ipython",
    "version": 3
   },
   "file_extension": ".py",
   "mimetype": "text/x-python",
   "name": "python",
   "nbconvert_exporter": "python",
   "pygments_lexer": "ipython3",
   "version": "3.9.5"
  }
 },
 "nbformat": 4,
 "nbformat_minor": 5
}
