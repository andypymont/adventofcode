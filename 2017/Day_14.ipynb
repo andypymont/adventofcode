{
 "cells": [
  {
   "cell_type": "markdown",
   "id": "9772440c",
   "metadata": {},
   "source": [
    "# Day 14\n",
    "https://adventofcode.com/2017/day/14"
   ]
  },
  {
   "cell_type": "code",
   "execution_count": 1,
   "id": "58a99518",
   "metadata": {},
   "outputs": [],
   "source": [
    "import aocd\n",
    "data = aocd.get_data(year=2017, day=14)"
   ]
  },
  {
   "cell_type": "code",
   "execution_count": 2,
   "id": "b90e34a9",
   "metadata": {},
   "outputs": [],
   "source": [
    "from dataclasses import dataclass\n",
    "from functools import reduce\n",
    "from math import prod\n",
    "from operator import __xor__"
   ]
  },
  {
   "cell_type": "markdown",
   "id": "3ec9b469",
   "metadata": {},
   "source": [
    "#### Adapted code from Day 10 Knot Hash algorithm"
   ]
  },
  {
   "cell_type": "code",
   "execution_count": 3,
   "id": "f46d1623",
   "metadata": {},
   "outputs": [],
   "source": [
    "def read_lengths(text):\n",
    "    return tuple(ord(char) for char in text)"
   ]
  },
  {
   "cell_type": "code",
   "execution_count": 4,
   "id": "6d12185e",
   "metadata": {},
   "outputs": [],
   "source": [
    "def slice_circle(circle, start, length):\n",
    "    return circle[start:start+length] + circle[0:max(start+length-len(circle), 0)]"
   ]
  },
  {
   "cell_type": "code",
   "execution_count": 5,
   "id": "0cd1d825",
   "metadata": {},
   "outputs": [],
   "source": [
    "def reverse_section(circle, pos, length):\n",
    "    section = slice_circle(circle, pos, length)\n",
    "    reversed_section = section[::-1]\n",
    "    replacements = dict(zip(section, reversed_section))\n",
    "    return tuple(replacements.get(item, item) for item in circle)"
   ]
  },
  {
   "cell_type": "code",
   "execution_count": 6,
   "id": "50050209",
   "metadata": {},
   "outputs": [],
   "source": [
    "def tie_knots(size, lengths):\n",
    "    circle = tuple(range(size))\n",
    "    pos = 0\n",
    "    skip = 0\n",
    "    for length in lengths:\n",
    "        circle = reverse_section(circle, pos, length)\n",
    "        pos = (pos + length + skip) % size\n",
    "        skip += 1\n",
    "    return circle"
   ]
  },
  {
   "cell_type": "code",
   "execution_count": 7,
   "id": "33020883",
   "metadata": {},
   "outputs": [],
   "source": [
    "def knot_hash(text, rounds=64):\n",
    "    lengths = (read_lengths(text) + (17, 31, 73, 47, 23)) * rounds\n",
    "    sparse_hash = tie_knots(256, lengths)\n",
    "    dense_hash = [reduce(__xor__, sparse_hash[grp:grp+16]) for grp in range(0, 256, 16)]\n",
    "    return ''.join(f'{char:0{2}x}' for char in dense_hash)"
   ]
  },
  {
   "cell_type": "markdown",
   "id": "e2563f47",
   "metadata": {},
   "source": [
    "#### Part 1: Calculate occupied squares"
   ]
  },
  {
   "cell_type": "code",
   "execution_count": 8,
   "id": "2d459329",
   "metadata": {},
   "outputs": [],
   "source": [
    "@dataclass(frozen=True)\n",
    "class Point():\n",
    "    y: int\n",
    "    x: int\n",
    "        \n",
    "    def __add__(self, other):\n",
    "        return Point(self.y + other.y, self.x + other.x)"
   ]
  },
  {
   "cell_type": "code",
   "execution_count": 9,
   "id": "eca18c30",
   "metadata": {},
   "outputs": [],
   "source": [
    "def dense_hash_to_digits(dense_hash):\n",
    "    digits = []\n",
    "    for char in dense_hash:\n",
    "        digits.append(int(char, 16))\n",
    "    return digits"
   ]
  },
  {
   "cell_type": "code",
   "execution_count": 10,
   "id": "1a1d9313",
   "metadata": {},
   "outputs": [],
   "source": [
    "def row(key, row_number):\n",
    "    digits = dense_hash_to_digits(knot_hash(f'{key}-{row_number}'))\n",
    "    return ''.join(f'{digit:04b}' for digit in digits)"
   ]
  },
  {
   "cell_type": "code",
   "execution_count": 11,
   "id": "1a36923a",
   "metadata": {},
   "outputs": [],
   "source": [
    "def occupied_squares(key):\n",
    "    occupied = set()\n",
    "    for y in range(128):\n",
    "        for x, char in enumerate(row(key, y)):\n",
    "            if char == '1':\n",
    "                occupied.add(Point(y, x))\n",
    "    return occupied"
   ]
  },
  {
   "cell_type": "code",
   "execution_count": 12,
   "id": "d9524040",
   "metadata": {},
   "outputs": [
    {
     "name": "stdout",
     "output_type": "stream",
     "text": [
      "Part 1: 8106\n"
     ]
    }
   ],
   "source": [
    "occupied = occupied_squares(data)\n",
    "p1 = len(occupied)\n",
    "print(f'Part 1: {p1}')"
   ]
  },
  {
   "cell_type": "markdown",
   "id": "9fe07c0c",
   "metadata": {},
   "source": [
    "#### Part 2: Distinct regions"
   ]
  },
  {
   "cell_type": "code",
   "execution_count": 13,
   "id": "fc7779e3",
   "metadata": {},
   "outputs": [],
   "source": [
    "ADJACENT = [\n",
    "    Point(0, -1),\n",
    "    Point(0, 1),\n",
    "    Point(1, 0),\n",
    "    Point(-1, 0),\n",
    "]"
   ]
  },
  {
   "cell_type": "code",
   "execution_count": 14,
   "id": "9063f51b",
   "metadata": {},
   "outputs": [],
   "source": [
    "def region(occupied, origin, visited=None):\n",
    "    visited = visited if visited else set()\n",
    "    visited.add(origin)\n",
    "    for direction in ADJACENT:\n",
    "        neighbour = origin + direction\n",
    "        if (neighbour in occupied) and (neighbour not in visited):\n",
    "            visited = visited.union(region(occupied, neighbour, visited))\n",
    "    return visited"
   ]
  },
  {
   "cell_type": "code",
   "execution_count": 15,
   "id": "b617f9c7",
   "metadata": {},
   "outputs": [],
   "source": [
    "def all_regions(occupied):\n",
    "    regions = set()\n",
    "    mapped = set()\n",
    "    while len(mapped) < len(occupied):\n",
    "        candidate = next(occ for occ in occupied if occ not in mapped)\n",
    "        candidate_region = region(occupied, candidate)\n",
    "        mapped = mapped.union(candidate_region)\n",
    "        regions.add(tuple((pt.y, pt.x) for pt in candidate_region))\n",
    "    return regions"
   ]
  },
  {
   "cell_type": "code",
   "execution_count": 16,
   "id": "f98b3129",
   "metadata": {},
   "outputs": [
    {
     "name": "stdout",
     "output_type": "stream",
     "text": [
      "Part 2: 1164\n"
     ]
    }
   ],
   "source": [
    "regions = all_regions(occupied)\n",
    "p2 = len(regions)\n",
    "print(f'Part 2: {p2}')"
   ]
  }
 ],
 "metadata": {
  "kernelspec": {
   "display_name": "Python 3 (ipykernel)",
   "language": "python",
   "name": "python3"
  },
  "language_info": {
   "codemirror_mode": {
    "name": "ipython",
    "version": 3
   },
   "file_extension": ".py",
   "mimetype": "text/x-python",
   "name": "python",
   "nbconvert_exporter": "python",
   "pygments_lexer": "ipython3",
   "version": "3.9.5"
  }
 },
 "nbformat": 4,
 "nbformat_minor": 5
}
