{
 "cells": [
  {
   "cell_type": "markdown",
   "id": "001f9346",
   "metadata": {},
   "source": [
    "# Day 15\n",
    "https://adventofcode.com/2017/day/15"
   ]
  },
  {
   "cell_type": "code",
   "execution_count": 1,
   "id": "48d32235",
   "metadata": {},
   "outputs": [],
   "source": [
    "import aocd\n",
    "data = aocd.get_data(year=2017, day=15)"
   ]
  },
  {
   "cell_type": "code",
   "execution_count": 2,
   "id": "93eb3609",
   "metadata": {},
   "outputs": [],
   "source": [
    "from collections import deque\n",
    "import regex as re"
   ]
  },
  {
   "cell_type": "code",
   "execution_count": 3,
   "id": "612c21fe",
   "metadata": {},
   "outputs": [],
   "source": [
    "class Judge():\n",
    "    \n",
    "    def __init__(self, comparisons):\n",
    "        self.comparisons = comparisons\n",
    "        self.count = 0\n",
    "        self.queues = {\n",
    "            'A': deque(),\n",
    "            'B': deque(),\n",
    "        }\n",
    "    \n",
    "    @property\n",
    "    def completed(self):\n",
    "        return self.comparisons <= 0\n",
    "    \n",
    "    def check(self):\n",
    "        while len(self.queues['A']) > 0 and len(self.queues['B']) > 0:\n",
    "            a = self.queues['A'].popleft()\n",
    "            b = self.queues['B'].popleft()\n",
    "            self.comparisons -= 1\n",
    "            if a == b:\n",
    "                self.count += 1\n",
    "    \n",
    "    def report(self, source, number):\n",
    "        if not self.completed:\n",
    "            self.queues.get(source, deque()).append(number)\n",
    "            self.check()"
   ]
  },
  {
   "cell_type": "code",
   "execution_count": 4,
   "id": "90f604bb",
   "metadata": {},
   "outputs": [],
   "source": [
    "class Generator():\n",
    "    \n",
    "    def __init__(self, name, start_value, judge, filtered_judge):\n",
    "        self.name = name\n",
    "        self.value = start_value\n",
    "        self.factor = 16807 if name == 'A' else 48271\n",
    "        self.check = 4 if name == 'A' else 8\n",
    "        self.judge = judge\n",
    "        self.filtered_judge = filtered_judge\n",
    "    \n",
    "    @staticmethod\n",
    "    def hexstart(number):\n",
    "        return f'{number:{0}16b}'[-16:]\n",
    "    \n",
    "    def run(self):\n",
    "        hex_value = self.hexstart(self.value)\n",
    "        \n",
    "        self.judge.report(self.name, hex_value)\n",
    "        if self.value % self.check == 0:\n",
    "            self.filtered_judge.report(self.name, hex_value)\n",
    "        \n",
    "        self.value = (self.value * self.factor) % 2147483647"
   ]
  },
  {
   "cell_type": "code",
   "execution_count": 5,
   "id": "72962fde",
   "metadata": {},
   "outputs": [],
   "source": [
    "re_generators = re.compile(r'Generator (\\w) starts with (\\d+)')\n",
    "def read_start_values(text):\n",
    "    return dict((name, int(val)) for name, val in re_generators.findall(text))"
   ]
  },
  {
   "cell_type": "code",
   "execution_count": 6,
   "id": "b99571ed",
   "metadata": {},
   "outputs": [],
   "source": [
    "def run_full_check(start_values):\n",
    "    judges = (\n",
    "        Judge(40_000_000),\n",
    "        Judge(5_000_000),\n",
    "    )\n",
    "    generators = (\n",
    "        Generator('A', start_values['A'], *judges),\n",
    "        Generator('B', start_values['B'], *judges),\n",
    "    )\n",
    "    \n",
    "    while not all(judge.completed for judge in judges):\n",
    "        for gen in generators:\n",
    "            gen.run()\n",
    "    \n",
    "    return tuple(judge.count for judge in judges)"
   ]
  },
  {
   "cell_type": "code",
   "execution_count": 7,
   "id": "bc75e2a8",
   "metadata": {},
   "outputs": [
    {
     "name": "stdout",
     "output_type": "stream",
     "text": [
      "Part 1: 609\n",
      "Part 2: 253\n"
     ]
    }
   ],
   "source": [
    "values = read_start_values(data)\n",
    "p1, p2 = run_full_check(values)\n",
    "print(f'Part 1: {p1}')\n",
    "print(f'Part 2: {p2}')"
   ]
  }
 ],
 "metadata": {
  "kernelspec": {
   "display_name": "Python 3 (ipykernel)",
   "language": "python",
   "name": "python3"
  },
  "language_info": {
   "codemirror_mode": {
    "name": "ipython",
    "version": 3
   },
   "file_extension": ".py",
   "mimetype": "text/x-python",
   "name": "python",
   "nbconvert_exporter": "python",
   "pygments_lexer": "ipython3",
   "version": "3.9.5"
  }
 },
 "nbformat": 4,
 "nbformat_minor": 5
}
