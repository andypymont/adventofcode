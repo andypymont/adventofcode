{
 "cells": [
  {
   "cell_type": "markdown",
   "id": "25a89706",
   "metadata": {},
   "source": [
    "# Day 16\n",
    "https://adventofcode.com/2017/day/16"
   ]
  },
  {
   "cell_type": "code",
   "execution_count": 1,
   "id": "993889bf",
   "metadata": {},
   "outputs": [],
   "source": [
    "import aocd\n",
    "data = aocd.get_data(year=2017, day=16)"
   ]
  },
  {
   "cell_type": "code",
   "execution_count": 2,
   "id": "9e372583",
   "metadata": {},
   "outputs": [],
   "source": [
    "import regex as re\n",
    "from string import ascii_lowercase"
   ]
  },
  {
   "cell_type": "code",
   "execution_count": 3,
   "id": "6fd622d0",
   "metadata": {},
   "outputs": [],
   "source": [
    "def spin(dancers, quantity):\n",
    "    return dancers[-quantity:] + dancers[:-quantity]"
   ]
  },
  {
   "cell_type": "code",
   "execution_count": 4,
   "id": "03870b60",
   "metadata": {},
   "outputs": [],
   "source": [
    "def exchange(dancers, pos1, pos2):\n",
    "    def new_pos(old_pos):\n",
    "        if old_pos == pos1:\n",
    "            return dancers[pos2]\n",
    "        if old_pos == pos2:\n",
    "            return dancers[pos1]\n",
    "        return dancers[old_pos]\n",
    "        \n",
    "    return ''.join(new_pos(pos) for pos in range(len(dancers)))"
   ]
  },
  {
   "cell_type": "code",
   "execution_count": 5,
   "id": "d364ae49",
   "metadata": {},
   "outputs": [],
   "source": [
    "def partner(dancers, dancer1, dancer2):\n",
    "    def new_dancer(old_dancer):\n",
    "        if old_dancer == dancer1:\n",
    "            return dancer2\n",
    "        if old_dancer == dancer2:\n",
    "            return dancer1\n",
    "        return old_dancer\n",
    "    \n",
    "    return ''.join(new_dancer(dancer) for dancer in dancers)"
   ]
  },
  {
   "cell_type": "code",
   "execution_count": 6,
   "id": "0b5e2a92",
   "metadata": {},
   "outputs": [],
   "source": [
    "def dance_step(step, dancers):\n",
    "    step_type, args = step[0], step[1:]\n",
    "    \n",
    "    if step_type == 's':\n",
    "        return spin(dancers, int(args))\n",
    "    if step_type == 'x':\n",
    "        pos1, pos2 = [int(arg) for arg in args.split('/')]\n",
    "        return exchange(dancers, pos1, pos2)\n",
    "    if step_type == 'p':\n",
    "        dancer1, dancer2 = args.split('/')\n",
    "        return partner(dancers, dancer1, dancer2)\n",
    "    \n",
    "    raise NotImplemented(f'Step type {step_type} not implemented')"
   ]
  },
  {
   "cell_type": "code",
   "execution_count": 7,
   "id": "ad6aee51",
   "metadata": {},
   "outputs": [],
   "source": [
    "def dance(steps, dancers=None, times=1):\n",
    "    dancers = dancers or ascii_lowercase[:16]\n",
    "    for _ in range(times):\n",
    "        for step in steps:\n",
    "            dancers = dance_step(step, dancers)\n",
    "    return dancers"
   ]
  },
  {
   "cell_type": "code",
   "execution_count": 8,
   "id": "63aee8e3",
   "metadata": {},
   "outputs": [],
   "source": [
    "def find_cycle_size(steps):\n",
    "    initial = ascii_lowercase[:16]\n",
    "    times = 1\n",
    "    dancers = dance(steps, initial, 1)\n",
    "    while dancers != initial:\n",
    "        dancers = dance(steps, dancers, 1)\n",
    "        times += 1\n",
    "    return times"
   ]
  },
  {
   "cell_type": "code",
   "execution_count": 9,
   "id": "ce670b19",
   "metadata": {},
   "outputs": [
    {
     "name": "stdout",
     "output_type": "stream",
     "text": [
      "Part 1: dcmlhejnifpokgba\n",
      "Part 2: ifocbejpdnklamhg\n"
     ]
    }
   ],
   "source": [
    "steps = data.split(',')\n",
    "p1 = dance(steps)\n",
    "print(f'Part 1: {p1}')\n",
    "\n",
    "cycle_size = find_cycle_size(steps)\n",
    "times = 1_000_000_000 % cycle_size\n",
    "p2 = dance(steps, times=times)\n",
    "print(f'Part 2: {p2}')"
   ]
  }
 ],
 "metadata": {
  "kernelspec": {
   "display_name": "Python 3 (ipykernel)",
   "language": "python",
   "name": "python3"
  },
  "language_info": {
   "codemirror_mode": {
    "name": "ipython",
    "version": 3
   },
   "file_extension": ".py",
   "mimetype": "text/x-python",
   "name": "python",
   "nbconvert_exporter": "python",
   "pygments_lexer": "ipython3",
   "version": "3.9.5"
  }
 },
 "nbformat": 4,
 "nbformat_minor": 5
}
