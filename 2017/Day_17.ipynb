{
 "cells": [
  {
   "cell_type": "markdown",
   "id": "8651e79b",
   "metadata": {},
   "source": [
    "# Day 17\n",
    "https://adventofcode.com/2017/day/17"
   ]
  },
  {
   "cell_type": "code",
   "execution_count": 1,
   "id": "3b2b65fa",
   "metadata": {},
   "outputs": [],
   "source": [
    "import aocd\n",
    "data = aocd.get_data(year=2017, day=17)"
   ]
  },
  {
   "cell_type": "code",
   "execution_count": 2,
   "id": "9f0b500e",
   "metadata": {},
   "outputs": [],
   "source": [
    "class Node():\n",
    "    \n",
    "    def __init__(self, value, left=None, right=None):\n",
    "        self.value = value\n",
    "        self.left = left or self\n",
    "        self.right = right or self\n",
    "    \n",
    "    def insert(self, value):\n",
    "        new_node = Node(value, self, self.right)\n",
    "        self.right = new_node\n",
    "        return new_node"
   ]
  },
  {
   "cell_type": "code",
   "execution_count": 3,
   "id": "e8e45c00",
   "metadata": {},
   "outputs": [],
   "source": [
    "def spinlock(step):\n",
    "    current = Node(0)\n",
    "    latest = 0\n",
    "    while latest < 2017:\n",
    "        for _ in range(step):\n",
    "            current = current.right\n",
    "        latest += 1\n",
    "        current = current.insert(latest)\n",
    "    return current.right.value"
   ]
  },
  {
   "cell_type": "code",
   "execution_count": 4,
   "id": "c4a6d12c",
   "metadata": {},
   "outputs": [],
   "source": [
    "def value_at_index_one(step, times):\n",
    "    length = 1\n",
    "    current = 0\n",
    "    at_one = 0\n",
    "    for val in range(1, times+1):\n",
    "        current = (current + step) % length\n",
    "        length += 1\n",
    "        current += 1\n",
    "        if current == 1:\n",
    "            at_one = val\n",
    "    return at_one"
   ]
  },
  {
   "cell_type": "code",
   "execution_count": 5,
   "id": "10b199db",
   "metadata": {},
   "outputs": [
    {
     "name": "stdout",
     "output_type": "stream",
     "text": [
      "Part 1: 600\n",
      "Part 2: 31220910\n"
     ]
    }
   ],
   "source": [
    "step = int(data)\n",
    "p1 = spinlock(step)\n",
    "print(f'Part 1: {p1}')\n",
    "p2 = value_at_index_one(step, 50_000_000)\n",
    "print(f'Part 2: {p2}')"
   ]
  }
 ],
 "metadata": {
  "kernelspec": {
   "display_name": "Python 3 (ipykernel)",
   "language": "python",
   "name": "python3"
  },
  "language_info": {
   "codemirror_mode": {
    "name": "ipython",
    "version": 3
   },
   "file_extension": ".py",
   "mimetype": "text/x-python",
   "name": "python",
   "nbconvert_exporter": "python",
   "pygments_lexer": "ipython3",
   "version": "3.9.5"
  }
 },
 "nbformat": 4,
 "nbformat_minor": 5
}
