{
 "cells": [
  {
   "cell_type": "markdown",
   "id": "70190e8f",
   "metadata": {},
   "source": [
    "# Day 18\n",
    "https://adventofcode.com/2017/day/18"
   ]
  },
  {
   "cell_type": "code",
   "execution_count": 1,
   "id": "998e1699",
   "metadata": {},
   "outputs": [],
   "source": [
    "import aocd\n",
    "data = aocd.get_data(year=2017, day=18)"
   ]
  },
  {
   "cell_type": "code",
   "execution_count": 2,
   "id": "6ed39ff3",
   "metadata": {},
   "outputs": [],
   "source": [
    "import regex as re\n",
    "from collections import deque\n",
    "from operator import __add__, __mul__, __mod__"
   ]
  },
  {
   "cell_type": "code",
   "execution_count": 3,
   "id": "2992f0ea",
   "metadata": {},
   "outputs": [],
   "source": [
    "OPERATORS = {\n",
    "    'add': __add__,\n",
    "    'mul': __mul__,\n",
    "    'mod': __mod__,\n",
    "}"
   ]
  },
  {
   "cell_type": "code",
   "execution_count": 4,
   "id": "8dbd0c7a",
   "metadata": {},
   "outputs": [],
   "source": [
    "def read_value(value):\n",
    "    try:\n",
    "        return int(value)\n",
    "    except ValueError:\n",
    "        return value"
   ]
  },
  {
   "cell_type": "code",
   "execution_count": 5,
   "id": "7cf47d8d",
   "metadata": {},
   "outputs": [],
   "source": [
    "def read_commands(text):\n",
    "    return tuple(tuple(read_value(v) for v in line.split(' ')) for line in text.split('\\n'))"
   ]
  },
  {
   "cell_type": "code",
   "execution_count": 6,
   "id": "2f89dc74",
   "metadata": {},
   "outputs": [],
   "source": [
    "class Program():\n",
    "    \n",
    "    def __init__(self, commands, prog_no=None):\n",
    "        self.commands = commands\n",
    "        self.position = 0\n",
    "        self.registers = dict()\n",
    "        if prog_no is not None:\n",
    "            self.registers['p'] = prog_no\n",
    "        self.paused = False\n",
    "        self.queue = deque()\n",
    "        self.other_queue = None\n",
    "        self.messages_sent = 0\n",
    "    \n",
    "    @property\n",
    "    def deadlock(self):\n",
    "        return (self.paused and len(self.queue) == 0) or self.position > len(self.commands)\n",
    "    \n",
    "    def attach(self, other):\n",
    "        self.other_queue = other.queue\n",
    "        other.other_queue = self.queue\n",
    "    \n",
    "    def get(self, key):\n",
    "        if isinstance(key, int):\n",
    "            return key\n",
    "        return self.registers.get(key, 0)\n",
    "    \n",
    "    def step(self):\n",
    "        command, *args = self.commands[self.position]\n",
    "        if command == 'snd':\n",
    "            if self.other_queue is None:\n",
    "                self.queue.append(self.get(args[0]))\n",
    "            else:\n",
    "                self.other_queue.append(self.get(args[0]))\n",
    "            self.messages_sent += 1\n",
    "        elif command == 'set':\n",
    "            self.registers[args[0]] = self.get(args[1])\n",
    "        elif command == 'rcv':\n",
    "            if self.other_queue is None:\n",
    "                if self.get(args[0]) != 0:\n",
    "                    self.paused = True\n",
    "            else:\n",
    "                if len(self.queue) == 0:\n",
    "                    self.paused = True\n",
    "                else:\n",
    "                    self.registers[args[0]] = self.queue.popleft()\n",
    "        elif command == 'jgz':\n",
    "            if self.get(args[0]) > 0:\n",
    "                self.position += self.get(args[1]) - 1\n",
    "        elif command in ('add', 'mul', 'mod'):\n",
    "            operator = OPERATORS.get(command)\n",
    "            self.registers[args[0]] = operator(self.get(args[0]), self.get(args[1]))\n",
    "        \n",
    "        self.position += (0 if self.paused else 1)\n",
    "    \n",
    "    def run(self):\n",
    "        self.paused = False\n",
    "        while (not self.paused) and self.position < len(self.commands):\n",
    "            self.step()"
   ]
  },
  {
   "cell_type": "code",
   "execution_count": 11,
   "id": "2b73f9eb",
   "metadata": {},
   "outputs": [],
   "source": [
    "def run_duet(commands):\n",
    "    prog0 = Program(commands, 0)\n",
    "    prog1 = Program(commands, 1)\n",
    "    prog0.attach(prog1)\n",
    "    \n",
    "    while not (prog0.deadlock and prog1.deadlock):\n",
    "        prog0.run()\n",
    "        prog1.run()\n",
    "    \n",
    "    return prog1.messages_sent"
   ]
  },
  {
   "cell_type": "code",
   "execution_count": 12,
   "id": "0c7654c3",
   "metadata": {},
   "outputs": [
    {
     "name": "stdout",
     "output_type": "stream",
     "text": [
      "Part 1: 8600\n",
      "Part 2: 7239\n"
     ]
    }
   ],
   "source": [
    "commands = read_commands(data)\n",
    "prog = Program(commands)\n",
    "prog.run()\n",
    "p1 = prog.queue.pop()\n",
    "print(f'Part 1: {p1}')\n",
    "p2 = run_duet(commands)\n",
    "print(f'Part 2: {p2}')"
   ]
  }
 ],
 "metadata": {
  "kernelspec": {
   "display_name": "Python 3 (ipykernel)",
   "language": "python",
   "name": "python3"
  },
  "language_info": {
   "codemirror_mode": {
    "name": "ipython",
    "version": 3
   },
   "file_extension": ".py",
   "mimetype": "text/x-python",
   "name": "python",
   "nbconvert_exporter": "python",
   "pygments_lexer": "ipython3",
   "version": "3.9.5"
  }
 },
 "nbformat": 4,
 "nbformat_minor": 5
}
