{
 "cells": [
  {
   "cell_type": "markdown",
   "id": "3e7edbda",
   "metadata": {},
   "source": [
    "# Day 19\n",
    "https://adventofcode.com/2017/day/19"
   ]
  },
  {
   "cell_type": "code",
   "execution_count": 1,
   "id": "c1024688",
   "metadata": {},
   "outputs": [],
   "source": [
    "import aocd\n",
    "data = aocd.get_data(year=2017, day=19)"
   ]
  },
  {
   "cell_type": "code",
   "execution_count": 2,
   "id": "5cb466f8",
   "metadata": {},
   "outputs": [],
   "source": [
    "from collections import OrderedDict\n",
    "from dataclasses import dataclass\n",
    "from string import ascii_uppercase"
   ]
  },
  {
   "cell_type": "code",
   "execution_count": 3,
   "id": "8f3bb477",
   "metadata": {},
   "outputs": [],
   "source": [
    "@dataclass(frozen=True)\n",
    "class Point():\n",
    "    y: int\n",
    "    x: int\n",
    "    \n",
    "    def __add__(self, other):\n",
    "        return Point(self.y + other.y, self.x + other.x)\n",
    "\n",
    "    def __sub__(self, other):\n",
    "        return Point(self.y - other.y, self.x - other.x)\n",
    "    \n",
    "    def neighbours(self):\n",
    "        yield self + Point(1, 0)\n",
    "        yield self + Point(0, 1)\n",
    "        yield self + Point(-1, 0)\n",
    "        yield self + Point(0, -1)"
   ]
  },
  {
   "cell_type": "code",
   "execution_count": 4,
   "id": "689b47ec",
   "metadata": {},
   "outputs": [],
   "source": [
    "def read_diagram(text):\n",
    "    diagram = dict()\n",
    "    for y, line in enumerate(text.split('\\n')):\n",
    "        for x, char in enumerate(line):\n",
    "            if char != ' ':\n",
    "                diagram[Point(y, x)] = char\n",
    "    return diagram"
   ]
  },
  {
   "cell_type": "code",
   "execution_count": 5,
   "id": "e557508f",
   "metadata": {},
   "outputs": [],
   "source": [
    "def locate_start(diagram):\n",
    "    return next(point for point in diagram.keys() if point.y == 0)"
   ]
  },
  {
   "cell_type": "code",
   "execution_count": 6,
   "id": "fc7658dc",
   "metadata": {},
   "outputs": [],
   "source": [
    "def all_locations_on_journey(diagram):\n",
    "    visited = set()\n",
    "    journey = []\n",
    "    \n",
    "    position = locate_start(diagram)\n",
    "    direction = Point(1, 0)\n",
    "    \n",
    "    max_x = max(pt.x for pt in diagram)\n",
    "    max_y = max(pt.y for pt in diagram)\n",
    "    \n",
    "    while all((\n",
    "        position.x >= 0,\n",
    "        position.x <= max_x,\n",
    "        position.y >= 0,\n",
    "        position.y <= max_y\n",
    "    )):\n",
    "        visited.add(position)\n",
    "        journey.append(position)\n",
    "        if diagram[position] == '+':\n",
    "            neighbours = set(neighbour for neighbour in position.neighbours()\n",
    "                             if (neighbour in diagram) and (neighbour not in visited))\n",
    "            if not neighbours:\n",
    "                return visited\n",
    "            direction = next(iter(neighbours)) - position\n",
    "        \n",
    "        position += direction\n",
    "    \n",
    "    return journey"
   ]
  },
  {
   "cell_type": "code",
   "execution_count": 7,
   "id": "7e196ecc",
   "metadata": {},
   "outputs": [],
   "source": [
    "def letters_on_journey(journey, diagram):\n",
    "    characters = [diagram[location] for location in journey]\n",
    "    return ''.join(char for char in characters if char in ascii_uppercase)"
   ]
  },
  {
   "cell_type": "code",
   "execution_count": 8,
   "id": "3a68fe84",
   "metadata": {},
   "outputs": [
    {
     "name": "stdout",
     "output_type": "stream",
     "text": [
      "Part 1: HATBMQJYZ\n",
      "Part 2: 16332\n"
     ]
    }
   ],
   "source": [
    "diagram = read_diagram(data)\n",
    "journey = all_locations_on_journey(diagram)\n",
    "p1 = letters_on_journey(journey, diagram)\n",
    "print(f'Part 1: {p1}')\n",
    "p2 = len(journey)\n",
    "print(f'Part 2: {p2}')"
   ]
  }
 ],
 "metadata": {
  "kernelspec": {
   "display_name": "Python 3 (ipykernel)",
   "language": "python",
   "name": "python3"
  },
  "language_info": {
   "codemirror_mode": {
    "name": "ipython",
    "version": 3
   },
   "file_extension": ".py",
   "mimetype": "text/x-python",
   "name": "python",
   "nbconvert_exporter": "python",
   "pygments_lexer": "ipython3",
   "version": "3.9.5"
  }
 },
 "nbformat": 4,
 "nbformat_minor": 5
}
