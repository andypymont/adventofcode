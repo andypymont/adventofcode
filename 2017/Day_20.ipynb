{
 "cells": [
  {
   "cell_type": "markdown",
   "id": "a1e4417c",
   "metadata": {},
   "source": [
    "# Day 20\n",
    "https://adventofcode.com/2017/day/20"
   ]
  },
  {
   "cell_type": "code",
   "execution_count": 1,
   "id": "7068f7f3",
   "metadata": {},
   "outputs": [],
   "source": [
    "import aocd\n",
    "data = aocd.get_data(year=2017, day=20)"
   ]
  },
  {
   "cell_type": "code",
   "execution_count": 2,
   "id": "3a487bf7",
   "metadata": {},
   "outputs": [],
   "source": [
    "from collections import Counter\n",
    "from dataclasses import dataclass\n",
    "import regex as re"
   ]
  },
  {
   "cell_type": "code",
   "execution_count": 3,
   "id": "ae7c564f",
   "metadata": {},
   "outputs": [],
   "source": [
    "@dataclass(frozen=True)\n",
    "class Point():\n",
    "    x: int\n",
    "    y: int\n",
    "    z: int\n",
    "    \n",
    "    def __add__(self, other):\n",
    "        return Point(self.x + other.x, self.y + other.y, self.z + other.z)\n",
    "    \n",
    "    @property\n",
    "    def distance(self):\n",
    "        return abs(self.x) + abs(self.y) + abs(self.z)"
   ]
  },
  {
   "cell_type": "code",
   "execution_count": 4,
   "id": "e59f8440",
   "metadata": {},
   "outputs": [],
   "source": [
    "@dataclass\n",
    "class Particle():\n",
    "    number: int\n",
    "    position: Point\n",
    "    velocity: Point\n",
    "    acceleration: Point\n",
    "        \n",
    "    @classmethod\n",
    "    def from_regex_groups(cls, number, groups):\n",
    "        px, py, pz, vx, vy, vz, ax, ay, az = map(int, groups)\n",
    "        return cls(number, Point(px, py, pz), Point(vx, vy, vz), Point(ax, ay, az))\n",
    "\n",
    "    def advance(self):\n",
    "        self.velocity += self.acceleration\n",
    "        self.position += self.velocity"
   ]
  },
  {
   "cell_type": "code",
   "execution_count": 5,
   "id": "01703fb2",
   "metadata": {},
   "outputs": [],
   "source": [
    "def simulate(particles):\n",
    "    collided = set()\n",
    "    for _ in range(1000):\n",
    "        positions = Counter(particle.position for particle in particles)\n",
    "        for particle in particles:\n",
    "            if positions[particle.position] > 1:\n",
    "                collided.add(particle.number)\n",
    "            particle.advance()\n",
    "    closest = next(iter(sorted(particles, key=lambda p: p.position.distance)))\n",
    "    uncollided = len(particles) - len(collided)\n",
    "    return (closest.number, uncollided)"
   ]
  },
  {
   "cell_type": "code",
   "execution_count": 6,
   "id": "31dc5d1e",
   "metadata": {},
   "outputs": [],
   "source": [
    "def find_closest_particle(particles):\n",
    "    for _ in range(1000):\n",
    "        for particle in particles:\n",
    "            particle.advance()\n",
    "    return next(iter(sorted(particles, key=lambda p: p.position.distance)))"
   ]
  },
  {
   "cell_type": "code",
   "execution_count": 7,
   "id": "99462591",
   "metadata": {},
   "outputs": [],
   "source": [
    "re_particle = re.compile(r'p=<([-\\d]+),([-\\d]+),([-\\d]+)>, v=<([-\\d]+),([-\\d]+),([-\\d]+)>, a=<([-\\d]+),([-\\d]+),([-\\d]+)>')\n",
    "def read_particles(text):\n",
    "    return tuple(Particle.from_regex_groups(number, groups)\n",
    "                 for number, groups in enumerate(re_particle.findall(text)))"
   ]
  },
  {
   "cell_type": "code",
   "execution_count": 8,
   "id": "5d1956f1",
   "metadata": {},
   "outputs": [
    {
     "name": "stdout",
     "output_type": "stream",
     "text": [
      "Part 1: 161\n",
      "Part 2: 438\n"
     ]
    }
   ],
   "source": [
    "particles = read_particles(data)\n",
    "p1, p2 = simulate(particles)\n",
    "print(f'Part 1: {p1}')\n",
    "print(f'Part 2: {p2}')"
   ]
  }
 ],
 "metadata": {
  "kernelspec": {
   "display_name": "Python 3 (ipykernel)",
   "language": "python",
   "name": "python3"
  },
  "language_info": {
   "codemirror_mode": {
    "name": "ipython",
    "version": 3
   },
   "file_extension": ".py",
   "mimetype": "text/x-python",
   "name": "python",
   "nbconvert_exporter": "python",
   "pygments_lexer": "ipython3",
   "version": "3.9.5"
  }
 },
 "nbformat": 4,
 "nbformat_minor": 5
}
