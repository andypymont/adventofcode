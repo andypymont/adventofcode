{
 "cells": [
  {
   "cell_type": "markdown",
   "id": "ec4f9453",
   "metadata": {},
   "source": [
    "# Day 21\n",
    "https://adventofcode.com/2017/day/20"
   ]
  },
  {
   "cell_type": "code",
   "execution_count": 1,
   "id": "7b194790",
   "metadata": {},
   "outputs": [],
   "source": [
    "import aocd\n",
    "data = aocd.get_data(year=2017, day=21)"
   ]
  },
  {
   "cell_type": "code",
   "execution_count": 2,
   "id": "a8a33582",
   "metadata": {},
   "outputs": [],
   "source": [
    "import numpy as np"
   ]
  },
  {
   "cell_type": "code",
   "execution_count": 3,
   "id": "f0ccaefb",
   "metadata": {},
   "outputs": [],
   "source": [
    "def array_from_graphic(graphic):\n",
    "    return np.array([[1 if char == '#' else 0 for char in line] for line in graphic.split('/')])"
   ]
  },
  {
   "cell_type": "code",
   "execution_count": 4,
   "id": "c20c12bc",
   "metadata": {},
   "outputs": [],
   "source": [
    "class Rulebook():\n",
    "    \n",
    "    def __init__(self):\n",
    "        self.rules = dict()\n",
    "    \n",
    "    @staticmethod\n",
    "    def tuplify(nparray):\n",
    "        return tuple(nparray.flatten())\n",
    "    \n",
    "    def add_rule(self, pattern, result):\n",
    "        self.rules[self.tuplify(pattern)] = result\n",
    "    \n",
    "    def add_rule_from_input(self, line):\n",
    "        pattern, result = tuple(array_from_graphic(graphic) for graphic in line.split(' => '))\n",
    "        for rotations in range(4):\n",
    "            rotated = np.rot90(pattern, rotations)\n",
    "            self.add_rule(rotated, result)\n",
    "            flipped = np.fliplr(rotated)\n",
    "            self.add_rule(flipped, result)\n",
    "    \n",
    "    def add_rules_from_input(self, text):\n",
    "        for line in text.split('\\n'):\n",
    "            self.add_rule_from_input(line)\n",
    "    \n",
    "    def enhance_segment(self, segment):\n",
    "        return self.rules[self.tuplify(segment)]\n",
    "    \n",
    "    def enhance_row(self, row, segments):\n",
    "        return np.hstack([self.enhance_segment(segment) for segment in np.hsplit(row, segments)])\n",
    "    \n",
    "    def enhance_image(self, image):\n",
    "        segment_size = 2 if (image.shape[0] % 2 == 0) else 3\n",
    "        segments = image.shape[0] // segment_size\n",
    "        return np.vstack([self.enhance_row(row, segments) for row in np.vsplit(image, segments)])"
   ]
  },
  {
   "cell_type": "code",
   "execution_count": 5,
   "id": "6775387e",
   "metadata": {},
   "outputs": [],
   "source": [
    "def enhance_x_times(image, rulebook, iterations):\n",
    "    for _ in range(iterations):\n",
    "        image = rulebook.enhance_image(image)\n",
    "    return image"
   ]
  },
  {
   "cell_type": "code",
   "execution_count": 6,
   "id": "bb6aece1",
   "metadata": {},
   "outputs": [],
   "source": [
    "rulebook = Rulebook()\n",
    "rulebook.add_rules_from_input(data)\n",
    "image = array_from_graphic('.#./..#/###')"
   ]
  },
  {
   "cell_type": "code",
   "execution_count": 7,
   "id": "d1873515",
   "metadata": {},
   "outputs": [
    {
     "name": "stdout",
     "output_type": "stream",
     "text": [
      "Part 1: 176\n",
      "Part 2: 2368161\n"
     ]
    }
   ],
   "source": [
    "five = enhance_x_times(image, rulebook, 5)\n",
    "print(f'Part 1: {five.sum()}')\n",
    "eighteen = enhance_x_times(five, rulebook, 18 - 5)\n",
    "print(f'Part 2: {eighteen.sum()}')"
   ]
  }
 ],
 "metadata": {
  "kernelspec": {
   "display_name": "Python 3 (ipykernel)",
   "language": "python",
   "name": "python3"
  },
  "language_info": {
   "codemirror_mode": {
    "name": "ipython",
    "version": 3
   },
   "file_extension": ".py",
   "mimetype": "text/x-python",
   "name": "python",
   "nbconvert_exporter": "python",
   "pygments_lexer": "ipython3",
   "version": "3.9.5"
  }
 },
 "nbformat": 4,
 "nbformat_minor": 5
}
