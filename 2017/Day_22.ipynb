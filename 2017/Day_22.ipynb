{
 "cells": [
  {
   "cell_type": "markdown",
   "id": "ac8cbc07",
   "metadata": {},
   "source": [
    "# Day 22\n",
    "https://adventofcode.com/2017/day/22"
   ]
  },
  {
   "cell_type": "code",
   "execution_count": 1,
   "id": "3c22edc0",
   "metadata": {},
   "outputs": [],
   "source": [
    "import aocd\n",
    "data = aocd.get_data(year=2017, day=22)"
   ]
  },
  {
   "cell_type": "code",
   "execution_count": 2,
   "id": "d4823cf8",
   "metadata": {},
   "outputs": [],
   "source": [
    "from dataclasses import dataclass"
   ]
  },
  {
   "cell_type": "markdown",
   "id": "ae1c2dc5",
   "metadata": {},
   "source": [
    "#### Part 1: Spaces are infected or clean"
   ]
  },
  {
   "cell_type": "code",
   "execution_count": 3,
   "id": "c5e9a813",
   "metadata": {},
   "outputs": [],
   "source": [
    "@dataclass(frozen=True)\n",
    "class Point():\n",
    "    y: int\n",
    "    x: int\n",
    "    \n",
    "    def __add__(self, other):\n",
    "        return Point(self.y + other.y, self.x + other.x)"
   ]
  },
  {
   "cell_type": "code",
   "execution_count": 4,
   "id": "65e0cba1",
   "metadata": {},
   "outputs": [],
   "source": [
    "UP = Point(-1, 0)\n",
    "RIGHT = Point(0, 1)\n",
    "DOWN = Point(1, 0)\n",
    "LEFT = Point(0, -1)\n",
    "TURN_LEFT = {\n",
    "    UP: LEFT,\n",
    "    LEFT: DOWN,\n",
    "    DOWN: RIGHT,\n",
    "    RIGHT: UP\n",
    "}\n",
    "TURN_RIGHT = {\n",
    "    UP: RIGHT,\n",
    "    LEFT: UP,\n",
    "    DOWN: LEFT,\n",
    "    RIGHT: DOWN\n",
    "}"
   ]
  },
  {
   "cell_type": "code",
   "execution_count": 5,
   "id": "a854587a",
   "metadata": {},
   "outputs": [],
   "source": [
    "def read_input(text):\n",
    "    lines = text.split('\\n')\n",
    "    \n",
    "    center = len(lines) // 2\n",
    "    position = Point(center, center)\n",
    "    \n",
    "    infected = set()\n",
    "    for y, line in enumerate(lines):\n",
    "        for x, char in enumerate(line):\n",
    "            if char == '#':\n",
    "                infected.add(Point(y, x))\n",
    "    \n",
    "    return infected, position"
   ]
  },
  {
   "cell_type": "code",
   "execution_count": 6,
   "id": "c39264e1",
   "metadata": {},
   "outputs": [],
   "source": [
    "def carrier_activity(initial_infected, position, bursts):\n",
    "    infected = set(initial_infected)\n",
    "    direction = UP\n",
    "    count = 0\n",
    "    \n",
    "    for burst in range(bursts):\n",
    "        if position in infected:\n",
    "            direction = TURN_RIGHT[direction]\n",
    "            infected.remove(position)\n",
    "        else:\n",
    "            direction = TURN_LEFT[direction]        \n",
    "            infected.add(position)\n",
    "            count += 1\n",
    "        \n",
    "        position += direction\n",
    "    \n",
    "    return count"
   ]
  },
  {
   "cell_type": "code",
   "execution_count": 7,
   "id": "90e9a716",
   "metadata": {},
   "outputs": [
    {
     "name": "stdout",
     "output_type": "stream",
     "text": [
      "Part 1: 5266\n"
     ]
    }
   ],
   "source": [
    "infected, position = read_input(data)\n",
    "p1 = carrier_activity(infected, position, 10_000)\n",
    "print(f'Part 1: {p1}')"
   ]
  },
  {
   "cell_type": "markdown",
   "id": "728e8346",
   "metadata": {},
   "source": [
    "#### Part 2: More complicated state model"
   ]
  },
  {
   "cell_type": "code",
   "execution_count": 8,
   "id": "e6f38fb6",
   "metadata": {},
   "outputs": [],
   "source": [
    "CLEAN = 0\n",
    "WEAKENED = 1\n",
    "INFECTED = 2\n",
    "FLAGGED = 3"
   ]
  },
  {
   "cell_type": "code",
   "execution_count": 9,
   "id": "a023df7d",
   "metadata": {},
   "outputs": [],
   "source": [
    "REVERSE = {\n",
    "    UP: DOWN,\n",
    "    LEFT: RIGHT,\n",
    "    DOWN: UP,\n",
    "    RIGHT: LEFT,\n",
    "}"
   ]
  },
  {
   "cell_type": "code",
   "execution_count": 10,
   "id": "2773cc56",
   "metadata": {},
   "outputs": [],
   "source": [
    "def read_input2(text):\n",
    "    lines = text.split('\\n')\n",
    "    \n",
    "    center = len(lines) // 2\n",
    "    position = Point(center, center)\n",
    "    \n",
    "    grid = dict()\n",
    "    for y, line in enumerate(lines):\n",
    "        for x, char in enumerate(line):\n",
    "            if char == '#':\n",
    "                grid[Point(y, x)] = INFECTED\n",
    "            else:\n",
    "                grid[Point(y, x)] = CLEAN\n",
    "    \n",
    "    return grid, position"
   ]
  },
  {
   "cell_type": "code",
   "execution_count": 11,
   "id": "c76fcc88",
   "metadata": {},
   "outputs": [],
   "source": [
    "def carrier_activity2(initial_grid, position, bursts):\n",
    "    grid = dict(initial_grid)\n",
    "    direction = UP\n",
    "    count = 0\n",
    "    \n",
    "    for burst in range(bursts):\n",
    "        state = grid.get(position, CLEAN)\n",
    "        if state == CLEAN:\n",
    "            direction = TURN_LEFT[direction]\n",
    "            grid[position] = WEAKENED\n",
    "        elif state == WEAKENED:\n",
    "            grid[position] = INFECTED\n",
    "            count += 1\n",
    "        elif state == INFECTED:\n",
    "            direction = TURN_RIGHT[direction]\n",
    "            grid[position] = FLAGGED\n",
    "        elif state == FLAGGED:\n",
    "            direction = REVERSE[direction]\n",
    "            grid[position] = CLEAN\n",
    "        \n",
    "        position += direction\n",
    "    \n",
    "    return count"
   ]
  },
  {
   "cell_type": "code",
   "execution_count": 12,
   "id": "14dde304",
   "metadata": {},
   "outputs": [
    {
     "name": "stdout",
     "output_type": "stream",
     "text": [
      "Part 2: 2511895\n"
     ]
    }
   ],
   "source": [
    "grid, position = read_input2(data)\n",
    "p2 = carrier_activity2(grid, position, 10_000_000)\n",
    "print(f'Part 2: {p2}')"
   ]
  }
 ],
 "metadata": {
  "kernelspec": {
   "display_name": "Python 3 (ipykernel)",
   "language": "python",
   "name": "python3"
  },
  "language_info": {
   "codemirror_mode": {
    "name": "ipython",
    "version": 3
   },
   "file_extension": ".py",
   "mimetype": "text/x-python",
   "name": "python",
   "nbconvert_exporter": "python",
   "pygments_lexer": "ipython3",
   "version": "3.9.5"
  }
 },
 "nbformat": 4,
 "nbformat_minor": 5
}
