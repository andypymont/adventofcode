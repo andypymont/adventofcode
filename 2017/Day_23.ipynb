{
 "cells": [
  {
   "cell_type": "markdown",
   "id": "88d691b0",
   "metadata": {},
   "source": [
    "# Day 23\n",
    "https://adventofcode.com/2017/day/23"
   ]
  },
  {
   "cell_type": "code",
   "execution_count": 1,
   "id": "cad9ed9f",
   "metadata": {},
   "outputs": [],
   "source": [
    "import aocd\n",
    "data = aocd.get_data(year=2017, day=23)"
   ]
  },
  {
   "cell_type": "markdown",
   "id": "6b80d54b",
   "metadata": {},
   "source": [
    "#### Part 1: Execute the program"
   ]
  },
  {
   "cell_type": "code",
   "execution_count": 2,
   "id": "ea608640",
   "metadata": {},
   "outputs": [],
   "source": [
    "class Program():\n",
    "    \n",
    "    def __init__(self, text):\n",
    "        self.registers = dict()\n",
    "        self.commands = text.split('\\n')\n",
    "        self.position = 0\n",
    "        self.mul_count = 0\n",
    "    \n",
    "    def get(self, key):\n",
    "        try:\n",
    "            return int(key)\n",
    "        except ValueError:\n",
    "            return self.registers.get(key, 0)\n",
    "    \n",
    "    def run_command(self, pos):\n",
    "        command = self.commands[pos]\n",
    "        instruction, *args = command.split(' ')\n",
    "        if instruction == 'set':\n",
    "            self.registers[args[0]] = self.get(args[1])\n",
    "        elif instruction == 'sub':\n",
    "            self.registers[args[0]] = self.get(args[0]) - self.get(args[1])\n",
    "        elif instruction == 'mul':\n",
    "            self.registers[args[0]] = self.get(args[0]) * self.get(args[1])\n",
    "            self.mul_count += 1\n",
    "        elif instruction == 'jnz':\n",
    "            if self.get(args[0]) != 0:\n",
    "                self.position += self.get(args[1]) - 1\n",
    "    \n",
    "    def run(self):\n",
    "        while self.position < len(self.commands):\n",
    "            self.run_command(self.position)\n",
    "            self.position += 1"
   ]
  },
  {
   "cell_type": "code",
   "execution_count": 3,
   "id": "09edce77",
   "metadata": {},
   "outputs": [
    {
     "name": "stdout",
     "output_type": "stream",
     "text": [
      "Part 1: 5929\n"
     ]
    }
   ],
   "source": [
    "program = Program(data)\n",
    "program.run()\n",
    "p1 = program.mul_count\n",
    "print(f'Part 1: {p1}')"
   ]
  },
  {
   "cell_type": "markdown",
   "id": "ccc9e018",
   "metadata": {},
   "source": [
    "##### Part 2: Re-write the assembly to make it run quickly enough with the debug switch on"
   ]
  },
  {
   "cell_type": "raw",
   "id": "ef7704cc",
   "metadata": {},
   "source": [
    "LOOPS:\n",
    "\n",
    "set b 79\n",
    "set c b\n",
    "jnz a 2\n",
    "jnz 1 5\n",
    "mul b 100\n",
    "sub b -100000\n",
    "set c b\n",
    "sub c -17000\n",
    "    set f 1\n",
    "    set d 2\n",
    "        set e 2\n",
    "            set g d\n",
    "            mul g e\n",
    "            sub g b\n",
    "            jnz g 2\n",
    "            set f 0\n",
    "            sub e -1\n",
    "            set g e\n",
    "            sub g b\n",
    "            jnz g -8\n",
    "        sub d -1\n",
    "        set g d\n",
    "        sub g b\n",
    "        jnz g -13\n",
    "    jnz f 2\n",
    "    sub h -1\n",
    "    set g b\n",
    "    sub g c\n",
    "    jnz g 2\n",
    "    jnz 1 3\n",
    "    sub b -17\n",
    "    jnz 1 -23\n",
    "\n",
    "IF:\n",
    "\n",
    "set b 79\n",
    "set c b\n",
    "\n",
    "jnz a 2\n",
    "jnz 1 5\n",
    "mul b 100\n",
    "sub b -100000\n",
    "set c b\n",
    "sub c -17000\n",
    "\n",
    "    set f 1\n",
    "    set d 2\n",
    "        set e 2\n",
    "            set g d\n",
    "            mul g e\n",
    "            sub g b\n",
    "\n",
    "            jnz g 2\n",
    "            set f 0\n",
    "\n",
    "            sub e -1\n",
    "            set g e\n",
    "            sub g b\n",
    "            jnz g -8\n",
    "        sub d -1\n",
    "        set g d\n",
    "        sub g b\n",
    "        jnz g -13\n",
    "\n",
    "    jnz f 2\n",
    "    sub h - 1\n",
    "\n",
    "    set g b\n",
    "    sub g c\n",
    "\n",
    "    jnz g 2\n",
    "    jnz 1 3\n",
    "    sub b -17\n",
    "    jnz 1 -23\n",
    "\n",
    "REWRITE:\n",
    "\n",
    "b = 107900\n",
    "c = 124900\n",
    "\n",
    "loop:\n",
    "    f = 1\n",
    "    d = 2\n",
    "    loop:\n",
    "        e = 2\n",
    "        loop:\n",
    "            if ((d * e) - b) == 0:\n",
    "                f = 0\n",
    "            e++\n",
    "            if (e - b) == 0: end loop\n",
    "        d++\n",
    "        if (d - b) == 0: end loop\n",
    "\n",
    "    if f == 0:\n",
    "      h++\n",
    "\n",
    "    if (b - c) != 0:\n",
    "        b += 17\n",
    "    else:\n",
    "        break"
   ]
  },
  {
   "cell_type": "markdown",
   "id": "7706ff29",
   "metadata": {},
   "source": [
    "Therefore, this is a non-prime number counter!"
   ]
  },
  {
   "cell_type": "code",
   "execution_count": 4,
   "id": "18587c44",
   "metadata": {},
   "outputs": [],
   "source": [
    "def prime(number):\n",
    "    for factor in range(2, (number//2)+1):\n",
    "        if number % factor == 0:\n",
    "            return False\n",
    "    return True"
   ]
  },
  {
   "cell_type": "code",
   "execution_count": 5,
   "id": "0d896be4",
   "metadata": {},
   "outputs": [],
   "source": [
    "def run_program():\n",
    "    return sum(1 for b in range(107900, 124901, 17) if not prime(b))"
   ]
  },
  {
   "cell_type": "code",
   "execution_count": 6,
   "id": "ffb37a1a",
   "metadata": {},
   "outputs": [
    {
     "name": "stdout",
     "output_type": "stream",
     "text": [
      "Part 2: 907\n"
     ]
    }
   ],
   "source": [
    "p2 = run_program()\n",
    "print(f'Part 2: {p2}')"
   ]
  }
 ],
 "metadata": {
  "kernelspec": {
   "display_name": "Python 3 (ipykernel)",
   "language": "python",
   "name": "python3"
  },
  "language_info": {
   "codemirror_mode": {
    "name": "ipython",
    "version": 3
   },
   "file_extension": ".py",
   "mimetype": "text/x-python",
   "name": "python",
   "nbconvert_exporter": "python",
   "pygments_lexer": "ipython3",
   "version": "3.9.5"
  }
 },
 "nbformat": 4,
 "nbformat_minor": 5
}
