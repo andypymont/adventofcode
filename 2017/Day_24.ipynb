{
 "cells": [
  {
   "cell_type": "markdown",
   "id": "90a0af22",
   "metadata": {},
   "source": [
    "# Day 24\n",
    "https://adventofcode.com/2017/day/24"
   ]
  },
  {
   "cell_type": "code",
   "execution_count": 1,
   "id": "9f8d2417",
   "metadata": {},
   "outputs": [],
   "source": [
    "import aocd\n",
    "data = aocd.get_data(year=2017, day=24)"
   ]
  },
  {
   "cell_type": "code",
   "execution_count": 2,
   "id": "450131f5",
   "metadata": {},
   "outputs": [],
   "source": [
    "from collections import deque\n",
    "from dataclasses import dataclass\n",
    "from typing import Tuple"
   ]
  },
  {
   "cell_type": "code",
   "execution_count": 3,
   "id": "011aaf30",
   "metadata": {},
   "outputs": [],
   "source": [
    "def read_components(text):\n",
    "    return tuple(tuple(int(value) for value in line.split('/')) for line in text.split('\\n'))"
   ]
  },
  {
   "cell_type": "code",
   "execution_count": 4,
   "id": "99b2fb1e",
   "metadata": {},
   "outputs": [],
   "source": [
    "@dataclass(frozen=True)\n",
    "class Bridge():\n",
    "    components: Tuple[Tuple[int]]\n",
    "    flipped: Tuple[bool]\n",
    "    \n",
    "    @classmethod\n",
    "    def new_empty_bridge(cls):\n",
    "        components = ((0, 0),)\n",
    "        flipped = (False,)\n",
    "        return cls(components, flipped)\n",
    "    \n",
    "    @property\n",
    "    def strength(self):\n",
    "        return sum(sum(component) for component in self.components)\n",
    "    \n",
    "    @property\n",
    "    def length(self):\n",
    "        return len(self.components)\n",
    "    \n",
    "    @property\n",
    "    def end(self):\n",
    "        a, b = self.components[-1]\n",
    "        return a if self.flipped[-1] else b\n",
    "    \n",
    "    def is_extendable_by(self, component):\n",
    "        return self.end in component\n",
    "    \n",
    "    def extend(self, component):\n",
    "        new_components = self.components + (component,)\n",
    "        new_flipped = self.flipped + (component[1] == self.end,)\n",
    "        return Bridge(new_components, new_flipped)\n",
    "    \n",
    "    def all_possible_extensions(self, components):\n",
    "        unused = (component for component in components if component not in self.components)\n",
    "        return tuple(self.extend(component) for component in unused if self.is_extendable_by(component))"
   ]
  },
  {
   "cell_type": "code",
   "execution_count": 5,
   "id": "b7747504",
   "metadata": {},
   "outputs": [],
   "source": [
    "def find_all_bridges(components):\n",
    "    consider = deque()\n",
    "    consider.append(Bridge.new_empty_bridge())\n",
    "    \n",
    "    while len(consider) > 0:\n",
    "        bridge = consider.popleft()\n",
    "        options = bridge.all_possible_extensions(components)\n",
    "        if len(options) == 0:\n",
    "            yield bridge\n",
    "        consider.extend(options)"
   ]
  },
  {
   "cell_type": "code",
   "execution_count": 6,
   "id": "4b399f03",
   "metadata": {},
   "outputs": [],
   "source": [
    "def best_bridge(components):\n",
    "    return max(bridge.strength for bridge in find_all_bridges(components))"
   ]
  },
  {
   "cell_type": "code",
   "execution_count": 7,
   "id": "dd396196",
   "metadata": {},
   "outputs": [
    {
     "name": "stdout",
     "output_type": "stream",
     "text": [
      "Part 1: 1868\n",
      "Part 2: 1841\n"
     ]
    }
   ],
   "source": [
    "components = read_components(data)\n",
    "bridges = tuple(find_all_bridges(components))\n",
    "p1 = max(bridge.strength for bridge in bridges)\n",
    "print(f'Part 1: {p1}')\n",
    "\n",
    "max_length = max(bridge.length for bridge in bridges)\n",
    "p2 = max(bridge.strength for bridge in bridges if bridge.length == max_length)\n",
    "print(f'Part 2: {p2}')"
   ]
  }
 ],
 "metadata": {
  "kernelspec": {
   "display_name": "Python 3 (ipykernel)",
   "language": "python",
   "name": "python3"
  },
  "language_info": {
   "codemirror_mode": {
    "name": "ipython",
    "version": 3
   },
   "file_extension": ".py",
   "mimetype": "text/x-python",
   "name": "python",
   "nbconvert_exporter": "python",
   "pygments_lexer": "ipython3",
   "version": "3.9.5"
  }
 },
 "nbformat": 4,
 "nbformat_minor": 5
}
