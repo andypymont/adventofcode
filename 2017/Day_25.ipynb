{
 "cells": [
  {
   "cell_type": "markdown",
   "id": "265da962",
   "metadata": {},
   "source": [
    "# Day 25\n",
    "https://adventofcode.com/2017/day/25"
   ]
  },
  {
   "cell_type": "code",
   "execution_count": 1,
   "id": "01bfc908",
   "metadata": {},
   "outputs": [],
   "source": [
    "import aocd\n",
    "data = aocd.get_data(year=2017, day=25)"
   ]
  },
  {
   "cell_type": "code",
   "execution_count": 2,
   "id": "c7edcb85",
   "metadata": {},
   "outputs": [],
   "source": [
    "from dataclasses import dataclass\n",
    "from typing import Dict, List\n",
    "import regex as re"
   ]
  },
  {
   "cell_type": "code",
   "execution_count": 3,
   "id": "191c20b7",
   "metadata": {},
   "outputs": [],
   "source": [
    "re_initial_state = re.compile(r'Begin in state (\\w).')\n",
    "re_steps = re.compile(r'Perform a diagnostic checksum after (\\d+) steps.')\n",
    "re_state = re.compile(r'In state (\\w):\\s+If the current value is 0:\\s+- Write the value (\\d+).\\s+- Move one slot to the (\\w+).\\s+- Continue with state (\\w).\\s+If the current value is 1:\\s+- Write the value (\\d+).\\s+- Move one slot to the (\\w+).\\s+- Continue with state (\\w)')"
   ]
  },
  {
   "cell_type": "code",
   "execution_count": 4,
   "id": "a9ebf72a",
   "metadata": {},
   "outputs": [],
   "source": [
    "@dataclass(frozen=True)\n",
    "class StateInstruction():\n",
    "    state: str\n",
    "    current_value: int\n",
    "    write_value: int\n",
    "    move: str\n",
    "    next_state: str\n",
    "    \n",
    "    @classmethod\n",
    "    def both_from_regex_match(cls, match):\n",
    "        state, zero_write, zero_move, zero_next, one_write, one_move, one_next = match\n",
    "        yield cls(state, 0, int(zero_write), zero_move, zero_next)\n",
    "        yield cls(state, 1, int(one_write), one_move, one_next)\n",
    "    \n",
    "    @classmethod\n",
    "    def all_from_regex_matches(cls, matches):\n",
    "        instructions = []\n",
    "        for match in matches:\n",
    "            instructions.extend(cls.both_from_regex_match(match))\n",
    "        return instructions"
   ]
  },
  {
   "cell_type": "code",
   "execution_count": 5,
   "id": "e6b6fe99",
   "metadata": {},
   "outputs": [],
   "source": [
    "@dataclass\n",
    "class Tape():\n",
    "    tape: Dict[int, int]\n",
    "    position: int\n",
    "    \n",
    "    @classmethod\n",
    "    def new_empty_tape(cls):\n",
    "        return cls(dict(), 0)\n",
    "    \n",
    "    @property\n",
    "    def diagnostic_checksum(self):\n",
    "        return sum(1 for value in self.tape.values() if value == 1)\n",
    "    \n",
    "    def move(self, direction):\n",
    "        self.position += (1 if direction == 'right' else -1)\n",
    "    \n",
    "    def read(self):\n",
    "        return self.tape.get(self.position, 0)\n",
    "    \n",
    "    def write(self, value):\n",
    "        self.tape[self.position] = value"
   ]
  },
  {
   "cell_type": "code",
   "execution_count": 6,
   "id": "9a8de575",
   "metadata": {},
   "outputs": [],
   "source": [
    "@dataclass\n",
    "class Program():\n",
    "    tape: Tape\n",
    "    instructions: List[StateInstruction]\n",
    "    steps: int\n",
    "    state: str\n",
    "    \n",
    "    @classmethod\n",
    "    def from_input_text(cls, text):\n",
    "        tape = Tape.new_empty_tape()\n",
    "        instructions = StateInstruction.all_from_regex_matches(re_state.findall(data))\n",
    "        steps = int(re_steps.findall(data)[0])\n",
    "        state = re_initial_state.findall(data)[0]\n",
    "        return cls(tape, instructions, steps, state)\n",
    "    \n",
    "    def next_step(self):\n",
    "        instruction = next(i for i in self.instructions\n",
    "                           if i.state == self.state and i.current_value == self.tape.read())\n",
    "        self.tape.write(instruction.write_value)\n",
    "        self.tape.move(instruction.move)\n",
    "        self.state = instruction.next_state\n",
    "        self.steps -= 1\n",
    "    \n",
    "    def run(self):\n",
    "        while self.steps > 0:\n",
    "            self.next_step()\n",
    "        return self.tape.diagnostic_checksum"
   ]
  },
  {
   "cell_type": "code",
   "execution_count": 7,
   "id": "a542a399",
   "metadata": {},
   "outputs": [
    {
     "name": "stdout",
     "output_type": "stream",
     "text": [
      "Part 1: 2474\n"
     ]
    }
   ],
   "source": [
    "program = Program.from_input_text(data)\n",
    "p1 = program.run()\n",
    "print(f'Part 1: {p1}')"
   ]
  }
 ],
 "metadata": {
  "kernelspec": {
   "display_name": "Python 3 (ipykernel)",
   "language": "python",
   "name": "python3"
  },
  "language_info": {
   "codemirror_mode": {
    "name": "ipython",
    "version": 3
   },
   "file_extension": ".py",
   "mimetype": "text/x-python",
   "name": "python",
   "nbconvert_exporter": "python",
   "pygments_lexer": "ipython3",
   "version": "3.9.5"
  }
 },
 "nbformat": 4,
 "nbformat_minor": 5
}
