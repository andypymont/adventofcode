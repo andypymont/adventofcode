{
 "cells": [
  {
   "cell_type": "markdown",
   "metadata": {},
   "source": [
    "# Day 2\n",
    "https://adventofcode.com/2018/day/2"
   ]
  },
  {
   "cell_type": "code",
   "execution_count": 1,
   "metadata": {},
   "outputs": [],
   "source": [
    "import aocd\n",
    "data = aocd.get_data(year=2018, day=2)"
   ]
  },
  {
   "cell_type": "code",
   "execution_count": 2,
   "metadata": {},
   "outputs": [],
   "source": [
    "from collections import Counter\n",
    "from dataclasses import dataclass\n",
    "from itertools import combinations"
   ]
  },
  {
   "cell_type": "markdown",
   "metadata": {},
   "source": [
    "##### Part 1: Check the boxes by multiplying the number of characters appearing twice or three times in their IDs"
   ]
  },
  {
   "cell_type": "code",
   "execution_count": 3,
   "metadata": {},
   "outputs": [],
   "source": [
    "@dataclass\n",
    "class Box():\n",
    "    box_id: str\n",
    "    \n",
    "    @property\n",
    "    def letter_counts(self):\n",
    "        return Counter(self.box_id)\n",
    "    \n",
    "    def compare(self, other):\n",
    "        return ''.join(letter for (ix, letter) in enumerate(self.box_id) if letter == other.box_id[ix])"
   ]
  },
  {
   "cell_type": "code",
   "execution_count": 4,
   "metadata": {},
   "outputs": [],
   "source": [
    "def checksum(boxlist):\n",
    "    twos = 0\n",
    "    threes = 0\n",
    "    for box in boxlist:\n",
    "        letter_counts = box.letter_counts\n",
    "        twos += (1 if 2 in letter_counts.values() else 0)\n",
    "        threes += (1 if 3 in letter_counts.values() else 0)\n",
    "    return twos * threes"
   ]
  },
  {
   "cell_type": "code",
   "execution_count": 5,
   "metadata": {},
   "outputs": [],
   "source": [
    "boxes = [Box(box_id) for box_id in data.split('\\n')]"
   ]
  },
  {
   "cell_type": "code",
   "execution_count": 6,
   "metadata": {},
   "outputs": [
    {
     "name": "stdout",
     "output_type": "stream",
     "text": [
      "Part 1: 6175\n"
     ]
    }
   ],
   "source": [
    "p1 = checksum(boxes)\n",
    "print('Part 1: {}'.format(p1))"
   ]
  },
  {
   "cell_type": "markdown",
   "metadata": {},
   "source": [
    "##### Part 2: Find the two most similar box IDs"
   ]
  },
  {
   "cell_type": "code",
   "execution_count": 7,
   "metadata": {},
   "outputs": [],
   "source": [
    "def compare_all_boxes(boxlist):\n",
    "    return [a.compare(b) for a, b in combinations(boxlist, 2)]"
   ]
  },
  {
   "cell_type": "code",
   "execution_count": 8,
   "metadata": {},
   "outputs": [
    {
     "name": "stdout",
     "output_type": "stream",
     "text": [
      "Part 2: asgwjcmzredihqoutcylvzinx\n"
     ]
    }
   ],
   "source": [
    "comparison = compare_all_boxes(boxes)\n",
    "comparison.sort(key=len, reverse=True)\n",
    "print('Part 2: {}'.format(comparison[0]))"
   ]
  }
 ],
 "metadata": {
  "kernelspec": {
   "display_name": "Python 3",
   "language": "python",
   "name": "python3"
  },
  "language_info": {
   "codemirror_mode": {
    "name": "ipython",
    "version": 3
   },
   "file_extension": ".py",
   "mimetype": "text/x-python",
   "name": "python",
   "nbconvert_exporter": "python",
   "pygments_lexer": "ipython3",
   "version": "3.8.5"
  }
 },
 "nbformat": 4,
 "nbformat_minor": 4
}
