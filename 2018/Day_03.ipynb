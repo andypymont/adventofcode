{
 "cells": [
  {
   "cell_type": "markdown",
   "metadata": {},
   "source": [
    "# Day 3\n",
    "https://adventofcode.com/2018/day/3"
   ]
  },
  {
   "cell_type": "code",
   "execution_count": 1,
   "metadata": {},
   "outputs": [],
   "source": [
    "import aocd\n",
    "data = aocd.get_data(year=2018, day=3)"
   ]
  },
  {
   "cell_type": "code",
   "execution_count": 2,
   "metadata": {},
   "outputs": [],
   "source": [
    "from dataclasses import dataclass\n",
    "import numpy as np\n",
    "import re"
   ]
  },
  {
   "cell_type": "code",
   "execution_count": 3,
   "metadata": {},
   "outputs": [],
   "source": [
    "re_claim = re.compile(r'#(\\d+) @ (\\d+),(\\d+): (\\d+)x(\\d+)')"
   ]
  },
  {
   "cell_type": "code",
   "execution_count": 4,
   "metadata": {},
   "outputs": [],
   "source": [
    "@dataclass(frozen=True)\n",
    "class Claim():\n",
    "    number: int\n",
    "    left: int\n",
    "    top: int\n",
    "    width: int\n",
    "    height: int\n",
    "    \n",
    "    @property\n",
    "    def bottom(self):\n",
    "        return self.top + self.height\n",
    "    \n",
    "    @property\n",
    "    def right(self):\n",
    "        return self.left + self.width\n",
    "\n",
    "    def overlaps(self, claimgrid):\n",
    "        window = claimgrid[self.top:self.bottom,self.left:self.right]\n",
    "        return sum(1 for item in window.flatten() if item > 1)\n",
    "    \n",
    "    @classmethod\n",
    "    def from_regex_groups(cls, groups):\n",
    "        return cls(*map(int, groups))\n",
    "    \n",
    "    @classmethod\n",
    "    def all_from_text(cls, text):\n",
    "        return [cls.from_regex_groups(groups) for groups in re_claim.findall(text)]"
   ]
  },
  {
   "cell_type": "code",
   "execution_count": 5,
   "metadata": {},
   "outputs": [],
   "source": [
    "def claim_grid(claimlist):\n",
    "    width = max(claim.right for claim in claimlist)\n",
    "    height = max(claim.bottom for claim in claimlist)\n",
    "    grid = np.zeros((width, height), 'int', order='C')\n",
    "    for c in claimlist:\n",
    "        grid[c.top:c.bottom,c.left:c.right] += 1\n",
    "    return grid"
   ]
  },
  {
   "cell_type": "code",
   "execution_count": 6,
   "metadata": {},
   "outputs": [
    {
     "name": "stdout",
     "output_type": "stream",
     "text": [
      "Part 1: 116140\n",
      "Part 2: 574\n"
     ]
    }
   ],
   "source": [
    "claims = Claim.all_from_text(data)\n",
    "grid = claim_grid(claims)\n",
    "\n",
    "p1 = sum(1 for item in grid.flatten() if item > 1)\n",
    "print('Part 1: {}'.format(p1))\n",
    "\n",
    "p2 = next(claim.number for claim in claims if claim.overlaps(grid) == 0)\n",
    "print('Part 2: {}'.format(p2))"
   ]
  }
 ],
 "metadata": {
  "kernelspec": {
   "display_name": "Python 3",
   "language": "python",
   "name": "python3"
  },
  "language_info": {
   "codemirror_mode": {
    "name": "ipython",
    "version": 3
   },
   "file_extension": ".py",
   "mimetype": "text/x-python",
   "name": "python",
   "nbconvert_exporter": "python",
   "pygments_lexer": "ipython3",
   "version": "3.8.5"
  }
 },
 "nbformat": 4,
 "nbformat_minor": 4
}
