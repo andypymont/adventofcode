{
 "cells": [
  {
   "cell_type": "markdown",
   "metadata": {},
   "source": [
    "# Day 4\n",
    "https://adventofcode.com/2018/day/4"
   ]
  },
  {
   "cell_type": "code",
   "execution_count": 1,
   "metadata": {},
   "outputs": [],
   "source": [
    "import aocd\n",
    "data = aocd.get_data(year=2018, day=4)"
   ]
  },
  {
   "cell_type": "code",
   "execution_count": 2,
   "metadata": {},
   "outputs": [],
   "source": [
    "from dataclasses import dataclass\n",
    "from datetime import datetime\n",
    "from typing import Dict, Set\n",
    "import re"
   ]
  },
  {
   "cell_type": "code",
   "execution_count": 3,
   "metadata": {},
   "outputs": [],
   "source": [
    "re_event = re.compile(r'\\[([-: \\d]+)\\] (.+)')\n",
    "re_guard_change = re.compile(r'Guard #(\\d+) begins shift')\n",
    "re_wakes_up = re.compile(r'wakes up')\n",
    "re_falls_asleep = re.compile(r'falls asleep')"
   ]
  },
  {
   "cell_type": "code",
   "execution_count": 4,
   "metadata": {},
   "outputs": [],
   "source": [
    "@dataclass(frozen=True, eq=True, order=True)\n",
    "class Event():\n",
    "    when: datetime\n",
    "    event: str\n",
    "    \n",
    "    @classmethod\n",
    "    def from_regex_groups(cls, groups):\n",
    "        return cls(\n",
    "            datetime.fromisoformat(groups[0]),\n",
    "            groups[1]\n",
    "        )\n",
    "    \n",
    "    @classmethod\n",
    "    def all_from_text(cls, text):\n",
    "        return sorted([cls.from_regex_groups(groups) for groups in re_event.findall(text)])"
   ]
  },
  {
   "cell_type": "code",
   "execution_count": 5,
   "metadata": {},
   "outputs": [],
   "source": [
    "@dataclass(frozen=True)\n",
    "class Shift():\n",
    "    guard: int\n",
    "    asleep: Set[int]\n",
    "    \n",
    "    @classmethod\n",
    "    def from_events(cls, guard, events):\n",
    "        awake = True\n",
    "        fell_asleep = 0\n",
    "        asleep_mins = set()\n",
    "        for event in events:\n",
    "            if re_falls_asleep.search(event.event):\n",
    "                fell_asleep = event.when.minute\n",
    "            if re_wakes_up.search(event.event):\n",
    "                for minute in range(fell_asleep, event.when.minute):\n",
    "                    asleep_mins.add(minute)\n",
    "                fell_asleep = event.when.minute\n",
    "        if not awake:\n",
    "            for minute in range(fell_asleep, 60):\n",
    "                asleep_mins.add(minute)\n",
    "            \n",
    "        return cls(guard, asleep_mins)\n",
    "    \n",
    "    @classmethod\n",
    "    def all_from_events(cls, events):\n",
    "        shifts = []\n",
    "        guard = this_guard_start = -1\n",
    "        for e in range(len(events)):\n",
    "            guard_change = re_guard_change.search(events[e].event)\n",
    "            if guard_change:\n",
    "                if this_guard_start > -1:\n",
    "                    shifts.append((guard, events[this_guard_start:e]))\n",
    "                this_guard_start = e\n",
    "                guard = int(guard_change.groups()[0])\n",
    "        return [cls.from_events(*shift) for shift in shifts]"
   ]
  },
  {
   "cell_type": "code",
   "execution_count": 6,
   "metadata": {},
   "outputs": [],
   "source": [
    "@dataclass(frozen=True)\n",
    "class Guard():\n",
    "    guard: int\n",
    "    asleep: Dict[int, bool]\n",
    "    \n",
    "    @property\n",
    "    def total_minutes_asleep(self):\n",
    "        return sum(times for times in self.asleep.values())\n",
    "    \n",
    "    @property\n",
    "    def minute_most_often_asleep(self):        \n",
    "        return sorted([(times, minute) for (minute, times) in self.asleep.items()], reverse=True)[0][1]\n",
    "    \n",
    "    @property\n",
    "    def most_times_asleep_on_same_minute(self):\n",
    "        return sorted([(times, minute) for (minute, times) in self.asleep.items()], reverse=True)[0][0]\n",
    "    \n",
    "    @classmethod\n",
    "    def all_from_shifts(cls, shifts):\n",
    "        guards = {}\n",
    "        for shift in shifts:\n",
    "            if shift.guard not in guards:\n",
    "                guards[shift.guard] = dict((minute, 0) for minute in range(60))\n",
    "            for minute in shift.asleep:\n",
    "                guards[shift.guard][minute] += 1\n",
    "        \n",
    "        return [cls(guard, asleep) for guard, asleep in guards.items()]"
   ]
  },
  {
   "cell_type": "code",
   "execution_count": 7,
   "metadata": {},
   "outputs": [],
   "source": [
    "events = Event.all_from_text(data)\n",
    "shifts = Shift.all_from_events(events)\n",
    "guards = Guard.all_from_shifts(shifts)"
   ]
  },
  {
   "cell_type": "markdown",
   "metadata": {},
   "source": [
    "##### Part 1: Find the guard who is most often asleep, and then the minute he most often sleeps."
   ]
  },
  {
   "cell_type": "code",
   "execution_count": 8,
   "metadata": {},
   "outputs": [
    {
     "name": "stdout",
     "output_type": "stream",
     "text": [
      "Part 1: 151754\n"
     ]
    }
   ],
   "source": [
    "guard = sorted(guards, key=lambda g: g.total_minutes_asleep, reverse=True)[0]\n",
    "p1 = guard.guard * guard.minute_most_often_asleep\n",
    "print('Part 1: {}'.format(p1))"
   ]
  },
  {
   "cell_type": "markdown",
   "metadata": {},
   "source": [
    "##### Part 2: Find the guard who is most frequently asleep on the same minute"
   ]
  },
  {
   "cell_type": "code",
   "execution_count": 9,
   "metadata": {},
   "outputs": [
    {
     "name": "stdout",
     "output_type": "stream",
     "text": [
      "Part 2: 19896\n"
     ]
    }
   ],
   "source": [
    "guard = sorted(guards, key=lambda g: g.most_times_asleep_on_same_minute, reverse=True)[0]\n",
    "p2 = guard.guard * guard.minute_most_often_asleep\n",
    "print('Part 2: {}'.format(p2))"
   ]
  }
 ],
 "metadata": {
  "kernelspec": {
   "display_name": "Python 3",
   "language": "python",
   "name": "python3"
  },
  "language_info": {
   "codemirror_mode": {
    "name": "ipython",
    "version": 3
   },
   "file_extension": ".py",
   "mimetype": "text/x-python",
   "name": "python",
   "nbconvert_exporter": "python",
   "pygments_lexer": "ipython3",
   "version": "3.8.5"
  }
 },
 "nbformat": 4,
 "nbformat_minor": 4
}
