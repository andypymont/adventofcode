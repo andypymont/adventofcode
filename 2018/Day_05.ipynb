{
 "cells": [
  {
   "cell_type": "markdown",
   "metadata": {},
   "source": [
    "# Day 5\n",
    "https://adventofcode.com/2018/day/5"
   ]
  },
  {
   "cell_type": "code",
   "execution_count": 1,
   "metadata": {},
   "outputs": [],
   "source": [
    "import aocd\n",
    "data = aocd.get_data(year=2018, day=5)"
   ]
  },
  {
   "cell_type": "code",
   "execution_count": 2,
   "metadata": {},
   "outputs": [],
   "source": [
    "import string"
   ]
  },
  {
   "cell_type": "code",
   "execution_count": 3,
   "metadata": {},
   "outputs": [],
   "source": [
    "def single_reaction(polymer):\n",
    "    for e, element in enumerate(string.ascii_lowercase):\n",
    "        polar = string.ascii_uppercase[e]\n",
    "        for pair in (element + polar, polar + element):\n",
    "            if pair in polymer:\n",
    "                return polymer.replace(pair, '')\n",
    "    return polymer"
   ]
  },
  {
   "cell_type": "code",
   "execution_count": 4,
   "metadata": {},
   "outputs": [],
   "source": [
    "def fully_react(polymer):\n",
    "    reacted = single_reaction(polymer)\n",
    "    while polymer != reacted:\n",
    "        polymer, reacted = reacted, single_reaction(reacted)\n",
    "    return reacted"
   ]
  },
  {
   "cell_type": "code",
   "execution_count": 5,
   "metadata": {},
   "outputs": [],
   "source": [
    "def remove_all(polymer, element):\n",
    "    return polymer.replace(element.lower(), '').replace(element.upper(), '')"
   ]
  },
  {
   "cell_type": "code",
   "execution_count": 6,
   "metadata": {},
   "outputs": [
    {
     "name": "stdout",
     "output_type": "stream",
     "text": [
      "Part 1: 9078\n"
     ]
    }
   ],
   "source": [
    "p1 = len(fully_react(data))\n",
    "print('Part 1: {}'.format(p1))"
   ]
  },
  {
   "cell_type": "code",
   "execution_count": 7,
   "metadata": {},
   "outputs": [
    {
     "name": "stdout",
     "output_type": "stream",
     "text": [
      "Part 2: 5698\n"
     ]
    }
   ],
   "source": [
    "p2 = min(len(fully_react(remove_all(data, letter))) for letter in string.ascii_lowercase)\n",
    "print('Part 2: {}'.format(p2))"
   ]
  }
 ],
 "metadata": {
  "kernelspec": {
   "display_name": "Python 3",
   "language": "python",
   "name": "python3"
  },
  "language_info": {
   "codemirror_mode": {
    "name": "ipython",
    "version": 3
   },
   "file_extension": ".py",
   "mimetype": "text/x-python",
   "name": "python",
   "nbconvert_exporter": "python",
   "pygments_lexer": "ipython3",
   "version": "3.8.5"
  }
 },
 "nbformat": 4,
 "nbformat_minor": 4
}
