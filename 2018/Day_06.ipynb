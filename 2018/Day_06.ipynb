{
 "cells": [
  {
   "cell_type": "markdown",
   "metadata": {},
   "source": [
    "# Day 6\n",
    "https://adventofcode.com/2018/day/6"
   ]
  },
  {
   "cell_type": "code",
   "execution_count": 1,
   "metadata": {},
   "outputs": [],
   "source": [
    "import aocd\n",
    "data = aocd.get_data(year=2018, day=6)"
   ]
  },
  {
   "cell_type": "code",
   "execution_count": 2,
   "metadata": {},
   "outputs": [],
   "source": [
    "from dataclasses import dataclass\n",
    "import re"
   ]
  },
  {
   "cell_type": "code",
   "execution_count": 3,
   "metadata": {},
   "outputs": [],
   "source": [
    "re_point = re.compile(r'(\\d+), (\\d+)')"
   ]
  },
  {
   "cell_type": "code",
   "execution_count": 4,
   "metadata": {},
   "outputs": [],
   "source": [
    "@dataclass(frozen=True, order=True)\n",
    "class Point():\n",
    "    x: int\n",
    "    y: int\n",
    "\n",
    "    def distance(self, other):\n",
    "        return abs(self.x-other.x) + abs(self.y-other.y)\n",
    "    \n",
    "    def distances(self, pointset):\n",
    "        return dict((point, self.distance(point)) for point in pointset)\n",
    "    \n",
    "    def closest_to(self, pointset):\n",
    "        distances = self.distances(pointset)\n",
    "        min_dist = min(distances.values())\n",
    "        closest = [point for point in pointset if distances[point] == min_dist]\n",
    "        if len(closest) == 1:\n",
    "            return closest[0]\n",
    "    \n",
    "    def total_distance_to(self, pointset):\n",
    "        distances = self.distances(pointset)\n",
    "        return sum(distances.values())\n",
    "    \n",
    "    @classmethod\n",
    "    def all_from_text(cls, text):\n",
    "        return set(cls(*map(int, groups)) for groups in re_point.findall(text))\n",
    "    \n",
    "    @classmethod\n",
    "    def constraints(cls, pointset):\n",
    "        x = [point.x for point in pointset]\n",
    "        y = [point.y for point in pointset]\n",
    "        return (min(x), min(y), max(x), max(y))    \n",
    "\n",
    "    @classmethod\n",
    "    def non_infinite_area_sizes(cls, pointset):\n",
    "        nia = dict((point, set()) for point in pointset)\n",
    "        infinite = set()\n",
    "        \n",
    "        minx, miny, maxx, maxy = cls.constraints(pointset)\n",
    "        for x in range(minx, maxx+1):\n",
    "            for y in range(miny, maxy+1):\n",
    "                point = cls(x, y)\n",
    "                closest = point.closest_to(pointset)\n",
    "                if closest:\n",
    "                    nia[closest].add(point)\n",
    "                    if closest not in infinite and (x in (minx, maxx) or y in (miny, maxy)):\n",
    "                        infinite.add(closest)\n",
    "        \n",
    "        return [len(nearby) for (point, nearby) in nia.items() if point not in infinite]\n",
    "    \n",
    "    @classmethod\n",
    "    def total_distance_to_all_grid(cls, pointset):\n",
    "        grid = dict()\n",
    "        \n",
    "        minx, miny, maxx, maxy = cls.constraints(pointset)\n",
    "        for x in range(minx, maxx+1):\n",
    "            for y in range(miny, maxy+1):\n",
    "                point = cls(x, y)\n",
    "                grid[point] = point.total_distance_to(pointset)\n",
    "        \n",
    "        return grid"
   ]
  },
  {
   "cell_type": "code",
   "execution_count": 5,
   "metadata": {},
   "outputs": [
    {
     "name": "stdout",
     "output_type": "stream",
     "text": [
      "Part 1: 3569\n"
     ]
    }
   ],
   "source": [
    "points = Point.all_from_text(data)\n",
    "p1 = max(Point.non_infinite_area_sizes(points))\n",
    "print('Part 1: {}'.format(p1))"
   ]
  },
  {
   "cell_type": "code",
   "execution_count": 6,
   "metadata": {},
   "outputs": [
    {
     "name": "stdout",
     "output_type": "stream",
     "text": [
      "Part 2: 48978\n"
     ]
    }
   ],
   "source": [
    "distances = Point.total_distance_to_all_grid(points)\n",
    "p2 = sum(1 for (point, total) in distances.items() if total <= 10000)\n",
    "print('Part 2: {}'.format(p2))"
   ]
  }
 ],
 "metadata": {
  "kernelspec": {
   "display_name": "Python 3",
   "language": "python",
   "name": "python3"
  },
  "language_info": {
   "codemirror_mode": {
    "name": "ipython",
    "version": 3
   },
   "file_extension": ".py",
   "mimetype": "text/x-python",
   "name": "python",
   "nbconvert_exporter": "python",
   "pygments_lexer": "ipython3",
   "version": "3.8.5"
  }
 },
 "nbformat": 4,
 "nbformat_minor": 4
}
