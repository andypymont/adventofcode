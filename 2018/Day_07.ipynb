{
 "cells": [
  {
   "cell_type": "markdown",
   "metadata": {},
   "source": [
    "# Day 7\n",
    "https://adventofcode.com/2018/day/7"
   ]
  },
  {
   "cell_type": "code",
   "execution_count": 1,
   "metadata": {},
   "outputs": [],
   "source": [
    "import aocd\n",
    "data = aocd.get_data(year=2018, day=7)"
   ]
  },
  {
   "cell_type": "code",
   "execution_count": 2,
   "metadata": {},
   "outputs": [],
   "source": [
    "from dataclasses import dataclass\n",
    "from typing import Set\n",
    "import re"
   ]
  },
  {
   "cell_type": "code",
   "execution_count": 3,
   "metadata": {},
   "outputs": [],
   "source": [
    "re_task = re.compile(r'Step (\\w) must be finished before step (\\w) can begin.')"
   ]
  },
  {
   "cell_type": "code",
   "execution_count": 4,
   "metadata": {},
   "outputs": [],
   "source": [
    "@dataclass(frozen=True, order=True)\n",
    "class Task():\n",
    "    name: str\n",
    "    prerequisites: Set[str]\n",
    "\n",
    "    @property\n",
    "    def time_to_complete(self):\n",
    "        return ord(self.name) - 4\n",
    "    \n",
    "    def can_begin(self, completed):\n",
    "        return all(prereq in completed for prereq in self.prerequisites)\n",
    "\n",
    "    @classmethod\n",
    "    def all_from_text(cls, text):\n",
    "        prereqs = dict()\n",
    "        for (prereq, step) in re_task.findall(text):\n",
    "            if prereq not in prereqs:\n",
    "                prereqs[prereq] = set()\n",
    "            if step not in prereqs:\n",
    "                prereqs[step] = set()\n",
    "            prereqs[step].add(prereq)\n",
    "        return sorted([Task(name, frozenset(prereqset)) for (name, prereqset) in prereqs.items()])"
   ]
  },
  {
   "cell_type": "code",
   "execution_count": 5,
   "metadata": {},
   "outputs": [],
   "source": [
    "@dataclass\n",
    "class Worker():\n",
    "    task: Task\n",
    "    time_spent: int\n",
    "    \n",
    "    def __init__(self):\n",
    "        self.assign(None)\n",
    "    \n",
    "    def assign(self, task):\n",
    "        self.task = task\n",
    "        self.time_spent = 0\n",
    "\n",
    "    def progress(self):\n",
    "        if self.task:\n",
    "            self.time_spent += 1\n",
    "            if self.time_spent == self.task.time_to_complete:\n",
    "                completed = self.task\n",
    "                self.assign(None)\n",
    "                return completed"
   ]
  },
  {
   "cell_type": "code",
   "execution_count": 6,
   "metadata": {},
   "outputs": [],
   "source": [
    "def complete_all_tasks(tasklist, workercount):\n",
    "    time = 0\n",
    "    order = []\n",
    "    workers = [Worker() for w in range(workercount)]\n",
    "    \n",
    "    while(len(order) < len(tasklist)):\n",
    "        # assign idle workers to ready tasks\n",
    "        unassigned = [worker for worker in workers if worker.task is None]\n",
    "        in_progress = {worker.task for worker in workers}\n",
    "        ready = sorted(task for task in tasklist\n",
    "                       if task not in in_progress and task.name not in order and task.can_begin(order))\n",
    "        for (worker, task) in zip(unassigned, ready):\n",
    "            worker.assign(task)\n",
    "\n",
    "        # advance time on all tasks\n",
    "        time += 1\n",
    "        for completed_task in [worker.progress() for worker in workers]:\n",
    "            if completed_task:\n",
    "                order.append(completed_task.name)\n",
    "\n",
    "    return (time, ''.join(order))"
   ]
  },
  {
   "cell_type": "code",
   "execution_count": 7,
   "metadata": {},
   "outputs": [
    {
     "name": "stdout",
     "output_type": "stream",
     "text": [
      "Part 1: BGJCNLQUYIFMOEZTADKSPVXRHW\n",
      "Part 2: 1017\n"
     ]
    }
   ],
   "source": [
    "tasks = Task.all_from_text(data)\n",
    "\n",
    "time1, p1 = complete_all_tasks(tasks, 1)\n",
    "print('Part 1: {}'.format(p1))\n",
    "\n",
    "p2, order2 = complete_all_tasks(tasks, 5)\n",
    "print('Part 2: {}'.format(p2))"
   ]
  }
 ],
 "metadata": {
  "kernelspec": {
   "display_name": "Python 3",
   "language": "python",
   "name": "python3"
  },
  "language_info": {
   "codemirror_mode": {
    "name": "ipython",
    "version": 3
   },
   "file_extension": ".py",
   "mimetype": "text/x-python",
   "name": "python",
   "nbconvert_exporter": "python",
   "pygments_lexer": "ipython3",
   "version": "3.8.5"
  }
 },
 "nbformat": 4,
 "nbformat_minor": 4
}
