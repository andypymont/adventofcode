{
 "cells": [
  {
   "cell_type": "markdown",
   "metadata": {},
   "source": [
    "# Day 8\n",
    "https://adventofcode.com/2018/day/8"
   ]
  },
  {
   "cell_type": "code",
   "execution_count": 1,
   "metadata": {},
   "outputs": [],
   "source": [
    "import aocd\n",
    "data = aocd.get_data(year=2018, day=8)"
   ]
  },
  {
   "cell_type": "code",
   "execution_count": 2,
   "metadata": {},
   "outputs": [],
   "source": [
    "from dataclasses import dataclass\n",
    "from typing import Tuple"
   ]
  },
  {
   "cell_type": "code",
   "execution_count": 3,
   "metadata": {},
   "outputs": [],
   "source": [
    "def generator_from_text(text):\n",
    "    return (int(item) for item in text.split(' '))"
   ]
  },
  {
   "cell_type": "code",
   "execution_count": 4,
   "metadata": {},
   "outputs": [],
   "source": [
    "@dataclass(frozen=True)\n",
    "class Node():\n",
    "    children: Tuple\n",
    "    metadata: Tuple\n",
    "    \n",
    "    @property\n",
    "    def value(self):\n",
    "        if len(self.children) == 0:\n",
    "            return sum(self.metadata)\n",
    "        indices = [ix-1 for ix in self.metadata if ix > 0 and ix <= len(self.children)]\n",
    "        return sum(self.children[ix].value for ix in indices)\n",
    "    \n",
    "    @property\n",
    "    def total_metadata(self):\n",
    "        return sum(self.metadata) + sum(child.total_metadata for child in self.children)\n",
    "    \n",
    "    @classmethod\n",
    "    def from_generator(cls, generator):\n",
    "        childcount = next(generator)\n",
    "        metacount = next(generator)\n",
    "        children = tuple(cls.from_generator(generator) for child in range(childcount))\n",
    "        metadata = tuple(next(generator) for child in range(metacount))\n",
    "        return cls(children, metadata)"
   ]
  },
  {
   "cell_type": "code",
   "execution_count": 5,
   "metadata": {},
   "outputs": [
    {
     "name": "stdout",
     "output_type": "stream",
     "text": [
      "Part 1: 35852\n"
     ]
    }
   ],
   "source": [
    "root = Node.from_generator(generator_from_text(data))\n",
    "p1 = root.total_metadata\n",
    "print('Part 1: {}'.format(p1))"
   ]
  },
  {
   "cell_type": "code",
   "execution_count": 6,
   "metadata": {},
   "outputs": [
    {
     "name": "stdout",
     "output_type": "stream",
     "text": [
      "Part 2: 33422\n"
     ]
    }
   ],
   "source": [
    "p2 = root.value\n",
    "print('Part 2: {}'.format(p2))"
   ]
  }
 ],
 "metadata": {
  "kernelspec": {
   "display_name": "Python 3",
   "language": "python",
   "name": "python3"
  },
  "language_info": {
   "codemirror_mode": {
    "name": "ipython",
    "version": 3
   },
   "file_extension": ".py",
   "mimetype": "text/x-python",
   "name": "python",
   "nbconvert_exporter": "python",
   "pygments_lexer": "ipython3",
   "version": "3.8.5"
  }
 },
 "nbformat": 4,
 "nbformat_minor": 4
}
