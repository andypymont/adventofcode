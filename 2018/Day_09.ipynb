{
 "cells": [
  {
   "cell_type": "markdown",
   "metadata": {},
   "source": [
    "# Day 9\n",
    "https://adventofcode.com/2018/day/9"
   ]
  },
  {
   "cell_type": "code",
   "execution_count": 1,
   "metadata": {},
   "outputs": [],
   "source": [
    "import aocd\n",
    "data = aocd.get_data(year=2018, day=9)"
   ]
  },
  {
   "cell_type": "code",
   "execution_count": 2,
   "metadata": {},
   "outputs": [],
   "source": [
    "import re"
   ]
  },
  {
   "cell_type": "code",
   "execution_count": 3,
   "metadata": {},
   "outputs": [],
   "source": [
    "re_scenario = re.compile(r'(\\d+) players; last marble is worth (\\d+) points')"
   ]
  },
  {
   "cell_type": "code",
   "execution_count": 4,
   "metadata": {},
   "outputs": [],
   "source": [
    "class Marble:\n",
    "    \n",
    "    def __init__(self, number):\n",
    "        self.number = number\n",
    "        self.left = None\n",
    "        self.right = None\n",
    "    \n",
    "    def __eq__(self, other):\n",
    "        return self.number == other.number\n",
    "    \n",
    "    def __repr__(self):\n",
    "        left = 'Marble(number={}, ...)'.format(self.left.number) if self.left else 'None'\n",
    "        right = 'Marble(number={}, ...)'.format(self.right.number) if self.right else 'None'\n",
    "        return 'Marble(number={}, left={}, right={})'.format(self.number, left, right)\n",
    "    \n",
    "    @classmethod\n",
    "    def initial_marble(cls, number=0):\n",
    "        marble = cls(number)\n",
    "        marble.left = marble\n",
    "        marble.right = marble\n",
    "        return marble\n",
    "    \n",
    "    @property\n",
    "    def seven_counter_clockwise(self):\n",
    "        return self.right.right.right.right.right.right.right\n",
    "    \n",
    "    def place(self, marble):\n",
    "        marble.right, marble.left = self.left, self.left.left\n",
    "        marble.right.left = marble.left.right = marble\n",
    "        return marble\n",
    "    \n",
    "    def remove(self):\n",
    "        self.left.right = self.right\n",
    "        self.right.left = self.left\n",
    "        self.left = None\n",
    "        self.right = None\n",
    "        return self"
   ]
  },
  {
   "cell_type": "code",
   "execution_count": 5,
   "metadata": {},
   "outputs": [],
   "source": [
    "def play_game(players, last_marble):\n",
    "    collected = dict((player, 0) for player in range(players))\n",
    "    player = 0\n",
    "    \n",
    "    marble = Marble.initial_marble()\n",
    "    for marble_no in range(1, last_marble+1):\n",
    "        new_marble = Marble(marble_no)\n",
    "        if marble_no % 23 == 0:\n",
    "            collected[player] += new_marble.number\n",
    "            seven_cc = marble.seven_counter_clockwise\n",
    "            marble = seven_cc.left\n",
    "            collected[player] += seven_cc.remove().number\n",
    "        else:\n",
    "            marble = marble.place(new_marble)\n",
    "        \n",
    "        player = (player + 1) % players\n",
    "    \n",
    "    return max(score for (player, score) in collected.items())"
   ]
  },
  {
   "cell_type": "code",
   "execution_count": 6,
   "metadata": {},
   "outputs": [
    {
     "name": "stdout",
     "output_type": "stream",
     "text": [
      "Part 1: 408679\n",
      "Part 2: 3443939356\n"
     ]
    }
   ],
   "source": [
    "players, last_marble = map(int, re_scenario.search(data).groups())\n",
    "p1 = play_game(players, last_marble)\n",
    "print('Part 1: {}'.format(p1))\n",
    "p2 = play_game(players, last_marble*100)\n",
    "print('Part 2: {}'.format(p2))"
   ]
  }
 ],
 "metadata": {
  "kernelspec": {
   "display_name": "Python 3",
   "language": "python",
   "name": "python3"
  },
  "language_info": {
   "codemirror_mode": {
    "name": "ipython",
    "version": 3
   },
   "file_extension": ".py",
   "mimetype": "text/x-python",
   "name": "python",
   "nbconvert_exporter": "python",
   "pygments_lexer": "ipython3",
   "version": "3.8.5"
  }
 },
 "nbformat": 4,
 "nbformat_minor": 4
}
