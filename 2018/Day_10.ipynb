{
 "cells": [
  {
   "cell_type": "markdown",
   "metadata": {},
   "source": [
    "# Day 10\n",
    "https://adventofcode.com/2018/day/10"
   ]
  },
  {
   "cell_type": "code",
   "execution_count": 1,
   "metadata": {},
   "outputs": [],
   "source": [
    "import aocd\n",
    "data = aocd.get_data(year=2018, day=10)"
   ]
  },
  {
   "cell_type": "code",
   "execution_count": 2,
   "metadata": {},
   "outputs": [],
   "source": [
    "import pandas as pd\n",
    "import re"
   ]
  },
  {
   "cell_type": "code",
   "execution_count": 3,
   "metadata": {},
   "outputs": [],
   "source": [
    "re_point = re.compile(r'position=<([- \\d]+), ([- \\d]+)> velocity=<([- \\d]+), ([- \\d]+)>')"
   ]
  },
  {
   "cell_type": "code",
   "execution_count": 4,
   "metadata": {},
   "outputs": [],
   "source": [
    "def dataframe_from_input(text):\n",
    "    points = [map(int, point) for point in re_point.findall(text)]\n",
    "    return pd.DataFrame(points, columns=('x', 'y', 'vx', 'vy'), dtype='int64')"
   ]
  },
  {
   "cell_type": "code",
   "execution_count": 5,
   "metadata": {},
   "outputs": [],
   "source": [
    "def valuerange(series):\n",
    "    return series.max() - series.min()"
   ]
  },
  {
   "cell_type": "code",
   "execution_count": 6,
   "metadata": {},
   "outputs": [],
   "source": [
    "def y_values_after_seconds(df, seconds):\n",
    "    return df['vy'] * seconds + df['y']"
   ]
  },
  {
   "cell_type": "code",
   "execution_count": 7,
   "metadata": {},
   "outputs": [],
   "source": [
    "def x_values_after_seconds(df, seconds):\n",
    "    return df['vx'] * seconds + df['x']"
   ]
  },
  {
   "cell_type": "code",
   "execution_count": 8,
   "metadata": {},
   "outputs": [],
   "source": [
    "def find_message_second(df):\n",
    "    second = 0\n",
    "    y_height = valuerange(df['y'])\n",
    "    \n",
    "    while True:\n",
    "        second += 1\n",
    "        new_y_height = valuerange(y_values_after_seconds(df, second))\n",
    "        if new_y_height > y_height:\n",
    "            return second - 1\n",
    "        y_height = new_y_height"
   ]
  },
  {
   "cell_type": "code",
   "execution_count": 9,
   "metadata": {},
   "outputs": [],
   "source": [
    "def print_message(df, seconds):\n",
    "    x_values = x_values_after_seconds(df, seconds)\n",
    "    y_values = y_values_after_seconds(df, seconds)\n",
    "    points = set(zip(x_values, y_values))\n",
    "    \n",
    "    return '\\n'.join(\n",
    "        ''.join('#' if (x, y) in points else ' ' for x in range(x_values.min(), x_values.max()+1))\n",
    "        for y in range(y_values.min(), y_values.max()+1)\n",
    "    )"
   ]
  },
  {
   "cell_type": "code",
   "execution_count": 10,
   "metadata": {},
   "outputs": [
    {
     "name": "stdout",
     "output_type": "stream",
     "text": [
      "Part 1: \n",
      "######     ###  ######  ######    ##      ##    #####   ######\n",
      "#           #        #  #        #  #    #  #   #    #  #     \n",
      "#           #        #  #       #    #  #    #  #    #  #     \n",
      "#           #       #   #       #    #  #    #  #    #  #     \n",
      "#####       #      #    #####   #    #  #    #  #####   ##### \n",
      "#           #     #     #       ######  ######  #       #     \n",
      "#           #    #      #       #    #  #    #  #       #     \n",
      "#       #   #   #       #       #    #  #    #  #       #     \n",
      "#       #   #   #       #       #    #  #    #  #       #     \n",
      "######   ###    ######  ######  #    #  #    #  #       ######\n",
      "Part 2: 10054\n"
     ]
    }
   ],
   "source": [
    "points = dataframe_from_input(data)\n",
    "p2 = find_message_second(points)\n",
    "p1 = print_message(points, p2)\n",
    "print('Part 1: \\n{}'.format(p1))\n",
    "print('Part 2: {}'.format(p2))"
   ]
  }
 ],
 "metadata": {
  "kernelspec": {
   "display_name": "Python 3",
   "language": "python",
   "name": "python3"
  },
  "language_info": {
   "codemirror_mode": {
    "name": "ipython",
    "version": 3
   },
   "file_extension": ".py",
   "mimetype": "text/x-python",
   "name": "python",
   "nbconvert_exporter": "python",
   "pygments_lexer": "ipython3",
   "version": "3.8.5"
  }
 },
 "nbformat": 4,
 "nbformat_minor": 4
}
