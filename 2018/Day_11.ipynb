{
 "cells": [
  {
   "cell_type": "markdown",
   "metadata": {},
   "source": [
    "# Day 11\n",
    "https://adventofcode.com/2018/day/11"
   ]
  },
  {
   "cell_type": "code",
   "execution_count": 1,
   "metadata": {},
   "outputs": [],
   "source": [
    "import aocd\n",
    "data = aocd.get_data(year=2018, day=11)"
   ]
  },
  {
   "cell_type": "code",
   "execution_count": 2,
   "metadata": {},
   "outputs": [],
   "source": [
    "def hundreds(n):\n",
    "    return int(str(n).zfill(3)[-3])"
   ]
  },
  {
   "cell_type": "code",
   "execution_count": 3,
   "metadata": {},
   "outputs": [],
   "source": [
    "def power_level(x, y, grid_serial):\n",
    "    rack = x + 10\n",
    "    power = ((rack * y) + grid_serial) * rack\n",
    "    return hundreds(power) - 5"
   ]
  },
  {
   "cell_type": "code",
   "execution_count": 4,
   "metadata": {},
   "outputs": [
    {
     "name": "stdout",
     "output_type": "stream",
     "text": [
      "power_level(3, 5, 8) == 4 : True\n",
      "power_level(122, 79, 57) == -5 : True\n",
      "power_level(217, 196, 39) == 0 : True\n",
      "power_level(101, 153, 71) == 4 : True\n"
     ]
    }
   ],
   "source": [
    "examples = (\n",
    "    ((3, 5, 8), 4),\n",
    "    ((122, 79, 57), -5),\n",
    "    ((217, 196, 39), 0),\n",
    "    ((101, 153, 71), 4),\n",
    ")\n",
    "for (args, expected) in examples:\n",
    "    print('power_level{} == {} : {}'.format(args, expected, power_level(*args) == expected))"
   ]
  },
  {
   "cell_type": "markdown",
   "metadata": {},
   "source": [
    "##### Trickery!\n",
    "To get through part 2 in particular without running calculations like mad, we need to create this summed area table: we iterate through each potential *bottom corner* for squares and calculate them all at once."
   ]
  },
  {
   "cell_type": "code",
   "execution_count": 5,
   "metadata": {},
   "outputs": [],
   "source": [
    "def grid_power_squares(serial):\n",
    "    sat = dict()\n",
    "    for x in range(1, 301):\n",
    "        for y in range(1, 301):\n",
    "            p1 = power_level(x, y, serial)\n",
    "            sat[(x, y)] = sum((\n",
    "                p1,\n",
    "                sat.get((x, y-1), 0),\n",
    "                sat.get((x-1, y), 0),\n",
    "                -sat.get((x-1, y-1), 0)\n",
    "            ))\n",
    "            for squaresize in range(1, min(x, y)):\n",
    "                corners = (\n",
    "                    sat.get((x, y), 0),\n",
    "                    sat.get((x-squaresize, y-squaresize), 0),\n",
    "                    -sat.get((x, y-squaresize), 0),\n",
    "                    -sat.get((x-squaresize, y), 0),\n",
    "                )\n",
    "                yield ((x-squaresize+1, y-squaresize+1, squaresize), sum(corners))            "
   ]
  },
  {
   "cell_type": "code",
   "execution_count": 6,
   "metadata": {},
   "outputs": [],
   "source": [
    "def best_grid_power_squares(serial):\n",
    "    bestsquares = dict()\n",
    "    bestvalues = dict()\n",
    "    for ((x, y, squaresize), value) in grid_power_squares(serial):\n",
    "        if value > bestvalues.get(squaresize, 0):\n",
    "            bestsquares[squaresize] = (x, y, squaresize)\n",
    "            bestvalues[squaresize] = value\n",
    "        if value > bestvalues.get('all', 0):\n",
    "            bestsquares['all'] = (x, y, squaresize)\n",
    "            bestvalues['all'] = value\n",
    "    return bestsquares"
   ]
  },
  {
   "cell_type": "code",
   "execution_count": 7,
   "metadata": {},
   "outputs": [
    {
     "name": "stdout",
     "output_type": "stream",
     "text": [
      "Part 1: 20,68\n",
      "Part 2: 231,273,16\n"
     ]
    }
   ],
   "source": [
    "serial = int(data)\n",
    "bgps = best_grid_power_squares(serial)\n",
    "p1 = bgps.get(3)[:2]\n",
    "print('Part 1: {},{}'.format(*p1))\n",
    "p2 = bgps.get('all')\n",
    "print('Part 2: {},{},{}'.format(*p2))"
   ]
  }
 ],
 "metadata": {
  "kernelspec": {
   "display_name": "Python 3",
   "language": "python",
   "name": "python3"
  },
  "language_info": {
   "codemirror_mode": {
    "name": "ipython",
    "version": 3
   },
   "file_extension": ".py",
   "mimetype": "text/x-python",
   "name": "python",
   "nbconvert_exporter": "python",
   "pygments_lexer": "ipython3",
   "version": "3.8.5"
  }
 },
 "nbformat": 4,
 "nbformat_minor": 4
}
