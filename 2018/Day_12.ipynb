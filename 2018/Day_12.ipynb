{
 "cells": [
  {
   "cell_type": "markdown",
   "metadata": {},
   "source": [
    "# Day 12\n",
    "https://adventofcode.com/2018/day/12"
   ]
  },
  {
   "cell_type": "code",
   "execution_count": 1,
   "metadata": {},
   "outputs": [],
   "source": [
    "import aocd\n",
    "data = aocd.get_data(year=2018, day=12)"
   ]
  },
  {
   "cell_type": "code",
   "execution_count": 2,
   "metadata": {},
   "outputs": [],
   "source": [
    "from itertools import count\n",
    "import re"
   ]
  },
  {
   "cell_type": "code",
   "execution_count": 3,
   "metadata": {},
   "outputs": [],
   "source": [
    "re_initial_state = re.compile(r'initial state: ([#.]+)')\n",
    "re_spread_rule = re.compile(r'([#.]{5}) => ([#.])')"
   ]
  },
  {
   "cell_type": "code",
   "execution_count": 4,
   "metadata": {},
   "outputs": [],
   "source": [
    "def read_initial_state(text):\n",
    "    match = re_initial_state.search(text)\n",
    "    if match:\n",
    "        state = match.groups()[0]\n",
    "        return set(n for n, char in enumerate(state) if char == '#')"
   ]
  },
  {
   "cell_type": "code",
   "execution_count": 5,
   "metadata": {},
   "outputs": [],
   "source": [
    "def read_rule(pattern, result):\n",
    "    return (tuple(item == '#' for item in pattern), result == '#')"
   ]
  },
  {
   "cell_type": "code",
   "execution_count": 6,
   "metadata": {},
   "outputs": [],
   "source": [
    "def read_rules(text):\n",
    "    return dict(read_rule(*groups) for groups in re_spread_rule.findall(text))"
   ]
  },
  {
   "cell_type": "code",
   "execution_count": 7,
   "metadata": {},
   "outputs": [],
   "source": [
    "def next_generation(state, rules):\n",
    "    return {n for n in range(min(state)-2, max(state)+3)\n",
    "            if rules.get(tuple(n+delta in state for delta in range(-2, 3)))}"
   ]
  },
  {
   "cell_type": "code",
   "execution_count": 8,
   "metadata": {},
   "outputs": [],
   "source": [
    "def state_pattern(state):\n",
    "    offset = min(state)\n",
    "    return tuple(s-offset for s in sorted(state))"
   ]
  },
  {
   "cell_type": "code",
   "execution_count": 9,
   "metadata": {},
   "outputs": [],
   "source": [
    "def first_repeating_pattern(state, rules):\n",
    "    seen = dict()\n",
    "    for generation in count(1):\n",
    "        pattern = state_pattern(state)\n",
    "        \n",
    "        first = seen.get(pattern)\n",
    "        if first:\n",
    "            return dict(begins=first[0], ends=generation, offset=min(state)-first[1])\n",
    "        \n",
    "        seen[pattern] = (generation, min(state))\n",
    "        state = next_generation(state, rules)"
   ]
  },
  {
   "cell_type": "code",
   "execution_count": 10,
   "metadata": {},
   "outputs": [],
   "source": [
    "def run_simulation(state, rules, generations):\n",
    "    repeat = first_repeating_pattern(state, rules)\n",
    "    \n",
    "    # advance to the beginning of the repeating cycle (or to the total if it's low enough)\n",
    "    for generation in range(min(generations, repeat['begins'])):\n",
    "        state = next_generation(state, rules)\n",
    "        generations -= 1\n",
    "\n",
    "    # if the total was low enough, just return now\n",
    "    if generations == 0:\n",
    "        return state\n",
    "\n",
    "    # calculate how many full cycles are needed\n",
    "    cyclelength = repeat['ends'] - repeat['begins']\n",
    "    cycles = generations // cyclelength\n",
    "    \n",
    "    # complete any remainder after the repeated cycles\n",
    "    for generation in range(generations % cyclelength):\n",
    "        state = next_generation(state, rules)\n",
    "    \n",
    "    return {x+(cycles*repeat['offset']) for x in state}"
   ]
  },
  {
   "cell_type": "code",
   "execution_count": 11,
   "metadata": {},
   "outputs": [
    {
     "name": "stdout",
     "output_type": "stream",
     "text": [
      "Part 1: 4110\n",
      "Part 2: 2650000000466\n"
     ]
    }
   ],
   "source": [
    "initial = read_initial_state(data)\n",
    "rules = read_rules(data)\n",
    "p1 = sum(run_simulation(initial, rules, 20))\n",
    "print('Part 1: {}'.format(p1))\n",
    "p2 = sum(run_simulation(initial, rules, 50_000_000_000))\n",
    "print('Part 2: {}'.format(p2))"
   ]
  }
 ],
 "metadata": {
  "kernelspec": {
   "display_name": "Python 3",
   "language": "python",
   "name": "python3"
  },
  "language_info": {
   "codemirror_mode": {
    "name": "ipython",
    "version": 3
   },
   "file_extension": ".py",
   "mimetype": "text/x-python",
   "name": "python",
   "nbconvert_exporter": "python",
   "pygments_lexer": "ipython3",
   "version": "3.8.5"
  }
 },
 "nbformat": 4,
 "nbformat_minor": 4
}
