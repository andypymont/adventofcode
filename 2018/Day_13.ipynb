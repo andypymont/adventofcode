{
 "cells": [
  {
   "cell_type": "markdown",
   "metadata": {},
   "source": [
    "# Day 13\n",
    "https://adventofcode.com/2018/day/13"
   ]
  },
  {
   "cell_type": "code",
   "execution_count": 1,
   "metadata": {},
   "outputs": [],
   "source": [
    "import aocd\n",
    "data = aocd.get_data(year=2018, day=13)"
   ]
  },
  {
   "cell_type": "code",
   "execution_count": 2,
   "metadata": {},
   "outputs": [],
   "source": [
    "from dataclasses import dataclass"
   ]
  },
  {
   "cell_type": "code",
   "execution_count": 3,
   "metadata": {},
   "outputs": [],
   "source": [
    "@dataclass(frozen=True, order=True)\n",
    "class Point():\n",
    "    y: int\n",
    "    x: int\n",
    "    \n",
    "    def __add__(self, other):\n",
    "        return Point(self.y+other.y, self.x+other.x)"
   ]
  },
  {
   "cell_type": "code",
   "execution_count": 4,
   "metadata": {},
   "outputs": [],
   "source": [
    "def read_tracks(text):\n",
    "    tracks = {}\n",
    "    lines = text.translate(text.maketrans('^v<>', '||--')).split('\\n')\n",
    "    for y, line in enumerate(lines):\n",
    "        for x, char in enumerate(line):\n",
    "            if char in ('|', '-', '\\\\', '/', '+'):\n",
    "                tracks[Point(y, x)] = char\n",
    "    return tracks"
   ]
  },
  {
   "cell_type": "code",
   "execution_count": 5,
   "metadata": {},
   "outputs": [],
   "source": [
    "UP = Point(-1, 0)\n",
    "DOWN = Point(1, 0)\n",
    "LEFT = Point(0, -1)\n",
    "RIGHT = Point(0, 1)\n",
    "COMPASS = (UP, RIGHT, DOWN, LEFT)\n",
    "TURNS = ('left', 'ahead', 'right')"
   ]
  },
  {
   "cell_type": "code",
   "execution_count": 6,
   "metadata": {},
   "outputs": [],
   "source": [
    "def turned_direction(direction, change):\n",
    "    if change == 'ahead':\n",
    "        return direction\n",
    "    delta = 1 if change == 'right' else -1\n",
    "    return COMPASS[(COMPASS.index(direction)+delta) % len(COMPASS)]"
   ]
  },
  {
   "cell_type": "code",
   "execution_count": 7,
   "metadata": {},
   "outputs": [],
   "source": [
    "@dataclass(frozen=True, order=True)\n",
    "class Minecart:\n",
    "    position: Point\n",
    "    direction: Point\n",
    "    turns: int\n",
    "    \n",
    "    @classmethod\n",
    "    def create_minecart(cls, y, x, char):\n",
    "        direction = {\n",
    "            '^': UP,\n",
    "            'v': DOWN,\n",
    "            '<': LEFT,\n",
    "            '>': RIGHT,\n",
    "        }.get(char)\n",
    "        return cls(Point(y, x), direction, 0)\n",
    "    \n",
    "    @property\n",
    "    def next_turn(self):\n",
    "        return turned_direction(self.direction, TURNS[self.turns % len(TURNS)])\n",
    "    \n",
    "    def next_step(self, track_char):\n",
    "        new_dir = self.direction\n",
    "        turns = self.turns\n",
    "\n",
    "        if track_char == '\\\\':\n",
    "            if self.direction == UP:\n",
    "                new_dir = LEFT\n",
    "            elif self.direction == RIGHT:\n",
    "                new_dir = DOWN\n",
    "            elif self.direction == DOWN:\n",
    "                new_dir = RIGHT\n",
    "            elif self.direction == LEFT:\n",
    "                new_dir = UP\n",
    "        \n",
    "        elif track_char == '/':\n",
    "            if self.direction == UP:\n",
    "                new_dir = RIGHT\n",
    "            elif self.direction == RIGHT:\n",
    "                new_dir = UP\n",
    "            elif self.direction == DOWN:\n",
    "                new_dir = LEFT\n",
    "            elif self.direction == LEFT:\n",
    "                new_dir = DOWN\n",
    "        \n",
    "        elif track_char == '+':\n",
    "            new_dir = self.next_turn\n",
    "            turns += 1\n",
    "        \n",
    "        return Minecart(self.position+new_dir, new_dir, turns)"
   ]
  },
  {
   "cell_type": "code",
   "execution_count": 8,
   "metadata": {},
   "outputs": [],
   "source": [
    "def read_minecarts(text):\n",
    "    return [Minecart.create_minecart(y, x, char) for y, line in enumerate(text.split('\\n'))\n",
    "            for x, char in enumerate(line) if char in '^v<>']"
   ]
  },
  {
   "cell_type": "code",
   "execution_count": 9,
   "metadata": {},
   "outputs": [],
   "source": [
    "def crashes_and_remaining_cart(tracks, minecarts):\n",
    "    crashes = []\n",
    "    while len(minecarts) > 1:\n",
    "        minecarts = sorted(minecarts)\n",
    "        crashed_this_turn = set()\n",
    "        for ix in range(len(minecarts)):\n",
    "            minecarts[ix] = minecarts[ix].next_step(tracks[minecarts[ix].position])\n",
    "            for crash_position in [minecart.position for minecart in minecarts]:\n",
    "                victims = [victimid for victimid, minecart in enumerate(minecarts)\n",
    "                           if minecart.position == crash_position]\n",
    "                if len(victims) > 1:\n",
    "                    crashed_this_turn.update(victims)\n",
    "                    crashes.append(minecarts[victims[0]].position)\n",
    "        minecarts = [minecart for ix, minecart in enumerate(minecarts) if ix not in crashed_this_turn]\n",
    "    \n",
    "    return crashes, minecarts[0]"
   ]
  },
  {
   "cell_type": "code",
   "execution_count": 10,
   "metadata": {},
   "outputs": [
    {
     "name": "stdout",
     "output_type": "stream",
     "text": [
      "Part 1: 71,121\n",
      "Part 2: 71,76\n"
     ]
    }
   ],
   "source": [
    "tracks = read_tracks(data)\n",
    "minecarts = read_minecarts(data)\n",
    "crashes, p2 = crashes_and_remaining_cart(tracks, minecarts)\n",
    "p1 = crashes[0]\n",
    "print('Part 1: {},{}'.format(p1.x, p1.y))\n",
    "print('Part 2: {},{}'.format(p2.position.x, p2.position.y))"
   ]
  }
 ],
 "metadata": {
  "kernelspec": {
   "display_name": "Python 3",
   "language": "python",
   "name": "python3"
  },
  "language_info": {
   "codemirror_mode": {
    "name": "ipython",
    "version": 3
   },
   "file_extension": ".py",
   "mimetype": "text/x-python",
   "name": "python",
   "nbconvert_exporter": "python",
   "pygments_lexer": "ipython3",
   "version": "3.8.5"
  }
 },
 "nbformat": 4,
 "nbformat_minor": 4
}
