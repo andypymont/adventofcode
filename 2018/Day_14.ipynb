{
 "cells": [
  {
   "cell_type": "markdown",
   "metadata": {},
   "source": [
    "# Day 14\n",
    "https://adventofcode.com/2018/day/14"
   ]
  },
  {
   "cell_type": "code",
   "execution_count": 1,
   "metadata": {},
   "outputs": [],
   "source": [
    "import aocd\n",
    "data = aocd.get_data(year=2018, day=14)"
   ]
  },
  {
   "cell_type": "code",
   "execution_count": 2,
   "metadata": {},
   "outputs": [],
   "source": [
    "from collections import deque\n",
    "from itertools import islice"
   ]
  },
  {
   "cell_type": "code",
   "execution_count": 3,
   "metadata": {},
   "outputs": [],
   "source": [
    "def recipe_cache():\n",
    "    return dict(\n",
    "        ((str(a), str(b)), str(a + b))\n",
    "        for a in range(10) for b in range(10)\n",
    "    )"
   ]
  },
  {
   "cell_type": "code",
   "execution_count": 4,
   "metadata": {},
   "outputs": [],
   "source": [
    "def recipe_sequence():\n",
    "    rc = recipe_cache()\n",
    "    recipes, elf1, elf2 = '37', 0, 1\n",
    "    queue = deque(recipes)\n",
    "    while True:\n",
    "        while queue:\n",
    "            yield queue.popleft()\n",
    "        score = rc.get((recipes[elf1], recipes[elf2]))\n",
    "        queue.extend(score)\n",
    "        recipes += score\n",
    "        elf1 = (elf1 + int(recipes[elf1]) + 1) % len(recipes)\n",
    "        elf2 = (elf2 + int(recipes[elf2]) + 1) % len(recipes)"
   ]
  },
  {
   "cell_type": "code",
   "execution_count": 5,
   "metadata": {},
   "outputs": [],
   "source": [
    "def ten_scores_following(quantity):\n",
    "    return ''.join(islice(recipe_sequence(), quantity, quantity+10))"
   ]
  },
  {
   "cell_type": "code",
   "execution_count": 6,
   "metadata": {},
   "outputs": [],
   "source": [
    "def sequence_appears_after(sequence):\n",
    "    latest = deque(maxlen=len(sequence))\n",
    "    for count, recipe in enumerate(recipe_sequence()):\n",
    "        latest.append(recipe)\n",
    "        if ''.join(latest) == sequence:\n",
    "            return 1 + count - len(sequence)"
   ]
  },
  {
   "cell_type": "code",
   "execution_count": 7,
   "metadata": {},
   "outputs": [
    {
     "name": "stdout",
     "output_type": "stream",
     "text": [
      "Part 1: 2688510125\n",
      "Part 2: 20188250\n"
     ]
    }
   ],
   "source": [
    "p1 = ten_scores_following(int(data))\n",
    "print('Part 1: {}'.format(p1))\n",
    "p2 = sequence_appears_after(data)\n",
    "print('Part 2: {}'.format(p2))"
   ]
  }
 ],
 "metadata": {
  "kernelspec": {
   "display_name": "Python 3",
   "language": "python",
   "name": "python3"
  },
  "language_info": {
   "codemirror_mode": {
    "name": "ipython",
    "version": 3
   },
   "file_extension": ".py",
   "mimetype": "text/x-python",
   "name": "python",
   "nbconvert_exporter": "python",
   "pygments_lexer": "ipython3",
   "version": "3.8.5"
  }
 },
 "nbformat": 4,
 "nbformat_minor": 4
}
