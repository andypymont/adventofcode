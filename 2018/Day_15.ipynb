{
 "cells": [
  {
   "cell_type": "markdown",
   "metadata": {},
   "source": [
    "# Day 15\n",
    "https://adventofcode.com/2018/day/15"
   ]
  },
  {
   "cell_type": "code",
   "execution_count": 1,
   "metadata": {},
   "outputs": [],
   "source": [
    "import aocd\n",
    "data = aocd.get_data(year=2018, day=15)"
   ]
  },
  {
   "cell_type": "code",
   "execution_count": 2,
   "metadata": {},
   "outputs": [],
   "source": [
    "from collections import deque, namedtuple\n",
    "from itertools import chain, count\n",
    "import math"
   ]
  },
  {
   "cell_type": "code",
   "execution_count": 3,
   "metadata": {},
   "outputs": [],
   "source": [
    "Combatant = namedtuple('Combatant', 'position team hp attack')"
   ]
  },
  {
   "cell_type": "code",
   "execution_count": 4,
   "metadata": {},
   "outputs": [],
   "source": [
    "def read_units(text):\n",
    "    return tuple(chain.from_iterable(\n",
    "        (Combatant(position=complex(x, y),\n",
    "                   team='elf' if char == 'E' else 'goblin',\n",
    "                   hp=200,\n",
    "                   attack=3)\n",
    "         for x, char in enumerate(row) if char in ('E', 'G'))\n",
    "        for y, row in enumerate(text.split('\\n'))\n",
    "    ))"
   ]
  },
  {
   "cell_type": "code",
   "execution_count": 5,
   "metadata": {},
   "outputs": [],
   "source": [
    "def read_walls(text):\n",
    "    return set(chain.from_iterable(\n",
    "        (complex(x, y) for x, char in enumerate(row) if char == '#')\n",
    "        for y, row in enumerate(text.split('\\n'))\n",
    "    ))"
   ]
  },
  {
   "cell_type": "code",
   "execution_count": 6,
   "metadata": {},
   "outputs": [],
   "source": [
    "def adjacent(first, second):\n",
    "    return (first+1 == second or first-1 == second or first+1j == second or first-1j == second)"
   ]
  },
  {
   "cell_type": "code",
   "execution_count": 7,
   "metadata": {},
   "outputs": [],
   "source": [
    "def free_spaces_next_to_targets(targets, occupied):\n",
    "    spaces_next_to_targets = chain.from_iterable(\n",
    "        (target.position+1,\n",
    "         target.position-1,\n",
    "         target.position+1j,\n",
    "         target.position-1j)\n",
    "        for target in targets\n",
    "    )\n",
    "    return set(space for space in spaces_next_to_targets\n",
    "               if space not in occupied)"
   ]
  },
  {
   "cell_type": "code",
   "execution_count": 8,
   "metadata": {},
   "outputs": [],
   "source": [
    "def potential_targets(actor, units):\n",
    "    return set(unit for unit in units if unit.team != actor.team and unit.hp > 0)"
   ]
  },
  {
   "cell_type": "code",
   "execution_count": 9,
   "metadata": {},
   "outputs": [],
   "source": [
    "def distance_to_spaces(position, occupied):\n",
    "    compass = (1, -1, 1j, -1j)\n",
    "    distances = dict()\n",
    "    consider = deque([(0, position)])\n",
    "\n",
    "    while consider:\n",
    "        dist, pos = consider.popleft()\n",
    "        distances[pos] = dist\n",
    "        for direction in compass:\n",
    "            adjacent = pos + direction\n",
    "            if (adjacent not in occupied) and (adjacent not in distances):\n",
    "                if not any(c[1] == adjacent for c in consider):\n",
    "                    consider.append((dist+1, adjacent))\n",
    "\n",
    "    return distances"
   ]
  },
  {
   "cell_type": "code",
   "execution_count": 10,
   "metadata": {},
   "outputs": [],
   "source": [
    "def damage(unit, power):\n",
    "    return Combatant(position=unit.position, team=unit.team, hp=max(0, unit.hp-power), attack=unit.attack)"
   ]
  },
  {
   "cell_type": "code",
   "execution_count": 11,
   "metadata": {},
   "outputs": [],
   "source": [
    "def moved(unit, position):\n",
    "    return Combatant(position=position, team=unit.team, hp=unit.hp, attack=unit.attack)"
   ]
  },
  {
   "cell_type": "code",
   "execution_count": 12,
   "metadata": {},
   "outputs": [],
   "source": [
    "def identify_movement_target(position, enemies, occupied):\n",
    "    distances = distance_to_spaces(position, occupied)\n",
    "    reachable_fsntt = {space for space in free_spaces_next_to_targets(enemies, occupied) if space in distances}\n",
    "    if reachable_fsntt:\n",
    "        return sorted(reachable_fsntt,\n",
    "                      key=lambda t: (distances.get(t, math.inf),\n",
    "                                     t.imag,\n",
    "                                     t.real))[0]"
   ]
  },
  {
   "cell_type": "code",
   "execution_count": 13,
   "metadata": {},
   "outputs": [],
   "source": [
    "def next_step_toward_movement_target(position, target, occupied):\n",
    "    distances = distance_to_spaces(target, occupied)\n",
    "    adjacent = [loc for loc in (position+1,\n",
    "                                position-1,\n",
    "                                position+1j,\n",
    "                                position-1j)\n",
    "                if loc not in occupied]\n",
    "    sort_candidates = lambda c: (distances.get(c, math.inf),\n",
    "                                 c.imag,\n",
    "                                 c.real)\n",
    "    return sorted(adjacent, key=sort_candidates)[0]"
   ]
  },
  {
   "cell_type": "code",
   "execution_count": 14,
   "metadata": {},
   "outputs": [],
   "source": [
    "def advance(rounds, units, walls):\n",
    "    sort_units = lambda x: (x.position.imag, x.position.real)\n",
    "\n",
    "    units = list(sorted(units, key=sort_units))\n",
    "    victory_before_end = False\n",
    "\n",
    "    for unit_ix, unit in enumerate(units):\n",
    "        if unit.hp > 0:\n",
    "            occupied = walls|{unit.position for id, unit in enumerate(units)\n",
    "                              if unit.hp > 0 and id != unit_ix}\n",
    "            adjacent = [loc for loc in (unit.position+1,\n",
    "                                        unit.position-1,\n",
    "                                        unit.position+1j,\n",
    "                                        unit.position-1j)\n",
    "                        if loc not in walls]\n",
    "\n",
    "            targets = [other for other in units\n",
    "                       if other.team != unit.team and other.hp > 0]\n",
    "            if not targets: # no enemies, so early victory needs recording\n",
    "                victory_before_end = True\n",
    "            if (sum(1 for targ in targets if targ.position in adjacent) == 0 and\n",
    "                adjacent):\n",
    "                target = identify_movement_target(unit.position,\n",
    "                                                  targets,\n",
    "                                                  occupied)\n",
    "                if target:\n",
    "                    move_to = next_step_toward_movement_target(unit.position,\n",
    "                                                               target,\n",
    "                                                               occupied)\n",
    "                    unit = moved(unit, move_to)\n",
    "                    units[unit_ix] = unit\n",
    "\n",
    "            adjacent = [loc for loc in (unit.position+1,\n",
    "                                        unit.position-1,\n",
    "                                        unit.position+1j,\n",
    "                                        unit.position-1j)\n",
    "                        if loc not in walls]\n",
    "            victims = [(id, v) for id, v in enumerate(units)\n",
    "                       if v.team != unit.team and units[id].hp > 0\n",
    "                       and v.position in adjacent]\n",
    "            if victims:\n",
    "                def sort_victims(victim):\n",
    "                    id, victim = victim\n",
    "                    return (victim.hp,\n",
    "                            victim.position.imag,\n",
    "                            victim.position.real)\n",
    "                victid, victim = sorted(victims, key=sort_victims)[0]\n",
    "                units[victid] = damage(victim, unit.attack)\n",
    "\n",
    "    rounds = rounds + (0 if victory_before_end else 1)\n",
    "\n",
    "    return rounds, set(unit for unit in units if unit.hp > 0)"
   ]
  },
  {
   "cell_type": "code",
   "execution_count": 15,
   "metadata": {},
   "outputs": [],
   "source": [
    "def print_map(round, walls, units):\n",
    "    map = dict()\n",
    "    unitdesc = dict()\n",
    "    for wall in walls:\n",
    "        map[wall] = '#'\n",
    "    for unit in sorted(units, key=lambda u: (u.position.imag, u.position.real)):\n",
    "        teamcode = unit.team[0].upper()\n",
    "        map[unit.position] = teamcode\n",
    "        y = unit.position.imag\n",
    "        unitdesc[y] = unitdesc.get(y, '') + ', {}({})'.format(teamcode, unit.hp)\n",
    "\n",
    "    max_x = int(max(n.real for n in map.keys()))\n",
    "    max_y = int(max(n.imag for n in map.keys()))\n",
    "\n",
    "    header = '{00}\\n==\\n'.format(round)\n",
    "    body = '\\n'.join(\n",
    "        (''.join(map.get(complex(x, y), '.') for x in range(1+max_x))\n",
    "         + ' ' + unitdesc.get(y, ', ')[2:])\n",
    "        for y in range(1+max_y)\n",
    "    )\n",
    "\n",
    "    return header + body + '\\n'"
   ]
  },
  {
   "cell_type": "code",
   "execution_count": 16,
   "metadata": {},
   "outputs": [],
   "source": [
    "def outcome(rounds, units):\n",
    "    hp = sum(unit.hp for unit in units)\n",
    "    return (rounds, hp)def main():\n",
    "    with open(os.path.join(os.path.dirname(__file__), 'input.txt'), 'r') as f:\n",
    "        input = f.read().strip()\n",
    "    walls = read_walls(input)\n",
    "    units = read_units(input)\n",
    "\n",
    "    # part one:\n",
    "    rounds, hp = outcome(*battle(walls, units))\n",
    "    print('part one: {} rounds x {} hp = {}'.format(rounds, hp, rounds*hp))\n",
    "\n",
    "    # part two:\n",
    "    rounds, hp = outcome(*find_perfect_battle(walls, units))\n",
    "    print('part two: {} rounds x {} hp = {}'.format(rounds, hp, rounds*hp))"
   ]
  },
  {
   "cell_type": "code",
   "execution_count": 17,
   "metadata": {},
   "outputs": [],
   "source": [
    "def battle(walls, units, end_on_first_elf_death=False):\n",
    "    rounds = 0\n",
    "    if end_on_first_elf_death:\n",
    "        elves_needed = sum(1 for unit in units if unit.team == 'elf')\n",
    "    else:\n",
    "        elves_needed = 0\n",
    "\n",
    "    while (len(set(unit.team for unit in units)) > 1 and\n",
    "           sum(1 for unit in units if unit.team == 'elf') >= elves_needed):\n",
    "        rounds, units = advance(rounds, units, walls)\n",
    "\n",
    "    return (rounds, units)"
   ]
  },
  {
   "cell_type": "code",
   "execution_count": 18,
   "metadata": {},
   "outputs": [],
   "source": [
    "def find_perfect_battle(walls, units):\n",
    "    elves = {unit for unit in units if unit.team == 'elf'}\n",
    "    goblins = {unit for unit in units if unit.team == 'goblin'}\n",
    "    for power in count(4):\n",
    "        stronger_elves = {Combatant(position=elf.position,\n",
    "                                    team=elf.team,\n",
    "                                    hp=elf.hp,\n",
    "                                    attack=power)\n",
    "                          for elf in elves}\n",
    "        rounds, units = battle(walls, stronger_elves|goblins, True)\n",
    "\n",
    "        if { unit.team for unit in units } == { 'elf' }:\n",
    "            return rounds, units"
   ]
  },
  {
   "cell_type": "code",
   "execution_count": 19,
   "metadata": {},
   "outputs": [
    {
     "name": "stdout",
     "output_type": "stream",
     "text": [
      "Part 1: 70 rounds x 2713 hp = 189910\n",
      "Part 2: 59 rounds x 980 hp = 57820\n"
     ]
    }
   ],
   "source": [
    "walls = read_walls(data)\n",
    "units = read_units(data)\n",
    "rd1, hp1 = outcome(*battle(walls, units))\n",
    "print('Part 1: {} rounds x {} hp = {}'.format(rd1, hp1, rd1*hp1))\n",
    "rd2, hp2 = outcome(*find_perfect_battle(walls, units))\n",
    "print('Part 2: {} rounds x {} hp = {}'.format(rd2, hp2, rd2*hp2))"
   ]
  }
 ],
 "metadata": {
  "kernelspec": {
   "display_name": "Python 3",
   "language": "python",
   "name": "python3"
  },
  "language_info": {
   "codemirror_mode": {
    "name": "ipython",
    "version": 3
   },
   "file_extension": ".py",
   "mimetype": "text/x-python",
   "name": "python",
   "nbconvert_exporter": "python",
   "pygments_lexer": "ipython3",
   "version": "3.8.5"
  }
 },
 "nbformat": 4,
 "nbformat_minor": 4
}
