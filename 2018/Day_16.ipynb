{
 "cells": [
  {
   "cell_type": "markdown",
   "metadata": {},
   "source": [
    "# Day 16\n",
    "https://adventofcode.com/2018/day/16"
   ]
  },
  {
   "cell_type": "code",
   "execution_count": 1,
   "metadata": {},
   "outputs": [],
   "source": [
    "import aocd\n",
    "data = aocd.get_data(year=2018, day=16)"
   ]
  },
  {
   "cell_type": "code",
   "execution_count": 2,
   "metadata": {},
   "outputs": [],
   "source": [
    "from dataclasses import dataclass\n",
    "from functools import reduce\n",
    "from operator import __add__, __mul__, __and__, __or__\n",
    "from typing import Callable, Tuple\n",
    "import regex as re"
   ]
  },
  {
   "cell_type": "code",
   "execution_count": 3,
   "metadata": {},
   "outputs": [],
   "source": [
    "re_tuple = re.compile(r'(\\d+)')"
   ]
  },
  {
   "cell_type": "code",
   "execution_count": 4,
   "metadata": {},
   "outputs": [],
   "source": [
    "@dataclass(frozen=True)\n",
    "class Operation():\n",
    "    operator: Callable[[int, int], int]\n",
    "    immediate: Tuple[bool]\n",
    "\n",
    "    def operate(self, registers, args):\n",
    "        a = args[1] if self.immediate[0] else registers[args[1]]\n",
    "        b = args[2] if self.immediate[1] else registers[args[2]]\n",
    "        c = args[3]\n",
    "        return tuple(self.operator(a, b) if i == args[3] else v for i, v in enumerate(registers))\n",
    "\n",
    "def first(a, b):\n",
    "    return a\n",
    "\n",
    "def gt(a, b):\n",
    "    return 1 if a > b else 0\n",
    "\n",
    "def eq(a, b):\n",
    "    return 1 if a == b else 0\n",
    "\n",
    "operations = {\n",
    "    'addr': Operation(__add__, (False, False)),\n",
    "    'addi': Operation(__add__, (False, True)),\n",
    "    'mulr': Operation(__mul__, (False, False)),\n",
    "    'muli': Operation(__mul__, (False, True)),\n",
    "    'banr': Operation(__and__, (False, False)),\n",
    "    'bani': Operation(__and__, (False, True)),\n",
    "    'borr': Operation(__or__, (False, False)),\n",
    "    'bori': Operation(__or__, (False, True)),\n",
    "    'setr': Operation(first, (False, False)),\n",
    "    'seti': Operation(first, (True, False)),\n",
    "    'gtir': Operation(gt, (True, False)),\n",
    "    'gtri': Operation(gt, (False, True)),\n",
    "    'gtrr': Operation(gt, (False, False)),\n",
    "    'eqir': Operation(eq, (True, False)),\n",
    "    'eqri': Operation(eq, (False, True)),\n",
    "    'eqrr': Operation(eq, (False, False)),\n",
    "}"
   ]
  },
  {
   "cell_type": "code",
   "execution_count": 5,
   "metadata": {},
   "outputs": [],
   "source": [
    "@dataclass(frozen=True)\n",
    "class Sample():\n",
    "    before: Tuple[int]\n",
    "    inputs: Tuple[int]\n",
    "    after: Tuple[int]\n",
    "        \n",
    "    @classmethod\n",
    "    def from_input_chunk(cls, chunk):\n",
    "        return cls(*[tuple(map(int, re_tuple.findall(line))) for line in chunk.split('\\n')])\n",
    "    \n",
    "    @classmethod\n",
    "    def list_from_input(cls, text):\n",
    "        return [cls.from_input_chunk(chunk) for chunk in text.split('\\n\\n')]\n",
    "    \n",
    "    def possible_operation(self, operation):\n",
    "        try:\n",
    "            return operation.operate(self.before, self.inputs) == self.after\n",
    "        except IndexError:\n",
    "            return False\n",
    "    \n",
    "    def possible_operations(self, operations):\n",
    "        return sum(1 for op in operations.values() if self.possible_operation(op))"
   ]
  },
  {
   "cell_type": "code",
   "execution_count": 6,
   "metadata": {},
   "outputs": [],
   "source": [
    "def find_opcodes(operations, samples):\n",
    "    opcodes = {}\n",
    "    possibilities = {\n",
    "        sample.inputs[0]: {opname for opname, op in operations.items()\n",
    "                           if sample.possible_operation(op)}\n",
    "        for sample in samples\n",
    "    }\n",
    "    while len(opcodes) < len(operations):\n",
    "        opcodes.update({\n",
    "            opcode: next(iter(opnames))\n",
    "            for opcode, opnames in possibilities.items()\n",
    "            if len(opnames) == 1\n",
    "        })\n",
    "        solved = set(opcodes.values())\n",
    "        for opcode in possibilities:\n",
    "            possibilities[opcode] = possibilities[opcode] - solved\n",
    "    \n",
    "    return {\n",
    "        opcode: operations[opname]\n",
    "        for opcode, opname in opcodes.items()\n",
    "    }"
   ]
  },
  {
   "cell_type": "code",
   "execution_count": 7,
   "metadata": {},
   "outputs": [],
   "source": [
    "def run_program(program, operations):\n",
    "    registers = (0, 0, 0, 0)\n",
    "    for line in program.split('\\n'):\n",
    "        args = tuple(map(int, re_tuple.findall(line)))\n",
    "        registers = operations[args[0]].operate(registers, args)\n",
    "    return registers"
   ]
  },
  {
   "cell_type": "code",
   "execution_count": 8,
   "metadata": {},
   "outputs": [
    {
     "name": "stdout",
     "output_type": "stream",
     "text": [
      "Part 1: 592\n",
      "Part 2: 557\n"
     ]
    }
   ],
   "source": [
    "sample_data, program = data.split('\\n\\n\\n\\n')\n",
    "samples = Sample.list_from_input(sample_data)\n",
    "p1 = sum(1 for sample in samples if sample.possible_operations(operations) >= 3)\n",
    "print('Part 1: {}'.format(p1))\n",
    "\n",
    "opcodes = find_opcodes(operations, samples)\n",
    "p2, *other_registers = run_program(program, opcodes)\n",
    "print('Part 2: {}'.format(p2))"
   ]
  }
 ],
 "metadata": {
  "kernelspec": {
   "display_name": "Python 3",
   "language": "python",
   "name": "python3"
  },
  "language_info": {
   "codemirror_mode": {
    "name": "ipython",
    "version": 3
   },
   "file_extension": ".py",
   "mimetype": "text/x-python",
   "name": "python",
   "nbconvert_exporter": "python",
   "pygments_lexer": "ipython3",
   "version": "3.8.5"
  }
 },
 "nbformat": 4,
 "nbformat_minor": 4
}
