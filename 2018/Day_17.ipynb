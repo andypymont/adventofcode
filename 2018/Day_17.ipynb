{
 "cells": [
  {
   "cell_type": "markdown",
   "metadata": {},
   "source": [
    "# Day 17\n",
    "https://adventofcode.com/2018/day/17"
   ]
  },
  {
   "cell_type": "code",
   "execution_count": 1,
   "metadata": {},
   "outputs": [],
   "source": [
    "import aocd\n",
    "data = aocd.get_data(year=2018, day=17)"
   ]
  },
  {
   "cell_type": "code",
   "execution_count": 2,
   "metadata": {},
   "outputs": [],
   "source": [
    "from collections import deque\n",
    "from dataclasses import dataclass\n",
    "import regex as re"
   ]
  },
  {
   "cell_type": "code",
   "execution_count": 3,
   "metadata": {},
   "outputs": [],
   "source": [
    "re_vertical = re.compile(r'x=(\\d+), y=(\\d+)..(\\d+)')\n",
    "re_horizontal = re.compile(r'y=(\\d+), x=(\\d+)..(\\d+)')"
   ]
  },
  {
   "cell_type": "code",
   "execution_count": 4,
   "metadata": {},
   "outputs": [],
   "source": [
    "def read_sand(text):\n",
    "    sand = set()\n",
    "\n",
    "    for x, min_y, max_y in [tuple(map(int, val)) for val in re_vertical.findall(text)]:\n",
    "        for y in range(min_y, max_y+1):\n",
    "            sand.add(complex(x, y))\n",
    "\n",
    "    for y, min_x, max_x in [tuple(map(int, val)) for val in re_horizontal.findall(text)]:\n",
    "        for x in range(min_x, max_x+1):\n",
    "            sand.add(complex(x, y))\n",
    "\n",
    "    return sand"
   ]
  },
  {
   "cell_type": "code",
   "execution_count": 5,
   "metadata": {},
   "outputs": [],
   "source": [
    "UP = -1j\n",
    "DOWN = 1j\n",
    "LEFT = -1\n",
    "RIGHT = 1"
   ]
  },
  {
   "cell_type": "code",
   "execution_count": 6,
   "metadata": {},
   "outputs": [],
   "source": [
    "def fill_horizontally(start, occupied, water):\n",
    "    y = start.imag\n",
    "    occ_in_row = {int(o.real) for o in occupied if o.imag == y}\n",
    "    \n",
    "    if not occ_in_row:\n",
    "        return False\n",
    "    \n",
    "    min_x = min(x for x in occ_in_row)\n",
    "    max_x = max(x for x in occ_in_row)\n",
    "    \n",
    "    x = int(start.real)\n",
    "    if min_x > x or max_x < x:\n",
    "        return False\n",
    "    \n",
    "    while x > min_x:\n",
    "        if complex(x, y+1) not in occupied:\n",
    "            return False\n",
    "        elif complex(x-1, y) in occupied:\n",
    "            min_x = x\n",
    "        x -= 1\n",
    "    \n",
    "    x = int(start.real)\n",
    "    while x < max_x:\n",
    "        if complex(x, y+1) not in occupied:\n",
    "            return False\n",
    "        elif complex(x+1, y) in occupied:\n",
    "            max_x = x\n",
    "        x += 1\n",
    "    \n",
    "    for x in range(min_x, max_x+1):\n",
    "        water.add(complex(x, y))\n",
    "    return True"
   ]
  },
  {
   "cell_type": "code",
   "execution_count": 7,
   "metadata": {},
   "outputs": [],
   "source": [
    "def flow(sand):\n",
    "    min_y = min(s.imag for s in sand)\n",
    "    max_y = max(s.imag for s in sand)\n",
    "    \n",
    "    flows = deque()\n",
    "    flows.append((DOWN, 500))\n",
    "    visited = set()\n",
    "    water = set()\n",
    "    \n",
    "    while flows:\n",
    "        direct, pos = flows.popleft()\n",
    "        \n",
    "        if (direct, pos) not in flows:\n",
    "            visited.add(pos)\n",
    "            occupied = sand.union(water)\n",
    "            \n",
    "            if direct == DOWN:\n",
    "                if (pos + DOWN) in occupied:\n",
    "                    if fill_horizontally(pos, occupied, water):\n",
    "                        flows.append((DOWN, pos+UP))\n",
    "                    else:\n",
    "                        flows.append((LEFT, pos))\n",
    "                        flows.append((RIGHT, pos))\n",
    "                elif (pos + DOWN).imag <= max_y:\n",
    "                    flows.append((DOWN, pos+DOWN))\n",
    "            \n",
    "            elif (pos + DOWN) not in occupied:\n",
    "                flows.append((DOWN, pos))\n",
    "            \n",
    "            elif (pos + direct) not in occupied:\n",
    "                flows.append((direct, pos + direct))\n",
    "        \n",
    "    visited = {i for i in visited if i.imag >= min_y}\n",
    "    return water, visited"
   ]
  },
  {
   "cell_type": "code",
   "execution_count": 8,
   "metadata": {},
   "outputs": [
    {
     "name": "stdout",
     "output_type": "stream",
     "text": [
      "Part 1: 39557\n",
      "Part 2: 32984\n"
     ]
    }
   ],
   "source": [
    "sand = read_sand(data)\n",
    "stationary, flowing = flow(sand)\n",
    "p1 = len(stationary.union(flowing))\n",
    "p2 = len(stationary)\n",
    "print('Part 1: {}'.format(p1))\n",
    "print('Part 2: {}'.format(p2))"
   ]
  }
 ],
 "metadata": {
  "kernelspec": {
   "display_name": "Python 3",
   "language": "python",
   "name": "python3"
  },
  "language_info": {
   "codemirror_mode": {
    "name": "ipython",
    "version": 3
   },
   "file_extension": ".py",
   "mimetype": "text/x-python",
   "name": "python",
   "nbconvert_exporter": "python",
   "pygments_lexer": "ipython3",
   "version": "3.8.5"
  }
 },
 "nbformat": 4,
 "nbformat_minor": 4
}
