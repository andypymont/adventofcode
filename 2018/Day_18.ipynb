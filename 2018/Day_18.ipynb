{
 "cells": [
  {
   "cell_type": "markdown",
   "metadata": {},
   "source": [
    "# Day 18\n",
    "https://adventofcode.com/2018/day/18"
   ]
  },
  {
   "cell_type": "code",
   "execution_count": 1,
   "metadata": {},
   "outputs": [],
   "source": [
    "import aocd\n",
    "data = aocd.get_data(year=2018, day=18)"
   ]
  },
  {
   "cell_type": "code",
   "execution_count": 2,
   "metadata": {},
   "outputs": [],
   "source": [
    "OPEN = '.'\n",
    "TREES = '|'\n",
    "LUMBERYARD = '#'"
   ]
  },
  {
   "cell_type": "code",
   "execution_count": 3,
   "metadata": {},
   "outputs": [],
   "source": [
    "def read_input(text):\n",
    "    lines = text.split('\\n')\n",
    "    size = len(lines)\n",
    "    return (size, ''.join(lines))"
   ]
  },
  {
   "cell_type": "code",
   "execution_count": 4,
   "metadata": {},
   "outputs": [],
   "source": [
    "def adjacency_map(size):\n",
    "    rv = dict()\n",
    "    \n",
    "    limit = size**2\n",
    "    \n",
    "    for pos in range(limit):\n",
    "        x = pos % size\n",
    "        left = (pos - size - 1, pos - 1, pos + size - 1) if x > 0 else tuple()\n",
    "        right = (pos - size + 1, pos + 1, pos + size + 1) if x < (size - 1) else tuple()\n",
    "        vert = (pos - size, pos + size)\n",
    "        \n",
    "        rv[pos] = tuple(p for p in left+right+vert if p > 0 and p < limit)\n",
    "    \n",
    "    return rv"
   ]
  },
  {
   "cell_type": "code",
   "execution_count": 5,
   "metadata": {},
   "outputs": [],
   "source": [
    "def new_char(area, pos, adj_map):\n",
    "    adj_trees = 0\n",
    "    adj_lumberyards = 0\n",
    "    \n",
    "    for adj in adj_map[pos]:\n",
    "        if area[adj] == TREES:\n",
    "            adj_trees += 1\n",
    "        elif area[adj] == LUMBERYARD:\n",
    "            adj_lumberyards += 1\n",
    "    \n",
    "    char = area[pos]\n",
    "    \n",
    "    if char == OPEN:\n",
    "        return TREES if adj_trees >= 3 else OPEN\n",
    "    if char == TREES:\n",
    "        return LUMBERYARD if adj_lumberyards >= 3 else TREES\n",
    "    \n",
    "    return LUMBERYARD if adj_trees > 0 and adj_lumberyards > 0 else OPEN"
   ]
  },
  {
   "cell_type": "code",
   "execution_count": 6,
   "metadata": {},
   "outputs": [],
   "source": [
    "def next_state(state, adj_map):\n",
    "    return ''.join(new_char(state, pos, adj_map) for pos in range(len(state)))"
   ]
  },
  {
   "cell_type": "code",
   "execution_count": 7,
   "metadata": {},
   "outputs": [],
   "source": [
    "def calculate_simulation_cycle(state, adj_map):\n",
    "    minute = 0\n",
    "    \n",
    "    cache = dict()\n",
    "    cache[state] = minute\n",
    "    \n",
    "    while True:\n",
    "        minute += 1\n",
    "        state = next_state(state, adj_map)\n",
    "        if state in cache:\n",
    "            return (cache.get(state), minute)\n",
    "        cache[state] = minute"
   ]
  },
  {
   "cell_type": "code",
   "execution_count": 8,
   "metadata": {},
   "outputs": [],
   "source": [
    "def simulate(state, adj_map, minutes, cycle=None):\n",
    "    if cycle:\n",
    "        start, end = cycle\n",
    "        length = end - start\n",
    "        \n",
    "        if minutes > start:\n",
    "            minutes = start + ((minutes - start) % length)\n",
    "    \n",
    "    for minute in range(minutes):\n",
    "        state = next_state(state, adj_map)\n",
    "    return state"
   ]
  },
  {
   "cell_type": "code",
   "execution_count": 9,
   "metadata": {},
   "outputs": [],
   "source": [
    "def resource_value(state):\n",
    "    wooded = sum(1 for char in state if char == TREES)\n",
    "    lyards = sum(1 for char in state if char == LUMBERYARD)\n",
    "    return wooded * lyards"
   ]
  },
  {
   "cell_type": "code",
   "execution_count": 10,
   "metadata": {},
   "outputs": [
    {
     "name": "stdout",
     "output_type": "stream",
     "text": [
      "Part 1: 514944\n",
      "Part 2: 193050\n"
     ]
    }
   ],
   "source": [
    "size, initial_state = read_input(data)\n",
    "adj_map = adjacency_map(size)\n",
    "cycle = calculate_simulation_cycle(initial_state, adj_map)\n",
    "\n",
    "p1 = resource_value(simulate(initial_state, adj_map, 10))\n",
    "print('Part 1: {}'.format(p1))\n",
    "p2 = resource_value(simulate(initial_state, adj_map, 1_000_000_000, cycle))\n",
    "print('Part 2: {}'.format(p2))"
   ]
  }
 ],
 "metadata": {
  "kernelspec": {
   "display_name": "Python 3",
   "language": "python",
   "name": "python3"
  },
  "language_info": {
   "codemirror_mode": {
    "name": "ipython",
    "version": 3
   },
   "file_extension": ".py",
   "mimetype": "text/x-python",
   "name": "python",
   "nbconvert_exporter": "python",
   "pygments_lexer": "ipython3",
   "version": "3.8.5"
  }
 },
 "nbformat": 4,
 "nbformat_minor": 4
}
