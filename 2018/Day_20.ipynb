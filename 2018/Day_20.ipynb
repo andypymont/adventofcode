{
 "cells": [
  {
   "cell_type": "markdown",
   "id": "9fb6fc16",
   "metadata": {},
   "source": [
    "# Day 20\n",
    "https://adventofcode.com/2018/day/20"
   ]
  },
  {
   "cell_type": "code",
   "execution_count": 1,
   "id": "85bd9689",
   "metadata": {},
   "outputs": [],
   "source": [
    "import aocd\n",
    "data = aocd.get_data(year=2018, day=20)"
   ]
  },
  {
   "cell_type": "code",
   "execution_count": 2,
   "id": "812273cb",
   "metadata": {},
   "outputs": [],
   "source": [
    "from collections import deque\n",
    "from dataclasses import dataclass"
   ]
  },
  {
   "cell_type": "code",
   "execution_count": 3,
   "id": "918ed961",
   "metadata": {},
   "outputs": [],
   "source": [
    "@dataclass(frozen=True)\n",
    "class Point():\n",
    "    y: int\n",
    "    x: int\n",
    "    \n",
    "    def __add__(self, other):\n",
    "        return Point(self.y + other.y, self.x + other.x)"
   ]
  },
  {
   "cell_type": "code",
   "execution_count": 4,
   "id": "0f377807",
   "metadata": {},
   "outputs": [],
   "source": [
    "directions = {\n",
    "    'N': Point(-1, 0),\n",
    "    'E': Point(0, 1),\n",
    "    'S': Point(1, 0),\n",
    "    'W': Point(0, -1),\n",
    "}"
   ]
  },
  {
   "cell_type": "code",
   "execution_count": 5,
   "id": "93b7cfc4",
   "metadata": {},
   "outputs": [],
   "source": [
    "def find_all_doors(route_regex):\n",
    "    doors = set()\n",
    "    pos = {Point(0, 0)}\n",
    "    stack = []\n",
    "    starts, ends = {Point(0, 0)}, set()\n",
    "    \n",
    "    for char in route_regex:\n",
    "        if char == '|':\n",
    "            # alternate route: update possible ending points and restart the group\n",
    "            ends.update(pos)\n",
    "            pos = starts\n",
    "        elif char == '(':\n",
    "            # start of group: add current positions as start of a new group\n",
    "            stack.append((starts, ends))\n",
    "            starts, ends = pos, set()\n",
    "        elif char == ')':\n",
    "            # end of group: finish current group, add current positions as possible ends\n",
    "            pos.update(ends)\n",
    "            starts, ends = stack.pop()\n",
    "        elif char in directions:\n",
    "            # move in a given direction from all possible current locations\n",
    "            direction = directions[char]\n",
    "            doors.update((p, p+direction) for p in pos)\n",
    "            pos = {p+direction for p in pos}\n",
    "    \n",
    "    return doors"
   ]
  },
  {
   "cell_type": "code",
   "execution_count": 6,
   "id": "15821d80",
   "metadata": {},
   "outputs": [],
   "source": [
    "def reachability_dict(doors):\n",
    "    reachability = dict()\n",
    "    \n",
    "    for a, b in doors:\n",
    "        if a not in reachability:\n",
    "            reachability[a] = set()\n",
    "        if b not in reachability:\n",
    "            reachability[b] = set()\n",
    "        reachability[a].add(b)\n",
    "        reachability[b].add(a)\n",
    "    \n",
    "    return reachability"
   ]
  },
  {
   "cell_type": "code",
   "execution_count": 7,
   "id": "745e34fe",
   "metadata": {},
   "outputs": [],
   "source": [
    "def paths_to_rooms(reachability):\n",
    "    consider = deque()\n",
    "    consider.append((Point(0, 0), set()))\n",
    "    paths = dict()\n",
    "    \n",
    "    while consider:\n",
    "        location, visited = consider.popleft()\n",
    "        paths[location] = len(visited)\n",
    "        for next_step in reachability.get(location, set()):\n",
    "            if next_step not in visited:\n",
    "                consider.append((next_step, visited|{next_step}))\n",
    "    \n",
    "    return paths"
   ]
  },
  {
   "cell_type": "code",
   "execution_count": 8,
   "id": "14e46827",
   "metadata": {},
   "outputs": [
    {
     "name": "stdout",
     "output_type": "stream",
     "text": [
      "Part 1: 3739\n",
      "Part 2: 8409\n"
     ]
    }
   ],
   "source": [
    "doors = find_all_doors(data)\n",
    "reach = reachability_dict(doors)\n",
    "paths = paths_to_rooms(reach)\n",
    "p1 = max(paths.values())\n",
    "print(f'Part 1: {p1}')\n",
    "p2 = sum(1 for dist in paths.values() if dist >= 1000)\n",
    "print(f'Part 2: {p2}')"
   ]
  }
 ],
 "metadata": {
  "kernelspec": {
   "display_name": "Python 3 (ipykernel)",
   "language": "python",
   "name": "python3"
  },
  "language_info": {
   "codemirror_mode": {
    "name": "ipython",
    "version": 3
   },
   "file_extension": ".py",
   "mimetype": "text/x-python",
   "name": "python",
   "nbconvert_exporter": "python",
   "pygments_lexer": "ipython3",
   "version": "3.9.5"
  }
 },
 "nbformat": 4,
 "nbformat_minor": 5
}
