{
 "cells": [
  {
   "cell_type": "markdown",
   "id": "bc3c64aa",
   "metadata": {},
   "source": [
    "# Day 21\n",
    "https://adventofcode.com/2018/day/21"
   ]
  },
  {
   "cell_type": "code",
   "execution_count": 1,
   "id": "8ea84c54",
   "metadata": {},
   "outputs": [],
   "source": [
    "import aocd\n",
    "data = aocd.get_data(year=2018, day=21)"
   ]
  },
  {
   "cell_type": "code",
   "execution_count": 2,
   "id": "03867161",
   "metadata": {},
   "outputs": [
    {
     "name": "stdout",
     "output_type": "stream",
     "text": [
      "#ip 1\n",
      "seti 123 0 5\n",
      "bani 5 456 5\n",
      "eqri 5 72 5\n",
      "addr 5 1 1\n",
      "seti 0 0 1\n",
      "seti 0 9 5\n",
      "bori 5 65536 2\n",
      "seti 7571367 9 5\n",
      "bani 2 255 4\n",
      "addr 5 4 5\n",
      "bani 5 16777215 5\n",
      "muli 5 65899 5\n",
      "bani 5 16777215 5\n",
      "gtir 256 2 4\n",
      "addr 4 1 1\n",
      "addi 1 1 1\n",
      "seti 27 1 1\n",
      "seti 0 2 4\n",
      "addi 4 1 3\n",
      "muli 3 256 3\n",
      "gtrr 3 2 3\n",
      "addr 3 1 1\n",
      "addi 1 1 1\n",
      "seti 25 6 1\n",
      "addi 4 1 4\n",
      "seti 17 8 1\n",
      "setr 4 6 2\n",
      "seti 7 4 1\n",
      "eqrr 5 0 4\n",
      "addr 4 1 1\n",
      "seti 5 5 1\n"
     ]
    }
   ],
   "source": [
    "print(data)"
   ]
  },
  {
   "cell_type": "markdown",
   "id": "d6f803e5",
   "metadata": {},
   "source": [
    "    PSEUDOCODE\n",
    "\n",
    "     0 reg5 = 123\n",
    "     1 reg5 = reg5 & 456\n",
    "     2 reg5 = 1 if reg5 == 72 else 0\n",
    "     3 reg1 = reg1 + reg5\n",
    "     4 goto 1\n",
    "     5 reg5 = 0\n",
    "     6 reg2 = reg5 | 65536\n",
    "     7 reg5 = 7571367\n",
    "     8 reg4 = reg2 & 255\n",
    "     9 reg5 = reg5 + reg4\n",
    "    10 reg5 = reg5 & 16777215\n",
    "    11 reg5 = reg5 * 65899\n",
    "    12 reg5 = reg5 & 16777215\n",
    "    13 reg4 = 1 if 256 > reg2 else 0\n",
    "    14 reg1 = reg1 + reg4\n",
    "    15 goto 17\n",
    "    16 goto 28\n",
    "    17 reg4 = 0\n",
    "    18 reg3 = reg4 + 1\n",
    "    19 reg3 = reg3 * 256\n",
    "    20 reg3 = 1 if reg3 > reg2 else 0\n",
    "    21 reg1 = reg1 + reg3\n",
    "    22 goto 24\n",
    "    23 goto 26\n",
    "    24 reg4 = reg4 + 1\n",
    "    25 goto 18\n",
    "    26 reg2 = reg4\n",
    "    27 goto 8\n",
    "    28 reg4 = 1 if reg5 == reg0 else 0\n",
    "    29 reg1 = reg1 + reg4\n",
    "    30 goto 6\n",
    "\n",
    "    IF STATEMENTS\n",
    "\n",
    "     0 reg5 = 123\n",
    "     1 reg5 = reg5 & 456\n",
    "     3 if reg5 == 72:\n",
    "           goto 6\n",
    "     4 goto 1\n",
    "     5 reg5 = 0\n",
    "     6 reg2 = reg5 | 65536\n",
    "     7 reg5 = 7571367\n",
    "     8 reg4 = reg2 & 255\n",
    "     9 reg5 = reg5 + reg4\n",
    "    10 reg5 = reg5 & 16777215\n",
    "    11 reg5 = reg5 * 65899\n",
    "    12 reg5 = reg5 & 16777215\n",
    "    14 if 256 > reg2:\n",
    "            goto 28\n",
    "    17 reg4 = 0\n",
    "    18 reg3 = reg4 + 1\n",
    "    19 reg3 = reg3 * 256\n",
    "    21 if reg3 > reg2:\n",
    "            goto 26\n",
    "    24 reg4 = reg4 + 1\n",
    "    25 goto 18\n",
    "    26 reg2 = reg4\n",
    "    27 goto 8\n",
    "    28 if reg5 == reg0:\n",
    "            goto 31\n",
    "    30 goto 6\n",
    "\n",
    "    SIMPLIFY ROUTINES\n",
    "\n",
    "     3 while 123 & 456 != 72:\n",
    "          pass\n",
    "     5 reg5 = 0\n",
    "     6 reg2 = reg5 | 65536\n",
    "     7 reg5 = 7571367\n",
    "     8 reg4 = reg2 & 255\n",
    "     9 reg5 = (((reg5 + reg4) & 16777215) * 65899) & 16777215\n",
    "    14 if 256 > reg2:\n",
    "            goto 28\n",
    "    17 reg4 = 0\n",
    "    21 if (reg4 + 1) * 256 > reg2:\n",
    "            goto 26\n",
    "    24 reg4 = reg4 + 1\n",
    "    25 goto 21\n",
    "    26 reg2 = reg4\n",
    "    27 goto 8\n",
    "    28 if reg5 == reg0:\n",
    "            goto 31\n",
    "    30 goto 6\n",
    "\n",
    "    LOOPS\n",
    "\n",
    "       while True:\n",
    "     6     reg2 = reg5 | 65536\n",
    "     7     reg5 = 7571367\n",
    "           while True:\n",
    "     8         reg4 = reg2 & 255\n",
    "     9         reg5 = (((reg5 + reg4) & 16777215) * 65899) & 16777215\n",
    "    14         if 256 > reg2:\n",
    "    28             if reg5 == reg0:\n",
    "                       return\n",
    "               else:\n",
    "    26             reg4 = reg4 /= 256"
   ]
  },
  {
   "cell_type": "markdown",
   "id": "9bb0075d",
   "metadata": {},
   "source": [
    "Therefore a program for Part 1 will just return the first number seen (in reg5) at line 28 - the function is below. After seeing the description for part 2, I changed this from *return* to *yield* in order to be able to capture both the first and last value."
   ]
  },
  {
   "cell_type": "code",
   "execution_count": 3,
   "id": "5536b366",
   "metadata": {},
   "outputs": [],
   "source": [
    "def activation_system():\n",
    "    b = 0\n",
    "    while True:\n",
    "        a = b|65536\n",
    "        b = 7571367\n",
    "\n",
    "        while True:\n",
    "            b = (((b + (a & 255)) & 16777215) * 65899) & 16777215\n",
    "            if 256 > a:\n",
    "                yield b\n",
    "                break\n",
    "            else:\n",
    "                a = a // 256"
   ]
  },
  {
   "cell_type": "code",
   "execution_count": 4,
   "id": "45537295",
   "metadata": {},
   "outputs": [],
   "source": [
    "def last_solution():\n",
    "    solutions = set()\n",
    "    prev = None\n",
    "    \n",
    "    for solution in activation_system():\n",
    "        if solution in solutions:\n",
    "            return prev\n",
    "        \n",
    "        solutions.add(solution)\n",
    "        prev = solution"
   ]
  },
  {
   "cell_type": "code",
   "execution_count": 5,
   "id": "ed806466",
   "metadata": {},
   "outputs": [
    {
     "name": "stdout",
     "output_type": "stream",
     "text": [
      "Part 1: 10846352\n",
      "Part 2: 5244670\n"
     ]
    }
   ],
   "source": [
    "p1 = next(activation_system())\n",
    "print(f'Part 1: {p1}')\n",
    "p2 = last_solution()\n",
    "print(f'Part 2: {p2}')"
   ]
  }
 ],
 "metadata": {
  "kernelspec": {
   "display_name": "Python 3 (ipykernel)",
   "language": "python",
   "name": "python3"
  },
  "language_info": {
   "codemirror_mode": {
    "name": "ipython",
    "version": 3
   },
   "file_extension": ".py",
   "mimetype": "text/x-python",
   "name": "python",
   "nbconvert_exporter": "python",
   "pygments_lexer": "ipython3",
   "version": "3.9.5"
  }
 },
 "nbformat": 4,
 "nbformat_minor": 5
}
