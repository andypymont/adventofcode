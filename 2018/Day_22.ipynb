{
 "cells": [
  {
   "cell_type": "markdown",
   "id": "0cfd3e0d",
   "metadata": {},
   "source": [
    "# Day 22\n",
    "https://adventofcode.com/2018/day/22"
   ]
  },
  {
   "cell_type": "code",
   "execution_count": 1,
   "id": "9e471fa5",
   "metadata": {},
   "outputs": [],
   "source": [
    "import aocd\n",
    "data = aocd.get_data(year=2018, day=22)"
   ]
  },
  {
   "cell_type": "code",
   "execution_count": 2,
   "id": "627f2892",
   "metadata": {},
   "outputs": [],
   "source": [
    "from collections import deque\n",
    "from dataclasses import dataclass\n",
    "from heapq import heapify, heappush, heappop\n",
    "from typing import Dict, Set\n",
    "import regex as re"
   ]
  },
  {
   "cell_type": "markdown",
   "id": "d23e7ee1",
   "metadata": {},
   "source": [
    "#### Part 1: Identify the risk level of the smallest rectangle containing the cave mouth and the target."
   ]
  },
  {
   "cell_type": "code",
   "execution_count": 3,
   "id": "98ea04eb",
   "metadata": {},
   "outputs": [],
   "source": [
    "@dataclass(frozen=True, order=True)\n",
    "class Point():\n",
    "    y: int\n",
    "    x: int\n",
    "        \n",
    "    @classmethod\n",
    "    def from_regex_groups(cls, groups):\n",
    "        x, y = [int(val) for val in groups]\n",
    "        return cls(y, x)\n",
    "    \n",
    "    def __add__(self, other):\n",
    "        return Point(self.y + other.y, self.x + other.x)\n",
    "    \n",
    "    @property\n",
    "    def neighbours(self):\n",
    "        neighbours = [self + direction for direction in (Point(-1, 0), Point(0, 1), Point(1, 0), Point(0, -1))]\n",
    "        return [neighbour for neighbour in neighbours if neighbour.x >=0 and neighbour.y >= 0]"
   ]
  },
  {
   "cell_type": "code",
   "execution_count": 4,
   "id": "1e213b65",
   "metadata": {},
   "outputs": [],
   "source": [
    "depth = int(re.compile('depth: (\\d+)').findall(data)[0])\n",
    "target = Point.from_regex_groups(re.compile('target: (\\d+),(\\d+)').findall(data)[0])"
   ]
  },
  {
   "cell_type": "code",
   "execution_count": 5,
   "id": "94a41e7d",
   "metadata": {},
   "outputs": [],
   "source": [
    "@dataclass(frozen=True)\n",
    "class Region():\n",
    "    position: Point\n",
    "    geologic_index: int\n",
    "        \n",
    "    @classmethod\n",
    "    def extend_cave_system(cls, location, cave_system):\n",
    "        geologic_index = 0\n",
    "        \n",
    "        if location != Point(0, 0) and location != target:\n",
    "            if location.y == 0:\n",
    "                geologic_index = location.x * 16807\n",
    "            elif location.x == 0:\n",
    "                geologic_index = location.y * 48271\n",
    "            else:\n",
    "                west = cave_system.get(Point(location.y, location.x-1))\n",
    "                north = cave_system.get(Point(location.y-1, location.x))\n",
    "                geologic_index = west.erosion_level * north.erosion_level\n",
    "        \n",
    "        region = Region(location, geologic_index)\n",
    "        cave_system[location] = region\n",
    "        return region\n",
    "    \n",
    "    @property\n",
    "    def erosion_level(self):\n",
    "        return (self.geologic_index + depth) % 20183\n",
    "    \n",
    "    @property\n",
    "    def risk_level(self):\n",
    "        return self.erosion_level % 3\n",
    "    \n",
    "    @property\n",
    "    def terrain(self):\n",
    "        return ('rocky', 'wet', 'narrow')[self.risk_level]"
   ]
  },
  {
   "cell_type": "code",
   "execution_count": 6,
   "id": "bd66509f",
   "metadata": {},
   "outputs": [],
   "source": [
    "@dataclass\n",
    "class CaveSystem():\n",
    "    system: Dict[Point, Region]\n",
    "    \n",
    "    @property\n",
    "    def risk_level(self):\n",
    "        return sum(region.risk_level for region in self.system.values())\n",
    "    \n",
    "    def get(self, location):\n",
    "        if location in self.system:\n",
    "            return self.system[location]\n",
    "        if location.x < 0 or location.y < 0:\n",
    "            return None\n",
    "        return self.add(location)\n",
    "    \n",
    "    def add(self, location):\n",
    "        geologic_index = 0\n",
    "\n",
    "        if location != Point(0, 0) and location != target:\n",
    "            if location.y == 0:\n",
    "                geologic_index = location.x * 16807\n",
    "            elif location.x == 0:\n",
    "                geologic_index = location.y * 48271\n",
    "            else:\n",
    "                west = self.get(Point(location.y, location.x-1))\n",
    "                north = self.get(Point(location.y-1, location.x))\n",
    "                geologic_index = west.erosion_level * north.erosion_level\n",
    "\n",
    "        region = Region(location, geologic_index)\n",
    "        self.system[location] = region\n",
    "        return region\n",
    "    \n",
    "    def extend(self, target):\n",
    "        for location in (Point(y, x) for x in range(target.x+1) for y in range(target.y+1)):\n",
    "            self.add(location)"
   ]
  },
  {
   "cell_type": "code",
   "execution_count": 7,
   "id": "9d2e0a00",
   "metadata": {},
   "outputs": [
    {
     "name": "stdout",
     "output_type": "stream",
     "text": [
      "Part 1: 8681\n"
     ]
    }
   ],
   "source": [
    "cave = CaveSystem({})\n",
    "cave.extend(target)\n",
    "p1 = cave.risk_level\n",
    "print(f'Part 1: {p1}')"
   ]
  },
  {
   "cell_type": "markdown",
   "id": "113955cd",
   "metadata": {},
   "source": [
    "#### Part 2: Determine the quickest route to reach the target"
   ]
  },
  {
   "cell_type": "code",
   "execution_count": 8,
   "id": "2edd82e4",
   "metadata": {},
   "outputs": [],
   "source": [
    "INACCESSIBLE_TERRAIN = {\n",
    "    'climbing gear': 'narrow',\n",
    "    'torch': 'wet',\n",
    "    'neither': 'rocky'\n",
    "}\n",
    "\n",
    "@dataclass(frozen=True, order=True)\n",
    "class Equipment():\n",
    "    name: str\n",
    "    \n",
    "    @property\n",
    "    def inaccessible_terrain(self):\n",
    "        return INACCESSIBLE_TERRAIN[self.name]\n",
    "    \n",
    "    def is_valid_in_terrain(self, terrain):\n",
    "        return terrain != self.inaccessible_terrain\n",
    "    \n",
    "    def switch(self, terrain):\n",
    "        return next(Equipment(equip) for equip, inaccess in INACCESSIBLE_TERRAIN.items()\n",
    "                    if equip != self.name and inaccess != terrain)"
   ]
  },
  {
   "cell_type": "code",
   "execution_count": 9,
   "id": "1c67666f",
   "metadata": {},
   "outputs": [],
   "source": [
    "@dataclass(frozen=True, order=True)\n",
    "class SearchState():\n",
    "    minutes: int\n",
    "    position: Point\n",
    "    equipment: Equipment\n",
    "    \n",
    "    @classmethod\n",
    "    def initial_state(cls):\n",
    "        return cls(0, Point(0, 0), Equipment('climbing gear'))\n",
    "    \n",
    "    def accessible_neighbours(self, cave_system):\n",
    "        return (\n",
    "            loc for loc in self.position.neighbours\n",
    "            if self.equipment.is_valid_in_terrain(cave_system.get(loc).terrain)\n",
    "        )\n",
    "    \n",
    "    def possible_next_steps(self, cave_system):\n",
    "        for location in self.accessible_neighbours(cave_system):\n",
    "            yield SearchState(self.minutes + 1, location, self.equipment)\n",
    "        \n",
    "        equip = self.equipment.switch(cave_system.get(self.position).terrain)\n",
    "        yield SearchState(self.minutes + 7, self.position, equip)"
   ]
  },
  {
   "cell_type": "code",
   "execution_count": 10,
   "id": "87993633",
   "metadata": {},
   "outputs": [],
   "source": [
    "def find_shortest_route(cave):\n",
    "    best_routes = dict()\n",
    "    queue = [SearchState.initial_state()]\n",
    "    heapify(queue)\n",
    "    \n",
    "    while len(queue) > 0:\n",
    "        state = heappop(queue)\n",
    "        \n",
    "        if state.position == target:\n",
    "            return state.minutes\n",
    "        \n",
    "        best_key = (state.position, state.equipment)\n",
    "        if (best_key not in best_routes) or state.minutes < best_routes[best_key]:\n",
    "            best_routes[best_key] = state.minutes\n",
    "            for move in state.possible_next_steps(cave):\n",
    "                heappush(queue, move)"
   ]
  },
  {
   "cell_type": "code",
   "execution_count": 11,
   "id": "e9f08a20",
   "metadata": {},
   "outputs": [
    {
     "name": "stdout",
     "output_type": "stream",
     "text": [
      "Part 2: 1070\n"
     ]
    }
   ],
   "source": [
    "p2 = find_shortest_route(cave)\n",
    "print(f'Part 2: {p2}')"
   ]
  }
 ],
 "metadata": {
  "kernelspec": {
   "display_name": "Python 3 (ipykernel)",
   "language": "python",
   "name": "python3"
  },
  "language_info": {
   "codemirror_mode": {
    "name": "ipython",
    "version": 3
   },
   "file_extension": ".py",
   "mimetype": "text/x-python",
   "name": "python",
   "nbconvert_exporter": "python",
   "pygments_lexer": "ipython3",
   "version": "3.9.5"
  }
 },
 "nbformat": 4,
 "nbformat_minor": 5
}
