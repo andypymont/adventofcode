{
 "cells": [
  {
   "cell_type": "markdown",
   "id": "42d6a4b7",
   "metadata": {},
   "source": [
    "# Day 23\n",
    "https://adventofcode.com/2018/day/23"
   ]
  },
  {
   "cell_type": "code",
   "execution_count": 1,
   "id": "a7fd5a1a",
   "metadata": {},
   "outputs": [],
   "source": [
    "import aocd\n",
    "data = aocd.get_data(year=2018, day=23)"
   ]
  },
  {
   "cell_type": "code",
   "execution_count": 2,
   "id": "200a2055",
   "metadata": {},
   "outputs": [],
   "source": [
    "from dataclasses import dataclass\n",
    "import regex as re\n",
    "import z3"
   ]
  },
  {
   "cell_type": "code",
   "execution_count": 3,
   "id": "b350263b",
   "metadata": {},
   "outputs": [],
   "source": [
    "re_nanobot = re.compile(r'pos=<([-\\d]+),([-\\d]+),([-\\d]+)>, r=(\\d+)')"
   ]
  },
  {
   "cell_type": "code",
   "execution_count": 4,
   "id": "743c16ae",
   "metadata": {},
   "outputs": [],
   "source": [
    "@dataclass(frozen=True, order=True)\n",
    "class Point():\n",
    "    x: int\n",
    "    y: int\n",
    "    z: int\n",
    "    \n",
    "    def __add__(self, other):\n",
    "        return Point(self.x + other.x, self.y + other.y, self.z + other.z)\n",
    "    \n",
    "    def distance_from(self, other):\n",
    "        return abs(self.x - other.x) + abs(self.y - other.y) + abs(self.z - other.z)"
   ]
  },
  {
   "cell_type": "code",
   "execution_count": 5,
   "id": "f90aef4e",
   "metadata": {},
   "outputs": [],
   "source": [
    "def zabs(value):\n",
    "    return z3.If(value >= 0, value, -value)"
   ]
  },
  {
   "cell_type": "code",
   "execution_count": 6,
   "id": "835afda3",
   "metadata": {},
   "outputs": [],
   "source": [
    "@dataclass(frozen=True, order=True)\n",
    "class Nanobot():\n",
    "    radius: int\n",
    "    location: Point\n",
    "    \n",
    "    @classmethod\n",
    "    def from_regex_groups(cls, groups):\n",
    "        x, y, z, r = [int(val) for val in groups]\n",
    "        return cls(r, Point(x, y, z))\n",
    "    \n",
    "    def in_range_of(self, location):\n",
    "        return self.location.distance_from(location) <= self.radius\n",
    "    \n",
    "    def z3_in_range_of(self, x, y, z):\n",
    "        nx, ny, nz = self.location.x, self.location.y, self.location.z\n",
    "        return z3.If(zabs(x - nx) + zabs(y - ny) + zabs(z - nz) <= self.radius, 1, 0)\n",
    "    \n",
    "    def number_in_range(self, nanobots):\n",
    "        return sum(1 for nanobot in nanobots if self.in_range_of(nanobot))"
   ]
  },
  {
   "cell_type": "code",
   "execution_count": 7,
   "id": "a2663fe1",
   "metadata": {},
   "outputs": [],
   "source": [
    "def read_nanobots(text):\n",
    "    return {Nanobot.from_regex_groups(groups) for groups in re_nanobot.findall(text)}"
   ]
  },
  {
   "cell_type": "code",
   "execution_count": 8,
   "id": "3abf0a20",
   "metadata": {},
   "outputs": [],
   "source": [
    "def in_range_of_strongest(nanobots):\n",
    "    strongest = max(nanobot for nanobot in nanobots)\n",
    "    return strongest.number_in_range(nanobot.location for nanobot in nanobots)"
   ]
  },
  {
   "cell_type": "code",
   "execution_count": 9,
   "id": "f2d79425",
   "metadata": {},
   "outputs": [],
   "source": [
    "def zabs(value):\n",
    "    return z3.If(value > 0, value, -value)"
   ]
  },
  {
   "cell_type": "code",
   "execution_count": 10,
   "id": "e74eb562",
   "metadata": {},
   "outputs": [],
   "source": [
    "def distance_to_point_in_range_of_most_nanobots(nanobots):\n",
    "    x = z3.Int('x')\n",
    "    y = z3.Int('y')\n",
    "    z = z3.Int('z')\n",
    "    \n",
    "    bots_in_range = {\n",
    "        z3.Int(f'in_range_{botno}'): bot.z3_in_range_of(x, y, z)\n",
    "        for botno, bot in enumerate(nanobots)\n",
    "    }\n",
    "    \n",
    "    opt = z3.Optimize()\n",
    "    for variable, constraint in bots_in_range.items():\n",
    "        opt.add(variable == constraint)\n",
    "    \n",
    "    bot_count = z3.Int('bot_count')\n",
    "    opt.add(bot_count == sum(bots_in_range.keys()))\n",
    "    \n",
    "    dist = z3.Int('dist')\n",
    "    opt.add(dist == zabs(x) + zabs(y) + zabs(z))\n",
    "    \n",
    "    highest_bot_count = opt.maximize(bot_count)\n",
    "    nearest_point = opt.minimize(dist)\n",
    "    \n",
    "    opt.check()\n",
    "\n",
    "    return opt.lower(nearest_point)"
   ]
  },
  {
   "cell_type": "code",
   "execution_count": 11,
   "id": "0a440cae",
   "metadata": {},
   "outputs": [
    {
     "name": "stdout",
     "output_type": "stream",
     "text": [
      "Part 1: 497\n",
      "Part 2: 85761543\n"
     ]
    }
   ],
   "source": [
    "nanobots = read_nanobots(data)\n",
    "p1 = in_range_of_strongest(nanobots)\n",
    "print(f'Part 1: {p1}')\n",
    "p2 = distance_to_point_in_range_of_most_nanobots(nanobots)\n",
    "print(f'Part 2: {p2}')"
   ]
  }
 ],
 "metadata": {
  "kernelspec": {
   "display_name": "Python 3 (ipykernel)",
   "language": "python",
   "name": "python3"
  },
  "language_info": {
   "codemirror_mode": {
    "name": "ipython",
    "version": 3
   },
   "file_extension": ".py",
   "mimetype": "text/x-python",
   "name": "python",
   "nbconvert_exporter": "python",
   "pygments_lexer": "ipython3",
   "version": "3.9.5"
  }
 },
 "nbformat": 4,
 "nbformat_minor": 5
}
