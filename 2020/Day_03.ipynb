{
 "cells": [
  {
   "cell_type": "markdown",
   "metadata": {},
   "source": [
    "# Day 3\n",
    "https://adventofcode.com/2020/day/3"
   ]
  },
  {
   "cell_type": "code",
   "execution_count": 1,
   "metadata": {},
   "outputs": [],
   "source": [
    "import aocd\n",
    "data = aocd.get_data(year=2020, day=3)"
   ]
  },
  {
   "cell_type": "code",
   "execution_count": 2,
   "metadata": {},
   "outputs": [],
   "source": [
    "from dataclasses import dataclass\n",
    "from math import prod"
   ]
  },
  {
   "cell_type": "code",
   "execution_count": 3,
   "metadata": {},
   "outputs": [],
   "source": [
    "@dataclass(frozen=True)\n",
    "class Vector():\n",
    "    x: int\n",
    "    y: int\n",
    "    \n",
    "    def __add__(self, other):\n",
    "        return Vector(self.x+other.x, self.y+other.y)\n",
    "    \n",
    "    def repeat(self):\n",
    "        current = self\n",
    "        while True:\n",
    "            yield current\n",
    "            current += self"
   ]
  },
  {
   "cell_type": "code",
   "execution_count": 4,
   "metadata": {},
   "outputs": [],
   "source": [
    "def read_slope(text):\n",
    "    return [[1 if char == '#' else 0 for char in line] for line in text.split('\\n')]"
   ]
  },
  {
   "cell_type": "code",
   "execution_count": 5,
   "metadata": {},
   "outputs": [],
   "source": [
    "def trees_on_trajectory(slope, vector):\n",
    "    trees = 0\n",
    "    trajectory = vector.repeat()\n",
    "    columns = len(slope[0])\n",
    "    while True:\n",
    "        point = next(trajectory)\n",
    "        if point.y >= len(slope):\n",
    "            return trees\n",
    "        trees += 1 if slope[point.y][point.x % columns] else 0"
   ]
  },
  {
   "cell_type": "code",
   "execution_count": 6,
   "metadata": {},
   "outputs": [
    {
     "name": "stdout",
     "output_type": "stream",
     "text": [
      "Part 1: 148\n",
      "Part 2: 727923200\n"
     ]
    }
   ],
   "source": [
    "slope = read_slope(data)\n",
    "trajectories = (\n",
    "    Vector(1, 1),\n",
    "    Vector(3, 1),\n",
    "    Vector(5, 1),\n",
    "    Vector(7, 1),\n",
    "    Vector(1, 2),\n",
    ")\n",
    "trees_encountered = dict((trajectory, trees_on_trajectory(slope, trajectory)) for trajectory in trajectories)\n",
    "\n",
    "p1 = trees_encountered[Vector(3,1)]\n",
    "print('Part 1: {}'.format(p1))\n",
    "p2 = prod(trees_encountered.values())\n",
    "print('Part 2: {}'.format(p2))"
   ]
  }
 ],
 "metadata": {
  "kernelspec": {
   "display_name": "Python 3",
   "language": "python",
   "name": "python3"
  },
  "language_info": {
   "codemirror_mode": {
    "name": "ipython",
    "version": 3
   },
   "file_extension": ".py",
   "mimetype": "text/x-python",
   "name": "python",
   "nbconvert_exporter": "python",
   "pygments_lexer": "ipython3",
   "version": "3.8.5"
  }
 },
 "nbformat": 4,
 "nbformat_minor": 4
}
