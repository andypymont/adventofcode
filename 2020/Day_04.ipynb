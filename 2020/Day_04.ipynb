{
 "cells": [
  {
   "cell_type": "markdown",
   "metadata": {},
   "source": [
    "# Day 4\n",
    "https://adventofcode.com/2020/day/4"
   ]
  },
  {
   "cell_type": "code",
   "execution_count": 1,
   "metadata": {},
   "outputs": [],
   "source": [
    "import aocd\n",
    "data = aocd.get_data(year=2020, day=4)"
   ]
  },
  {
   "cell_type": "code",
   "execution_count": 2,
   "metadata": {},
   "outputs": [],
   "source": [
    "from dataclasses import dataclass\n",
    "import re"
   ]
  },
  {
   "cell_type": "code",
   "execution_count": 3,
   "metadata": {},
   "outputs": [],
   "source": [
    "re_passport_fields = re.compile(r'(\\w+):(\\S+)')\n",
    "re_height = re.compile(r'(\\d+)(cm|in)')\n",
    "re_haircolor = re.compile(r'(#[\\da-f]{6})')"
   ]
  },
  {
   "cell_type": "code",
   "execution_count": 4,
   "metadata": {},
   "outputs": [],
   "source": [
    "@dataclass(frozen=True)\n",
    "class Passport():\n",
    "    byr: str\n",
    "    iyr: str\n",
    "    eyr: str\n",
    "    hgt: str\n",
    "    hcl: str\n",
    "    ecl: str\n",
    "    pid: str\n",
    "    cid: str\n",
    "    \n",
    "    @property\n",
    "    def has_all_required_fields(self):\n",
    "        for required_field in (self.byr, self.iyr, self.eyr, self.hgt, self.hcl, self.ecl, self.pid):\n",
    "            if required_field is None:\n",
    "                return False\n",
    "        return True\n",
    "    \n",
    "    @property\n",
    "    def has_valid_height(self):\n",
    "        height = re_height.search(self.hgt)\n",
    "        if not height:\n",
    "            return False\n",
    "        value, unit = height.groups()\n",
    "        if unit == 'cm':\n",
    "            return 150 <= int(value) <= 193\n",
    "        return 59 <= int(value) <= 76\n",
    "    \n",
    "    @property\n",
    "    def is_valid(self):\n",
    "        if not self.has_all_required_fields:\n",
    "            return False\n",
    "        return all((\n",
    "            len(self.byr) == 4 and 1920 <= int(self.byr) <= 2002,\n",
    "            len(self.iyr) == 4 and 2010 <= int(self.iyr) <= 2020,\n",
    "            len(self.eyr) == 4 and 2020 <= int(self.eyr) <= 2030,\n",
    "            self.has_valid_height,\n",
    "            re_haircolor.search(self.hcl),\n",
    "            self.ecl in ('amb', 'blu', 'brn', 'gry', 'grn', 'hzl', 'oth'),\n",
    "            len(self.pid) == 9 and self.pid.isdigit(),\n",
    "        ))\n",
    "    \n",
    "    @classmethod\n",
    "    def from_description(cls, desc):\n",
    "        read = dict(re_passport_fields.findall(desc))\n",
    "        return cls(\n",
    "            read.get('byr'),\n",
    "            read.get('iyr'),\n",
    "            read.get('eyr'),\n",
    "            read.get('hgt'),\n",
    "            read.get('hcl'),\n",
    "            read.get('ecl'),\n",
    "            read.get('pid'),\n",
    "            read.get('cid'),\n",
    "        )"
   ]
  },
  {
   "cell_type": "code",
   "execution_count": 5,
   "metadata": {},
   "outputs": [
    {
     "name": "stdout",
     "output_type": "stream",
     "text": [
      "Part 1: 192\n"
     ]
    }
   ],
   "source": [
    "passports = [Passport.from_description(desc) for desc in data.split('\\n\\n')]\n",
    "p1 = sum(1 for passport in passports if passport.has_all_required_fields)\n",
    "print('Part 1: {}'.format(p1))"
   ]
  },
  {
   "cell_type": "code",
   "execution_count": 6,
   "metadata": {},
   "outputs": [
    {
     "name": "stdout",
     "output_type": "stream",
     "text": [
      "Part 2: 101\n"
     ]
    }
   ],
   "source": [
    "p2 = sum(1 for passport in passports if passport.is_valid)\n",
    "print('Part 2: {}'.format(p2))"
   ]
  }
 ],
 "metadata": {
  "kernelspec": {
   "display_name": "Python 3",
   "language": "python",
   "name": "python3"
  },
  "language_info": {
   "codemirror_mode": {
    "name": "ipython",
    "version": 3
   },
   "file_extension": ".py",
   "mimetype": "text/x-python",
   "name": "python",
   "nbconvert_exporter": "python",
   "pygments_lexer": "ipython3",
   "version": "3.8.5"
  }
 },
 "nbformat": 4,
 "nbformat_minor": 4
}
