{
 "cells": [
  {
   "cell_type": "markdown",
   "metadata": {},
   "source": [
    "# Day 5\n",
    "https://adventofcode.com/2020/day/5"
   ]
  },
  {
   "cell_type": "code",
   "execution_count": 1,
   "metadata": {},
   "outputs": [],
   "source": [
    "import aocd\n",
    "data = aocd.get_data(year=2020, day=5)"
   ]
  },
  {
   "cell_type": "code",
   "execution_count": 2,
   "metadata": {},
   "outputs": [],
   "source": [
    "from dataclasses import dataclass\n",
    "import re"
   ]
  },
  {
   "cell_type": "code",
   "execution_count": 3,
   "metadata": {},
   "outputs": [],
   "source": [
    "re_seat = re.compile(r'([BF]{7})([LR]{3})')"
   ]
  },
  {
   "cell_type": "code",
   "execution_count": 4,
   "metadata": {},
   "outputs": [],
   "source": [
    "@dataclass(frozen=True)\n",
    "class Seat():\n",
    "    row: int\n",
    "    col: int\n",
    "\n",
    "    @property\n",
    "    def seat_id(self):\n",
    "        return (self.row * 8) + self.col\n",
    "\n",
    "    @classmethod\n",
    "    def from_regex_groups(cls, groups):\n",
    "        return cls(\n",
    "            int(groups[0].replace('F', '0').replace('B', '1'), 2),\n",
    "            int(groups[1].replace('L', '0').replace('R', '1'), 2)\n",
    "        )\n",
    "\n",
    "    @classmethod\n",
    "    def all_from_text(cls, text):\n",
    "        return [cls.from_regex_groups(groups) for groups in re_seat.findall(text)]"
   ]
  },
  {
   "cell_type": "code",
   "execution_count": 5,
   "metadata": {},
   "outputs": [],
   "source": [
    "def find_seat(boarding_passes):\n",
    "    seat_ids = set(bp.seat_id for bp in boarding_passes)\n",
    "    return next(seat for seat in range(1024)\n",
    "                if seat not in seat_ids and seat-1 in seat_ids and seat+1 in seat_ids)"
   ]
  },
  {
   "cell_type": "code",
   "execution_count": 6,
   "metadata": {},
   "outputs": [
    {
     "name": "stdout",
     "output_type": "stream",
     "text": [
      "Part 1: 888\n"
     ]
    }
   ],
   "source": [
    "boarding_passes = Seat.all_from_text(data)\n",
    "p1 = max(bp.seat_id for bp in boarding_passes)\n",
    "print('Part 1: {}'.format(p1))"
   ]
  },
  {
   "cell_type": "code",
   "execution_count": 7,
   "metadata": {},
   "outputs": [
    {
     "name": "stdout",
     "output_type": "stream",
     "text": [
      "Part 2: 522\n"
     ]
    }
   ],
   "source": [
    "p2 = find_seat(boarding_passes)\n",
    "print('Part 2: {}'.format(p2))"
   ]
  }
 ],
 "metadata": {
  "kernelspec": {
   "display_name": "Python 3",
   "language": "python",
   "name": "python3"
  },
  "language_info": {
   "codemirror_mode": {
    "name": "ipython",
    "version": 3
   },
   "file_extension": ".py",
   "mimetype": "text/x-python",
   "name": "python",
   "nbconvert_exporter": "python",
   "pygments_lexer": "ipython3",
   "version": "3.8.5"
  }
 },
 "nbformat": 4,
 "nbformat_minor": 4
}
