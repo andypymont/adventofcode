{
 "cells": [
  {
   "cell_type": "markdown",
   "metadata": {},
   "source": [
    "# Day 8\n",
    "https://adventofcode.com/2020/day/8"
   ]
  },
  {
   "cell_type": "code",
   "execution_count": 1,
   "metadata": {},
   "outputs": [],
   "source": [
    "import aocd\n",
    "data = aocd.get_data(year=2020, day=8)"
   ]
  },
  {
   "cell_type": "code",
   "execution_count": 2,
   "metadata": {},
   "outputs": [],
   "source": [
    "import re"
   ]
  },
  {
   "cell_type": "markdown",
   "metadata": {},
   "source": [
    "##### Part 1: Find accumulator value at the point of the infinite loop"
   ]
  },
  {
   "cell_type": "code",
   "execution_count": 3,
   "metadata": {},
   "outputs": [],
   "source": [
    "re_code = re.compile(r'(\\w{3}) ([+-]\\d+)')\n",
    "def read_code(text):\n",
    "    return [(op, int(val)) for op, val in re_code.findall(text)]"
   ]
  },
  {
   "cell_type": "code",
   "execution_count": 4,
   "metadata": {},
   "outputs": [],
   "source": [
    "test_data = \"\"\"nop +0\n",
    "acc +1\n",
    "jmp +4\n",
    "acc +3\n",
    "jmp -3\n",
    "acc -99\n",
    "acc +1\n",
    "jmp -4\n",
    "acc +6\"\"\""
   ]
  },
  {
   "cell_type": "code",
   "execution_count": 5,
   "metadata": {},
   "outputs": [
    {
     "data": {
      "text/plain": [
       "[('nop', 0),\n",
       " ('acc', 1),\n",
       " ('jmp', 4),\n",
       " ('acc', 3),\n",
       " ('jmp', -3),\n",
       " ('acc', -99),\n",
       " ('acc', 1),\n",
       " ('jmp', -4),\n",
       " ('acc', 6)]"
      ]
     },
     "execution_count": 5,
     "metadata": {},
     "output_type": "execute_result"
    }
   ],
   "source": [
    "read_code(test_data)"
   ]
  },
  {
   "cell_type": "code",
   "execution_count": 6,
   "metadata": {},
   "outputs": [],
   "source": [
    "def accumulator_value(code):\n",
    "    visited = set()\n",
    "    ip = acc = 0\n",
    "    while ip < len(code):\n",
    "        if ip in visited:\n",
    "            return ('infinite', acc)\n",
    "        visited.add(ip)\n",
    "        op, val = code[ip]\n",
    "        if op == 'acc':\n",
    "            acc += val\n",
    "        elif op == 'jmp':\n",
    "            ip += val - 1\n",
    "        ip += 1\n",
    "    return ('terminated', acc)"
   ]
  },
  {
   "cell_type": "code",
   "execution_count": 7,
   "metadata": {},
   "outputs": [
    {
     "data": {
      "text/plain": [
       "('infinite', 5)"
      ]
     },
     "execution_count": 7,
     "metadata": {},
     "output_type": "execute_result"
    }
   ],
   "source": [
    "accumulator_value(read_code(test_data))"
   ]
  },
  {
   "cell_type": "code",
   "execution_count": 8,
   "metadata": {},
   "outputs": [
    {
     "name": "stdout",
     "output_type": "stream",
     "text": [
      "Part 1: 1723\n"
     ]
    }
   ],
   "source": [
    "code = read_code(data)\n",
    "inf, p1 = accumulator_value(code)\n",
    "print('Part 1: {}'.format(p1))"
   ]
  },
  {
   "cell_type": "markdown",
   "metadata": {},
   "source": [
    "##### Part 2: Find a jmp or nop instruction to change and make the program terminate"
   ]
  },
  {
   "cell_type": "code",
   "execution_count": 9,
   "metadata": {},
   "outputs": [],
   "source": [
    "def patched_program(code, ip):\n",
    "    op, val = code[ip]\n",
    "    flipped = 'jmp' if op == 'nop' else 'nop'\n",
    "    return code[:ip] + [(flipped, val)] + code[ip+1:]"
   ]
  },
  {
   "cell_type": "code",
   "execution_count": 10,
   "metadata": {},
   "outputs": [],
   "source": [
    "def all_patched_programs(code):\n",
    "    return [patched_program(code, ip) for ip in range(len(code)) if code[ip][0] in ('jmp', 'nop')]"
   ]
  },
  {
   "cell_type": "code",
   "execution_count": 11,
   "metadata": {},
   "outputs": [],
   "source": [
    "def find_patched_accumulator_value(code):\n",
    "    for patched_code in all_patched_programs(code):\n",
    "        outcome, acc = accumulator_value(patched_code)\n",
    "        if outcome == 'terminated':\n",
    "            return acc"
   ]
  },
  {
   "cell_type": "code",
   "execution_count": 12,
   "metadata": {},
   "outputs": [
    {
     "data": {
      "text/plain": [
       "8"
      ]
     },
     "execution_count": 12,
     "metadata": {},
     "output_type": "execute_result"
    }
   ],
   "source": [
    "find_patched_accumulator_value(read_code(test_data))"
   ]
  },
  {
   "cell_type": "code",
   "execution_count": 13,
   "metadata": {},
   "outputs": [
    {
     "name": "stdout",
     "output_type": "stream",
     "text": [
      "Part 2: 846\n"
     ]
    }
   ],
   "source": [
    "p2 = find_patched_accumulator_value(code)\n",
    "print('Part 2: {}'.format(p2))"
   ]
  }
 ],
 "metadata": {
  "kernelspec": {
   "display_name": "Python 3",
   "language": "python",
   "name": "python3"
  },
  "language_info": {
   "codemirror_mode": {
    "name": "ipython",
    "version": 3
   },
   "file_extension": ".py",
   "mimetype": "text/x-python",
   "name": "python",
   "nbconvert_exporter": "python",
   "pygments_lexer": "ipython3",
   "version": "3.8.5"
  }
 },
 "nbformat": 4,
 "nbformat_minor": 4
}
