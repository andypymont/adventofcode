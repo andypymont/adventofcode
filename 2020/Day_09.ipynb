{
 "cells": [
  {
   "cell_type": "markdown",
   "metadata": {},
   "source": [
    "# Day 9\n",
    "https://adventofcode.com/2020/day/9"
   ]
  },
  {
   "cell_type": "code",
   "execution_count": 1,
   "metadata": {},
   "outputs": [],
   "source": [
    "import aocd\n",
    "data = aocd.get_data(year=2020, day=9)"
   ]
  },
  {
   "cell_type": "code",
   "execution_count": 2,
   "metadata": {},
   "outputs": [],
   "source": [
    "from itertools import combinations"
   ]
  },
  {
   "cell_type": "code",
   "execution_count": 3,
   "metadata": {},
   "outputs": [],
   "source": [
    "def read_sequence(text):\n",
    "    return tuple(map(int, text.split('\\n')))"
   ]
  },
  {
   "cell_type": "code",
   "execution_count": 4,
   "metadata": {},
   "outputs": [],
   "source": [
    "def totals(items):\n",
    "    return {a + b for a, b in combinations(items, 2)}"
   ]
  },
  {
   "cell_type": "code",
   "execution_count": 5,
   "metadata": {},
   "outputs": [],
   "source": [
    "def first_invalid_number(sequence, preamble=25):\n",
    "    for ix in range(preamble, len(sequence)):\n",
    "        if sequence[ix] not in totals(sequence[ix-preamble:ix]):\n",
    "            return sequence[ix]"
   ]
  },
  {
   "cell_type": "code",
   "execution_count": 6,
   "metadata": {},
   "outputs": [],
   "source": [
    "def find_series_that_totals(sequence, target):\n",
    "    for finish in range(len(sequence)):\n",
    "        for start in range(finish):\n",
    "            subsequence = sequence[start:finish]\n",
    "            if sum(subsequence) == target:\n",
    "                return min(subsequence) + max(subsequence)"
   ]
  },
  {
   "cell_type": "code",
   "execution_count": 7,
   "metadata": {},
   "outputs": [
    {
     "name": "stdout",
     "output_type": "stream",
     "text": [
      "Part 1: 15690279\n",
      "Part 2: 2174232\n"
     ]
    }
   ],
   "source": [
    "seq = read_sequence(data)\n",
    "p1 = first_invalid_number(seq)\n",
    "print('Part 1: {}'.format(p1))\n",
    "p2 = find_series_that_totals(seq, p1)\n",
    "print('Part 2: {}'.format(p2))"
   ]
  }
 ],
 "metadata": {
  "kernelspec": {
   "display_name": "Python 3",
   "language": "python",
   "name": "python3"
  },
  "language_info": {
   "codemirror_mode": {
    "name": "ipython",
    "version": 3
   },
   "file_extension": ".py",
   "mimetype": "text/x-python",
   "name": "python",
   "nbconvert_exporter": "python",
   "pygments_lexer": "ipython3",
   "version": "3.8.5"
  }
 },
 "nbformat": 4,
 "nbformat_minor": 4
}
