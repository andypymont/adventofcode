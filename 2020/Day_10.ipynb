{
 "cells": [
  {
   "cell_type": "markdown",
   "metadata": {},
   "source": [
    "# Day 10\n",
    "https://adventofcode.com/2020/day/10"
   ]
  },
  {
   "cell_type": "code",
   "execution_count": 1,
   "metadata": {},
   "outputs": [],
   "source": [
    "import aocd\n",
    "data = aocd.get_data(year=2020)"
   ]
  },
  {
   "cell_type": "code",
   "execution_count": 2,
   "metadata": {},
   "outputs": [],
   "source": [
    "from collections import deque\n",
    "from math import prod"
   ]
  },
  {
   "cell_type": "code",
   "execution_count": 3,
   "metadata": {},
   "outputs": [],
   "source": [
    "def read_adapters(text):\n",
    "    return tuple(int(adapter) for adapter in text.split('\\n'))"
   ]
  },
  {
   "cell_type": "code",
   "execution_count": 4,
   "metadata": {},
   "outputs": [],
   "source": [
    "def adapter_sections(adapters):\n",
    "    adapters = sorted(adapters)\n",
    "    sections = []\n",
    "    section = [0]\n",
    "    for ix in range(len(adapters)):\n",
    "        section.append(adapters[ix])\n",
    "        if ix == len(adapters)-1 or adapters[ix]+3 == adapters[ix+1]:\n",
    "            if section:\n",
    "                sections.append(section)\n",
    "                section = []\n",
    "    return sections"
   ]
  },
  {
   "cell_type": "code",
   "execution_count": 5,
   "metadata": {},
   "outputs": [],
   "source": [
    "def multiply_one_and_three_gaps(sections):\n",
    "    threes = len(sections)\n",
    "    ones = sum(len(section)-1 for section in sections)\n",
    "    return ones * threes"
   ]
  },
  {
   "cell_type": "code",
   "execution_count": 6,
   "metadata": {},
   "outputs": [],
   "source": [
    "def routes_through_section(section):\n",
    "    if len(section) == 1:\n",
    "        return 1\n",
    "    \n",
    "    routes = 0\n",
    "    search = deque([section[0:1]])\n",
    "    \n",
    "    while search:\n",
    "        route = search.popleft()\n",
    "        position = route[-1]\n",
    "        if position == max(section):\n",
    "            routes += 1\n",
    "        else:\n",
    "            for other in section:\n",
    "                if position < other <= (position + 3):\n",
    "                    search.append(route + [other])\n",
    "    \n",
    "    return routes"
   ]
  },
  {
   "cell_type": "code",
   "execution_count": 7,
   "metadata": {},
   "outputs": [],
   "source": [
    "def total_routes(sections):\n",
    "    return prod(routes_through_section(section) for section in sections)"
   ]
  },
  {
   "cell_type": "code",
   "execution_count": 8,
   "metadata": {},
   "outputs": [
    {
     "name": "stdout",
     "output_type": "stream",
     "text": [
      "Part 1: 2030\n",
      "Part 2: 42313823813632\n"
     ]
    }
   ],
   "source": [
    "adapters = read_adapters(data)\n",
    "sections = adapter_sections(adapters)\n",
    "p1 = multiply_one_and_three_gaps(sections)\n",
    "print('Part 1: {}'.format(p1))\n",
    "p2 = total_routes(sections)\n",
    "print('Part 2: {}'.format(p2))"
   ]
  }
 ],
 "metadata": {
  "kernelspec": {
   "display_name": "Python 3",
   "language": "python",
   "name": "python3"
  },
  "language_info": {
   "codemirror_mode": {
    "name": "ipython",
    "version": 3
   },
   "file_extension": ".py",
   "mimetype": "text/x-python",
   "name": "python",
   "nbconvert_exporter": "python",
   "pygments_lexer": "ipython3",
   "version": "3.8.5"
  }
 },
 "nbformat": 4,
 "nbformat_minor": 4
}
