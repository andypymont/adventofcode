{
 "cells": [
  {
   "cell_type": "markdown",
   "metadata": {},
   "source": [
    "# Day 11\n",
    "https://adventofcode.com/2020/day/11"
   ]
  },
  {
   "cell_type": "code",
   "execution_count": 1,
   "metadata": {},
   "outputs": [],
   "source": [
    "import aocd\n",
    "data = aocd.get_data(year=2020, day=11)"
   ]
  },
  {
   "cell_type": "code",
   "execution_count": 2,
   "metadata": {},
   "outputs": [],
   "source": [
    "from dataclasses import dataclass\n",
    "from typing import Set"
   ]
  },
  {
   "cell_type": "code",
   "execution_count": 3,
   "metadata": {},
   "outputs": [],
   "source": [
    "@dataclass(frozen=True)\n",
    "class Point():\n",
    "    y: int\n",
    "    x: int\n",
    "    \n",
    "    def __add__(self, other):\n",
    "        return Point(self.y+other.y, self.x+other.x)"
   ]
  },
  {
   "cell_type": "code",
   "execution_count": 4,
   "metadata": {},
   "outputs": [],
   "source": [
    "@dataclass(frozen=True)\n",
    "class Seat():\n",
    "    location: Point\n",
    "    occupied: bool\n",
    "    neighbours: Set[Point]\n",
    "    \n",
    "    @classmethod\n",
    "    def all_from_input(cls, text, neighbour_policy='adjacent'):\n",
    "        lines = text.split('\\n')\n",
    "        \n",
    "        points = {}\n",
    "        for y, line in enumerate(lines):\n",
    "            for x, char in enumerate(line):\n",
    "                if char != '.':\n",
    "                    points[Point(y, x)] = (char == '#')\n",
    "        \n",
    "        neighbours = {}\n",
    "        \n",
    "        for point in points.keys():\n",
    "            max_x = max(point.x for point in points.keys())\n",
    "            max_y = max(point.y for point in points.keys())\n",
    "            neighbours[point] = set()\n",
    "            for compass in (\n",
    "                Point(-1, -1), Point(-1, 0), Point(-1, 1),\n",
    "                Point(0, -1), Point(0, 1),\n",
    "                Point(1, -1), Point(1, 0), Point(1, 1),\n",
    "            ):\n",
    "                nearby = point + compass\n",
    "                if neighbour_policy == 'nearest':\n",
    "                    while (nearby not in points and nearby.x >= 0 and nearby.y >= 0\n",
    "                           and nearby.x <= max_x and nearby.y <= max_y):\n",
    "                        nearby += compass\n",
    "                if nearby in points:\n",
    "                    neighbours[point].add(nearby)\n",
    "        \n",
    "        return dict((point, cls(point, occupied, neighbours.get(point, set())))\n",
    "                    for point, occupied in points.items())\n",
    "    \n",
    "    def occupied_neighbours(self, seats):\n",
    "        return sum(1 for neighbour in self.neighbours if seats[neighbour].occupied)\n",
    "    \n",
    "    def progress(self, seats, occupied_tolerance=4):\n",
    "        if (not self.occupied) and self.occupied_neighbours(seats) == 0:\n",
    "            return Seat(self.location, True, self.neighbours)\n",
    "        if self.occupied and self.occupied_neighbours(seats) >= occupied_tolerance:\n",
    "            return Seat(self.location, False, self.neighbours)\n",
    "        \n",
    "        return Seat(self.location, self.occupied, self.neighbours)"
   ]
  },
  {
   "cell_type": "code",
   "execution_count": 5,
   "metadata": {},
   "outputs": [],
   "source": [
    "def progress_until_stable(seats, occupied_tolerance=4):\n",
    "    oldseats = \"\"\n",
    "    while oldseats != repr(seats):\n",
    "        oldseats = repr(seats)\n",
    "        seats = dict((point, seat.progress(seats, occupied_tolerance)) for point, seat in seats.items())\n",
    "    return seats"
   ]
  },
  {
   "cell_type": "code",
   "execution_count": 6,
   "metadata": {},
   "outputs": [
    {
     "name": "stdout",
     "output_type": "stream",
     "text": [
      "Part 1: 2275\n"
     ]
    }
   ],
   "source": [
    "seats = Seat.all_from_input(data)\n",
    "stable = progress_until_stable(seats)\n",
    "p1 = sum(1 for seat in stable.values() if seat.occupied)\n",
    "print('Part 1: {}'.format(p1))"
   ]
  },
  {
   "cell_type": "code",
   "execution_count": 7,
   "metadata": {},
   "outputs": [
    {
     "name": "stdout",
     "output_type": "stream",
     "text": [
      "Part 2: 2121\n"
     ]
    }
   ],
   "source": [
    "seats = Seat.all_from_input(data, 'nearest')\n",
    "stable = progress_until_stable(seats, occupied_tolerance=5)\n",
    "p2 = sum(1 for seat in stable.values() if seat.occupied)\n",
    "print('Part 2: {}'.format(p2))"
   ]
  }
 ],
 "metadata": {
  "kernelspec": {
   "display_name": "Python 3",
   "language": "python",
   "name": "python3"
  },
  "language_info": {
   "codemirror_mode": {
    "name": "ipython",
    "version": 3
   },
   "file_extension": ".py",
   "mimetype": "text/x-python",
   "name": "python",
   "nbconvert_exporter": "python",
   "pygments_lexer": "ipython3",
   "version": "3.8.5"
  }
 },
 "nbformat": 4,
 "nbformat_minor": 4
}
