{
 "cells": [
  {
   "cell_type": "markdown",
   "metadata": {},
   "source": [
    "# Day 12\n",
    "https://adventofcode.com/2020/day/12"
   ]
  },
  {
   "cell_type": "code",
   "execution_count": 1,
   "metadata": {},
   "outputs": [],
   "source": [
    "import aocd\n",
    "data = aocd.get_data(year=2020, day=12)"
   ]
  },
  {
   "cell_type": "code",
   "execution_count": 2,
   "metadata": {},
   "outputs": [],
   "source": [
    "from dataclasses import dataclass\n",
    "import re"
   ]
  },
  {
   "cell_type": "code",
   "execution_count": 3,
   "metadata": {},
   "outputs": [],
   "source": [
    "@dataclass(frozen=True, order=True)\n",
    "class Point:\n",
    "    y: int\n",
    "    x: int\n",
    "    \n",
    "    def __add__(self, other):\n",
    "        return Point(self.y+other.y, self.x+other.x)\n",
    "    \n",
    "    def __mul__(self, other: int):\n",
    "        return Point(self.y*other, self.x*other)\n",
    "    \n",
    "    @property\n",
    "    def manhattan_distance(self):\n",
    "        return abs(self.y) + abs(self.x)"
   ]
  },
  {
   "cell_type": "code",
   "execution_count": 4,
   "metadata": {},
   "outputs": [],
   "source": [
    "NORTH = Point(y=1, x=0)\n",
    "EAST = Point(y=0, x=1)\n",
    "SOUTH = Point(y=-1, x=0)\n",
    "WEST = Point(y=0, x=-1)"
   ]
  },
  {
   "cell_type": "code",
   "execution_count": 5,
   "metadata": {},
   "outputs": [],
   "source": [
    "@dataclass(frozen=True, order=True)\n",
    "class Ferry:\n",
    "    position: Point\n",
    "    waypoint: Point\n",
    "    \n",
    "    def move(self, direction, value):\n",
    "        return Ferry(self.position+(direction*value), self.waypoint)\n",
    "    \n",
    "    def move_waypoint(self, direction, value):\n",
    "        return Ferry(self.position, self.waypoint+(direction*value))\n",
    "    \n",
    "    def turn_clockwise(self, turns):\n",
    "        wp = self.waypoint\n",
    "        for turn in range(turns):\n",
    "            wp = Point(wp.x*-1, wp.y)\n",
    "        return Ferry(self.position, wp)\n",
    "    \n",
    "    def turn_left(self, degrees):\n",
    "        return self.turn_clockwise((360-degrees)//90)\n",
    "    \n",
    "    def turn_right(self, degrees):\n",
    "        return self.turn_clockwise(degrees//90)\n",
    "    \n",
    "    def follow_instruction(self, letter, value):\n",
    "        if letter == 'N':\n",
    "            return self.move(NORTH, value)\n",
    "        if letter == 'E':\n",
    "            return self.move(EAST, value)\n",
    "        if letter == 'S':\n",
    "            return self.move(SOUTH, value)\n",
    "        if letter == 'W':\n",
    "            return self.move(WEST, value)\n",
    "        if letter == 'L':\n",
    "            return self.turn_left(value)\n",
    "        if letter == 'R':\n",
    "            return self.turn_right(value)\n",
    "        if letter == 'F':\n",
    "            return self.move(self.waypoint, value)\n",
    "    \n",
    "    def follow_instructions(self, instructions):\n",
    "        ferry = self\n",
    "        for instruction in instructions:\n",
    "            ferry = ferry.follow_instruction(*instruction)\n",
    "        return ferry\n",
    "    \n",
    "    def follow_waypoint_instruction(self, letter, value):\n",
    "        if letter == 'N':\n",
    "            return self.move_waypoint(NORTH, value)\n",
    "        if letter == 'E':\n",
    "            return self.move_waypoint(EAST, value)\n",
    "        if letter == 'S':\n",
    "            return self.move_waypoint(SOUTH, value)\n",
    "        if letter == 'W':\n",
    "            return self.move_waypoint(WEST, value)\n",
    "        if letter == 'L':\n",
    "            return self.turn_left(value)\n",
    "        if letter == 'R':\n",
    "            return self.turn_right(value)\n",
    "        if letter == 'F':\n",
    "            return self.move(self.waypoint, value)\n",
    "    \n",
    "    def follow_waypoint_instructions(self, instructions):\n",
    "        ferry = self\n",
    "        for instruction in instructions:\n",
    "            ferry = ferry.follow_waypoint_instruction(*instruction)\n",
    "        return ferry"
   ]
  },
  {
   "cell_type": "code",
   "execution_count": 6,
   "metadata": {},
   "outputs": [],
   "source": [
    "re_instruction = re.compile(r'(\\w)(\\d+)')\n",
    "def read_instructions(text):\n",
    "    return [(letter, int(value)) for letter, value in re_instruction.findall(text)]"
   ]
  },
  {
   "cell_type": "code",
   "execution_count": 7,
   "metadata": {},
   "outputs": [
    {
     "name": "stdout",
     "output_type": "stream",
     "text": [
      "Part 1: 445\n",
      "Part 2: 42495\n"
     ]
    }
   ],
   "source": [
    "instructions = read_instructions(data)\n",
    "p1 = Ferry(Point(0, 0), EAST).follow_instructions(instructions).position.manhattan_distance\n",
    "print('Part 1: {}'.format(p1))\n",
    "p2 = Ferry(Point(0, 0), Point(1, 10)).follow_waypoint_instructions(instructions).position.manhattan_distance\n",
    "print('Part 2: {}'.format(p2))"
   ]
  }
 ],
 "metadata": {
  "kernelspec": {
   "display_name": "Python 3",
   "language": "python",
   "name": "python3"
  },
  "language_info": {
   "codemirror_mode": {
    "name": "ipython",
    "version": 3
   },
   "file_extension": ".py",
   "mimetype": "text/x-python",
   "name": "python",
   "nbconvert_exporter": "python",
   "pygments_lexer": "ipython3",
   "version": "3.8.5"
  }
 },
 "nbformat": 4,
 "nbformat_minor": 4
}
