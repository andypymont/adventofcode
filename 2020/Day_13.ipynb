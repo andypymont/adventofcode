{
 "cells": [
  {
   "cell_type": "markdown",
   "metadata": {},
   "source": [
    "# Day 13\n",
    "https://adventofcode.com/2020/day/13"
   ]
  },
  {
   "cell_type": "code",
   "execution_count": 1,
   "metadata": {},
   "outputs": [],
   "source": [
    "import aocd\n",
    "data = aocd.get_data(year=2020, day=13)"
   ]
  },
  {
   "cell_type": "code",
   "execution_count": 19,
   "metadata": {},
   "outputs": [],
   "source": [
    "import re\n",
    "from math import prod"
   ]
  },
  {
   "cell_type": "markdown",
   "metadata": {},
   "source": [
    "##### Part 1: Find the first bus departing after the initial time"
   ]
  },
  {
   "cell_type": "code",
   "execution_count": 4,
   "metadata": {},
   "outputs": [],
   "source": [
    "re_buses = re.compile(r'(\\d+)')\n",
    "def read_input(text):\n",
    "    return [int(x) for x in re_buses.findall(text)]"
   ]
  },
  {
   "cell_type": "code",
   "execution_count": 5,
   "metadata": {},
   "outputs": [],
   "source": [
    "def find_first_departure(minute, buses):\n",
    "    while True:\n",
    "        for bus in buses:\n",
    "            if minute % bus == 0:\n",
    "                return minute, bus\n",
    "        minute += 1"
   ]
  },
  {
   "cell_type": "code",
   "execution_count": 12,
   "metadata": {},
   "outputs": [
    {
     "name": "stdout",
     "output_type": "stream",
     "text": [
      "Part 1: wait 11 minutes for bus 733: 8063\n"
     ]
    }
   ],
   "source": [
    "time, *buses = read_input(data)\n",
    "p1_time, p1_bus = find_first_departure(time, sieve)\n",
    "print('Part 1: wait {} minutes for bus {}: {}'.format(p1_time-time, p1_bus, (p1_time-time)*p1_bus))"
   ]
  },
  {
   "cell_type": "markdown",
   "metadata": {},
   "source": [
    "##### Part 2: Find a set of minutes matching the desired pattern of departures\n",
    "_Using some maths I don't know well, the Chinese Remainder Theorem..._"
   ]
  },
  {
   "cell_type": "code",
   "execution_count": 56,
   "metadata": {},
   "outputs": [],
   "source": [
    "re_all_buses = re.compile(r'([\\dx]+)')\n",
    "def read_schedule(text):\n",
    "    return tuple(int(x) if x.isdigit() else None for x in re_all_buses.findall(text))[1:]"
   ]
  },
  {
   "cell_type": "code",
   "execution_count": 46,
   "metadata": {},
   "outputs": [],
   "source": [
    "def first_minute_matching_schedule(schedule):\n",
    "    sched = [(bus, (bus-remainder) % bus) for remainder, bus in enumerate(schedule) if bus is not None]\n",
    "    product = prod(bus for bus, num in sched)\n",
    "    B = [product//bus for bus, num in sched]\n",
    "    x = [pow(b, -1, sched[i][0]) for i, b in enumerate(B)]\n",
    "    return sum(B[i] * x[i] * sched[i][1] for i in range(len(B))) % product"
   ]
  },
  {
   "cell_type": "code",
   "execution_count": 48,
   "metadata": {},
   "outputs": [
    {
     "name": "stdout",
     "output_type": "stream",
     "text": [
      "first_minute_matching_schedule((17, None, 13, 19)) == 3417 : True\n",
      "first_minute_matching_schedule((67, 7, 59, 61)) == 754018 : True\n",
      "first_minute_matching_schedule((67, None, 7, 59, 61)) == 779210 : True\n",
      "first_minute_matching_schedule((67, 7, None, 59, 61)) == 1261476 : True\n",
      "first_minute_matching_schedule((1789, 37, 47, 1889)) == 1202161486 : True\n"
     ]
    }
   ],
   "source": [
    "for test, expected in (\n",
    "    ((17, None, 13, 19), 3417),\n",
    "    ((67, 7, 59, 61), 754018),\n",
    "    ((67, None, 7, 59, 61), 779210),\n",
    "    ((67, 7, None, 59, 61), 1261476),\n",
    "    ((1789, 37, 47, 1889), 1202161486),\n",
    "):\n",
    "    print('first_minute_matching_schedule({}) == {} : {}'.format(\n",
    "        test,\n",
    "        expected,\n",
    "        first_minute_matching_schedule(test) == expected\n",
    "    ))"
   ]
  },
  {
   "cell_type": "code",
   "execution_count": 59,
   "metadata": {},
   "outputs": [
    {
     "name": "stdout",
     "output_type": "stream",
     "text": [
      "Part 2: 775230782877242\n"
     ]
    }
   ],
   "source": [
    "schedule = read_schedule(data)\n",
    "p2 = first_minute_matching_schedule(schedule)\n",
    "print('Part 2: {}'.format(p2))"
   ]
  }
 ],
 "metadata": {
  "kernelspec": {
   "display_name": "Python 3",
   "language": "python",
   "name": "python3"
  },
  "language_info": {
   "codemirror_mode": {
    "name": "ipython",
    "version": 3
   },
   "file_extension": ".py",
   "mimetype": "text/x-python",
   "name": "python",
   "nbconvert_exporter": "python",
   "pygments_lexer": "ipython3",
   "version": "3.8.5"
  }
 },
 "nbformat": 4,
 "nbformat_minor": 4
}
