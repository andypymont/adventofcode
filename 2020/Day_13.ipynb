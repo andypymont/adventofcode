{
 "cells": [
  {
   "cell_type": "markdown",
   "metadata": {},
   "source": [
    "# Day 13\n",
    "https://adventofcode.com/2020/day/13"
   ]
  },
  {
   "cell_type": "code",
   "execution_count": 1,
   "metadata": {},
   "outputs": [],
   "source": [
    "import aocd\n",
    "data = aocd.get_data(year=2020, day=13)"
   ]
  },
  {
   "cell_type": "code",
   "execution_count": 2,
   "metadata": {},
   "outputs": [],
   "source": [
    "import re\n",
    "from math import prod"
   ]
  },
  {
   "cell_type": "markdown",
   "metadata": {},
   "source": [
    "##### Part 1: Find the first bus departing after the initial time"
   ]
  },
  {
   "cell_type": "code",
   "execution_count": 3,
   "metadata": {},
   "outputs": [],
   "source": [
    "re_buses = re.compile(r'(\\d+)')\n",
    "def read_input(text):\n",
    "    return [int(x) for x in re_buses.findall(text)]"
   ]
  },
  {
   "cell_type": "code",
   "execution_count": 4,
   "metadata": {},
   "outputs": [],
   "source": [
    "def find_first_departure(minute, buses):\n",
    "    while True:\n",
    "        for bus in buses:\n",
    "            if minute % bus == 0:\n",
    "                return minute, bus\n",
    "        minute += 1"
   ]
  },
  {
   "cell_type": "code",
   "execution_count": 5,
   "metadata": {},
   "outputs": [
    {
     "name": "stdout",
     "output_type": "stream",
     "text": [
      "Part 1: wait 11 minutes for bus 733: 8063\n"
     ]
    }
   ],
   "source": [
    "time, *buses = read_input(data)\n",
    "p1_time, p1_bus = find_first_departure(time, buses)\n",
    "print('Part 1: wait {} minutes for bus {}: {}'.format(p1_time-time, p1_bus, (p1_time-time)*p1_bus))"
   ]
  },
  {
   "cell_type": "markdown",
   "metadata": {},
   "source": [
    "##### Part 2: Find a set of minutes matching the desired pattern of departures"
   ]
  },
  {
   "cell_type": "code",
   "execution_count": 6,
   "metadata": {},
   "outputs": [],
   "source": [
    "re_all_buses = re.compile(r'([\\dx]+)')\n",
    "def read_schedule(text):\n",
    "    return tuple((int(bus), match-1)\n",
    "                 for match, bus in enumerate(re_all_buses.findall(text))\n",
    "                 if bus.isdigit())[1:]"
   ]
  },
  {
   "cell_type": "code",
   "execution_count": 7,
   "metadata": {},
   "outputs": [],
   "source": [
    "def first_minute_matching_schedule(schedule):\n",
    "    matching = 1\n",
    "    increment = schedule[0][0]\n",
    "    total = 0\n",
    "    while matching < len(schedule):\n",
    "        value, remainder = schedule[matching]\n",
    "        departure = (value - remainder) % value\n",
    "        while (total % value) != departure:\n",
    "            total += increment\n",
    "        increment *= value\n",
    "        matching += 1\n",
    "    return total"
   ]
  },
  {
   "cell_type": "code",
   "execution_count": 8,
   "metadata": {},
   "outputs": [
    {
     "name": "stdout",
     "output_type": "stream",
     "text": [
      "first_minute_matching_schedule(((17, 0), (13, 2), (19, 3))) == 3417 : True\n",
      "first_minute_matching_schedule(((67, 0), (7, 1), (59, 2), (61, 3))) == 754018 : True\n",
      "first_minute_matching_schedule(((67, 0), (7, 2), (59, 3), (61, 4))) == 779210 : True\n",
      "first_minute_matching_schedule(((67, 0), (7, 1), (59, 3), (61, 4))) == 1261476 : True\n",
      "first_minute_matching_schedule(((1789, 0), (37, 1), (47, 2), (1889, 3))) == 1202161486 : True\n"
     ]
    }
   ],
   "source": [
    "for test, expected in (\n",
    "    (((17, 0), (13, 2), (19, 3)), 3417),\n",
    "    (((67, 0), (7, 1), (59, 2), (61, 3)), 754018),\n",
    "    (((67, 0), (7, 2), (59, 3), (61, 4)), 779210),\n",
    "    (((67, 0), (7, 1), (59, 3), (61, 4)), 1261476),\n",
    "    (((1789, 0), (37, 1), (47, 2), (1889, 3)), 1202161486),\n",
    "):\n",
    "    print('first_minute_matching_schedule({}) == {} : {}'.format(\n",
    "        test,\n",
    "        expected,\n",
    "        first_minute_matching_schedule(test) == expected\n",
    "    ))"
   ]
  },
  {
   "cell_type": "code",
   "execution_count": 9,
   "metadata": {},
   "outputs": [
    {
     "name": "stdout",
     "output_type": "stream",
     "text": [
      "Part 2: 775230782877242\n"
     ]
    }
   ],
   "source": [
    "schedule = read_schedule(data)\n",
    "p2 = first_minute_matching_schedule(schedule)\n",
    "print('Part 2: {}'.format(p2))"
   ]
  }
 ],
 "metadata": {
  "kernelspec": {
   "display_name": "Python 3",
   "language": "python",
   "name": "python3"
  },
  "language_info": {
   "codemirror_mode": {
    "name": "ipython",
    "version": 3
   },
   "file_extension": ".py",
   "mimetype": "text/x-python",
   "name": "python",
   "nbconvert_exporter": "python",
   "pygments_lexer": "ipython3",
   "version": "3.8.5"
  }
 },
 "nbformat": 4,
 "nbformat_minor": 4
}
