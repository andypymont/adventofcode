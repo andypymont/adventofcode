{
 "cells": [
  {
   "cell_type": "markdown",
   "metadata": {},
   "source": [
    "# Day 14\n",
    "https://adventofcode.com/2020/day/14"
   ]
  },
  {
   "cell_type": "code",
   "execution_count": 1,
   "metadata": {},
   "outputs": [],
   "source": [
    "import aocd\n",
    "data = aocd.get_data(year=2020, day=14)"
   ]
  },
  {
   "cell_type": "code",
   "execution_count": 16,
   "metadata": {},
   "outputs": [],
   "source": [
    "import numpy as np\n",
    "import re"
   ]
  },
  {
   "cell_type": "markdown",
   "metadata": {},
   "source": [
    "##### Part 1: Masking the written value"
   ]
  },
  {
   "cell_type": "code",
   "execution_count": 14,
   "metadata": {},
   "outputs": [],
   "source": [
    "def written_value(value, mask):\n",
    "    return int(''.join(char if mask[ix] == 'X' else mask[ix]\n",
    "                       for ix, char in enumerate(np.binary_repr(value, 36))),\n",
    "               2)"
   ]
  },
  {
   "cell_type": "code",
   "execution_count": 56,
   "metadata": {},
   "outputs": [],
   "source": [
    "re_changemask = re.compile(r'mask = ([X10]+)')\n",
    "re_write = re.compile(r'mem\\[(\\d+)\\] = (\\d+)')\n",
    "\n",
    "def memory_total_after_program(text):\n",
    "    memory = {}\n",
    "    mask = 'XXXXXXXXXXXXXXXXXXXXXXXXXXXXXXXXXXXX'\n",
    "    for line in text.split('\\n'):\n",
    "        match = re_changemask.search(line)\n",
    "        if match:\n",
    "            mask = match.group(1)\n",
    "        \n",
    "        match = re_write.search(line)\n",
    "        if match:\n",
    "            address = int(match.group(1))\n",
    "            value = written_value(int(match.group(2)), mask)\n",
    "            memory[address] = value\n",
    "    \n",
    "    return sum(memory.values())"
   ]
  },
  {
   "cell_type": "code",
   "execution_count": 58,
   "metadata": {},
   "outputs": [
    {
     "name": "stdout",
     "output_type": "stream",
     "text": [
      "Part 1: 7440382076205\n"
     ]
    }
   ],
   "source": [
    "p1 = memory_total_after_program(data)\n",
    "print('Part 1: {}'.format(p1))"
   ]
  },
  {
   "cell_type": "markdown",
   "metadata": {},
   "source": [
    "##### Part 2: Masking the written address\n",
    "0 : memory address bit unchanged\n",
    "\n",
    "1 : memory address bit overwritten with a 1\n",
    "\n",
    "X : memory address bit is floating - write every combination"
   ]
  },
  {
   "cell_type": "code",
   "execution_count": 83,
   "metadata": {},
   "outputs": [],
   "source": [
    "def all_memory_addresses(original, mask):\n",
    "    if len(original) == 0:\n",
    "        yield ''\n",
    "        return\n",
    "    \n",
    "    for address in all_memory_addresses(original[1:], mask[1:]):\n",
    "        if mask[0] == '0':\n",
    "            yield original[0] + address\n",
    "        if mask[0] == 'X':\n",
    "            yield '0' + address\n",
    "        if mask[0] in ('X', '1'):\n",
    "            yield '1' + address   "
   ]
  },
  {
   "cell_type": "code",
   "execution_count": 89,
   "metadata": {},
   "outputs": [],
   "source": [
    "def memory_total_after_part2_program(text):\n",
    "    memory = {}\n",
    "    mask = 'XXXXXXXXXXXXXXXXXXXXXXXXXXXXXXXXXXXX'\n",
    "    for line in text.split('\\n'):\n",
    "        match = re_changemask.search(line)\n",
    "        if match:\n",
    "            mask = match.group(1)\n",
    "        \n",
    "        match = re_write.search(line)\n",
    "        if match:\n",
    "            original = np.binary_repr(int(match.group(1)), 36)\n",
    "            value = int(match.group(2))\n",
    "            for address in all_memory_addresses(original, mask):\n",
    "                memory[address] = value\n",
    "    \n",
    "    return sum(memory.values())"
   ]
  },
  {
   "cell_type": "code",
   "execution_count": 91,
   "metadata": {},
   "outputs": [
    {
     "name": "stdout",
     "output_type": "stream",
     "text": [
      "Part 2: 4200656704538\n"
     ]
    }
   ],
   "source": [
    "p2 = memory_total_after_part2_program(data)\n",
    "print('Part 2: {}'.format(p2))"
   ]
  }
 ],
 "metadata": {
  "kernelspec": {
   "display_name": "Python 3",
   "language": "python",
   "name": "python3"
  },
  "language_info": {
   "codemirror_mode": {
    "name": "ipython",
    "version": 3
   },
   "file_extension": ".py",
   "mimetype": "text/x-python",
   "name": "python",
   "nbconvert_exporter": "python",
   "pygments_lexer": "ipython3",
   "version": "3.8.5"
  }
 },
 "nbformat": 4,
 "nbformat_minor": 4
}
