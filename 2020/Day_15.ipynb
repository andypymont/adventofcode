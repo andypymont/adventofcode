{
 "cells": [
  {
   "cell_type": "markdown",
   "metadata": {},
   "source": [
    "# Day 15\n",
    "https://adventofcode.com/2020/day/15"
   ]
  },
  {
   "cell_type": "code",
   "execution_count": 1,
   "metadata": {},
   "outputs": [],
   "source": [
    "import aocd\n",
    "data = aocd.get_data(year=2020, day=15)"
   ]
  },
  {
   "cell_type": "code",
   "execution_count": 2,
   "metadata": {},
   "outputs": [],
   "source": [
    "from collections import deque"
   ]
  },
  {
   "cell_type": "code",
   "execution_count": 3,
   "metadata": {},
   "outputs": [],
   "source": [
    "class ElfMemoryGame():\n",
    "    \n",
    "    def __init__(self, starting_numbers):\n",
    "        self.appearances = {}\n",
    "        self.length = 0\n",
    "        for number in starting_numbers:\n",
    "            self.add(number)\n",
    "\n",
    "    def __len__(self):\n",
    "        return self.length\n",
    "    \n",
    "    def next_number(self, previous=None):\n",
    "        previous = previous or self.latest\n",
    "        appeared = self.appearances[previous]\n",
    "        return abs(appeared[1] - appeared[0])\n",
    "    \n",
    "    def extend(self, length):\n",
    "        while self.length < length:\n",
    "            self.add(self.next_number())\n",
    "\n",
    "    def add(self, number):\n",
    "        if number in self.appearances:\n",
    "            self.appearances[number].append(self.length)\n",
    "        else:\n",
    "            self.appearances[number] = deque([self.length, self.length], maxlen=2)\n",
    "        self.length += 1\n",
    "        self.latest = number"
   ]
  },
  {
   "cell_type": "code",
   "execution_count": 4,
   "metadata": {},
   "outputs": [
    {
     "name": "stdout",
     "output_type": "stream",
     "text": [
      "Part 1: 639\n"
     ]
    }
   ],
   "source": [
    "emg = ElfMemoryGame(map(int, data.split(',')))\n",
    "emg.extend(2020)\n",
    "p1 = emg.latest\n",
    "print('Part 1: {}'.format(p1))"
   ]
  },
  {
   "cell_type": "code",
   "execution_count": 5,
   "metadata": {},
   "outputs": [
    {
     "name": "stdout",
     "output_type": "stream",
     "text": [
      "Part 2: 266\n"
     ]
    }
   ],
   "source": [
    "emg.extend(30_000_000)\n",
    "p2 = emg.latest\n",
    "print('Part 2: {}'.format(p2))"
   ]
  }
 ],
 "metadata": {
  "kernelspec": {
   "display_name": "Python 3",
   "language": "python",
   "name": "python3"
  },
  "language_info": {
   "codemirror_mode": {
    "name": "ipython",
    "version": 3
   },
   "file_extension": ".py",
   "mimetype": "text/x-python",
   "name": "python",
   "nbconvert_exporter": "python",
   "pygments_lexer": "ipython3",
   "version": "3.8.5"
  }
 },
 "nbformat": 4,
 "nbformat_minor": 4
}
