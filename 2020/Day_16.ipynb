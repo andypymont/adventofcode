{
 "cells": [
  {
   "cell_type": "markdown",
   "metadata": {},
   "source": [
    "# Day 16\n",
    "https://adventofcode.com/2020/day/16"
   ]
  },
  {
   "cell_type": "code",
   "execution_count": 1,
   "metadata": {},
   "outputs": [],
   "source": [
    "import aocd\n",
    "data = aocd.get_data(year=2020, day=16)"
   ]
  },
  {
   "cell_type": "code",
   "execution_count": 2,
   "metadata": {},
   "outputs": [],
   "source": [
    "from dataclasses import dataclass\n",
    "from math import prod\n",
    "import re\n",
    "from typing import Tuple"
   ]
  },
  {
   "cell_type": "code",
   "execution_count": 3,
   "metadata": {},
   "outputs": [],
   "source": [
    "@dataclass(frozen=True)\n",
    "class Rule():\n",
    "    field: str\n",
    "    ranges: Tuple[Tuple[int]]\n",
    "    \n",
    "    @classmethod\n",
    "    def from_input(cls, field, ranges):\n",
    "        ranges = tuple(tuple(map(int, rg)) for rg in ranges)\n",
    "        return cls(field, ranges)\n",
    "    \n",
    "    def valid_value(self, value):\n",
    "        return any(lower <= value <= upper for lower, upper in self.ranges)"
   ]
  },
  {
   "cell_type": "code",
   "execution_count": 4,
   "metadata": {},
   "outputs": [],
   "source": [
    "re_rule = re.compile(r'(.+): (.+)')\n",
    "re_ranges = re.compile(r'(\\d+)-(\\d+)')\n",
    "def read_rules(text):\n",
    "    return tuple(Rule.from_input(field, re_ranges.findall(ranges)) for field, ranges in re_rule.findall(text))"
   ]
  },
  {
   "cell_type": "code",
   "execution_count": 5,
   "metadata": {},
   "outputs": [],
   "source": [
    "re_ticket = re.compile(r'(\\d+)')\n",
    "def read_my_ticket(text):\n",
    "    return tuple(map(int, re_ticket.findall(text)))"
   ]
  },
  {
   "cell_type": "code",
   "execution_count": 6,
   "metadata": {},
   "outputs": [],
   "source": [
    "def read_nearby_tickets(text):\n",
    "    return tuple(tuple(map(int, line.split(','))) for line in text.split('\\n')[1:])"
   ]
  },
  {
   "cell_type": "code",
   "execution_count": 7,
   "metadata": {},
   "outputs": [],
   "source": [
    "def filter_tickets(tickets, rules):\n",
    "    invalid_tickets = set()\n",
    "    error_rate = 0\n",
    "    \n",
    "    for ix, ticket in enumerate(tickets):\n",
    "        invalid_values = sum(value for value in ticket if not any(rule.valid_value(value) for rule in rules))\n",
    "        if invalid_values > 0:\n",
    "            invalid_tickets.add(ix)\n",
    "            error_rate += invalid_values\n",
    "    \n",
    "    return error_rate, tuple(ticket for ix, ticket in enumerate(tickets) if ix not in invalid_tickets)"
   ]
  },
  {
   "cell_type": "code",
   "execution_count": 8,
   "metadata": {},
   "outputs": [],
   "source": [
    "def possible_fields(tickets, column, rules):\n",
    "    values = [ticket[column] for ticket in tickets]\n",
    "    return tuple(rule.field for rule in rules\n",
    "                 if all(rule.valid_value(value) for value in values))"
   ]
  },
  {
   "cell_type": "code",
   "execution_count": 9,
   "metadata": {},
   "outputs": [],
   "source": [
    "def identify_fields(tickets, rules):\n",
    "    columns = [possible_fields(tickets, column, rules) for column in range(len(tickets[0]))]\n",
    "    while max(len(possible) for possible in columns) > 1:\n",
    "        for ix, possible in enumerate(columns):\n",
    "            if len(possible) == 1:\n",
    "                columns = [tuple(f for f in fields if f != possible[0]) if len(fields) > 1 else fields\n",
    "                           for fields in columns]\n",
    "    return tuple(column[0] for column in columns)"
   ]
  },
  {
   "cell_type": "code",
   "execution_count": 10,
   "metadata": {},
   "outputs": [],
   "source": [
    "def departure_product(ticket, columns):\n",
    "    return prod(value for value, column in zip(ticket, columns) if column[:9] == 'departure')"
   ]
  },
  {
   "cell_type": "code",
   "execution_count": 11,
   "metadata": {},
   "outputs": [
    {
     "name": "stdout",
     "output_type": "stream",
     "text": [
      "Part 1: 32842\n",
      "Part 2: 2628667251989\n"
     ]
    }
   ],
   "source": [
    "sections = data.split('\\n\\n')\n",
    "rules = read_rules(sections[0])\n",
    "my_ticket = read_my_ticket(sections[1])\n",
    "nearby_tickets = read_nearby_tickets(sections[2])\n",
    "\n",
    "p1, tickets = filter_tickets(nearby_tickets, rules)\n",
    "print('Part 1: {}'.format(p1))\n",
    "\n",
    "fields = identify_fields(tickets, rules)\n",
    "p2 = departure_product(my_ticket, fields)\n",
    "print('Part 2: {}'.format(p2))"
   ]
  }
 ],
 "metadata": {
  "kernelspec": {
   "display_name": "Python 3",
   "language": "python",
   "name": "python3"
  },
  "language_info": {
   "codemirror_mode": {
    "name": "ipython",
    "version": 3
   },
   "file_extension": ".py",
   "mimetype": "text/x-python",
   "name": "python",
   "nbconvert_exporter": "python",
   "pygments_lexer": "ipython3",
   "version": "3.8.5"
  }
 },
 "nbformat": 4,
 "nbformat_minor": 4
}
