{
 "cells": [
  {
   "cell_type": "markdown",
   "metadata": {},
   "source": [
    "# Day 17\n",
    "https://adventofcode.com/2020/day/17"
   ]
  },
  {
   "cell_type": "code",
   "execution_count": 1,
   "metadata": {},
   "outputs": [],
   "source": [
    "import aocd\n",
    "data = aocd.get_data(year=2020, day=17)"
   ]
  },
  {
   "cell_type": "code",
   "execution_count": 2,
   "metadata": {},
   "outputs": [],
   "source": [
    "from dataclasses import dataclass\n",
    "from functools import reduce\n",
    "from operator import __or__ as union"
   ]
  },
  {
   "cell_type": "code",
   "execution_count": 3,
   "metadata": {},
   "outputs": [],
   "source": [
    "@dataclass(frozen=True, order=True)\n",
    "class Cube():\n",
    "    z: int\n",
    "    y: int\n",
    "    x: int\n",
    "    \n",
    "    @property\n",
    "    def adjacent(self):\n",
    "        return set(\n",
    "            Cube(self.z+dz, self.y+dy, self.x+dx)\n",
    "            for dz in range(-1, 2) for dy in range(-1, 2) for dx in range(-1, 2) if not dz == dy == dx == 0\n",
    "        )\n",
    "    \n",
    "    def active(self, previous_state):\n",
    "        active_neighbours = sum(1 for neighbour in self.adjacent if neighbour in previous_state)\n",
    "        if self in previous_state:\n",
    "            return active_neighbours in (2, 3)\n",
    "        return active_neighbours == 3"
   ]
  },
  {
   "cell_type": "code",
   "execution_count": 4,
   "metadata": {},
   "outputs": [],
   "source": [
    "@dataclass(frozen=True, order=True)\n",
    "class Tesseract():\n",
    "    w: int\n",
    "    z: int\n",
    "    y: int\n",
    "    x: int\n",
    "    \n",
    "    @property\n",
    "    def adjacent(self):\n",
    "        return set(\n",
    "            Tesseract(self.w+dw, self.z+dz, self.y+dy, self.x+dx)\n",
    "            for dw in range(-1, 2) for dz in range(-1, 2) for dy in range(-1, 2) for dx in range(-1, 2)\n",
    "            if not dw == dz == dy == dx == 0\n",
    "        )\n",
    "    \n",
    "    def active(self, previous_state):\n",
    "        active_neighbours = sum(1 for neighbour in self.adjacent if neighbour in previous_state)\n",
    "        if self in previous_state:\n",
    "            return active_neighbours in (2, 3)\n",
    "        return active_neighbours == 3"
   ]
  },
  {
   "cell_type": "code",
   "execution_count": 5,
   "metadata": {},
   "outputs": [],
   "source": [
    "def read_state(text, dimensions=3):\n",
    "    def make_element(y, x):\n",
    "        if dimensions == 4:\n",
    "            return Tesseract(0, 0, y, x)\n",
    "        return Cube(0, y, x)\n",
    "    return set(make_element(y, x)\n",
    "               for y, line in enumerate(text.split('\\n')) for x, char in enumerate(line)\n",
    "               if char == '#')"
   ]
  },
  {
   "cell_type": "code",
   "execution_count": 6,
   "metadata": {},
   "outputs": [],
   "source": [
    "def relevant_cubes(state):\n",
    "    return set(reduce(union, (cube.adjacent for cube in state)))"
   ]
  },
  {
   "cell_type": "code",
   "execution_count": 7,
   "metadata": {},
   "outputs": [],
   "source": [
    "def cycle(state):\n",
    "    return set(filter(lambda c: c.active(state), relevant_cubes(state)))"
   ]
  },
  {
   "cell_type": "code",
   "execution_count": 8,
   "metadata": {},
   "outputs": [],
   "source": [
    "def cycles(state, quantity=1):\n",
    "    for _ in range(quantity):\n",
    "        state = cycle(state)\n",
    "    return state"
   ]
  },
  {
   "cell_type": "code",
   "execution_count": 9,
   "metadata": {},
   "outputs": [
    {
     "name": "stdout",
     "output_type": "stream",
     "text": [
      "Part 1: 317\n",
      "Part 2: 1692\n"
     ]
    }
   ],
   "source": [
    "initial = read_state(data)\n",
    "p1 = len(cycles(initial, 6))\n",
    "print('Part 1: {}'.format(p1))\n",
    "initial4d = read_state(data, dimensions=4)\n",
    "p2 = len(cycles(initial4d, 6))\n",
    "print('Part 2: {}'.format(p2))"
   ]
  }
 ],
 "metadata": {
  "kernelspec": {
   "display_name": "Python 3",
   "language": "python",
   "name": "python3"
  },
  "language_info": {
   "codemirror_mode": {
    "name": "ipython",
    "version": 3
   },
   "file_extension": ".py",
   "mimetype": "text/x-python",
   "name": "python",
   "nbconvert_exporter": "python",
   "pygments_lexer": "ipython3",
   "version": "3.8.5"
  }
 },
 "nbformat": 4,
 "nbformat_minor": 4
}
