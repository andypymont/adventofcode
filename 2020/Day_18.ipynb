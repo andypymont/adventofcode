{
 "cells": [
  {
   "cell_type": "markdown",
   "metadata": {},
   "source": [
    "# Day 18\n",
    "https://adventofcode.com/2020/day/18"
   ]
  },
  {
   "cell_type": "code",
   "execution_count": 1,
   "metadata": {},
   "outputs": [],
   "source": [
    "import aocd\n",
    "data = aocd.get_data(year=2020, day=18)"
   ]
  },
  {
   "cell_type": "code",
   "execution_count": 2,
   "metadata": {},
   "outputs": [],
   "source": [
    "from math import prod\n",
    "from operator import __add__, __mul__\n",
    "import re"
   ]
  },
  {
   "cell_type": "code",
   "execution_count": 3,
   "metadata": {},
   "outputs": [],
   "source": [
    "re_brackets = re.compile(r'\\(([\\d\\s\\*\\+]+)\\)')"
   ]
  },
  {
   "cell_type": "code",
   "execution_count": 4,
   "metadata": {},
   "outputs": [],
   "source": [
    "def new_math(expression):\n",
    "    match = True\n",
    "    while match:\n",
    "        match = re_brackets.search(expression)\n",
    "        if match:\n",
    "            start, end = match.span()\n",
    "            expression = expression[:start] + str(new_math(expression[start+1:end-1])) + expression[end:]\n",
    "    \n",
    "    value = 0\n",
    "    operator = __add__\n",
    "    \n",
    "    for item in expression.split(' '):\n",
    "        if item == '+':\n",
    "            operator = __add__\n",
    "        elif item == '*':\n",
    "            operator = __mul__\n",
    "        else:\n",
    "            value = operator(value, int(item))\n",
    "    return value"
   ]
  },
  {
   "cell_type": "code",
   "execution_count": 5,
   "metadata": {},
   "outputs": [],
   "source": [
    "def new_new_math(expression):\n",
    "    match = True\n",
    "    while match:\n",
    "        match = re_brackets.search(expression)\n",
    "        if match:\n",
    "            start, end = match.span()\n",
    "            expression = expression[:start] + str(new_new_math(expression[start+1:end-1])) + expression[end:]\n",
    "    \n",
    "    if '*' in expression:\n",
    "        return prod(new_new_math(subexpression) for subexpression in expression.split(' * '))\n",
    "    \n",
    "    if '+' in expression:\n",
    "        return sum(new_new_math(subexpression) for subexpression in expression.split(' + '))\n",
    "    \n",
    "    return int(expression)"
   ]
  },
  {
   "cell_type": "code",
   "execution_count": 6,
   "metadata": {},
   "outputs": [
    {
     "name": "stdout",
     "output_type": "stream",
     "text": [
      "Part 1: 5374004645253\n",
      "Part 2: 88782789402798\n"
     ]
    }
   ],
   "source": [
    "lines = data.split('\\n')\n",
    "p1 = sum(new_math(line) for line in lines)\n",
    "print('Part 1: {}'.format(p1))\n",
    "p2 = sum(new_new_math(line) for line in lines)\n",
    "print('Part 2: {}'.format(p2))"
   ]
  }
 ],
 "metadata": {
  "kernelspec": {
   "display_name": "Python 3",
   "language": "python",
   "name": "python3"
  },
  "language_info": {
   "codemirror_mode": {
    "name": "ipython",
    "version": 3
   },
   "file_extension": ".py",
   "mimetype": "text/x-python",
   "name": "python",
   "nbconvert_exporter": "python",
   "pygments_lexer": "ipython3",
   "version": "3.8.5"
  }
 },
 "nbformat": 4,
 "nbformat_minor": 4
}
