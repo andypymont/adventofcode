{
 "cells": [
  {
   "cell_type": "markdown",
   "metadata": {},
   "source": [
    "# Day 19\n",
    "https://adventofcode.com/2020/day/19"
   ]
  },
  {
   "cell_type": "code",
   "execution_count": 1,
   "metadata": {},
   "outputs": [],
   "source": [
    "import aocd\n",
    "data = aocd.get_data(year=2020, day=19)"
   ]
  },
  {
   "cell_type": "code",
   "execution_count": 2,
   "metadata": {},
   "outputs": [],
   "source": [
    "import regex"
   ]
  },
  {
   "cell_type": "markdown",
   "metadata": {},
   "source": [
    "##### Part 1: Build regular expression from the provided numbered rules"
   ]
  },
  {
   "cell_type": "code",
   "execution_count": 3,
   "metadata": {},
   "outputs": [],
   "source": [
    "def read_rules(text):\n",
    "    return dict(line.split(': ') for line in text.split('\\n'))"
   ]
  },
  {
   "cell_type": "code",
   "execution_count": 4,
   "metadata": {},
   "outputs": [],
   "source": [
    "def read_messages(text):\n",
    "    return text.split('\\n')"
   ]
  },
  {
   "cell_type": "code",
   "execution_count": 5,
   "metadata": {},
   "outputs": [],
   "source": [
    "def regex_rule(rule, rules):\n",
    "    if '\"' in rule:\n",
    "        return rule[1]\n",
    "    parts = rule.split('|')\n",
    "    if len(parts) > 1:\n",
    "        return '(?:' + '|'.join(regex_rule(part, rules) for part in parts) + ')'\n",
    "    parts = parts[0].split(' ')\n",
    "    return ''.join(regex_rule(rules[part], rules) for part in parts if part)"
   ]
  },
  {
   "cell_type": "code",
   "execution_count": 6,
   "metadata": {},
   "outputs": [
    {
     "name": "stdout",
     "output_type": "stream",
     "text": [
      "ababbb True\n",
      "bababa False\n",
      "abbbab True\n",
      "aaabbb False\n",
      "aaaabbb False\n"
     ]
    }
   ],
   "source": [
    "testdata = \"\"\"0: 4 1 5\n",
    "1: 2 3 | 3 2\n",
    "2: 4 4 | 5 5\n",
    "3: 4 5 | 5 4\n",
    "4: \"a\"\n",
    "5: \"b\"\n",
    "\n",
    "ababbb\n",
    "bababa\n",
    "abbbab\n",
    "aaabbb\n",
    "aaaabbb\"\"\"\n",
    "rules = read_rules(testdata.split('\\n\\n')[0])\n",
    "messages = read_messages(testdata.split('\\n\\n')[1])\n",
    "rule = regex_rule(rules['0'], rules)\n",
    "for message in messages:\n",
    "    print(message, bool(regex.fullmatch(rule, message)))"
   ]
  },
  {
   "cell_type": "code",
   "execution_count": 7,
   "metadata": {},
   "outputs": [
    {
     "name": "stdout",
     "output_type": "stream",
     "text": [
      "Part 1: 184\n"
     ]
    }
   ],
   "source": [
    "rulesdata, messagesdata = data.split('\\n\\n')\n",
    "rules = read_rules(rulesdata)\n",
    "messages = read_messages(messagesdata)\n",
    "rule = regex_rule(rules['0'], rules)\n",
    "p1 = sum(1 for message in messages if regex.fullmatch(rule, message))\n",
    "print('Part 1: {}'.format(p1))"
   ]
  },
  {
   "cell_type": "markdown",
   "metadata": {},
   "source": [
    "##### Part 2: Updated rules including some recursion"
   ]
  },
  {
   "cell_type": "code",
   "execution_count": 8,
   "metadata": {},
   "outputs": [],
   "source": [
    "rules2 = dict(**rules)\n",
    "rules2.update(**{'8': '42 | 42 8', '11': '42 31 | 42 11 31'})"
   ]
  },
  {
   "cell_type": "markdown",
   "metadata": {},
   "source": [
    "Let's find which rules use rules 8 and 11."
   ]
  },
  {
   "cell_type": "code",
   "execution_count": 9,
   "metadata": {},
   "outputs": [
    {
     "data": {
      "text/plain": [
       "[('0', '8 11'), ('8', '42 | 42 8'), ('11', '42 31 | 42 11 31')]"
      ]
     },
     "execution_count": 9,
     "metadata": {},
     "output_type": "execute_result"
    }
   ],
   "source": [
    "[(number, content) for number, content in rules2.items()\n",
    " if '8' in content.split(' ') or '11' in content.split(' ')]"
   ]
  },
  {
   "cell_type": "markdown",
   "metadata": {},
   "source": [
    "So these rules appear only in themselves and in rule 0, which simplifies things somewhat.\n",
    "\n",
    "- Rule 8 is saying: rule 42 any number of times.\n",
    "- Rule 11 is saying: any number of 42s followed by the same number of 31s.\n",
    "\n",
    "So I need to rewrite these, and then run rule 0."
   ]
  },
  {
   "cell_type": "code",
   "execution_count": 10,
   "metadata": {},
   "outputs": [
    {
     "name": "stdout",
     "output_type": "stream",
     "text": [
      "Part 2: 389\n"
     ]
    }
   ],
   "source": [
    "fortytwo = regex_rule(rules2['42'], rules2)\n",
    "thirtyone = regex_rule(rules2['31'], rules2)\n",
    "eight = '(?:42)+'.replace('42', fortytwo)\n",
    "eleven = '((?:4231)|(?:42(?1)31))'.replace('42', fortytwo).replace('31', thirtyone)\n",
    "zero = eight + eleven\n",
    "p2 = sum(1 for message in messages if regex.fullmatch(zero, message))\n",
    "print('Part 2: {}'.format(p2))"
   ]
  }
 ],
 "metadata": {
  "kernelspec": {
   "display_name": "Python 3",
   "language": "python",
   "name": "python3"
  },
  "language_info": {
   "codemirror_mode": {
    "name": "ipython",
    "version": 3
   },
   "file_extension": ".py",
   "mimetype": "text/x-python",
   "name": "python",
   "nbconvert_exporter": "python",
   "pygments_lexer": "ipython3",
   "version": "3.8.5"
  }
 },
 "nbformat": 4,
 "nbformat_minor": 4
}
