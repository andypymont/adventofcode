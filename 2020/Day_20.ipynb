{
 "cells": [
  {
   "cell_type": "markdown",
   "metadata": {},
   "source": [
    "# Day 20\n",
    "https://adventofcode.com/2020/day/20"
   ]
  },
  {
   "cell_type": "code",
   "execution_count": 1,
   "metadata": {},
   "outputs": [],
   "source": [
    "import aocd\n",
    "data = aocd.get_data(year=2020, day=20)"
   ]
  },
  {
   "cell_type": "code",
   "execution_count": 2,
   "metadata": {},
   "outputs": [],
   "source": [
    "from collections import Counter, deque\n",
    "from math import sqrt\n",
    "from itertools import combinations\n",
    "import numpy as np\n",
    "import regex as re"
   ]
  },
  {
   "cell_type": "markdown",
   "metadata": {},
   "source": [
    "##### Part 1: Find the corners"
   ]
  },
  {
   "cell_type": "code",
   "execution_count": 3,
   "metadata": {},
   "outputs": [],
   "source": [
    "re_title = re.compile(r'Tile (\\d+)')\n",
    "re_row = re.compile(r'([#\\.]+)')\n",
    "def read_tiles(text):\n",
    "    tiles = {}\n",
    "    for tiletext in text.split('\\n\\n'):\n",
    "        titlematch = re_title.search(tiletext)\n",
    "        rowmatches = re_row.findall(tiletext)\n",
    "        if titlematch and rowmatches:\n",
    "            number = int(titlematch.group(1))\n",
    "            tile = np.array([[1 if char == '#' else 0 for char in row] for row in rowmatches])\n",
    "            tiles[number] = tile\n",
    "    return tiles"
   ]
  },
  {
   "cell_type": "code",
   "execution_count": 4,
   "metadata": {},
   "outputs": [],
   "source": [
    "def edge_matches(edge, other_tile):\n",
    "    for other_edge in (other_tile[0], other_tile[:, -1], other_tile[:, 0], other_tile[-1]):\n",
    "        if (edge == other_edge).all():\n",
    "            return True\n",
    "        if (np.flip(edge) == other_edge).all():\n",
    "            return True\n",
    "    return False"
   ]
  },
  {
   "cell_type": "code",
   "execution_count": 5,
   "metadata": {},
   "outputs": [],
   "source": [
    "def edges_match(first, second):\n",
    "    return any(edge_matches(edge, second) for edge in (first[0], first[:, -1], first[:, 0], first[-1]))"
   ]
  },
  {
   "cell_type": "code",
   "execution_count": 6,
   "metadata": {},
   "outputs": [],
   "source": [
    "def all_matching_edges(tiles):\n",
    "    return {(first, second) for first, second in combinations(tiles.keys(), 2)\n",
    "            if edges_match(tiles[first], tiles[second])}"
   ]
  },
  {
   "cell_type": "code",
   "execution_count": 7,
   "metadata": {},
   "outputs": [],
   "source": [
    "def find_correct_layout(tiles, matching_edges):\n",
    "    grid_size = int(sqrt(len(tiles)))\n",
    "    tile_neighbours = Counter([first for first, second in matching_edges]\n",
    "                              + [second for first, second in matching_edges])\n",
    "    first_corner = next(tile for tile, qty in tile_neighbours.items() if qty == 2)\n",
    "    \n",
    "    search = deque()\n",
    "    search.append([first_corner])\n",
    "    \n",
    "    while search:\n",
    "        placed = search.pop()\n",
    "        position = len(placed)\n",
    "        \n",
    "        if position == len(tiles):\n",
    "            return placed\n",
    "        \n",
    "        above = position - grid_size if position >= grid_size else None\n",
    "        left = position - 1 if position % grid_size > 0 else None\n",
    "        right = position + 1 if position % grid_size < (grid_size - 1) else None\n",
    "        below = position + grid_size if position + grid_size < len(tiles) else None\n",
    "        neighbours = sum(1 for adj in (above, left, right, below) if adj is not None)\n",
    "        \n",
    "        not_yet_placed = {tile for tile in tiles.keys()\n",
    "                          if tile not in placed and tile_neighbours[tile] == neighbours}\n",
    "        \n",
    "        for tile in not_yet_placed:\n",
    "            placeable = True\n",
    "            if above and not ((tile, placed[above]) in matching_edges or (placed[above], tile) in matching_edges):\n",
    "                placeable = False\n",
    "            if left and not ((tile, placed[left]) in matching_edges or (placed[left], tile) in matching_edges):\n",
    "                placeable = False\n",
    "            if placeable:\n",
    "                search.append(placed + [tile])"
   ]
  },
  {
   "cell_type": "code",
   "execution_count": 8,
   "metadata": {},
   "outputs": [
    {
     "name": "stdout",
     "output_type": "stream",
     "text": [
      "Part 1: 15003787688423\n"
     ]
    }
   ],
   "source": [
    "tiles = read_tiles(data)\n",
    "matching_edges = all_matching_edges(tiles)\n",
    "layout = find_correct_layout(tiles, matching_edges)\n",
    "p1 = layout[0] * layout[11] * layout[132] * layout[143]\n",
    "print('Part 1: {}'.format(p1))"
   ]
  },
  {
   "cell_type": "markdown",
   "metadata": {},
   "source": [
    "##### Part 2: Make the image and find the sea monsters"
   ]
  },
  {
   "cell_type": "code",
   "execution_count": 9,
   "metadata": {},
   "outputs": [],
   "source": [
    "def tile_fits(tile, above, below, left, right):\n",
    "    return all((\n",
    "        above is None or edge_matches(tile[0], above),\n",
    "        below is None or edge_matches(tile[-1], below),\n",
    "        left is None or edge_matches(tile[:,0], left),\n",
    "        right is None or edge_matches(tile[:,-1], right)\n",
    "    ))"
   ]
  },
  {
   "cell_type": "code",
   "execution_count": 10,
   "metadata": {},
   "outputs": [],
   "source": [
    "def transformed_to_fit(tile, above, below, left, right):\n",
    "    for rotations in range(4):\n",
    "        for hflip in (False, True):\n",
    "            for vflip in (False, True):\n",
    "                transformed = np.rot90(tile, rotations)\n",
    "                if hflip:\n",
    "                    transformed = np.fliplr(transformed)\n",
    "                if vflip:\n",
    "                    transformed = np.flipud(transformed)\n",
    "                if tile_fits(transformed, above, below, left, right):\n",
    "                    return transformed"
   ]
  },
  {
   "cell_type": "code",
   "execution_count": 11,
   "metadata": {},
   "outputs": [],
   "source": [
    "def make_image(tiles, matching_edges, layout):\n",
    "    grid_size = int(sqrt(len(layout)))\n",
    "    parts = [tiles[tile] for tile in layout]\n",
    "    \n",
    "    # orient tiles to match their required neighbours in the layout\n",
    "    for y in range(grid_size):\n",
    "        for x in range(grid_size):\n",
    "            current = (y * grid_size) + x\n",
    "            above = parts[current - grid_size] if current >= grid_size else None\n",
    "            below = parts[current + grid_size] if current + grid_size < len(layout) else None\n",
    "            left = parts[current - 1] if current % grid_size > 0 else None\n",
    "            right = parts[current + 1] if (current + 1) % grid_size != 0 else None\n",
    "            parts[current] = transformed_to_fit(parts[current], above, below, left, right)\n",
    "    \n",
    "    # trim the outer elements from each tile\n",
    "    parts = [tile[1:-1,1:-1] for tile in parts]\n",
    "    \n",
    "    # combine arrays into a single large array\n",
    "    return np.concatenate([np.concatenate(parts[y*grid_size:(y+1)*grid_size], axis=1) for y in range(grid_size)])"
   ]
  },
  {
   "cell_type": "code",
   "execution_count": 12,
   "metadata": {},
   "outputs": [],
   "source": [
    "sea_monster = np.array([\n",
    "    [0, 0, 0, 0, 0, 0, 0, 0, 0, 0, 0, 0, 0, 0, 0, 0, 0, 0, 1, 0],\n",
    "    [1, 0, 0, 0, 0, 1, 1, 0, 0, 0, 0, 1, 1, 0, 0, 0, 0, 1, 1, 1],\n",
    "    [0, 1, 0, 0, 1, 0, 0, 1, 0, 0, 1, 0, 0, 1, 0, 0, 1, 0, 0, 0]\n",
    "])\n",
    "def count_sea_monsters(image):\n",
    "    monsters = 0\n",
    "    rows, cols = image.shape\n",
    "    monsterheight, monsterwidth = sea_monster.shape\n",
    "    \n",
    "    for rotations in range(3):\n",
    "        for fliph in (False, True):\n",
    "            for flipv in (False, True):\n",
    "                adjusted_image = np.rot90(image, rotations)\n",
    "                if fliph:\n",
    "                    adjusted_image = np.fliplr(adjusted_image)\n",
    "                if flipv:\n",
    "                    adjusted_image = np.flipud(adjusted_image)\n",
    "\n",
    "                for y in range(rows-monsterheight):\n",
    "                    for x in range(cols-monsterwidth):\n",
    "                        window = adjusted_image[y:y+monsterheight,x:x+monsterwidth]\n",
    "                        if np.greater_equal(window, sea_monster).all():\n",
    "                            monsters += 1\n",
    "    \n",
    "    return monsters"
   ]
  },
  {
   "cell_type": "code",
   "execution_count": 13,
   "metadata": {},
   "outputs": [],
   "source": [
    "def sea_roughness(image):\n",
    "    monsters = count_sea_monsters(image)\n",
    "    return image.sum() - (sea_monster.sum() * monsters)"
   ]
  },
  {
   "cell_type": "code",
   "execution_count": 14,
   "metadata": {},
   "outputs": [
    {
     "name": "stdout",
     "output_type": "stream",
     "text": [
      "Part 2: 1705\n"
     ]
    }
   ],
   "source": [
    "image = make_image(tiles, matching_edges, layout)\n",
    "p2 = sea_roughness(image)\n",
    "print('Part 2: {}'.format(p2))"
   ]
  }
 ],
 "metadata": {
  "kernelspec": {
   "display_name": "Python 3",
   "language": "python",
   "name": "python3"
  },
  "language_info": {
   "codemirror_mode": {
    "name": "ipython",
    "version": 3
   },
   "file_extension": ".py",
   "mimetype": "text/x-python",
   "name": "python",
   "nbconvert_exporter": "python",
   "pygments_lexer": "ipython3",
   "version": "3.8.5"
  }
 },
 "nbformat": 4,
 "nbformat_minor": 4
}
