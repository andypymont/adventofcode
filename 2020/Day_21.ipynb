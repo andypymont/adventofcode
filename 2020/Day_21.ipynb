{
 "cells": [
  {
   "cell_type": "markdown",
   "metadata": {},
   "source": [
    "# Day 21\n",
    "https://adventofcode.com/2020/day/21"
   ]
  },
  {
   "cell_type": "code",
   "execution_count": 1,
   "metadata": {},
   "outputs": [],
   "source": [
    "import aocd\n",
    "data = aocd.get_data(year=2020, day=21)"
   ]
  },
  {
   "cell_type": "code",
   "execution_count": 2,
   "metadata": {},
   "outputs": [],
   "source": [
    "from functools import reduce\n",
    "from itertools import chain\n",
    "from operator import __and__ as intersection\n",
    "import regex as re"
   ]
  },
  {
   "cell_type": "markdown",
   "metadata": {},
   "source": [
    "##### Part 1: Find non-allergen ingredient occurrences"
   ]
  },
  {
   "cell_type": "code",
   "execution_count": 3,
   "metadata": {},
   "outputs": [],
   "source": [
    "re_recipe = re.compile(r'([\\w ]+) \\(contains ([\\w, ]+)\\)')"
   ]
  },
  {
   "cell_type": "code",
   "execution_count": 4,
   "metadata": {},
   "outputs": [],
   "source": [
    "def read_recipes(text):\n",
    "    return tuple((set(ingredients.split()), set(allergens.replace(',', '').split()))\n",
    "                 for ingredients, allergens in re_recipe.findall(text))"
   ]
  },
  {
   "cell_type": "code",
   "execution_count": 5,
   "metadata": {},
   "outputs": [],
   "source": [
    "def all_allergens(recipes):\n",
    "    return set(chain(*[allergens for ingredients, allergens in recipes]))"
   ]
  },
  {
   "cell_type": "code",
   "execution_count": 6,
   "metadata": {},
   "outputs": [],
   "source": [
    "def all_ingredients(recipes):\n",
    "    return set(chain(*[ingredients for ingredients, allergens in recipes]))"
   ]
  },
  {
   "cell_type": "code",
   "execution_count": 7,
   "metadata": {},
   "outputs": [],
   "source": [
    "def potential_allergen_ingredients(recipes, allergen):\n",
    "    return reduce(intersection, [ingredients for ingredients, allergens in recipes if allergen in allergens])"
   ]
  },
  {
   "cell_type": "code",
   "execution_count": 8,
   "metadata": {},
   "outputs": [],
   "source": [
    "def find_non_allergen_ingredients(recipes):\n",
    "    return all_ingredients(recipes) - set(chain(*[potential_allergen_ingredients(recipes, allergen)\n",
    "                                                  for allergen in all_allergens(recipes)]))"
   ]
  },
  {
   "cell_type": "code",
   "execution_count": 9,
   "metadata": {},
   "outputs": [],
   "source": [
    "def count_ingredient_occurrences(recipes, ingredient):\n",
    "    return sum(1 for ingredients, allergens in recipes if ingredient in ingredients)"
   ]
  },
  {
   "cell_type": "code",
   "execution_count": 10,
   "metadata": {},
   "outputs": [],
   "source": [
    "def total_non_allergen_ingredient_occurrences(recipes):\n",
    "    return sum(count_ingredient_occurrences(recipes, ingredient)\n",
    "               for ingredient in find_non_allergen_ingredients(recipes))"
   ]
  },
  {
   "cell_type": "code",
   "execution_count": 11,
   "metadata": {},
   "outputs": [
    {
     "name": "stdout",
     "output_type": "stream",
     "text": [
      "Part 1: 2315\n"
     ]
    }
   ],
   "source": [
    "recipes = read_recipes(data)\n",
    "p1 = total_non_allergen_ingredient_occurrences(recipes)\n",
    "print('Part 1: {}'.format(p1))"
   ]
  },
  {
   "cell_type": "markdown",
   "metadata": {},
   "source": [
    "##### Part 2: Find allergens and create the dangerous ingredient list"
   ]
  },
  {
   "cell_type": "code",
   "execution_count": 12,
   "metadata": {},
   "outputs": [],
   "source": [
    "def find_allergen_ingredients(recipes):\n",
    "    allergen_ingredients = dict((allergen, potential_allergen_ingredients(recipes, allergen))\n",
    "                                for allergen in all_allergens(recipes))\n",
    "    while max(len(ingredients) for ingredients in allergen_ingredients.values()) > 1:\n",
    "        identified = set(chain(*[ingredients for ingredients in allergen_ingredients.values()\n",
    "                                 if len(ingredients) == 1]))\n",
    "        for allergen, ingredients in allergen_ingredients.items():\n",
    "            if len(ingredients) > 1:\n",
    "                allergen_ingredients[allergen] = ingredients - identified\n",
    "    \n",
    "    return dict((allergen, tuple(ingredients)[0]) for allergen, ingredients in allergen_ingredients.items())"
   ]
  },
  {
   "cell_type": "code",
   "execution_count": 13,
   "metadata": {},
   "outputs": [],
   "source": [
    "def dangerous_ingredient_list(recipes):\n",
    "    dangerous_ingredients = find_allergen_ingredients(recipes)\n",
    "    return ','.join(dangerous_ingredients[allergen] for allergen in sorted(dangerous_ingredients.keys()))"
   ]
  },
  {
   "cell_type": "code",
   "execution_count": 14,
   "metadata": {},
   "outputs": [
    {
     "name": "stdout",
     "output_type": "stream",
     "text": [
      "Part 2: cfzdnz,htxsjf,ttbrlvd,bbbl,lmds,cbmjz,cmbcm,dvnbh\n"
     ]
    }
   ],
   "source": [
    "p2 = dangerous_ingredient_list(recipes)\n",
    "print('Part 2: {}'.format(p2))"
   ]
  }
 ],
 "metadata": {
  "kernelspec": {
   "display_name": "Python 3",
   "language": "python",
   "name": "python3"
  },
  "language_info": {
   "codemirror_mode": {
    "name": "ipython",
    "version": 3
   },
   "file_extension": ".py",
   "mimetype": "text/x-python",
   "name": "python",
   "nbconvert_exporter": "python",
   "pygments_lexer": "ipython3",
   "version": "3.8.5"
  }
 },
 "nbformat": 4,
 "nbformat_minor": 4
}
