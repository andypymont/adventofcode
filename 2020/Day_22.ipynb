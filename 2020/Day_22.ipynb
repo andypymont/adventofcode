{
 "cells": [
  {
   "cell_type": "markdown",
   "metadata": {},
   "source": [
    "# Day 22\n",
    "https://adventofcode.com/2020/day/22"
   ]
  },
  {
   "cell_type": "code",
   "execution_count": 1,
   "metadata": {},
   "outputs": [],
   "source": [
    "import aocd\n",
    "data = aocd.get_data(year=2020, day=22)"
   ]
  },
  {
   "cell_type": "markdown",
   "metadata": {},
   "source": [
    "##### Part 1: A standard game of Combat"
   ]
  },
  {
   "cell_type": "code",
   "execution_count": 2,
   "metadata": {},
   "outputs": [],
   "source": [
    "def read_decks(text):\n",
    "    return tuple(tuple(int(card) for card in deck.split('\\n')[1:]) for deck in text.split('\\n\\n'))"
   ]
  },
  {
   "cell_type": "code",
   "execution_count": 3,
   "metadata": {},
   "outputs": [],
   "source": [
    "def play_game(decks):\n",
    "    one, two = decks\n",
    "    \n",
    "    while len(one) > 0 and len(two) > 0:\n",
    "        if one[0] > two[0]:\n",
    "            one, two = one[1:] + (one[0], two[0]), two[1:]\n",
    "        else:\n",
    "            one, two = one[1:], two[1:] + (two[0], one[0])\n",
    "\n",
    "    return one, two"
   ]
  },
  {
   "cell_type": "code",
   "execution_count": 4,
   "metadata": {},
   "outputs": [],
   "source": [
    "def score(deck):\n",
    "    return sum(card*(len(deck)-position) for position, card in enumerate(deck))"
   ]
  },
  {
   "cell_type": "code",
   "execution_count": 5,
   "metadata": {},
   "outputs": [
    {
     "name": "stdout",
     "output_type": "stream",
     "text": [
      "Part 1: 34005\n"
     ]
    }
   ],
   "source": [
    "decks = read_decks(data)\n",
    "result = play_game(decks)\n",
    "p1 = sum(score(deck) for deck in result)\n",
    "print('Part 1: {}'.format(p1))"
   ]
  },
  {
   "cell_type": "markdown",
   "metadata": {},
   "source": [
    "##### Part 2: A game of Recursive Combat"
   ]
  },
  {
   "cell_type": "code",
   "execution_count": 6,
   "metadata": {},
   "outputs": [],
   "source": [
    "def play_recursive_game(decks):\n",
    "    one, two = decks\n",
    "    rounds = set()\n",
    "    \n",
    "    while len(one) > 0 and len(two) > 0:\n",
    "        \n",
    "        # if we've been in this state before in this game, player 1 wins\n",
    "        if (one, two) in rounds:\n",
    "            return (one, two), 1\n",
    "        rounds.add((one, two))\n",
    "        \n",
    "        # if players have large enough decks to recurse, then we do\n",
    "        a, b = one[0], two[0]\n",
    "        if len(one) > a and len(two) > b:\n",
    "            _, winner = play_recursive_game((one[1:a+1], two[1:b+1]))\n",
    "        \n",
    "        # and if not, we just compare the cards as usual\n",
    "        else:\n",
    "            winner = 1 if a > b else 2\n",
    "        \n",
    "        # ...and either way, we update the decks accordingly\n",
    "        winning_card = a if winner == 1 else b\n",
    "        non_winning_card = a if winner == 2 else b\n",
    "        \n",
    "        if winner == 1:\n",
    "            one, two = one[1:] + (winning_card, non_winning_card), two[1:]\n",
    "        else:\n",
    "            one, two = one[1:], two[1:] + (winning_card, non_winning_card)\n",
    "    \n",
    "    return (one, two), 1 if len(one) > 0 else 2"
   ]
  },
  {
   "cell_type": "code",
   "execution_count": 7,
   "metadata": {},
   "outputs": [
    {
     "name": "stdout",
     "output_type": "stream",
     "text": [
      "Part 2: 32731\n"
     ]
    }
   ],
   "source": [
    "decks2, result2 = play_recursive_game(decks)\n",
    "p2 = sum(score(deck) for deck in decks2)\n",
    "print('Part 2: {}'.format(p2))"
   ]
  }
 ],
 "metadata": {
  "kernelspec": {
   "display_name": "Python 3",
   "language": "python",
   "name": "python3"
  },
  "language_info": {
   "codemirror_mode": {
    "name": "ipython",
    "version": 3
   },
   "file_extension": ".py",
   "mimetype": "text/x-python",
   "name": "python",
   "nbconvert_exporter": "python",
   "pygments_lexer": "ipython3",
   "version": "3.8.5"
  }
 },
 "nbformat": 4,
 "nbformat_minor": 4
}
