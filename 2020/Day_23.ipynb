{
 "cells": [
  {
   "cell_type": "markdown",
   "metadata": {},
   "source": [
    "# Day 23\n",
    "https://adventofcode.com/2020/day/23"
   ]
  },
  {
   "cell_type": "code",
   "execution_count": 1,
   "metadata": {},
   "outputs": [],
   "source": [
    "import aocd\n",
    "data = aocd.get_data(year=2020, day=23)"
   ]
  },
  {
   "cell_type": "code",
   "execution_count": 2,
   "metadata": {},
   "outputs": [],
   "source": [
    "from math import prod"
   ]
  },
  {
   "cell_type": "code",
   "execution_count": 3,
   "metadata": {},
   "outputs": [],
   "source": [
    "class Cup():\n",
    "    \n",
    "    def __init__(self, identifier):\n",
    "        self.identifier = identifier\n",
    "        self.left = None\n",
    "        self.right = None\n",
    "    \n",
    "    def __repr__(self):        \n",
    "        return 'Cup(identifier={}, left={}, right={})'.format(\n",
    "            repr(self.identifier),\n",
    "            repr(None if self.left is None else self.left.identifier),\n",
    "            repr(None if self.right is None else self.right.identifier),\n",
    "        )\n",
    "    \n",
    "    def insert(self, new_right_neighbour):\n",
    "        new_right_neighbour.left = self\n",
    "        if self.left is None and self.right is None:\n",
    "            new_right_neighbour.right = self\n",
    "            self.left = new_right_neighbour\n",
    "        else:\n",
    "            new_right_neighbour.right = self.right\n",
    "            self.right.left = new_right_neighbour\n",
    "        self.right = new_right_neighbour\n",
    "    \n",
    "    def remove(self):\n",
    "        self.left.right = self.right\n",
    "        self.right.left = self.left\n",
    "        self.left = None\n",
    "        self.right = None\n",
    "        return self"
   ]
  },
  {
   "cell_type": "code",
   "execution_count": 4,
   "metadata": {},
   "outputs": [],
   "source": [
    "class Game():\n",
    "    \n",
    "    def __init__(self, cups, current):\n",
    "        self.cups = cups\n",
    "        self.current = current\n",
    "    \n",
    "    def __repr__(self):\n",
    "        return 'Game(cups=[{} cups], current={})'.format(\n",
    "            len(self.cups),\n",
    "            self.current.identifier,\n",
    "        )\n",
    "    \n",
    "    @classmethod\n",
    "    def from_puzzle_input(cls, text, million_cups=False):\n",
    "        cup_order = tuple(int(digit) for digit in text)\n",
    "        if million_cups:\n",
    "            cup_order += tuple(range(max(cup_order)+1, 1_000_001))\n",
    "        \n",
    "        cups = {}\n",
    "        first = current = Cup(cup_order[0])\n",
    "        cups[first.identifier] = first\n",
    "        \n",
    "        for cup_id in cup_order[1:]:\n",
    "            new_cup = Cup(cup_id)\n",
    "            current.insert(new_cup)\n",
    "            cups[cup_id] = new_cup\n",
    "            current = new_cup\n",
    "\n",
    "        return cls(cups, first)\n",
    "    \n",
    "    @property\n",
    "    def cup_order(self):\n",
    "        order = []\n",
    "        node = self.cups[1]\n",
    "        for x in range(len(self.cups)-1):\n",
    "            node = node.right\n",
    "            order.append(node.identifier)\n",
    "        return order\n",
    "    \n",
    "    def play(self, moves):\n",
    "        for move in range(moves):\n",
    "            removed = [self.current.right, self.current.right.right, self.current.right.right.right]\n",
    "            for removal in removed:\n",
    "                removal.remove()\n",
    "            removed_ids = {removal.identifier for removal in removed}\n",
    "            \n",
    "            destination_id = self.current.identifier - 1\n",
    "            while destination_id in removed_ids or destination_id == 0:\n",
    "                destination_id -= 1\n",
    "                if destination_id <= 0:\n",
    "                    destination_id = max(cup_id for cup_id in self.cups)\n",
    "            destination = self.cups[destination_id]\n",
    "            \n",
    "            for insertion in removed:\n",
    "                destination.insert(insertion)\n",
    "                destination = insertion\n",
    "            self.current = self.current.right\n",
    "        return self"
   ]
  },
  {
   "cell_type": "code",
   "execution_count": 5,
   "metadata": {},
   "outputs": [
    {
     "name": "stdout",
     "output_type": "stream",
     "text": [
      "Part 1: 43896725\n"
     ]
    }
   ],
   "source": [
    "order = Game.from_puzzle_input(data).play(100).cup_order\n",
    "p1 = ''.join(str(cup_id) for cup_id in order)\n",
    "print('Part 1: {}'.format(p1))"
   ]
  },
  {
   "cell_type": "code",
   "execution_count": 6,
   "metadata": {},
   "outputs": [
    {
     "name": "stdout",
     "output_type": "stream",
     "text": [
      "Part 2: 2911418906\n"
     ]
    }
   ],
   "source": [
    "bigger_game = Game.from_puzzle_input(data, million_cups=True)\n",
    "bigger_game.play(10_000_000)\n",
    "interesting_cups = (bigger_game.cups[1].right, bigger_game.cups[1].right.right)\n",
    "p2 = prod(cup.identifier for cup in interesting_cups)\n",
    "print('Part 2: {}'.format(p2))"
   ]
  }
 ],
 "metadata": {
  "kernelspec": {
   "display_name": "Python 3",
   "language": "python",
   "name": "python3"
  },
  "language_info": {
   "codemirror_mode": {
    "name": "ipython",
    "version": 3
   },
   "file_extension": ".py",
   "mimetype": "text/x-python",
   "name": "python",
   "nbconvert_exporter": "python",
   "pygments_lexer": "ipython3",
   "version": "3.8.5"
  }
 },
 "nbformat": 4,
 "nbformat_minor": 4
}
