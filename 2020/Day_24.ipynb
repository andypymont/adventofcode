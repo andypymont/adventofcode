{
 "cells": [
  {
   "cell_type": "markdown",
   "metadata": {},
   "source": [
    "# Day 24\n",
    "https://adventofcode.com/2020/day/24"
   ]
  },
  {
   "cell_type": "code",
   "execution_count": 1,
   "metadata": {},
   "outputs": [],
   "source": [
    "import aocd\n",
    "data = aocd.get_data(year=2020, day=24)"
   ]
  },
  {
   "cell_type": "code",
   "execution_count": 2,
   "metadata": {},
   "outputs": [],
   "source": [
    "from dataclasses import dataclass\n",
    "from functools import reduce\n",
    "from operator import __or__ as union"
   ]
  },
  {
   "cell_type": "markdown",
   "metadata": {},
   "source": [
    "Representing hexes by using axial coordinates: this works like a diagonal slice from a 3d grid, so movement is described as being in a direction of one of the axes. x+y+z=0 is a constraint of the whole grid, meaning only two of these dimensions actually have to be stored.\n",
    "\n",
    "See also: https://www.redblobgames.com/grids/hexagons/"
   ]
  },
  {
   "cell_type": "code",
   "execution_count": 3,
   "metadata": {},
   "outputs": [],
   "source": [
    "@dataclass(frozen=True, order=True)\n",
    "class Hex():\n",
    "    x: int\n",
    "    y: int\n",
    "    \n",
    "    @classmethod\n",
    "    def from_directions(cls, directions):\n",
    "        pos = 0\n",
    "        location = cls(0, 0)\n",
    "        while pos < len(directions):\n",
    "            direction = compass.get(directions[pos:pos+2])\n",
    "            if direction:\n",
    "                location += direction\n",
    "                pos += 2\n",
    "            else:\n",
    "                location += compass[directions[pos]]\n",
    "                pos += 1\n",
    "        return location\n",
    "    \n",
    "    def __add__(self, other):\n",
    "        return Hex(self.x+other.x, self.y+other.y)\n",
    "\n",
    "    @property\n",
    "    def neighbours(self):\n",
    "        return set(self+other for other in compass.values())\n",
    "\n",
    "compass = {\n",
    "'nw': Hex(0, 1),\n",
    "'ne': Hex(1, 0),\n",
    "'w': Hex(-1, 1),\n",
    "'e': Hex(1, -1),\n",
    "'sw': Hex(-1, 0),\n",
    "'se': Hex(0, -1),\n",
    "}"
   ]
  },
  {
   "cell_type": "code",
   "execution_count": 4,
   "metadata": {},
   "outputs": [],
   "source": [
    "def black_tiles(text):\n",
    "    tiles = set()\n",
    "    for line in text.split('\\n'):\n",
    "        tile = Hex.from_directions(line)\n",
    "        if tile in tiles:\n",
    "            tiles.remove(tile)\n",
    "        else:\n",
    "            tiles.add(tile)\n",
    "    return tiles"
   ]
  },
  {
   "cell_type": "code",
   "execution_count": 5,
   "metadata": {},
   "outputs": [],
   "source": [
    "def hex_game_of_life(tiles, steps):\n",
    "    for step in range(steps):\n",
    "        relevant = reduce(union, (tile.neighbours for tile in tiles), tiles)\n",
    "        tiles = {\n",
    "            tile for tile in relevant\n",
    "            if (tile in tiles and len(tile.neighbours.intersection(tiles)) in (1, 2))\n",
    "            or (tile not in tiles and len(tile.neighbours.intersection(tiles)) == 2)\n",
    "        }\n",
    "    return tiles"
   ]
  },
  {
   "cell_type": "code",
   "execution_count": 6,
   "metadata": {},
   "outputs": [
    {
     "name": "stdout",
     "output_type": "stream",
     "text": [
      "Part 1: 373\n",
      "Part 2: 3917\n"
     ]
    }
   ],
   "source": [
    "black = black_tiles(data)\n",
    "p1 = len(black)\n",
    "print('Part 1: {}'.format(p1))\n",
    "p2 = len(hex_game_of_life(black, 100))\n",
    "print('Part 2: {}'.format(p2))"
   ]
  }
 ],
 "metadata": {
  "kernelspec": {
   "display_name": "Python 3",
   "language": "python",
   "name": "python3"
  },
  "language_info": {
   "codemirror_mode": {
    "name": "ipython",
    "version": 3
   },
   "file_extension": ".py",
   "mimetype": "text/x-python",
   "name": "python",
   "nbconvert_exporter": "python",
   "pygments_lexer": "ipython3",
   "version": "3.8.5"
  }
 },
 "nbformat": 4,
 "nbformat_minor": 4
}
